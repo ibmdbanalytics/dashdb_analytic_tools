{
 "cells": [
  {
   "cell_type": "markdown",
   "metadata": {},
   "source": [
    "# Getting risk insights on Tornados with PySpark on IBM Db2 Warehouse\n",
    "### Visual analysis of tornado records in the USA for risk assessment\n",
    "\n",
    "This notebook shows you how to use IBM Db2 Warehouse to efficiently handle, analyze and visualize geographic data with PySpark. It provides you with the tools to launch your own Spark application with IBM Db2 Warehouse.\n",
    "You will learn how to connect to Db2, launch a Spark application, load data from Db2 and manipulate dataframes. \n",
    "\n",
    "Our present use case is tornados in the USA and a potential industrial application of this use case is tailored insurance policy making. Based on the history of tornados in the region of your insurance holders, predict how likely they are to encounter a natural disaster and adapt their policy according to the risk they really face.\n",
    "\n",
    "This notebook runs with a PySpark kernel. Visualizations are outputed locally."
   ]
  },
  {
   "cell_type": "markdown",
   "metadata": {},
   "source": [
    "#### Contents \n",
    "\n",
    "[1. Configure your resources](#imports)\n",
    "\n",
    "[2. Load the data](#load_tornado)\n",
    "\n",
    "[3. Explore the data](#explore_tornado)\n",
    "* [a. Overview: repartition of tornados in the US](#overview)\n",
    "* [b. Heat map: get insights in the hotspots](#heatmap)\n",
    "* [c. Density map per state: identify where the risk hide](#density_map)\n",
    "\n",
    "[4. Machine Learning: Tornado Clustering](#ML)\n",
    "* [a. Build tornado clusters in Texas](#clusters_texas)\n",
    "* [b. Assess risk for home insurance holders in Texas](#insurance_holders)\n",
    "\n",
    "[5. Deploy your own application](#you)"
   ]
  },
  {
   "cell_type": "markdown",
   "metadata": {},
   "source": [
    "<a id=\"imports\"></a>\n",
    "## 1. Configure your resources "
   ]
  },
  {
   "cell_type": "markdown",
   "metadata": {},
   "source": [
    "#### Configure Livy \n",
    "\n",
    "Please refer to the steps described in README.md (dashdb_analytic_tools/dashdblocal_notebooks/livy-notebooks/README.md). "
   ]
  },
  {
   "cell_type": "markdown",
   "metadata": {},
   "source": [
    "#### Start a Spark session"
   ]
  },
  {
   "cell_type": "code",
   "execution_count": 1,
   "metadata": {},
   "outputs": [
    {
     "name": "stdout",
     "output_type": "stream",
     "text": [
      "Starting Spark application\n"
     ]
    },
    {
     "data": {
      "text/html": [
       "<table>\n",
       "<tr><th>ID</th><th>YARN Application ID</th><th>Kind</th><th>State</th><th>Spark UI</th><th>Driver log</th><th>Current session?</th></tr><tr><td>77</td><td>None</td><td>pyspark</td><td>idle</td><td></td><td></td><td>✔</td></tr></table>"
      ],
      "text/plain": [
       "<IPython.core.display.HTML object>"
      ]
     },
     "metadata": {},
     "output_type": "display_data"
    },
    {
     "data": {
      "application/vnd.jupyter.widget-view+json": {
       "model_id": "",
       "version_major": 2,
       "version_minor": 0
      },
      "text/plain": [
       "FloatProgress(value=0.0, bar_style='info', description='Progress:', layout=Layout(height='25px', width='50%'),…"
      ]
     },
     "metadata": {},
     "output_type": "display_data"
    },
    {
     "name": "stdout",
     "output_type": "stream",
     "text": [
      "SparkSession available as 'spark'.\n"
     ]
    },
    {
     "data": {
      "application/vnd.jupyter.widget-view+json": {
       "model_id": "",
       "version_major": 2,
       "version_minor": 0
      },
      "text/plain": [
       "FloatProgress(value=0.0, bar_style='info', description='Progress:', layout=Layout(height='25px', width='50%'),…"
      ]
     },
     "metadata": {},
     "output_type": "display_data"
    }
   ],
   "source": [
    "import pandas as pd\n",
    "import numpy as np\n",
    "\n",
    "from pyspark.ml.feature import VectorAssembler\n",
    "from pyspark.ml.clustering import KMeans"
   ]
  },
  {
   "cell_type": "markdown",
   "metadata": {},
   "source": [
    "#### Preparation of the input data\n",
    "\n",
    "The following cell uses the ibmdbpy library to establish a connection from this notebook to the bludb database. The cell prepares the input data based on sample tables that are available in every Db2 Warehouse container out of the box.\n",
    "\n",
    "Here we check if the tables containing data about tornados and home insurance holders have already created, if not we build them."
   ]
  },
  {
   "cell_type": "code",
   "execution_count": 2,
   "metadata": {},
   "outputs": [
    {
     "data": {
      "application/vnd.jupyter.widget-view+json": {
       "model_id": "",
       "version_major": 2,
       "version_minor": 0
      },
      "text/plain": [
       "FloatProgress(value=0.0, bar_style='info', description='Progress:', layout=Layout(height='25px', width='50%'),…"
      ]
     },
     "metadata": {},
     "output_type": "display_data"
    },
    {
     "name": "stdout",
     "output_type": "stream",
     "text": [
      "Connection closed."
     ]
    }
   ],
   "source": [
    "from ibmdbpy import IdaDataBase\n",
    "idadb =IdaDataBase('bludb')\n",
    "\n",
    "# create table if does not exist already\n",
    "\n",
    "statement=idadb.ida_query(\"create table if not exists tornado as ( \" +\n",
    "         \" select objectid,yr,mo,dy, time, cast(slat as float) as slat,cast(slon as float) as slon, \" +\n",
    "         \"        elat,elon,cast (len as float) as len,cast(wid as float) as wid,st,cast(mag as float) as mag \" +\n",
    "         \" from samples.geo_tornado ) with data\")\n",
    "      \n",
    "\n",
    "statement=idadb.ida_query(\"create table if not exists texas_customers as ( \" +\n",
    "         \" select b.objectid, b.name, b.insurance_value, db2gse.st_x(b.shape) lon, db2gse.st_y(b.shape) lat \" +\n",
    "         \"     from samples.geo_county a, samples.geo_customer b \" +\n",
    "         \"     where a.statefp='48' and db2gse.st_within(b.shape, a.shape) = 1 \" +\n",
    "         \" ) with data\")\n",
    "idadb.close()"
   ]
  },
  {
   "cell_type": "markdown",
   "metadata": {},
   "source": [
    "*Note : if you obtain the error: \"No module named 'ibmdbpy'\"  follow these steps:*\n",
    "\n",
    "Connect to the Db2 Warehouse node *host* under userid *user* with\n",
    "> ssh -p 50022 user@host \n",
    "\n",
    "Install the ibmdbpy package for your userid with\n",
    "\n",
    "> spark-pip install --user ibmdbpy\n",
    "\n",
    "Important note : use spark-pip instead of pip to installl ibmdbpy\n",
    "\n",
    "Now, run the above cell again.\n",
    "\n",
    "You can check installation with command \"spark-pip show ibmdbpy\"\n",
    "\n",
    "You find further details about the installation of Python packages on Db2 Warehouse and IBM Integrated Analytics System under https://www.ibm.com/support/knowledgecenter/SSCJDQ/com.ibm.swg.im.dashdb.doc/learn_how/deploying_python.html"
   ]
  },
  {
   "cell_type": "markdown",
   "metadata": {},
   "source": [
    "#### Local imports for visualization\n",
    "\n",
    "Note : check if you have magics with __%%help__. Here you need __%%local__ and __%%sql__.\n",
    "\n",
    "In order to display the plots within this notebook, we use __%matplotlib inline__. If you like to display the images in separate windows, just comment out this line."
   ]
  },
  {
   "cell_type": "code",
   "execution_count": 3,
   "metadata": {},
   "outputs": [],
   "source": [
    "%%local\n",
    "%matplotlib inline\n",
    "\n",
    "import pandas as pd\n",
    "import numpy as np\n",
    "import geopandas \n",
    "import matplotlib.pyplot as plt\n",
    "from shapely.geometry import Point, Polygon\n",
    "from scipy import ndimage\n",
    "import matplotlib.pylab as pylab"
   ]
  },
  {
   "cell_type": "markdown",
   "metadata": {},
   "source": [
    "<a id=\"load_tornado\"></a>\n",
    "## 2. Load the data"
   ]
  },
  {
   "cell_type": "markdown",
   "metadata": {},
   "source": [
    "Use your Spark session to read the training data using the IDAX data source.\n",
    "\n",
    "The input data are all recorded tornados in USA between 1950 and 2013. It is taken from http://www.spc.noaa.gov/."
   ]
  },
  {
   "cell_type": "code",
   "execution_count": 4,
   "metadata": {},
   "outputs": [
    {
     "data": {
      "application/vnd.jupyter.widget-view+json": {
       "model_id": "",
       "version_major": 2,
       "version_minor": 0
      },
      "text/plain": [
       "FloatProgress(value=0.0, bar_style='info', description='Progress:', layout=Layout(height='25px', width='50%'),…"
      ]
     },
     "metadata": {},
     "output_type": "display_data"
    }
   ],
   "source": [
    "df = spark.read \\\n",
    "        .format(\"com.ibm.idax.spark.idaxsource\") \\\n",
    "        .options(dbtable=\"TORNADO\") \\\n",
    "        .load()"
   ]
  },
  {
   "cell_type": "markdown",
   "metadata": {},
   "source": [
    "<a id=\"explore_tornado\"></a>\n",
    "## 3. Explore the data\n",
    "\n",
    "<a id=\"overview\"></a>\n",
    "### a. Overview: dustribution of tornados in the US\n",
    "\n",
    "Let's take a look at the tornado records and count the number of cases reported by state."
   ]
  },
  {
   "cell_type": "code",
   "execution_count": 5,
   "metadata": {},
   "outputs": [
    {
     "data": {
      "application/vnd.jupyter.widget-view+json": {
       "model_id": "",
       "version_major": 2,
       "version_minor": 0
      },
      "text/plain": [
       "FloatProgress(value=0.0, bar_style='info', description='Progress:', layout=Layout(height='25px', width='50%'),…"
      ]
     },
     "metadata": {},
     "output_type": "display_data"
    },
    {
     "name": "stdout",
     "output_type": "stream",
     "text": [
      "57988\n",
      "+--------+----+---+---+--------+-------+--------+-------+--------+----+-----+---+---+\n",
      "|OBJECTID|  YR| MO| DY|    TIME|   SLAT|    SLON|   ELAT|    ELON| LEN|  WID| ST|MAG|\n",
      "+--------+----+---+---+--------+-------+--------+-------+--------+----+-----+---+---+\n",
      "|   57147|2013|  1| 30|04:44:00|37.4393| -85.269|37.4404|-85.2671|0.12| 50.0| KY|0.0|\n",
      "|   57148|2013|  1| 30|04:46:00|35.0987|-86.7846|35.1287|-86.6986|5.28|250.0| TN|1.0|\n",
      "|   57149|2013|  1| 30|05:18:00|33.7264|-87.9037|33.7533|-87.7961| 6.5|500.0| AL|1.0|\n",
      "|   57150|2013|  1| 30|05:26:00|35.4868|-86.0789|35.5036|-86.0003|4.57| 75.0| TN|0.0|\n",
      "|   57151|2013|  1| 30|05:30:00|37.0598|-84.6052|37.0657|-84.5992| 0.5|150.0| KY|0.0|\n",
      "+--------+----+---+---+--------+-------+--------+-------+--------+----+-----+---+---+\n",
      "only showing top 5 rows\n",
      "\n",
      "+---+-----+\n",
      "| ST|count|\n",
      "+---+-----+\n",
      "| TX| 8197|\n",
      "| KS| 3864|\n",
      "| OK| 3533|\n",
      "| FL| 3175|\n",
      "| NE| 2675|\n",
      "| IA| 2291|\n",
      "| IL| 2232|\n",
      "| MO| 2060|\n",
      "| CO| 1968|\n",
      "| MS| 1949|\n",
      "| AL| 1896|\n",
      "| LA| 1814|\n",
      "| SD| 1692|\n",
      "| AR| 1676|\n",
      "| MN| 1646|\n",
      "| ND| 1439|\n",
      "| GA| 1430|\n",
      "| IN| 1343|\n",
      "| WI| 1271|\n",
      "| NC| 1199|\n",
      "+---+-----+\n",
      "only showing top 20 rows"
     ]
    }
   ],
   "source": [
    "print(df.count())\n",
    "# number of records in the dataset\n",
    "# if you want to work with a smaller dataset, see next cell\n",
    "df.show(5)\n",
    "density=df.groupBy(\"ST\").count().orderBy('count', ascending=False).show()"
   ]
  },
  {
   "cell_type": "markdown",
   "metadata": {},
   "source": [
    "The columns of the tornados dataframe df include:\n",
    "\n",
    "* 'OBJECTID': unique identifier\n",
    "* 'YR', 'MO', 'DY', 'TIME': year, month, day, time of the day the tornado started\n",
    "* 'SLAT', 'SLON', 'ELAT', 'ELON': start coordinates of a tornado (longitude and latitude), respectively end coordinates\n",
    "* 'LEN', 'WID', 'ST', 'MAG' : length, width, state, magnitude\n",
    "\n",
    "\n",
    "It would be easier to display this data on a map than to look at these tables... Let's do it!"
   ]
  },
  {
   "cell_type": "markdown",
   "metadata": {},
   "source": [
    "**OPTIONAL**: sampling step to reduce the size of the tornado table.\n",
    "\n",
    "Since visualizations are run locally, you may want to use only a fraction of the dataset for visualizations. However it's only a matter of a few seconds, so you can safely use the whole dataset in this notebook.\n",
    "If you choose to sample down the data, replace *df* by *sample_df* in the TempView step. \n",
    "Models will still be computed on the whole dataset."
   ]
  },
  {
   "cell_type": "code",
   "execution_count": 6,
   "metadata": {},
   "outputs": [
    {
     "data": {
      "application/vnd.jupyter.widget-view+json": {
       "model_id": "",
       "version_major": 2,
       "version_minor": 0
      },
      "text/plain": [
       "FloatProgress(value=0.0, bar_style='info', description='Progress:', layout=Layout(height='25px', width='50%'),…"
      ]
     },
     "metadata": {},
     "output_type": "display_data"
    },
    {
     "name": "stdout",
     "output_type": "stream",
     "text": [
      "11668"
     ]
    }
   ],
   "source": [
    "# dataframe.sample(withReplacement, fraction, seed)\n",
    "    # withReplacement = True or False to select a observation with or without replacement.\n",
    "    # fraction = x, where x = .5 shows that we want to have 50% data in sample DataFrame.\n",
    "    # seed for reproducing the result\n",
    "sample_df=df.sample(False, 0.2, 42)\n",
    "print(sample_df.count())"
   ]
  },
  {
   "cell_type": "markdown",
   "metadata": {},
   "source": [
    "#### Note : Make a bridge between remote and local\n",
    "\n",
    "So far we've been using Spark with its data frames remotely. If we plot visualisations now, they won't appear right on your screen : you will have to fetch them, using their adress, to open them locally. So for convenience, visualisations will be made locally thanks to the %%local magic. Therefore, we need to create a temporary view of the data, and query it with the %%sql magic in order to access it locally and plot it directly. Note that the data on the Spark cluster is a Spark dataframe, whereas the data we handle locally is a pandas dataframe.\n",
    "\n",
    "In the following cells, we will: \n",
    "1. Create a SQL temporary view of the tornado (Spark) dataframe \n",
    "2. Run a %%sql cell magic to query the data, and output it to the local space. The table is now seen as a Pandas dataframe.\n",
    "3. We use this Pandas dataframe to make our graphs, which we output locally. "
   ]
  },
  {
   "cell_type": "markdown",
   "metadata": {},
   "source": [
    "__Step 1__ : SQL temporary view"
   ]
  },
  {
   "cell_type": "code",
   "execution_count": 7,
   "metadata": {},
   "outputs": [
    {
     "data": {
      "application/vnd.jupyter.widget-view+json": {
       "model_id": "",
       "version_major": 2,
       "version_minor": 0
      },
      "text/plain": [
       "FloatProgress(value=0.0, bar_style='info', description='Progress:', layout=Layout(height='25px', width='50%'),…"
      ]
     },
     "metadata": {},
     "output_type": "display_data"
    }
   ],
   "source": [
    "df.createOrReplaceTempView('tornado')"
   ]
  },
  {
   "cell_type": "markdown",
   "metadata": {},
   "source": [
    "__Step 2__ : SQL query\n",
    "\n",
    "You can try out some visualisations using the graphic interface of this display, but maps are still the best way to display geographic data."
   ]
  },
  {
   "cell_type": "code",
   "execution_count": 8,
   "metadata": {
    "scrolled": false
   },
   "outputs": [
    {
     "data": {
      "application/vnd.jupyter.widget-view+json": {
       "model_id": "",
       "version_major": 2,
       "version_minor": 0
      },
      "text/plain": [
       "FloatProgress(value=0.0, bar_style='info', description='Progress:', layout=Layout(height='25px', width='50%'),…"
      ]
     },
     "metadata": {},
     "output_type": "display_data"
    },
    {
     "name": "stderr",
     "output_type": "stream",
     "text": [
      "/Users/eva.feillet/anaconda3/lib/python3.7/site-packages/autovizwidget/widget/utils.py:50: FutureWarning:\n",
      "\n",
      "A future version of pandas will default to `skipna=True`. To silence this warning, pass `skipna=True|False` explicitly.\n",
      "\n"
     ]
    },
    {
     "data": {
      "application/vnd.jupyter.widget-view+json": {
       "model_id": "78e6a65837f146f1b3aa195fb4c78dc8",
       "version_major": 2,
       "version_minor": 0
      },
      "text/plain": [
       "VBox(children=(HBox(children=(HTML(value='Type:'), Button(description='Table', layout=Layout(width='70px'), st…"
      ]
     },
     "metadata": {},
     "output_type": "display_data"
    },
    {
     "data": {
      "application/vnd.jupyter.widget-view+json": {
       "model_id": "8e02e055a5a64c94a5871c4d0de0bd73",
       "version_major": 2,
       "version_minor": 0
      },
      "text/plain": [
       "Output()"
      ]
     },
     "metadata": {},
     "output_type": "display_data"
    }
   ],
   "source": [
    "%%sql -o tornado --maxrows -1\n",
    "SELECT * FROM tornado "
   ]
  },
  {
   "cell_type": "markdown",
   "metadata": {},
   "source": [
    "Sanity check : table must now be seen locally as a pandas dataframe, not anymore as a Spark dataframe; longitude and latitude must be floats."
   ]
  },
  {
   "cell_type": "code",
   "execution_count": 9,
   "metadata": {},
   "outputs": [
    {
     "name": "stdout",
     "output_type": "stream",
     "text": [
      "<class 'pandas.core.frame.DataFrame'>\n",
      "float64\n"
     ]
    }
   ],
   "source": [
    "%%local\n",
    "print(type(tornado))\n",
    "print(tornado.SLON.dtype)"
   ]
  },
  {
   "cell_type": "markdown",
   "metadata": {},
   "source": [
    "**Step 3**: Transform data into a GeoDataFrame\n",
    "\n",
    "Since we have longitude and latitude for each tornado start, we can create geopoints using geopandas. This will enable us to easily display the tornados on a map."
   ]
  },
  {
   "cell_type": "code",
   "execution_count": 10,
   "metadata": {},
   "outputs": [
    {
     "data": {
      "text/plain": [
       "[<shapely.geometry.point.Point at 0x1247714a8>,\n",
       " <shapely.geometry.point.Point at 0x124765898>,\n",
       " <shapely.geometry.point.Point at 0x124771278>]"
      ]
     },
     "execution_count": 10,
     "metadata": {},
     "output_type": "execute_result"
    }
   ],
   "source": [
    "%%local\n",
    "# create geopoints\n",
    "geometry = [Point(xy) for xy in zip(tornado['SLON'], tornado['SLAT'])]\n",
    "geometry[:3]"
   ]
  },
  {
   "cell_type": "code",
   "execution_count": 11,
   "metadata": {},
   "outputs": [
    {
     "data": {
      "text/plain": [
       "0    POINT (-85.26900000000001 37.4393)\n",
       "1              POINT (-86.7846 35.0987)\n",
       "2              POINT (-87.9037 33.7264)\n",
       "Name: geometry, dtype: object"
      ]
     },
     "execution_count": 11,
     "metadata": {},
     "output_type": "execute_result"
    }
   ],
   "source": [
    "%%local\n",
    "# create a GeoDataFrame\n",
    "geo_tornado=geopandas.GeoDataFrame(tornado, geometry=geometry)\n",
    "geo_tornado.geometry[:3]"
   ]
  },
  {
   "cell_type": "markdown",
   "metadata": {},
   "source": [
    "We have created a new column called 'geometry', containing Points."
   ]
  },
  {
   "cell_type": "markdown",
   "metadata": {},
   "source": [
    "#### Display tornado start location on a map\n",
    "\n",
    "Let's look at the tornado starts on a map. \n",
    "First, we load a map of the world. Then we isolate the USA to be more precise. Finally we plot the starting location of all tornados reported in the US during the last 6 decades. "
   ]
  },
  {
   "cell_type": "code",
   "execution_count": 12,
   "metadata": {},
   "outputs": [
    {
     "data": {
      "text/plain": [
       "Text(0.5, 1, 'Tornado starts in the USA over the last six decades')"
      ]
     },
     "execution_count": 12,
     "metadata": {},
     "output_type": "execute_result"
    },
    {
     "data": {
      "image/png": "[encoded data removed]",
      "text/plain": [
       "<Figure size 1440x720 with 1 Axes>"
      ]
     },
     "metadata": {
      "needs_background": "light"
     },
     "output_type": "display_data"
    }
   ],
   "source": [
    "%%local\n",
    "\n",
    "# NEW\n",
    "\n",
    "# Load map of the world\n",
    "world = geopandas.read_file(geopandas.datasets.get_path('naturalearth_lowres'))\n",
    "\n",
    "#Isolate the map of the United States\n",
    "usa_bis=world[world['iso_a3'] == 'USA']\n",
    "\n",
    "#Plot the tornado start coordinates on this map\n",
    "\n",
    "fig, ax = plt.subplots(figsize=(20, 10))\n",
    "\n",
    "usa_bis.plot(ax=ax)\n",
    "geo_tornado.plot(ax=ax, markersize=1, marker='+', color='red')\n",
    "\n",
    "plt.title('Tornado starts in the USA over the last six decades')\n",
    "\n",
    "#fig.savefig('map2.png')"
   ]
  },
  {
   "cell_type": "markdown",
   "metadata": {},
   "source": [
    "Here we see more clearly that the tornados of the last six decades mostly started in the East part of the USA. Let's make some more elaborated visualisations to see where in particular tornados tend to start.\n",
    "\n",
    "Therefore, let's plot a heat map and a density map per state to have a different perspective on the data."
   ]
  },
  {
   "cell_type": "markdown",
   "metadata": {},
   "source": [
    "<a id=\"heatmap\"></a>\n",
    "### b. Heatmap: identify the hotspots\n",
    "\n",
    "Here we plot a heat map which shows that most tornados seem to start in *middle* part of the US, not just the *East* part of the country."
   ]
  },
  {
   "cell_type": "code",
   "execution_count": 13,
   "metadata": {},
   "outputs": [
    {
     "data": {
      "image/png": "[encoded data removed]",
      "text/plain": [
       "<Figure size 1080x864 with 2 Axes>"
      ]
     },
     "metadata": {
      "needs_background": "light"
     },
     "output_type": "display_data"
    }
   ],
   "source": [
    "%%local\n",
    "\n",
    "## Heatmap\n",
    "\n",
    "# set size of the figure\n",
    "pylab.rcParams['figure.figsize'] = 15, 12\n",
    "# silence warnings\n",
    "import warnings\n",
    "warnings.filterwarnings(\"ignore\")\n",
    "\n",
    "\n",
    "def heatmap(d, grid=(150,150), smoothing=1, cmap='jet'):\n",
    "    \"\"\"\n",
    "    Inputs\n",
    "     * d: geodataframe containing Points\n",
    "     * grid: how fine is the grid\n",
    "     * smoothing: hyperparameter to obtain a smoothier image\n",
    "     * cmap: colors\n",
    "    Output\n",
    "     * heat map (array displayed with matplotlib)    \n",
    "    \"\"\"\n",
    "    \n",
    "    longitude=list(d.SLON)\n",
    "    latitude=list(d.SLAT)\n",
    "    \n",
    "    heatmap, xedges, yedges = np.histogram2d(latitude, longitude, bins=grid)\n",
    "    extent = [yedges[0], yedges[-1], xedges[-1], xedges[0]]\n",
    "    \n",
    "    fig, ax = plt.subplots()\n",
    "\n",
    "    log_heatmap = np.log(heatmap)\n",
    "    log_heatmap[np.isneginf(log_heatmap)] = 0\n",
    "    log_heatmap = ndimage.filters.gaussian_filter(log_heatmap, smoothing, mode='nearest')\n",
    "    \n",
    "    plt.title('Heatmap: tornado hotspots in the US')\n",
    "    plt.imshow(log_heatmap, cmap=cmap, extent=extent)\n",
    "    plt.colorbar(fraction=0.03)\n",
    "    plt.gca().invert_yaxis()\n",
    "    plt.show()\n",
    "    #fig.savefig('heatmap.png')\n",
    "\n",
    "    \n",
    "heatmap(geo_tornado)"
   ]
  },
  {
   "cell_type": "markdown",
   "metadata": {},
   "source": [
    "A higher concentration of tornados is visible in the orange and red areas. Dark blue corresponds to no tornado at all. A kind of tornado corridor seems to go through the middle of the US, particularly in Colorado, Nebraska, Arkansas and Texas."
   ]
  },
  {
   "cell_type": "markdown",
   "metadata": {},
   "source": [
    "These official NOAA Tornado density maps corroborate with our previous visualisation. "
   ]
  },
  {
   "cell_type": "markdown",
   "metadata": {},
   "source": [
    "![title](http://www.spc.noaa.gov/wcm/2015-wbc-anoms.png)"
   ]
  },
  {
   "cell_type": "markdown",
   "metadata": {},
   "source": [
    "Now let's count the number of tornados per state and plot the corresponding density map."
   ]
  },
  {
   "cell_type": "markdown",
   "metadata": {},
   "source": [
    "<a id=\"density_map\"></a>\n",
    "### c. Density map per state: where the risk hides"
   ]
  },
  {
   "cell_type": "markdown",
   "metadata": {},
   "source": [
    "#### Tornados per state"
   ]
  },
  {
   "cell_type": "code",
   "execution_count": 14,
   "metadata": {},
   "outputs": [
    {
     "name": "stdout",
     "output_type": "stream",
     "text": [
      "__Examples__\n",
      "Number of tornados registered in :\n",
      " - New Jersey: 142\n",
      " - Kentucky: 857\n",
      " - Alabama: 1896\n",
      " - Texas: 8197\n"
     ]
    }
   ],
   "source": [
    "%%local\n",
    "\n",
    "# Count number of tornados per state \n",
    "# NB: here directly using pd dataframes because error for visualisations when using PySpark kernel  \n",
    "\n",
    "states = geo_tornado.ST.unique().tolist()\n",
    "\n",
    "count=[]\n",
    "for name in states:\n",
    "    count.append(geo_tornado[geo_tornado['ST']==name].shape[0])\n",
    "\n",
    "state_count={'count':count}\n",
    "\n",
    "# Examples :\n",
    "print('__Examples__')\n",
    "print('Number of tornados registered in :')\n",
    "print(' - New Jersey: '+str(count[states.index('NJ')]))\n",
    "print(' - Kentucky: '+str(count[states.index('KY')]))\n",
    "print(' - Alabama: '+str(count[states.index('AL')]))\n",
    "print(' - Texas: '+str(count[states.index('TX')]))\n",
    "\n",
    "state_count_df = pd.DataFrame(state_count, index=states)"
   ]
  },
  {
   "cell_type": "markdown",
   "metadata": {},
   "source": [
    "#### Load map of the United States\n",
    "Here we load a different, more precise map, with geographical coordinates of each state in the country. Please follow these steps:\n",
    "1. download  cb_2018_us_state_5m.zip with this link: https://www2.census.gov/geo/tiger/GENZ2018/shp/cb_2018_us_state_5m.zip \n",
    "2. Move it to your current working directory (the directory of this notebook)\n",
    "3. Unzip it. Keep its content in the same directory where our notebook also is.\n",
    "\n",
    "Note we will explicitly load only the .shp file but all files from the original .zip must be kept in the same directory as the .shp. Open the .shp file with his local path.\n",
    "\n",
    "Data from https://www.census.gov/geographies/mapping-files/time-series/geo/carto-boundary-file.html "
   ]
  },
  {
   "cell_type": "code",
   "execution_count": 15,
   "metadata": {},
   "outputs": [
    {
     "ename": "DriverError",
     "evalue": "cb_2018_us_state_5m.shp: No such file or directory",
     "output_type": "error",
     "traceback": [
      "\u001b[0;31m---------------------------------------------------------------------------\u001b[0m",
      "\u001b[0;31mCPLE_OpenFailedError\u001b[0m                      Traceback (most recent call last)",
      "\u001b[0;32mfiona/_shim.pyx\u001b[0m in \u001b[0;36mfiona._shim.gdal_open_vector\u001b[0;34m()\u001b[0m\n",
      "\u001b[0;32mfiona/_err.pyx\u001b[0m in \u001b[0;36mfiona._err.exc_wrap_pointer\u001b[0;34m()\u001b[0m\n",
      "\u001b[0;31mCPLE_OpenFailedError\u001b[0m: cb_2018_us_state_5m.shp: No such file or directory",
      "\nDuring handling of the above exception, another exception occurred:\n",
      "\u001b[0;31mDriverError\u001b[0m                               Traceback (most recent call last)",
      "\u001b[0;32m<ipython-input-15-a1791ab9231c>\u001b[0m in \u001b[0;36m<module>\u001b[0;34m\u001b[0m\n\u001b[1;32m      1\u001b[0m \u001b[0;31m## Load USA shape file for the coming visualisations\u001b[0m\u001b[0;34m\u001b[0m\u001b[0;34m\u001b[0m\u001b[0;34m\u001b[0m\u001b[0m\n\u001b[0;32m----> 2\u001b[0;31m \u001b[0musa\u001b[0m \u001b[0;34m=\u001b[0m \u001b[0mgeopandas\u001b[0m\u001b[0;34m.\u001b[0m\u001b[0mread_file\u001b[0m\u001b[0;34m(\u001b[0m\u001b[0;34m\"cb_2018_us_state_5m.shp\"\u001b[0m\u001b[0;34m)\u001b[0m\u001b[0;34m\u001b[0m\u001b[0;34m\u001b[0m\u001b[0m\n\u001b[0m\u001b[1;32m      3\u001b[0m \u001b[0;34m\u001b[0m\u001b[0m\n\u001b[1;32m      4\u001b[0m \u001b[0;31m## alternative path (remote)\u001b[0m\u001b[0;34m\u001b[0m\u001b[0;34m\u001b[0m\u001b[0;34m\u001b[0m\u001b[0m\n\u001b[1;32m      5\u001b[0m \u001b[0;31m# usa = geopandas.read_file(\"/mnt/bludata0/scratch/Tornado_demo/cb_2018_us_state_5m.shp\")\u001b[0m\u001b[0;34m\u001b[0m\u001b[0;34m\u001b[0m\u001b[0;34m\u001b[0m\u001b[0m\n",
      "\u001b[0;32m~/anaconda3/lib/python3.7/site-packages/geopandas/io/file.py\u001b[0m in \u001b[0;36mread_file\u001b[0;34m(filename, bbox, **kwargs)\u001b[0m\n\u001b[1;32m     69\u001b[0m \u001b[0;34m\u001b[0m\u001b[0m\n\u001b[1;32m     70\u001b[0m     \u001b[0;32mwith\u001b[0m \u001b[0mfiona_env\u001b[0m\u001b[0;34m(\u001b[0m\u001b[0;34m)\u001b[0m\u001b[0;34m:\u001b[0m\u001b[0;34m\u001b[0m\u001b[0;34m\u001b[0m\u001b[0m\n\u001b[0;32m---> 71\u001b[0;31m         \u001b[0;32mwith\u001b[0m \u001b[0mreader\u001b[0m\u001b[0;34m(\u001b[0m\u001b[0mpath_or_bytes\u001b[0m\u001b[0;34m,\u001b[0m \u001b[0;34m**\u001b[0m\u001b[0mkwargs\u001b[0m\u001b[0;34m)\u001b[0m \u001b[0;32mas\u001b[0m \u001b[0mfeatures\u001b[0m\u001b[0;34m:\u001b[0m\u001b[0;34m\u001b[0m\u001b[0;34m\u001b[0m\u001b[0m\n\u001b[0m\u001b[1;32m     72\u001b[0m             \u001b[0mcrs\u001b[0m \u001b[0;34m=\u001b[0m \u001b[0mfeatures\u001b[0m\u001b[0;34m.\u001b[0m\u001b[0mcrs\u001b[0m\u001b[0;34m\u001b[0m\u001b[0;34m\u001b[0m\u001b[0m\n\u001b[1;32m     73\u001b[0m             \u001b[0;32mif\u001b[0m \u001b[0mbbox\u001b[0m \u001b[0;32mis\u001b[0m \u001b[0;32mnot\u001b[0m \u001b[0;32mNone\u001b[0m\u001b[0;34m:\u001b[0m\u001b[0;34m\u001b[0m\u001b[0;34m\u001b[0m\u001b[0m\n",
      "\u001b[0;32m~/anaconda3/lib/python3.7/site-packages/fiona/env.py\u001b[0m in \u001b[0;36mwrapper\u001b[0;34m(*args, **kwargs)\u001b[0m\n\u001b[1;32m    394\u001b[0m     \u001b[0;32mdef\u001b[0m \u001b[0mwrapper\u001b[0m\u001b[0;34m(\u001b[0m\u001b[0;34m*\u001b[0m\u001b[0margs\u001b[0m\u001b[0;34m,\u001b[0m \u001b[0;34m**\u001b[0m\u001b[0mkwargs\u001b[0m\u001b[0;34m)\u001b[0m\u001b[0;34m:\u001b[0m\u001b[0;34m\u001b[0m\u001b[0;34m\u001b[0m\u001b[0m\n\u001b[1;32m    395\u001b[0m         \u001b[0;32mif\u001b[0m \u001b[0mlocal\u001b[0m\u001b[0;34m.\u001b[0m\u001b[0m_env\u001b[0m\u001b[0;34m:\u001b[0m\u001b[0;34m\u001b[0m\u001b[0;34m\u001b[0m\u001b[0m\n\u001b[0;32m--> 396\u001b[0;31m             \u001b[0;32mreturn\u001b[0m \u001b[0mf\u001b[0m\u001b[0;34m(\u001b[0m\u001b[0;34m*\u001b[0m\u001b[0margs\u001b[0m\u001b[0;34m,\u001b[0m \u001b[0;34m**\u001b[0m\u001b[0mkwargs\u001b[0m\u001b[0;34m)\u001b[0m\u001b[0;34m\u001b[0m\u001b[0;34m\u001b[0m\u001b[0m\n\u001b[0m\u001b[1;32m    397\u001b[0m         \u001b[0;32melse\u001b[0m\u001b[0;34m:\u001b[0m\u001b[0;34m\u001b[0m\u001b[0;34m\u001b[0m\u001b[0m\n\u001b[1;32m    398\u001b[0m             \u001b[0;32mif\u001b[0m \u001b[0misinstance\u001b[0m\u001b[0;34m(\u001b[0m\u001b[0margs\u001b[0m\u001b[0;34m[\u001b[0m\u001b[0;36m0\u001b[0m\u001b[0;34m]\u001b[0m\u001b[0;34m,\u001b[0m \u001b[0mstr\u001b[0m\u001b[0;34m)\u001b[0m\u001b[0;34m:\u001b[0m\u001b[0;34m\u001b[0m\u001b[0;34m\u001b[0m\u001b[0m\n",
      "\u001b[0;32m~/anaconda3/lib/python3.7/site-packages/fiona/__init__.py\u001b[0m in \u001b[0;36mopen\u001b[0;34m(fp, mode, driver, schema, crs, encoding, layer, vfs, enabled_drivers, crs_wkt, **kwargs)\u001b[0m\n\u001b[1;32m    251\u001b[0m         \u001b[0;32mif\u001b[0m \u001b[0mmode\u001b[0m \u001b[0;32min\u001b[0m \u001b[0;34m(\u001b[0m\u001b[0;34m'a'\u001b[0m\u001b[0;34m,\u001b[0m \u001b[0;34m'r'\u001b[0m\u001b[0;34m)\u001b[0m\u001b[0;34m:\u001b[0m\u001b[0;34m\u001b[0m\u001b[0;34m\u001b[0m\u001b[0m\n\u001b[1;32m    252\u001b[0m             c = Collection(path, mode, driver=driver, encoding=encoding,\n\u001b[0;32m--> 253\u001b[0;31m                            layer=layer, enabled_drivers=enabled_drivers, **kwargs)\n\u001b[0m\u001b[1;32m    254\u001b[0m         \u001b[0;32melif\u001b[0m \u001b[0mmode\u001b[0m \u001b[0;34m==\u001b[0m \u001b[0;34m'w'\u001b[0m\u001b[0;34m:\u001b[0m\u001b[0;34m\u001b[0m\u001b[0;34m\u001b[0m\u001b[0m\n\u001b[1;32m    255\u001b[0m             \u001b[0;32mif\u001b[0m \u001b[0mschema\u001b[0m\u001b[0;34m:\u001b[0m\u001b[0;34m\u001b[0m\u001b[0;34m\u001b[0m\u001b[0m\n",
      "\u001b[0;32m~/anaconda3/lib/python3.7/site-packages/fiona/collection.py\u001b[0m in \u001b[0;36m__init__\u001b[0;34m(self, path, mode, driver, schema, crs, encoding, layer, vsi, archive, enabled_drivers, crs_wkt, ignore_fields, ignore_geometry, **kwargs)\u001b[0m\n\u001b[1;32m    157\u001b[0m             \u001b[0;32mif\u001b[0m \u001b[0mself\u001b[0m\u001b[0;34m.\u001b[0m\u001b[0mmode\u001b[0m \u001b[0;34m==\u001b[0m \u001b[0;34m'r'\u001b[0m\u001b[0;34m:\u001b[0m\u001b[0;34m\u001b[0m\u001b[0;34m\u001b[0m\u001b[0m\n\u001b[1;32m    158\u001b[0m                 \u001b[0mself\u001b[0m\u001b[0;34m.\u001b[0m\u001b[0msession\u001b[0m \u001b[0;34m=\u001b[0m \u001b[0mSession\u001b[0m\u001b[0;34m(\u001b[0m\u001b[0;34m)\u001b[0m\u001b[0;34m\u001b[0m\u001b[0;34m\u001b[0m\u001b[0m\n\u001b[0;32m--> 159\u001b[0;31m                 \u001b[0mself\u001b[0m\u001b[0;34m.\u001b[0m\u001b[0msession\u001b[0m\u001b[0;34m.\u001b[0m\u001b[0mstart\u001b[0m\u001b[0;34m(\u001b[0m\u001b[0mself\u001b[0m\u001b[0;34m,\u001b[0m \u001b[0;34m**\u001b[0m\u001b[0mkwargs\u001b[0m\u001b[0;34m)\u001b[0m\u001b[0;34m\u001b[0m\u001b[0;34m\u001b[0m\u001b[0m\n\u001b[0m\u001b[1;32m    160\u001b[0m             \u001b[0;32melif\u001b[0m \u001b[0mself\u001b[0m\u001b[0;34m.\u001b[0m\u001b[0mmode\u001b[0m \u001b[0;32min\u001b[0m \u001b[0;34m(\u001b[0m\u001b[0;34m'a'\u001b[0m\u001b[0;34m,\u001b[0m \u001b[0;34m'w'\u001b[0m\u001b[0;34m)\u001b[0m\u001b[0;34m:\u001b[0m\u001b[0;34m\u001b[0m\u001b[0;34m\u001b[0m\u001b[0m\n\u001b[1;32m    161\u001b[0m                 \u001b[0mself\u001b[0m\u001b[0;34m.\u001b[0m\u001b[0msession\u001b[0m \u001b[0;34m=\u001b[0m \u001b[0mWritingSession\u001b[0m\u001b[0;34m(\u001b[0m\u001b[0;34m)\u001b[0m\u001b[0;34m\u001b[0m\u001b[0;34m\u001b[0m\u001b[0m\n",
      "\u001b[0;32mfiona/ogrext.pyx\u001b[0m in \u001b[0;36mfiona.ogrext.Session.start\u001b[0;34m()\u001b[0m\n",
      "\u001b[0;32mfiona/_shim.pyx\u001b[0m in \u001b[0;36mfiona._shim.gdal_open_vector\u001b[0;34m()\u001b[0m\n",
      "\u001b[0;31mDriverError\u001b[0m: cb_2018_us_state_5m.shp: No such file or directory"
     ]
    }
   ],
   "source": [
    "%%local\n",
    "\n",
    "## Load USA shape file for the coming visualisations\n",
    "usa = geopandas.read_file(\"cb_2018_us_state_5m.shp\")\n",
    "\n",
    "## alternative path (remote)\n",
    "# usa = geopandas.read_file(\"/mnt/bludata0/scratch/Tornado_demo/cb_2018_us_state_5m.shp\")"
   ]
  },
  {
   "cell_type": "markdown",
   "metadata": {},
   "source": [
    "#### Merge USA states map with per state tornado count\n",
    "\n",
    "Let's create a new geodataframe as the concatenation of the frequency dataframe and the above USA geodataframe."
   ]
  },
  {
   "cell_type": "code",
   "execution_count": null,
   "metadata": {},
   "outputs": [],
   "source": [
    "%%local\n",
    "\n",
    "# Rename column 'state_name' in geodataframe usa\n",
    "usa.rename(columns={'STUSPS':'state_name'}, inplace=True)\n",
    "# Set column 'state_name' as index \n",
    "temp=usa.set_index('state_name')\n",
    "\n",
    "# Concatenate and set index as 'state_name'\n",
    "result = pd.concat([state_count_df, temp], axis=1, sort=True).reindex(state_count_df.index)\n",
    "print(type(result)) # <class 'pandas.core.frame.DataFrame'>\n",
    "# we must go back to a geodataframe\n",
    "\n",
    "# Convert result into a geodataframe\n",
    "geometry=result['geometry']\n",
    "geo_result=geopandas.GeoDataFrame(result, geometry=geometry)\n",
    "print(type(geo_result)) # <class 'geopandas.geodataframe.GeoDataFrame'>"
   ]
  },
  {
   "cell_type": "markdown",
   "metadata": {},
   "source": [
    "Note that Alaska and some islands will disappear from the map since we merged the datasets by using state_count_df to set the index, which do not contain a row for these regions."
   ]
  },
  {
   "cell_type": "markdown",
   "metadata": {},
   "source": [
    "#### Display tornado density per US state"
   ]
  },
  {
   "cell_type": "code",
   "execution_count": null,
   "metadata": {},
   "outputs": [],
   "source": [
    "%%local\n",
    "\n",
    "# Visualization \n",
    "\n",
    "fig, ax = plt.subplots(figsize=(20, 10))\n",
    "\n",
    "geo_result.plot(column='count', ax=ax, legend=True, cmap='OrRd')\n",
    "\n",
    "plt.title('Occurrences per state')\n",
    "\n",
    "#fig.savefig('map4.png')"
   ]
  },
  {
   "cell_type": "markdown",
   "metadata": {},
   "source": [
    "Well, now it's clear that Texas is the state which is the most tornado stricken of all states! It corroborates with the official maps above.\n",
    "We can now focus on this particular state."
   ]
  },
  {
   "cell_type": "markdown",
   "metadata": {},
   "source": [
    "<a id=\"ML\"></a>\n",
    "## 4. Machine Learning : Tornado Clustering in Texas\n",
    "\n",
    "From now on, we shall focus on Texas only.\n",
    "\n",
    "We use a classic K-means algorithm to compute the coordinates of tornado clusters within Texas.\n",
    "\n",
    "Let's filter the tornado records corresponding to Texas and remember how many we have:"
   ]
  },
  {
   "cell_type": "code",
   "execution_count": null,
   "metadata": {},
   "outputs": [],
   "source": [
    "input_texas = df.where(\"ST='TX'\")\n",
    "input_texas.count()"
   ]
  },
  {
   "cell_type": "markdown",
   "metadata": {},
   "source": [
    "We want to assign each insurance policy holder for real estate in Texas to a tornado cluster in Texas in order to caclulate a risk score. Elaborated risk scores can be defined according to the caracteristics of each cluster and the distance of the property from all clusters."
   ]
  },
  {
   "cell_type": "markdown",
   "metadata": {},
   "source": [
    "<a id=\"clusters_texas\"></a>\n",
    "### a. Build tornado clusters in Texas\n",
    "Let's compute and plot the tornado clusters within Texas.\n",
    "\n",
    "#### Training\n",
    "\n",
    "We first select the features we want to train the model on. Here we based our model on Tornado latitude and longitude."
   ]
  },
  {
   "cell_type": "code",
   "execution_count": null,
   "metadata": {},
   "outputs": [],
   "source": [
    "# Load data\n",
    "assembler = VectorAssembler(\n",
    "    inputCols=[\"SLAT\",\"SLON\"],\n",
    "    outputCol=\"features\")\n",
    "newDF = assembler.transform(df)"
   ]
  },
  {
   "cell_type": "markdown",
   "metadata": {},
   "source": [
    "Now we define the model training stage for unsupervised cluster training using KMeans algorithm from Spark ML API. You can change the number of iterations as well as the number of cluster centers that should be detected. For demonstration purposes, the seed is specified for the cluster centers to start at the same point."
   ]
  },
  {
   "cell_type": "code",
   "execution_count": null,
   "metadata": {},
   "outputs": [],
   "source": [
    "# Set model parameters\n",
    "kmeans = KMeans().setK(4).setSeed(123)"
   ]
  },
  {
   "cell_type": "code",
   "execution_count": null,
   "metadata": {},
   "outputs": [],
   "source": [
    "# Tornado clusters within the state of Texas\n",
    "\n",
    "newDF_texas= assembler.transform(input_texas)\n",
    "model_texas=kmeans.fit(newDF_texas)\n",
    "\n",
    "predictions_texas = model_texas.transform(newDF_texas)\n",
    "op_texas=predictions_texas.select(\"OBJECTID\",\"SLON\",\"SLAT\",\"prediction\")\n",
    "\n",
    "\n",
    "#NOT-FOR-APP\n",
    "# Number of tornados in each cluster\n",
    "tornados_with_clusters_texas = op_texas.toDF(\"OBJECTID\",\"SLON\",\"SLAT\",\"ClusterId\")\n",
    "count_texas=tornados_with_clusters_texas.groupBy(\"ClusterId\").count().orderBy('ClusterID', ascending=True)\n",
    "count_texas.show()"
   ]
  },
  {
   "cell_type": "markdown",
   "metadata": {},
   "source": [
    "#### Prepare clusters data for visualisation"
   ]
  },
  {
   "cell_type": "code",
   "execution_count": null,
   "metadata": {},
   "outputs": [],
   "source": [
    "# Longitude and latitude of cluster centers\n",
    "\n",
    "centers_texas = model_texas.clusterCenters()\n",
    "\n",
    "arr_texas=np.array(centers_texas)\n",
    "print(\"Cluster Centers in Texas: (longitude, latitude)\")\n",
    "for i in range(len(arr_texas)):\n",
    "    print(' - Cluster '+str(i)+' has coordinates ' +str((arr_texas[i][1],arr_texas[i][0])))\n",
    "\n",
    "longitude_texas=arr_texas[:,1]\n",
    "latitude_texas=arr_texas[:,0]\n",
    "\n",
    "coord_texas={'longitude':longitude_texas, 'latitude':latitude_texas}\n",
    "\n",
    "clusters_texas=pd.DataFrame(coord_texas)"
   ]
  },
  {
   "cell_type": "code",
   "execution_count": null,
   "metadata": {},
   "outputs": [],
   "source": [
    "#NOT-FOR-APP\n",
    "# Add column with number of torndos per cluster to the dataframe containing their coordinates.\n",
    "clusters_texas['count']=count_texas.toPandas()['count']"
   ]
  },
  {
   "cell_type": "markdown",
   "metadata": {},
   "source": [
    "**TempView**: Texas clusters\n",
    "\n",
    "Remember the 3 steps we have already performed on the tornado dataset."
   ]
  },
  {
   "cell_type": "code",
   "execution_count": null,
   "metadata": {},
   "outputs": [],
   "source": [
    "#NOT-FOR-APP\n",
    "sqlContext.createDataFrame(clusters_texas).createOrReplaceTempView('texas_clusters')"
   ]
  },
  {
   "cell_type": "code",
   "execution_count": null,
   "metadata": {},
   "outputs": [],
   "source": [
    "%%sql -o texas_clusters -n -1 \n",
    "SELECT * FROM texas_clusters"
   ]
  },
  {
   "cell_type": "markdown",
   "metadata": {},
   "source": [
    "#### Display location of cluster centers with size"
   ]
  },
  {
   "cell_type": "code",
   "execution_count": null,
   "metadata": {},
   "outputs": [],
   "source": [
    "%%local\n",
    "\n",
    "lon_lat=[Point(x, y) for x, y in zip(texas_clusters.longitude, texas_clusters.latitude)]\n",
    "geo_cluster=geopandas.GeoDataFrame(texas_clusters, geometry=lon_lat)\n",
    "\n",
    "# Isolate Texas map\n",
    "\n",
    "texas=usa.loc[usa['NAME'] == 'Texas']\n",
    "\n",
    "# Plot \n",
    "\n",
    "x, y = texas_clusters.longitude, texas_clusters.latitude\n",
    "c = texas_clusters.index\n",
    "s = texas_clusters['count']\n",
    "\n",
    "fig, ax = plt.subplots(figsize=(20,10))\n",
    "\n",
    "texas.plot(ax=ax)\n",
    "\n",
    "scatter = ax.scatter(x, y, c=c, s=s, cmap='OrRd')\n",
    "\n",
    "# produce a legend with the unique colors from the scatter\n",
    "legend1 = ax.legend(*scatter.legend_elements(),\n",
    "                    loc=\"lower left\", title=\"Cluster_id\")\n",
    "ax.add_artist(legend1)\n",
    "\n",
    "# produce a legend with a cross section of sizes from the scatter\n",
    "handles, labels = scatter.legend_elements(prop=\"sizes\", alpha=0.2)\n",
    "legend2 = ax.legend(handles, labels, loc=\"lower right\", title=\"Cluster_count\")\n",
    "\n",
    "\n",
    "plt.title('Cluster with size in Texas')\n",
    "plt.show()\n",
    "#fig.savefig('clusters2')"
   ]
  },
  {
   "cell_type": "markdown",
   "metadata": {},
   "source": [
    "Here we can see in where the cluster centers of the Texas tornados are located. The size of each bullet indicates the number of tornados belonging to the cluster. But a cluster center is not all. What about the shape of the clusters? Their actual surface ? Let's visualize it."
   ]
  },
  {
   "cell_type": "markdown",
   "metadata": {},
   "source": [
    "#### Visualize cluster shapes"
   ]
  },
  {
   "cell_type": "markdown",
   "metadata": {},
   "source": [
    "In the following steps, we will plot both cluster centers and their belonging tornados, so that we get an idea of the repartition of tornados across Texas, not only across clusters (cluster size) but also within clusters. We get a better view of the territorial scope and shape of each cluster.\n",
    "\n",
    "First we create a Spark Dataframe for tornados with an additional 'ClusterID' column. Then we pull this data to our local environment in order to plot the visualisations locally."
   ]
  },
  {
   "cell_type": "code",
   "execution_count": null,
   "metadata": {},
   "outputs": [],
   "source": [
    "#Label the tornados\n",
    "\n",
    "tor= assembler.transform(input_texas)\n",
    "\n",
    "predictions_tor = model_texas.transform(tor)\n",
    "select_pred_tor=predictions_tor.select(\"ST\",\"SLON\",\"SLAT\",\"prediction\")\n",
    "pred_tor = select_pred_tor.toDF(\"ST\", \"SLON\", \"SLAT\", \"ClusterID\")\n",
    "pred_tor.show(3)\n",
    "pred_tor.groupBy(\"ClusterId\").count().orderBy('count', ascending=False).show()"
   ]
  },
  {
   "cell_type": "code",
   "execution_count": null,
   "metadata": {},
   "outputs": [],
   "source": [
    "# Create a TempView for visualization\n",
    "pred_tor.createOrReplaceTempView('labeled_tornados')"
   ]
  },
  {
   "cell_type": "code",
   "execution_count": null,
   "metadata": {
    "scrolled": false
   },
   "outputs": [],
   "source": [
    "%%sql -o labeled_tornados -n -1 \n",
    "SELECT * FROM labeled_tornados"
   ]
  },
  {
   "cell_type": "markdown",
   "metadata": {},
   "source": [
    "Display cluster with shape"
   ]
  },
  {
   "cell_type": "code",
   "execution_count": null,
   "metadata": {},
   "outputs": [],
   "source": [
    "%%local\n",
    "\n",
    "# GeoDataFrame for cluster centers\n",
    "lon_lat_clusters=[Point(x, y) for x, y in zip(texas_clusters.longitude, texas_clusters.latitude)]\n",
    "geo_cluster=geopandas.GeoDataFrame(texas_clusters, geometry=lon_lat_clusters)\n",
    "\n",
    "#GeoDataFrame for labeled tornados\n",
    "lon_lat_tor=[Point(x, y) for x, y in zip(labeled_tornados.SLON, labeled_tornados.SLAT)]\n",
    "geo_tor=geopandas.GeoDataFrame(labeled_tornados, geometry=lon_lat_tor)\n",
    "\n",
    "# Isolate Texas map\n",
    "texas=usa.loc[usa['NAME'] == 'Texas']\n",
    "\n",
    "### Plot ###\n",
    "\n",
    "fig, ax = plt.subplots(figsize=(20,10))\n",
    "\n",
    "# Texas map\n",
    "texas.plot(ax=ax)\n",
    "\n",
    "# Cluster centers\n",
    "x, y = texas_clusters.longitude, texas_clusters.latitude\n",
    "c = texas_clusters.index\n",
    "s = texas_clusters['count']\n",
    "scatter = ax.scatter(x, y, c=c, s=s, cmap='OrRd')\n",
    "\n",
    "# Labeled tornados\n",
    "colors=['khaki','gold', 'goldenrod', 'lightcoral', 'beige', 'darkkhaki', \n",
    "        'honeydew', 'lavender', 'seeshell', 'linen'][:len(texas_clusters)]\n",
    "for i in range(len(texas_clusters)):\n",
    "    geo_tor[geo_tor['ClusterID']==i].plot(ax=ax, markersize=5, marker='+', color=colors[i])\n",
    "\n",
    "# produce a legend with the unique colors from the scatter\n",
    "legend1 = ax.legend(*scatter.legend_elements(),\n",
    "                    loc=\"lower left\", title=\"Cluster_id\")\n",
    "ax.add_artist(legend1)\n",
    "\n",
    "# produce a legend with a cross section of sizes from the scatter\n",
    "handles, labels = scatter.legend_elements(prop=\"sizes\", alpha=0.2)\n",
    "legend2 = ax.legend(handles, labels, loc=\"lower right\", title=\"Cluster_count\")\n",
    "\n",
    "\n",
    "plt.title('Cluster with size in Texas and labeled tornados')\n",
    "plt.show()\n",
    "#fig.savefig('clusters2')"
   ]
  },
  {
   "cell_type": "markdown",
   "metadata": {},
   "source": [
    "Here we realize that some tornado records seem to be misclasified, as their starting location is outside of Texas. Nonetheless, they may have been labeled as tornados in Texas if they went through this state and caused damages there too. Cluster 0 is more sparse than the others, Cluster 3 has the highest concentration... You can associate a different level of risk to each cluster on the basis of its caracteristics."
   ]
  },
  {
   "cell_type": "markdown",
   "metadata": {},
   "source": [
    "<a id=\"insurance_holders\"></a>\n",
    "### b. Assess risk of home insurance holders in Texas"
   ]
  },
  {
   "cell_type": "markdown",
   "metadata": {},
   "source": [
    "#### Load the insurance holders data\n",
    "\n",
    "Note that this data is made up for the sake of this demo."
   ]
  },
  {
   "cell_type": "code",
   "execution_count": null,
   "metadata": {},
   "outputs": [],
   "source": [
    "#Load the data\n",
    "insurance_holders = spark.read \\\n",
    "        .format(\"com.ibm.idax.spark.idaxsource\") \\\n",
    "        .options(dbtable=\"TEXAS_CUSTOMERS\") \\\n",
    "        .load()\n",
    "insurance_holders.show(5)\n",
    "insurance_holders.count()"
   ]
  },
  {
   "cell_type": "code",
   "execution_count": null,
   "metadata": {},
   "outputs": [],
   "source": [
    "# OPTIONAL\n",
    "# Again, you can use only a sample of the data if you like, but you should be able to \n",
    "# run the folllowing cells only in a few seconds. \n",
    "sample_insurance_holders=insurance_holders.sample(False, 0.2, 42)\n",
    "# If you want, replace insurance_holders by sample_insurance_holders in the TempView step. "
   ]
  },
  {
   "cell_type": "markdown",
   "metadata": {},
   "source": [
    "#### Assign customers to their nearest tornado cluster\n",
    "\n",
    "Finally, we run a prediction with the tornado cluster model on the insurance holders to assign each one to its nearest tornado cluster. We then print a sample of the result."
   ]
  },
  {
   "cell_type": "code",
   "execution_count": null,
   "metadata": {},
   "outputs": [],
   "source": [
    "# Rearrange the Spark DataFrame at your convenience\n",
    "# Here we change the column names and their order.\n",
    "insurance_holders_renamed = insurance_holders.toDF(\"OBJECTID\", \"NAME\", \"INSURANCE_VALUE\", \"SLON\", \"SLAT\")\n",
    "# insurance_holders_renamed_rearr = insurance_holders_renamed.select(\"OBJECTID\", \"NAME\", \"INSURANCE_VALUE\", \"SLAT\", \"SLON\")\n",
    "\n",
    "# Train\n",
    "newDF_inc= assembler.transform(insurance_holders_renamed)\n",
    "# model_inc=kmeans.fit(newDF_inc)\n",
    "\n",
    "predictions_inc = model_texas.transform(newDF_inc)\n",
    "op_inc=predictions_inc.select(\"OBJECTID\", \"NAME\", \"INSURANCE_VALUE\", \"SLON\",\"SLAT\",\"prediction\")\n",
    "inc_with_clusters = op_inc.toDF(\"OBJECTID\", \"NAME\", \"INSURANCE_VALUE\", \"SLON\", \"SLAT\", \"ClusterID\")\n",
    "inc_with_clusters.show(3)\n",
    "inc_with_clusters.groupBy(\"ClusterId\").count().orderBy('count', ascending=False).show()\n",
    "\n",
    "#Printing the results\n",
    "print(\"Writing results to table TEXAS_CUSTOMERS_SCORED ...\")\n",
    "df.registerTempTable(\"TEXAS_CUSTOMERS_SCORED\")\n",
    "print('Done')\n"
   ]
  },
  {
   "cell_type": "markdown",
   "metadata": {},
   "source": [
    "**TempView** : Texas customers"
   ]
  },
  {
   "cell_type": "code",
   "execution_count": null,
   "metadata": {},
   "outputs": [],
   "source": [
    "#NOT-FOR-APP\n",
    "# insurance_holders: whole dataset\n",
    "# sample_insurance_holders: only a subset\n",
    "inc_with_clusters.createOrReplaceTempView('insurance_holders')"
   ]
  },
  {
   "cell_type": "code",
   "execution_count": null,
   "metadata": {},
   "outputs": [],
   "source": [
    "%%sql -o insurance_holders --maxrows -1\n",
    "SELECT * FROM insurance_holders "
   ]
  },
  {
   "cell_type": "markdown",
   "metadata": {},
   "source": [
    "#### Display: Customers and clusters \n",
    "In grey, you can see where insurance holders are located."
   ]
  },
  {
   "cell_type": "code",
   "execution_count": null,
   "metadata": {},
   "outputs": [],
   "source": [
    "%%local\n",
    "\n",
    "# Let's make geopoints out of this new data\n",
    "lon_lat=[Point(x, y) for x, y in zip(insurance_holders.SLON, insurance_holders.SLAT)]\n",
    "insurance_holders=geopandas.GeoDataFrame(insurance_holders, geometry=lon_lat)\n",
    "\n",
    "# Let's plot it \n",
    "\n",
    "fig, ax = plt.subplots(figsize=(20,10))\n",
    "x, y = texas_clusters.longitude, texas_clusters.latitude\n",
    "c = texas_clusters.index\n",
    "#s = texas_clusters.cluster_count\n",
    "\n",
    "texas.plot(ax=ax) # map\n",
    "insurance_holders.plot(ax=ax, markersize=10, color='grey') # insurance holders\n",
    "scatter = ax.scatter(x, y, c=c, s=1000, cmap='OrRd') # clusters \n",
    "\n",
    "# produce a legend with the unique colors from the scatter\n",
    "legend1 = ax.legend(*scatter.legend_elements(),\n",
    "                    loc=\"lower left\", title=\"Cluster_id\")\n",
    "ax.add_artist(legend1)\n",
    "\n",
    "plt.title('Clusters and customers in Texas')\n",
    "\n",
    "plt.show()"
   ]
  },
  {
   "cell_type": "markdown",
   "metadata": {},
   "source": [
    "Now we want to see which insurance holder is closest to which cluster."
   ]
  },
  {
   "cell_type": "markdown",
   "metadata": {},
   "source": [
    "#### Highlight the customers belonging to each cluster"
   ]
  },
  {
   "cell_type": "code",
   "execution_count": null,
   "metadata": {},
   "outputs": [],
   "source": [
    "%%local\n",
    "\n",
    "# Plot with color code\n",
    "\n",
    "# isolate each group and plot it with a different graphic code\n",
    "\n",
    "fig, ax = plt.subplots(figsize=(20,10))\n",
    "\n",
    "texas.plot(ax=ax)\n",
    "\n",
    "\n",
    "colors=['brown','lightsalmon', 'tomato', 'maroon', 'peachpuff', 'indianred', 'mistyrose', 'seeshell', 'linen'][:len(texas_clusters)]\n",
    "\n",
    "for i in range(len(texas_clusters)):\n",
    "    insurance_holders[insurance_holders['ClusterID']==i].plot(ax=ax, markersize=5, marker='+', color=colors[i])\n",
    "\n",
    "texas_clusters=geopandas.GeoDataFrame(texas_clusters, geometry=[Point(x, y) for x, y in zip(texas_clusters.longitude, texas_clusters.latitude)])\n",
    "texas_clusters.plot(ax=ax, markersize=200, marker='o', color='red')"
   ]
  },
  {
   "cell_type": "markdown",
   "metadata": {},
   "source": [
    "Note: We have materialized the Voroinoi cells."
   ]
  },
  {
   "cell_type": "markdown",
   "metadata": {},
   "source": [
    "#### Visualise the price paid by each household \n",
    "Could be a development of this use case... Your turn to code! \n",
    "1. define rule of insurance policy\n",
    "2. apply rule on your data\n",
    "3. visualize"
   ]
  },
  {
   "cell_type": "markdown",
   "metadata": {},
   "source": [
    "Where to go from here?\n",
    "\n",
    "<a id=\"you\"></a>\n",
    "## 5. Deploy your application with your own data\n",
    "\n",
    "You can easily deploy the essential logic of this notebook as an application that can be run at any time via a dashDB [stored procedure](https://www.ibm.com/support/knowledgecenter/SS6NHC/com.ibm.swg.im.dashdb.analytics.doc/doc/r_spark_applications_functions.html) invokation, via dashDB's command line [spark-submit.sh](https://www.ibm.com/support/knowledgecenter/SS6NHC/com.ibm.swg.im.dashdb.doc/learn_how/spark_ref.html) or via a [REST API](https://developer.ibm.com/clouddataservices/wp-content/themes/projectnext-clouddata/dashDBanalytics/#/).\n",
    "\n",
    "Note that a few cells above have the __`#NOT-FOR-APP`__ comment. Cells with this comment as well as cells that only contain Jupyter cell magic starting with __`%%`__ are automatically skipped when deploying the notebook as an application. This way you can organize your notebook for interactive vs. backend logic.\n",
    "\n",
    "In order to generate and deploy an application for this notebook select __`File->Deploy as->Deploy to dashDB Spark`__ in the menu above. After a short while it shows you the result page for the deployment with the specific invocation options that you just can copy and past to try them out immediately."
   ]
  },
  {
   "cell_type": "markdown",
   "metadata": {},
   "source": [
    "## What you've learned\n",
    "\n",
    "Congratulations! \n",
    "\n",
    "You've successfully learned how to:\n",
    "* connect to Db2 and launch a Spark session through livy\n",
    "* add or retrieve data from Db2, anytime and anywhere\n",
    "* analyze data with PySpark\n",
    "* create a temporary view of a Spark dataframe\n",
    "* visualize geographic data locally using matplotlib and geopandas for risk assessment\n",
    "\n",
    "You can now easily deploy your own application and run it anytime on IBM Db2!"
   ]
  },
  {
   "cell_type": "markdown",
   "metadata": {},
   "source": [
    "___\n",
    "## Authors\n",
    "\n",
    "__Eva Feillet__ is intern at IBM Research Lab in Böblingen. She comes from CentraleSupelec Engineering School in France and has studied deep learning at the Technical University of Munich. She is passionate about data science and eager to apply it to real-life use cases.\n",
    "\n",
    "__Toni Bollinger__: Consulting IT Specialist, IBM Cloud and Cognitive Software, Böblingen, Germany\n",
    "\n",
    "Copyright © 2019 IBM Corporation. All rights reserved."
   ]
  }
 ],
 "metadata": {
  "kernelspec": {
   "display_name": "PySpark",
   "language": "",
   "name": "pysparkkernel"
  },
  "language_info": {
   "codemirror_mode": {
    "name": "python",
    "version": 2
   },
   "mimetype": "text/x-python",
   "name": "pyspark",
   "pygments_lexer": "python2"
  }
 },
 "nbformat": 4,
 "nbformat_minor": 2
}
