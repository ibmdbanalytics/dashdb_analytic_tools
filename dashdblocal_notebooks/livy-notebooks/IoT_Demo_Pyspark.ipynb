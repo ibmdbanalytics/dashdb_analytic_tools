{
 "cells": [
  {
   "cell_type": "markdown",
   "metadata": {},
   "source": [
    "# IoT Streaming Analytics Demo\n",
    "This is a demo notebook for Db2 Warehouse's integrated Apache Spark environment and how it can be used to process and land streaming data in Db2 tables. It runs through livy with a PySpark kernel.\n",
    "\n",
    "If you are new to Db2 Warehouse and its integrated Apache Spark capabilities you may first want to check out this [overview article](http://www.ibmbigdatahub.com/blog/evolving-enterprise-data-warehouse-beyond-sql-apache-spark). This notebook also uses ibmdbpy. If you are new to ibmdbpy, please refer to this [folder](https://github.com/ibmdbanalytics/ibmdbpy)."
   ]
  },
  {
   "cell_type": "markdown",
   "metadata": {},
   "source": [
    "![](https://ibm.box.com/shared/static/6dr6gou6xr1alfwnj6zkj0tbsyc64vda.png)"
   ]
  },
  {
   "cell_type": "markdown",
   "metadata": {},
   "source": [
    "## Set up IoT demo data producer\n",
    "This demo relies on a little data producer container that you have to set up in addition to your Db2 local and Jupyter notebook containers on the same host machine. You can find it [here](https://github.com/ibmdbanalytics/dashdb_analytic_tools/tree/notebook-dev/dashdblocal_notebooks/iot_producer) in a sub folder of the dashDB Jupyter notebook container project. Please follow the instructions found there and perform the few simple steps to set it up. \n",
    "\n",
    "This producer will set up a Kafka server on port `9092` with a Kafka topic named `iot4dashdb` and permanently flow in there messages about wind turbine device measurements."
   ]
  },
  {
   "cell_type": "markdown",
   "metadata": {},
   "source": [
    "## Streaming environment setup for Spark"
   ]
  },
  {
   "cell_type": "markdown",
   "metadata": {},
   "source": [
    "**Imports**"
   ]
  },
  {
   "cell_type": "code",
   "execution_count": 1,
   "metadata": {},
   "outputs": [
    {
     "name": "stdout",
     "output_type": "stream",
     "text": [
      "Starting Spark application\n"
     ]
    },
    {
     "data": {
      "text/html": [
       "<table>\n",
       "<tr><th>ID</th><th>YARN Application ID</th><th>Kind</th><th>State</th><th>Spark UI</th><th>Driver log</th><th>Current session?</th></tr><tr><td>101</td><td>None</td><td>pyspark</td><td>idle</td><td></td><td></td><td>✔</td></tr></table>"
      ],
      "text/plain": [
       "<IPython.core.display.HTML object>"
      ]
     },
     "metadata": {},
     "output_type": "display_data"
    },
    {
     "data": {
      "application/vnd.jupyter.widget-view+json": {
       "model_id": "",
       "version_major": 2,
       "version_minor": 0
      },
      "text/plain": [
       "FloatProgress(value=0.0, bar_style='info', description='Progress:', layout=Layout(height='25px', width='50%'),…"
      ]
     },
     "metadata": {},
     "output_type": "display_data"
    },
    {
     "name": "stdout",
     "output_type": "stream",
     "text": [
      "SparkSession available as 'spark'.\n"
     ]
    },
    {
     "data": {
      "application/vnd.jupyter.widget-view+json": {
       "model_id": "",
       "version_major": 2,
       "version_minor": 0
      },
      "text/plain": [
       "FloatProgress(value=0.0, bar_style='info', description='Progress:', layout=Layout(height='25px', width='50%'),…"
      ]
     },
     "metadata": {},
     "output_type": "display_data"
    }
   ],
   "source": [
    "from pyspark import SparkContext\n",
    "from pyspark.streaming import StreamingContext\n",
    "from pyspark.streaming.kafka import KafkaUtils\n",
    "import json\n",
    "from pyspark.sql import SQLContext \n",
    "import warnings\n",
    "warnings.filterwarnings(\"ignore\")"
   ]
  },
  {
   "cell_type": "markdown",
   "metadata": {},
   "source": [
    "Local visualisations will use pandas and matplotlib."
   ]
  },
  {
   "cell_type": "code",
   "execution_count": 2,
   "metadata": {},
   "outputs": [],
   "source": [
    "%local\n",
    "\n",
    "%matplotlib inline\n",
    "\n",
    "#Useful imports for local visualisations\n",
    "import pandas as pd\n",
    "import matplotlib.pyplot as plt"
   ]
  },
  {
   "cell_type": "markdown",
   "metadata": {},
   "source": [
    "__Spark context__"
   ]
  },
  {
   "cell_type": "markdown",
   "metadata": {},
   "source": [
    "Let's create a Spark context. Spark context sets up internal services and establishes a connection to a Spark execution environment. Once a SparkContext is created you can use it to create RDDs, accumulators and broadcast variables, access Spark services and run jobs (until SparkContext is stopped)."
   ]
  },
  {
   "cell_type": "code",
   "execution_count": 3,
   "metadata": {},
   "outputs": [
    {
     "data": {
      "application/vnd.jupyter.widget-view+json": {
       "model_id": "",
       "version_major": 2,
       "version_minor": 0
      },
      "text/plain": [
       "FloatProgress(value=0.0, bar_style='info', description='Progress:', layout=Layout(height='25px', width='50%'),…"
      ]
     },
     "metadata": {},
     "output_type": "display_data"
    }
   ],
   "source": [
    "sc = SparkContext.getOrCreate()\n",
    "sqlsc = SQLContext(sc)"
   ]
  },
  {
   "cell_type": "markdown",
   "metadata": {},
   "source": [
    "__Kafka assembly__"
   ]
  },
  {
   "cell_type": "markdown",
   "metadata": {},
   "source": [
    "We need the kafka streaming library in the classpath. Loading it via `%AddDep` magic does not currently work because of classloader issues (Spark datasource lookup doesn't find it). The Db2 Warehouse container gets the kafka library deployed in the subsequent step. So adding the dependency is not necessary to execute the code. However the goal of this notebook is to eventually export, compile and deploy it as a Spark application inside Db2. The compilation is going to be performed in the Jupyter container. For this reason we still need to add the kafka library as a compile-time dependency inside comments. The deployment function treats commented %AddDeps as a compile-only dependecy."
   ]
  },
  {
   "cell_type": "markdown",
   "metadata": {},
   "source": [
    "Let's check if you have Kafka assembly available:"
   ]
  },
  {
   "cell_type": "code",
   "execution_count": 4,
   "metadata": {},
   "outputs": [
    {
     "data": {
      "application/vnd.jupyter.widget-view+json": {
       "model_id": "",
       "version_major": 2,
       "version_minor": 0
      },
      "text/plain": [
       "FloatProgress(value=0.0, bar_style='info', description='Progress:', layout=Layout(height='25px', width='50%'),…"
      ]
     },
     "metadata": {},
     "output_type": "display_data"
    },
    {
     "name": "stdout",
     "output_type": "stream",
     "text": [
      "Kafka assembly found"
     ]
    }
   ],
   "source": [
    "import os\n",
    "\n",
    "path = \"/mnt/bludata0/home/bluadmin/spark/defaultlibs\"\n",
    "#to change if bluadmin is not your user name\n",
    "\n",
    "kafka_assembly = \"spark-streaming-kafka-0-8-assembly_2.11-2.3.0.jar\"\n",
    "url = \"http://repo1.maven.org/maven2/org/apache/spark/spark-streaming-kafka-0-8-assembly_2.11/2.3.0/\" + kafka_assembly\n",
    "\n",
    "if (os.path.exists(path + \"/\" + kafka_assembly)):\n",
    "    print(\"Kafka assembly found\")\n",
    "else:\n",
    "    os.environ['PYSPARK_SUBMIT_ARGS'] = '--packages org.apache.spark:spark-streaming-kafka-0-8_2.11:2.3.0 pyspark-shell'\n",
    "    print (\"Please download the Kafka assembly from the following link: \"+url+\" and restart the notebook\")\n"
   ]
  },
  {
   "cell_type": "markdown",
   "metadata": {},
   "source": [
    "__Kafka configuration to connect to our IoT demo data producer__"
   ]
  },
  {
   "cell_type": "markdown",
   "metadata": {},
   "source": [
    "Now we define a utility function to set up a Kafka Streaming context, and run it for an optionally defined period of time with a given processing function. \n",
    "\n",
    "**Important note** : When we run this interactively in a notebook cell, it's important to set the timeout to a specific value to stop the streaming context. Otherwise it will keep running and produce cell output, even after the cell has finished executing. This timeout is defined in ssc.awaitTerminationOrTimeout().\n",
    "\n",
    "Note also that a streaming context cannot be re-used after it has executed, so we can't keep it across cells and therefore we have to use the utility function to re-create it before every execution.\n",
    "\n",
    "We use a `finally` block to make sure the context is stopped even in case of exception; otherwise the whole streaming infrastructure becomes unusable within the notebook kernel's lifetime."
   ]
  },
  {
   "cell_type": "code",
   "execution_count": 5,
   "metadata": {},
   "outputs": [
    {
     "data": {
      "application/vnd.jupyter.widget-view+json": {
       "model_id": "",
       "version_major": 2,
       "version_minor": 0
      },
      "text/plain": [
       "FloatProgress(value=0.0, bar_style='info', description='Progress:', layout=Layout(height='25px', width='50%'),…"
      ]
     },
     "metadata": {},
     "output_type": "display_data"
    }
   ],
   "source": [
    "topics=[\"iot4dashdb\"]\n",
    "\n",
    "def runStreamingContext(rdd):\n",
    "    sc = SparkContext.getOrCreate()\n",
    "    sqlsc = SQLContext(sc)\n",
    "    ssc = StreamingContext(sc,3)\n",
    "    \n",
    "    messages = KafkaUtils.createDirectStream(ssc, \\\n",
    "                                         topics, \\\n",
    "                                         kafkaParams = {\"metadata.broker.list\": \"localhost:9092\"})\n",
    "    \n",
    "    messages.foreachRDD(rdd)\n",
    "    \n",
    "    try:\n",
    "        ssc.start()\n",
    "        ssc.awaitTerminationOrTimeout(50)\n",
    "    finally:\n",
    "        ssc.stop(stopSparkContext=False, stopGraceFully=True)\n",
    "    \n",
    "\n"
   ]
  },
  {
   "cell_type": "markdown",
   "metadata": {},
   "source": [
    "## Data exploration"
   ]
  },
  {
   "cell_type": "markdown",
   "metadata": {},
   "source": [
    "First, we simply iterate over the batch RDDs and print out their content, just to explore the data in our Kafka queue.\n",
    "\n",
    "__Important note__: Before you execute the cell below, you will need to start the producer container that writes into the kafka queue. When the IoT producer container is not started or has already terminated, the streaming computation in the following cell will hang and never return."
   ]
  },
  {
   "cell_type": "code",
   "execution_count": 6,
   "metadata": {},
   "outputs": [
    {
     "data": {
      "application/vnd.jupyter.widget-view+json": {
       "model_id": "",
       "version_major": 2,
       "version_minor": 0
      },
      "text/plain": [
       "FloatProgress(value=0.0, bar_style='info', description='Progress:', layout=Layout(height='25px', width='50%'),…"
      ]
     },
     "metadata": {},
     "output_type": "display_data"
    },
    {
     "name": "stdout",
     "output_type": "stream",
     "text": [
      "{\"payload\": {\"temperature\": 32,\"tempOutside\": 18,\"powerProd\": 1830,\"noiseLevel1\": 82,\"time\":\"2019-10-01 07:53:37\"},\"deviceId\": \"2703\",\"deviceType\": \"windGen\",\"eventType\": \"status\"}\n",
      "{\"payload\": {\"temperature\": 33,\"tempOutside\": 18,\"powerProd\": 1831,\"noiseLevel1\": 82,\"time\":\"2019-10-01 07:53:39\"},\"deviceId\": \"2703\",\"deviceType\": \"windGen\",\"eventType\": \"status\"}\n",
      "{\"payload\": {\"temperature\": 31,\"tempOutside\": 18,\"powerProd\": 1834,\"noiseLevel1\": 82,\"time\":\"2019-10-01 07:53:41\"},\"deviceId\": \"2704\",\"deviceType\": \"windGen\",\"eventType\": \"status\"}\n",
      "{\"payload\": {\"temperature\": 30,\"tempOutside\": 18,\"powerProd\": 1830,\"noiseLevel1\": 82,\"time\":\"2019-10-01 07:53:42\"},\"deviceId\": \"2702\",\"deviceType\": \"windGen\",\"eventType\": \"status\"}\n",
      "{\"payload\": {\"temperature\": 34,\"tempOutside\": 18,\"powerProd\": 1836,\"noiseLevel1\": 82,\"time\":\"2019-10-01 07:53:44\"},\"deviceId\": \"2703\",\"deviceType\": \"windGen\",\"eventType\": \"status\"}\n",
      "{\"payload\": {\"temperature\": 37,\"tempOutside\": 18,\"powerProd\": 1835,\"noiseLevel1\": 82,\"time\":\"2019-10-01 07:53:46\"},\"deviceId\": \"2701\",\"deviceType\": \"windGen\",\"eventType\": \"status\"}\n",
      "{\"payload\": {\"temperature\": 30,\"tempOutside\": 18,\"powerProd\": 1836,\"noiseLevel1\": 82,\"time\":\"2019-10-01 07:53:48\"},\"deviceId\": \"2703\",\"deviceType\": \"windGen\",\"eventType\": \"status\"}\n",
      "{\"payload\": {\"temperature\": 33,\"tempOutside\": 18,\"powerProd\": 1834,\"noiseLevel1\": 82,\"time\":\"2019-10-01 07:53:49\"},\"deviceId\": \"2709\",\"deviceType\": \"windGen\",\"eventType\": \"status\"}\n",
      "{\"payload\": {\"temperature\": 30,\"tempOutside\": 18,\"powerProd\": 1836,\"noiseLevel1\": 82,\"time\":\"2019-10-01 07:53:51\"},\"deviceId\": \"2703\",\"deviceType\": \"windGen\",\"eventType\": \"status\"}\n",
      "{\"payload\": {\"temperature\": 34,\"tempOutside\": 18,\"powerProd\": 1836,\"noiseLevel1\": 82,\"time\":\"2019-10-01 07:53:53\"},\"deviceId\": \"2705\",\"deviceType\": \"windGen\",\"eventType\": \"status\"}\n",
      "{\"payload\": {\"temperature\": 38,\"tempOutside\": 18,\"powerProd\": 1833,\"noiseLevel1\": 82,\"time\":\"2019-10-01 07:53:55\"},\"deviceId\": \"2706\",\"deviceType\": \"windGen\",\"eventType\": \"status\"}\n",
      "{\"payload\": {\"temperature\": 30,\"tempOutside\": 18,\"powerProd\": 1827,\"noiseLevel1\": 82,\"time\":\"2019-10-01 07:53:56\"},\"deviceId\": \"2706\",\"deviceType\": \"windGen\",\"eventType\": \"status\"}\n",
      "{\"payload\": {\"temperature\": 35,\"tempOutside\": 18,\"powerProd\": 1830,\"noiseLevel1\": 82,\"time\":\"2019-10-01 07:53:58\"},\"deviceId\": \"2707\",\"deviceType\": \"windGen\",\"eventType\": \"status\"}\n",
      "{\"payload\": {\"temperature\": 30,\"tempOutside\": 18,\"powerProd\": 1836,\"noiseLevel1\": 82,\"time\":\"2019-10-01 07:54:00\"},\"deviceId\": \"2704\",\"deviceType\": \"windGen\",\"eventType\": \"status\"}\n",
      "{\"payload\": {\"temperature\": 36,\"tempOutside\": 18,\"powerProd\": 1833,\"noiseLevel1\": 82,\"time\":\"2019-10-01 07:54:02\"},\"deviceId\": \"2706\",\"deviceType\": \"windGen\",\"eventType\": \"status\"}\n",
      "{\"payload\": {\"temperature\": 30,\"tempOutside\": 18,\"powerProd\": 1833,\"noiseLevel1\": 82,\"time\":\"2019-10-01 07:54:04\"},\"deviceId\": \"2703\",\"deviceType\": \"windGen\",\"eventType\": \"status\"}\n",
      "{\"payload\": {\"temperature\": 36,\"tempOutside\": 18,\"powerProd\": 1835,\"noiseLevel1\": 82,\"time\":\"2019-10-01 07:54:05\"},\"deviceId\": \"2703\",\"deviceType\": \"windGen\",\"eventType\": \"status\"}\n",
      "{\"payload\": {\"temperature\": 30,\"tempOutside\": 18,\"powerProd\": 1829,\"noiseLevel1\": 82,\"time\":\"2019-10-01 07:54:07\"},\"deviceId\": \"2709\",\"deviceType\": \"windGen\",\"eventType\": \"status\"}\n",
      "{\"payload\": {\"temperature\": 33,\"tempOutside\": 18,\"powerProd\": 1835,\"noiseLevel1\": 82,\"time\":\"2019-10-01 07:54:09\"},\"deviceId\": \"2703\",\"deviceType\": \"windGen\",\"eventType\": \"status\"}\n",
      "{\"payload\": {\"temperature\": 35,\"tempOutside\": 18,\"powerProd\": 1833,\"noiseLevel1\": 82,\"time\":\"2019-10-01 07:54:11\"},\"deviceId\": \"2709\",\"deviceType\": \"windGen\",\"eventType\": \"status\"}\n",
      "{\"payload\": {\"temperature\": 30,\"tempOutside\": 18,\"powerProd\": 1833,\"noiseLevel1\": 82,\"time\":\"2019-10-01 07:54:12\"},\"deviceId\": \"2709\",\"deviceType\": \"windGen\",\"eventType\": \"status\"}\n",
      "{\"payload\": {\"temperature\": 30,\"tempOutside\": 18,\"powerProd\": 1835,\"noiseLevel1\": 82,\"time\":\"2019-10-01 07:54:14\"},\"deviceId\": \"2703\",\"deviceType\": \"windGen\",\"eventType\": \"status\"}\n",
      "{\"payload\": {\"temperature\": 30,\"tempOutside\": 18,\"powerProd\": 1831,\"noiseLevel1\": 82,\"time\":\"2019-10-01 07:54:16\"},\"deviceId\": \"2708\",\"deviceType\": \"windGen\",\"eventType\": \"status\"}\n",
      "{\"payload\": {\"temperature\": 37,\"tempOutside\": 18,\"powerProd\": 1827,\"noiseLevel1\": 82,\"time\":\"2019-10-01 07:54:18\"},\"deviceId\": \"2705\",\"deviceType\": \"windGen\",\"eventType\": \"status\"}\n",
      "{\"payload\": {\"temperature\": 32,\"tempOutside\": 18,\"powerProd\": 1829,\"noiseLevel1\": 82,\"time\":\"2019-10-01 07:54:20\"},\"deviceId\": \"2708\",\"deviceType\": \"windGen\",\"eventType\": \"status\"}\n",
      "{\"payload\": {\"temperature\": 30,\"tempOutside\": 18,\"powerProd\": 1832,\"noiseLevel1\": 82,\"time\":\"2019-10-01 07:54:22\"},\"deviceId\": \"2705\",\"deviceType\": \"windGen\",\"eventType\": \"status\"}\n",
      "{\"payload\": {\"temperature\": 36,\"tempOutside\": 18,\"powerProd\": 1829,\"noiseLevel1\": 82,\"time\":\"2019-10-01 07:54:24\"},\"deviceId\": \"2704\",\"deviceType\": \"windGen\",\"eventType\": \"status\"}\n",
      "{\"payload\": {\"temperature\": 36,\"tempOutside\": 18,\"powerProd\": 1834,\"noiseLevel1\": 82,\"time\":\"2019-10-01 07:54:26\"},\"deviceId\": \"2709\",\"deviceType\": \"windGen\",\"eventType\": \"status\"}\n",
      "{\"payload\": {\"temperature\": 30,\"tempOutside\": 18,\"powerProd\": 1830,\"noiseLevel1\": 82,\"time\":\"2019-10-01 07:54:27\"},\"deviceId\": \"2702\",\"deviceType\": \"windGen\",\"eventType\": \"status\"}\n",
      "{\"payload\": {\"temperature\": 38,\"tempOutside\": 18,\"powerProd\": 1832,\"noiseLevel1\": 82,\"time\":\"2019-10-01 07:54:29\"},\"deviceId\": \"2708\",\"deviceType\": \"windGen\",\"eventType\": \"status\"}"
     ]
    }
   ],
   "source": [
    "def processStream0(rdd):\n",
    "    for x in rdd.collect():\n",
    "        print(x[1])\n",
    "\n",
    "runStreamingContext(processStream0)"
   ]
  },
  {
   "cell_type": "markdown",
   "metadata": {},
   "source": [
    "So this gives us an idea about the JSON format we can expect from our data source. Lets parse each batch into a DataSet with Spark SQL. We don't want Spark to perform automatic JSON schema detection over and over again for each batch, so we give it a pre-defined schema as follows."
   ]
  },
  {
   "cell_type": "code",
   "execution_count": 7,
   "metadata": {},
   "outputs": [
    {
     "data": {
      "application/vnd.jupyter.widget-view+json": {
       "model_id": "",
       "version_major": 2,
       "version_minor": 0
      },
      "text/plain": [
       "FloatProgress(value=0.0, bar_style='info', description='Progress:', layout=Layout(height='25px', width='50%'),…"
      ]
     },
     "metadata": {},
     "output_type": "display_data"
    }
   ],
   "source": [
    "from pyspark.sql.types import StructType, StructField, StringType, LongType, TimestampType\n",
    "schema = StructType([StructField(\"payload\", \n",
    "                                StructType([StructField(\"temperature\", LongType()),\n",
    "                                            StructField(\"tempOutside\", LongType()),\n",
    "                                            StructField(\"powerProd\", LongType()),\n",
    "                                            StructField(\"noiseLevel1\", LongType()),\n",
    "                                            StructField(\"time\", TimestampType())])),\n",
    "                    StructField(\"deviceId\", StringType()),\n",
    "                    StructField(\"deviceType\", StringType()),\n",
    "                    StructField(\"eventType\", StringType())])\n"
   ]
  },
  {
   "cell_type": "markdown",
   "metadata": {},
   "source": [
    "As we can see, the produced data has a nested structure. \n",
    "Spark can deal with this type of schema, but it's not suitable being stored in a plain SQL database table, so we flatten it to straight rows by creating a dataframe."
   ]
  },
  {
   "cell_type": "code",
   "execution_count": 8,
   "metadata": {},
   "outputs": [
    {
     "data": {
      "application/vnd.jupyter.widget-view+json": {
       "model_id": "",
       "version_major": 2,
       "version_minor": 0
      },
      "text/plain": [
       "FloatProgress(value=0.0, bar_style='info', description='Progress:', layout=Layout(height='25px', width='50%'),…"
      ]
     },
     "metadata": {},
     "output_type": "display_data"
    },
    {
     "name": "stdout",
     "output_type": "stream",
     "text": [
      "+-----------+-----------+---------+-----------+-------------------+--------+----------+---------+\n",
      "|temperature|tempOutside|powerProd|noiseLevel1|               time|deviceId|deviceType|eventType|\n",
      "+-----------+-----------+---------+-----------+-------------------+--------+----------+---------+\n",
      "|         31|         18|     1834|         82|2019-10-01 07:54:38|    2701|   windGen|   status|\n",
      "+-----------+-----------+---------+-----------+-------------------+--------+----------+---------+\n",
      "\n",
      "+-----------+-----------+---------+-----------+-------------------+--------+----------+---------+\n",
      "|temperature|tempOutside|powerProd|noiseLevel1|               time|deviceId|deviceType|eventType|\n",
      "+-----------+-----------+---------+-----------+-------------------+--------+----------+---------+\n",
      "|         33|         18|     1827|         82|2019-10-01 07:54:40|    2708|   windGen|   status|\n",
      "|         35|         18|     1832|         82|2019-10-01 07:54:42|    2707|   windGen|   status|\n",
      "+-----------+-----------+---------+-----------+-------------------+--------+----------+---------+\n",
      "\n",
      "+-----------+-----------+---------+-----------+-------------------+--------+----------+---------+\n",
      "|temperature|tempOutside|powerProd|noiseLevel1|               time|deviceId|deviceType|eventType|\n",
      "+-----------+-----------+---------+-----------+-------------------+--------+----------+---------+\n",
      "|         34|         18|     1830|         82|2019-10-01 07:54:44|    2707|   windGen|   status|\n",
      "|         32|         18|     1832|         82|2019-10-01 07:54:46|    2701|   windGen|   status|\n",
      "+-----------+-----------+---------+-----------+-------------------+--------+----------+---------+\n",
      "\n",
      "+-----------+-----------+---------+-----------+-------------------+--------+----------+---------+\n",
      "|temperature|tempOutside|powerProd|noiseLevel1|               time|deviceId|deviceType|eventType|\n",
      "+-----------+-----------+---------+-----------+-------------------+--------+----------+---------+\n",
      "|         34|         18|     1832|         82|2019-10-01 07:54:47|    2707|   windGen|   status|\n",
      "|         30|         18|     1835|         82|2019-10-01 07:54:49|    2708|   windGen|   status|\n",
      "+-----------+-----------+---------+-----------+-------------------+--------+----------+---------+\n",
      "\n",
      "+-----------+-----------+---------+-----------+-------------------+--------+----------+---------+\n",
      "|temperature|tempOutside|powerProd|noiseLevel1|               time|deviceId|deviceType|eventType|\n",
      "+-----------+-----------+---------+-----------+-------------------+--------+----------+---------+\n",
      "|         35|         18|     1835|         82|2019-10-01 07:54:51|    2704|   windGen|   status|\n",
      "+-----------+-----------+---------+-----------+-------------------+--------+----------+---------+\n",
      "\n",
      "+-----------+-----------+---------+-----------+-------------------+--------+----------+---------+\n",
      "|temperature|tempOutside|powerProd|noiseLevel1|               time|deviceId|deviceType|eventType|\n",
      "+-----------+-----------+---------+-----------+-------------------+--------+----------+---------+\n",
      "|         34|         18|     1834|         82|2019-10-01 07:54:53|    2703|   windGen|   status|\n",
      "|         37|         18|     1833|         82|2019-10-01 07:54:54|    2701|   windGen|   status|\n",
      "+-----------+-----------+---------+-----------+-------------------+--------+----------+---------+\n",
      "\n",
      "+-----------+-----------+---------+-----------+-------------------+--------+----------+---------+\n",
      "|temperature|tempOutside|powerProd|noiseLevel1|               time|deviceId|deviceType|eventType|\n",
      "+-----------+-----------+---------+-----------+-------------------+--------+----------+---------+\n",
      "|         32|         18|     1836|         82|2019-10-01 07:54:56|    2705|   windGen|   status|\n",
      "|         37|         18|     1828|         82|2019-10-01 07:54:58|    2703|   windGen|   status|\n",
      "+-----------+-----------+---------+-----------+-------------------+--------+----------+---------+\n",
      "\n",
      "+-----------+-----------+---------+-----------+-------------------+--------+----------+---------+\n",
      "|temperature|tempOutside|powerProd|noiseLevel1|               time|deviceId|deviceType|eventType|\n",
      "+-----------+-----------+---------+-----------+-------------------+--------+----------+---------+\n",
      "|         32|         18|     1833|         82|2019-10-01 07:55:00|    2708|   windGen|   status|\n",
      "+-----------+-----------+---------+-----------+-------------------+--------+----------+---------+\n",
      "\n",
      "+-----------+-----------+---------+-----------+-------------------+--------+----------+---------+\n",
      "|temperature|tempOutside|powerProd|noiseLevel1|               time|deviceId|deviceType|eventType|\n",
      "+-----------+-----------+---------+-----------+-------------------+--------+----------+---------+\n",
      "|         32|         18|     1833|         82|2019-10-01 07:55:01|    2703|   windGen|   status|\n",
      "|         32|         18|     1836|         82|2019-10-01 07:55:03|    2708|   windGen|   status|\n",
      "+-----------+-----------+---------+-----------+-------------------+--------+----------+---------+\n",
      "\n",
      "+-----------+-----------+---------+-----------+-------------------+--------+----------+---------+\n",
      "|temperature|tempOutside|powerProd|noiseLevel1|               time|deviceId|deviceType|eventType|\n",
      "+-----------+-----------+---------+-----------+-------------------+--------+----------+---------+\n",
      "|         31|         18|     1832|         82|2019-10-01 07:55:05|    2705|   windGen|   status|\n",
      "|         36|         18|     1829|         82|2019-10-01 07:55:07|    2701|   windGen|   status|\n",
      "+-----------+-----------+---------+-----------+-------------------+--------+----------+---------+\n",
      "\n",
      "+-----------+-----------+---------+-----------+-------------------+--------+----------+---------+\n",
      "|temperature|tempOutside|powerProd|noiseLevel1|               time|deviceId|deviceType|eventType|\n",
      "+-----------+-----------+---------+-----------+-------------------+--------+----------+---------+\n",
      "|         37|         18|     1832|         82|2019-10-01 07:55:09|    2700|   windGen|   status|\n",
      "+-----------+-----------+---------+-----------+-------------------+--------+----------+---------+\n",
      "\n",
      "+-----------+-----------+---------+-----------+-------------------+--------+----------+---------+\n",
      "|temperature|tempOutside|powerProd|noiseLevel1|               time|deviceId|deviceType|eventType|\n",
      "+-----------+-----------+---------+-----------+-------------------+--------+----------+---------+\n",
      "|         33|         18|     1829|         82|2019-10-01 07:55:10|    2706|   windGen|   status|\n",
      "|         38|         18|     1834|         82|2019-10-01 07:55:12|    2704|   windGen|   status|\n",
      "+-----------+-----------+---------+-----------+-------------------+--------+----------+---------+\n",
      "\n",
      "+-----------+-----------+---------+-----------+-------------------+--------+----------+---------+\n",
      "|temperature|tempOutside|powerProd|noiseLevel1|               time|deviceId|deviceType|eventType|\n",
      "+-----------+-----------+---------+-----------+-------------------+--------+----------+---------+\n",
      "|         36|         18|     1835|         82|2019-10-01 07:55:14|    2701|   windGen|   status|\n",
      "|         35|         18|     1834|         82|2019-10-01 07:55:16|    2709|   windGen|   status|\n",
      "+-----------+-----------+---------+-----------+-------------------+--------+----------+---------+\n",
      "\n",
      "+-----------+-----------+---------+-----------+-------------------+--------+----------+---------+\n",
      "|temperature|tempOutside|powerProd|noiseLevel1|               time|deviceId|deviceType|eventType|\n",
      "+-----------+-----------+---------+-----------+-------------------+--------+----------+---------+\n",
      "|         36|         18|     1833|         82|2019-10-01 07:55:18|    2707|   windGen|   status|\n",
      "+-----------+-----------+---------+-----------+-------------------+--------+----------+---------+\n",
      "\n",
      "+-----------+-----------+---------+-----------+-------------------+--------+----------+---------+\n",
      "|temperature|tempOutside|powerProd|noiseLevel1|               time|deviceId|deviceType|eventType|\n",
      "+-----------+-----------+---------+-----------+-------------------+--------+----------+---------+\n",
      "|         31|         18|     1832|         82|2019-10-01 07:55:19|    2707|   windGen|   status|\n",
      "|         34|         18|     1831|         82|2019-10-01 07:55:21|    2708|   windGen|   status|\n",
      "+-----------+-----------+---------+-----------+-------------------+--------+----------+---------+\n",
      "\n",
      "+-----------+-----------+---------+-----------+-------------------+--------+----------+---------+\n",
      "|temperature|tempOutside|powerProd|noiseLevel1|               time|deviceId|deviceType|eventType|\n",
      "+-----------+-----------+---------+-----------+-------------------+--------+----------+---------+\n",
      "|         35|         18|     1829|         82|2019-10-01 07:55:23|    2705|   windGen|   status|\n",
      "|         37|         18|     1834|         82|2019-10-01 07:55:25|    2702|   windGen|   status|\n",
      "+-----------+-----------+---------+-----------+-------------------+--------+----------+---------+\n",
      "\n",
      "+-----------+-----------+---------+-----------+-------------------+--------+----------+---------+\n",
      "|temperature|tempOutside|powerProd|noiseLevel1|               time|deviceId|deviceType|eventType|\n",
      "+-----------+-----------+---------+-----------+-------------------+--------+----------+---------+\n",
      "|         32|         18|     1833|         82|2019-10-01 07:55:26|    2706|   windGen|   status|\n",
      "+-----------+-----------+---------+-----------+-------------------+--------+----------+---------+\n",
      "\n",
      "+-----------+-----------+---------+-----------+-------------------+--------+----------+---------+\n",
      "|temperature|tempOutside|powerProd|noiseLevel1|               time|deviceId|deviceType|eventType|\n",
      "+-----------+-----------+---------+-----------+-------------------+--------+----------+---------+\n",
      "|         33|         18|     1827|         82|2019-10-01 07:55:28|    2709|   windGen|   status|\n",
      "|         30|         18|     1830|         82|2019-10-01 07:55:30|    2703|   windGen|   status|\n",
      "+-----------+-----------+---------+-----------+-------------------+--------+----------+---------+"
     ]
    }
   ],
   "source": [
    "from pyspark.sql.functions import expr\n",
    "\n",
    "def processStream1(rdd):\n",
    "    rdd2 = rdd.map(lambda x: x[1])\n",
    "    df = sqlsc.read.json(rdd2, schema)\n",
    "    df.select([\"payload.temperature\", \"payload.tempOutside\", \"payload.powerProd\", \"payload.noiseLevel1\", \"payload.time\", \"deviceId\", \"deviceType\", \"eventType\"]).show()\n",
    "\n",
    "runStreamingContext(processStream1)   "
   ]
  },
  {
   "cell_type": "markdown",
   "metadata": {},
   "source": [
    "## Write IoT records to a persistent table\n",
    "\n",
    "In the desired deployed application we want to write the records read from the queue into a Db2 table instead of only printing out the datasets. In this demonstration here we will always first *empty* the table in the first batch after the application is started. We use Spark's *'Overwrite'* mode for writing the first batch to clear a pre-existing table and then use *'Append'* mode in subsequent batches.\n",
    "\n",
    "You can check in your Db2 Warehouse console that a table called USERDATA.IOT_EVENTS has been created. For example, run the following SQL query to see how many records have been written: \n",
    "> SELECT COUNT(*) FROM USERDATA.IOT_EVENTS."
   ]
  },
  {
   "cell_type": "code",
   "execution_count": 9,
   "metadata": {},
   "outputs": [
    {
     "data": {
      "application/vnd.jupyter.widget-view+json": {
       "model_id": "",
       "version_major": 2,
       "version_minor": 0
      },
      "text/plain": [
       "FloatProgress(value=0.0, bar_style='info', description='Progress:', layout=Layout(height='25px', width='50%'),…"
      ]
     },
     "metadata": {},
     "output_type": "display_data"
    },
    {
     "name": "stdout",
     "output_type": "stream",
     "text": [
      "Batch written to database\n",
      "Batch written to database\n",
      "Batch written to database\n",
      "Batch written to database\n",
      "Batch written to database\n",
      "Batch written to database\n",
      "Batch written to database\n",
      "Batch written to database\n",
      "Batch written to database\n",
      "Batch written to database\n",
      "Batch written to database\n",
      "Batch written to database\n",
      "Batch written to database\n",
      "Batch written to database\n",
      "Batch written to database\n",
      "Batch written to database\n",
      "Batch written to database\n",
      "Batch written to database\n",
      "Batch written to database"
     ]
    }
   ],
   "source": [
    "tableName= \"USERDATA.IOT_EVENTS\"\n",
    "savemode = 'overwrite'\n",
    "\n",
    "def processStream2(rdd):\n",
    "    global savemode\n",
    "    rdd2 = rdd.map(lambda x: x[1])\n",
    "    df = sqlsc.read.json(rdd2, schema)\n",
    "    df2=df.select([\"payload.temperature\", \n",
    "               \"payload.tempOutside\", \n",
    "               \"payload.powerProd\", \n",
    "               \"payload.noiseLevel1\", \n",
    "               \"payload.time\", \n",
    "               \"deviceId\", \n",
    "               \"deviceType\", \n",
    "               \"eventType\"])\n",
    "    \n",
    "    \n",
    "    df2.write.format(\"com.ibm.idax.spark.idaxsource\").\\\n",
    "    option(\"dbtable\", tableName ).\\\n",
    "    option(\"allowAppend\", \"TRUE\").\\\n",
    "    mode(savemode).\\\n",
    "    save()\n",
    "    \n",
    "    print(\"Batch written to database\")\n",
    "    savemode ='append'\n",
    "    \n",
    "runStreamingContext(processStream2)\n",
    "    \n"
   ]
  },
  {
   "cell_type": "markdown",
   "metadata": {},
   "source": [
    "You will notice that there are only a few rows compared to the number of generated records. For example, with a timeout set to 10s, you will collect approximately 8 rows. With a timeout of 50s, there will be approximetely 30 etc."
   ]
  },
  {
   "cell_type": "markdown",
   "metadata": {},
   "source": [
    "## Check landed IoT data\n",
    "You can verify the landed data in Db2 Warehouse. For this we simply establish a dataframe on the result table."
   ]
  },
  {
   "cell_type": "code",
   "execution_count": 10,
   "metadata": {},
   "outputs": [
    {
     "data": {
      "application/vnd.jupyter.widget-view+json": {
       "model_id": "",
       "version_major": 2,
       "version_minor": 0
      },
      "text/plain": [
       "FloatProgress(value=0.0, bar_style='info', description='Progress:', layout=Layout(height='25px', width='50%'),…"
      ]
     },
     "metadata": {},
     "output_type": "display_data"
    }
   ],
   "source": [
    "sparkSession = spark \\\n",
    "        .builder \\\n",
    "        .getOrCreate()\n",
    "\n",
    "df_check = spark.read \\\n",
    "        .format(\"com.ibm.idax.spark.idaxsource\") \\\n",
    "        .options(dbtable=tableName) \\\n",
    "        .load()"
   ]
  },
  {
   "cell_type": "markdown",
   "metadata": {},
   "source": [
    "Now we show the content. You can verify the progress of your deployed landing app by running the next cell repeatetly and check the new records and overall count."
   ]
  },
  {
   "cell_type": "code",
   "execution_count": 11,
   "metadata": {},
   "outputs": [
    {
     "data": {
      "application/vnd.jupyter.widget-view+json": {
       "model_id": "",
       "version_major": 2,
       "version_minor": 0
      },
      "text/plain": [
       "FloatProgress(value=0.0, bar_style='info', description='Progress:', layout=Layout(height='25px', width='50%'),…"
      ]
     },
     "metadata": {},
     "output_type": "display_data"
    },
    {
     "name": "stdout",
     "output_type": "stream",
     "text": [
      "Total IoT Records: 30\n",
      "Showing Newest 30 Records:\n",
      "+--------+-------------------+-----------+-----------+---------+-----------+\n",
      "|deviceId|               time|temperature|tempOutside|powerProd|noiseLevel1|\n",
      "+--------+-------------------+-----------+-----------+---------+-----------+\n",
      "|    2705|2019-10-01 07:56:27|         38|         18|     1828|         82|\n",
      "|    2700|2019-10-01 07:56:25|         36|         18|     1827|         82|\n",
      "|    2704|2019-10-01 07:56:23|         32|         18|     1830|         82|\n",
      "|    2704|2019-10-01 07:56:22|         35|         18|     1829|         82|\n",
      "|    2703|2019-10-01 07:56:20|         31|         18|     1828|         82|\n",
      "|    2707|2019-10-01 07:56:18|         32|         18|     1828|         82|\n",
      "|    2701|2019-10-01 07:56:16|         34|         18|     1830|         82|\n",
      "|    2708|2019-10-01 07:56:15|         34|         18|     1836|         82|\n",
      "|    2703|2019-10-01 07:56:13|         31|         18|     1835|         82|\n",
      "|    2701|2019-10-01 07:56:11|         30|         18|     1830|         82|\n",
      "+--------+-------------------+-----------+-----------+---------+-----------+\n",
      "only showing top 10 rows"
     ]
    }
   ],
   "source": [
    "print(\"Total IoT Records: \"+ str(df_check.count()))\n",
    "print(\"Showing Newest \"+str(df_check.count()) +\" Records:\")\n",
    "df_check.select(\"deviceId\", \"time\", \"temperature\", \"tempOutside\", \"powerProd\", \"noiseLevel1\").\\\n",
    "                orderBy(\"time\", ascending=False).show(10)"
   ]
  },
  {
   "cell_type": "markdown",
   "metadata": {},
   "source": [
    "## Visualisation of time series\n",
    "\n",
    "You could want to visualize the data you are collecting. Let's plot some of the features over time."
   ]
  },
  {
   "cell_type": "markdown",
   "metadata": {},
   "source": [
    "__Note : Make a bridge between remote and local__\n",
    "\n",
    "So far we've been using Spark servers and the data is accessed remotely. If we plot visualisations now, they won't appear right on your screen : you will have to fetch them, using their adress, to open them locally. So for convenience, visualisations will be made locally thanks to the __%local__ magic. Therefore, we need to create a temporary view of the data, and query it with the %%sql magic in order to access it locally and plot it directly. Note that the data on the Spark cluster is a Spark dataframe, whereas the data we handle locally is a pandas dataframe.\n",
    "\n",
    "In the following cells, we will:\n",
    "1. Create a SQL temporary view of the tornado (Spark) dataframe\n",
    "2. Run a %%sql cell magic to query the data, and output it to the local space. The table is now seen as a Pandas dataframe.\n",
    "3. We use this Pandas dataframe to make our graphs, which we output locally."
   ]
  },
  {
   "cell_type": "code",
   "execution_count": 12,
   "metadata": {},
   "outputs": [
    {
     "data": {
      "application/vnd.jupyter.widget-view+json": {
       "model_id": "",
       "version_major": 2,
       "version_minor": 0
      },
      "text/plain": [
       "FloatProgress(value=0.0, bar_style='info', description='Progress:', layout=Layout(height='25px', width='50%'),…"
      ]
     },
     "metadata": {},
     "output_type": "display_data"
    }
   ],
   "source": [
    "df_check.createOrReplaceTempView('turbine')"
   ]
  },
  {
   "cell_type": "code",
   "execution_count": 13,
   "metadata": {},
   "outputs": [
    {
     "data": {
      "application/vnd.jupyter.widget-view+json": {
       "model_id": "",
       "version_major": 2,
       "version_minor": 0
      },
      "text/plain": [
       "FloatProgress(value=0.0, bar_style='info', description='Progress:', layout=Layout(height='25px', width='50%'),…"
      ]
     },
     "metadata": {},
     "output_type": "display_data"
    },
    {
     "name": "stderr",
     "output_type": "stream",
     "text": [
      "/Users/eva.feillet/anaconda3/lib/python3.7/site-packages/autovizwidget/widget/utils.py:50: FutureWarning:\n",
      "\n",
      "A future version of pandas will default to `skipna=True`. To silence this warning, pass `skipna=True|False` explicitly.\n",
      "\n"
     ]
    },
    {
     "data": {
      "application/vnd.jupyter.widget-view+json": {
       "model_id": "0c5e6ad47239428485f504804dc5bbca",
       "version_major": 2,
       "version_minor": 0
      },
      "text/plain": [
       "VBox(children=(HBox(children=(HTML(value='Type:'), Button(description='Table', layout=Layout(width='70px'), st…"
      ]
     },
     "metadata": {},
     "output_type": "display_data"
    },
    {
     "data": {
      "application/vnd.jupyter.widget-view+json": {
       "model_id": "707f590214ea4a068e5d2746279186f9",
       "version_major": 2,
       "version_minor": 0
      },
      "text/plain": [
       "Output()"
      ]
     },
     "metadata": {},
     "output_type": "display_data"
    }
   ],
   "source": [
    "%%sql -o turbine --maxrows -1\n",
    "SELECT * FROM turbine"
   ]
  },
  {
   "cell_type": "code",
   "execution_count": 14,
   "metadata": {},
   "outputs": [],
   "source": [
    "%local\n",
    "turbine['time']=pd.to_datetime(turbine['time'])"
   ]
  },
  {
   "cell_type": "markdown",
   "metadata": {},
   "source": [
    "As you may have noticed, our data comes from several devices. Let's focus on only one device to start with. You can change the deviceId if you like."
   ]
  },
  {
   "cell_type": "code",
   "execution_count": 19,
   "metadata": {},
   "outputs": [
    {
     "name": "stdout",
     "output_type": "stream",
     "text": [
      "[2707 2703 2701 2704 2700 2708 2706 2709 2705]\n"
     ]
    }
   ],
   "source": [
    "%local\n",
    "print(turbine['deviceId'].unique())\n",
    "device=turbine[turbine['deviceId']==2704] #your choice"
   ]
  },
  {
   "cell_type": "code",
   "execution_count": 20,
   "metadata": {},
   "outputs": [
    {
     "data": {
      "image/png": "[encoded data removed]",
      "text/plain": [
       "<Figure size 1600x500 with 1 Axes>"
      ]
     },
     "metadata": {
      "needs_background": "light"
     },
     "output_type": "display_data"
    }
   ],
   "source": [
    "%local\n",
    "\n",
    "from pandas.plotting import register_matplotlib_converters\n",
    "register_matplotlib_converters()\n",
    "\n",
    "# Basic plot\n",
    "def plot_df(dataFrame, x1, y, title=\"\", xlabel='Date', ylabel='Value', dpi=100):\n",
    "    plt.figure(figsize=(16,5), dpi=dpi)\n",
    "    plt.plot(x1, y, color='tab:red')\n",
    "    plt.gca().set(title=title, xlabel=xlabel, ylabel=ylabel)\n",
    "    plt.show()\n",
    "    \n",
    "plot_df(device, x1=device.time, y=device.temperature, title='Temperature over time - sensor 27XX')    "
   ]
  },
  {
   "cell_type": "markdown",
   "metadata": {},
   "source": [
    "It could be useful to compare the temperature measured by the sensor with the power production over time. Is the temperature raising over time? Does an increase in power production implies an increase in temperature? With some lag?\n",
    "\n",
    "Note that the data generator we used here doesn't provide very meaningful data regarding Physics... Furthermore, we would need a far longer observation time to make any conclusion. However, the following visualisations are provided for the sake of our use case."
   ]
  },
  {
   "cell_type": "code",
   "execution_count": 21,
   "metadata": {},
   "outputs": [
    {
     "data": {
      "image/png": "[encoded data removed]",
      "text/plain": [
       "<Figure size 864x360 with 2 Axes>"
      ]
     },
     "metadata": {
      "needs_background": "light"
     },
     "output_type": "display_data"
    }
   ],
   "source": [
    "%local\n",
    "\n",
    "# Temperature and power production over time \n",
    "# in a particular sensor\n",
    "\n",
    "plt.figure(figsize=(12,5))\n",
    "plt.xlabel('Time')\n",
    "\n",
    "ax1 = device.temperature.plot(color='blue', grid=True, label='Temperature')\n",
    "ax2 = device.powerProd.plot(color='red', grid=True, secondary_y=True, label='PowerProd')\n",
    "\n",
    "h1, l1 = ax1.get_legend_handles_labels()\n",
    "h2, l2 = ax2.get_legend_handles_labels()\n",
    "\n",
    "\n",
    "plt.legend(h1+h2, l1+l2, loc=2)\n",
    "plt.show()"
   ]
  },
  {
   "cell_type": "markdown",
   "metadata": {},
   "source": [
    "__All devices put together__"
   ]
  },
  {
   "cell_type": "code",
   "execution_count": 18,
   "metadata": {},
   "outputs": [
    {
     "data": {
      "image/png": "[encoded data removed]",
      "text/plain": [
       "<Figure size 432x288 with 2 Axes>"
      ]
     },
     "metadata": {
      "needs_background": "light"
     },
     "output_type": "display_data"
    }
   ],
   "source": [
    "%local\n",
    "\n",
    "# Create some mock data\n",
    "t = turbine.time\n",
    "data1 = turbine.temperature\n",
    "data2 = turbine.powerProd\n",
    "\n",
    "fig, ax1 = plt.subplots()\n",
    "\n",
    "color = 'tab:red'\n",
    "ax1.set_xlabel('time')\n",
    "ax1.set_ylabel('temperature', color=color)\n",
    "ax1.plot(t, data1, color=color)\n",
    "ax1.tick_params(axis='y', labelcolor=color)\n",
    "\n",
    "ax2 = ax1.twinx()  # instantiate a second axes that shares the same x-axis\n",
    "\n",
    "color = 'tab:blue'\n",
    "ax2.set_ylabel('powerProd', color=color)  # we already handled the x-label with ax1\n",
    "ax2.plot(t, data2, color=color)\n",
    "ax2.tick_params(axis='y', labelcolor=color)\n",
    "\n",
    "fig.tight_layout()  # otherwise the right y-label is slightly clipped\n",
    "plt.show()\n"
   ]
  },
  {
   "cell_type": "markdown",
   "metadata": {},
   "source": [
    "___\n",
    "### Authors\n",
    "\n",
    "__Eva Feillet__ is intern at IBM Research Lab in Böblingen. She comes from CentraleSupelec Engineering School in France and has studied deep learning at the Technical University of Munich. She is passionate about data science and eager to apply it to real-life use cases.\n",
    "\n",
    "**Toni Bollinger** Consulting IT Specialist, IBM Cloud and Cognitive Software, Böblingen, Germany\n",
    "\n",
    "Copyright © 2019 IBM Corporation. All rights reserved."
   ]
  }
 ],
 "metadata": {
  "kernelspec": {
   "display_name": "PySpark",
   "language": "",
   "name": "pysparkkernel"
  },
  "language_info": {
   "codemirror_mode": {
    "name": "python",
    "version": 2
   },
   "mimetype": "text/x-python",
   "name": "pyspark",
   "pygments_lexer": "python2"
  }
 },
 "nbformat": 4,
 "nbformat_minor": 2
}
