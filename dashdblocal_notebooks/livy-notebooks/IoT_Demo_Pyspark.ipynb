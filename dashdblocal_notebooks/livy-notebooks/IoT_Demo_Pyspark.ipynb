{
 "cells": [
  {
   "cell_type": "markdown",
   "metadata": {},
   "source": [
    "# IoT Streaming Analytics Demo\n",
    "This is a demo notebook for dashDB's integrated Apache Spark environment and how it can be used to process and land streaming data in dashDB tables.\n",
    "\n",
    "If you are new to dashDB and it's integrated Apache Spark capabilities you may first want to check out this [overview article](http://www.ibmbigdatahub.com/blog/evolving-enterprise-data-warehouse-beyond-sql-apache-spark)."
   ]
  },
  {
   "cell_type": "markdown",
   "metadata": {},
   "source": [
    "![](https://ibm.box.com/shared/static/6dr6gou6xr1alfwnj6zkj0tbsyc64vda.png)"
   ]
  },
  {
   "cell_type": "markdown",
   "metadata": {},
   "source": [
    "## Set up IoT demo data producer\n",
    "This demo relies on a little data producer container that you have to set up in addition to your Db2 local and Jupyter notebook containers on the same host machine. You can find it [here](https://github.com/ibmdbanalytics/dashdb_analytic_tools/tree/notebook-dev/dashdblocal_notebooks/iot_producer) in a sub folder of the dashDB Jupyter notebook container project. Please follow the instructions found there and perform the few simple steps to set it up. \n",
    "\n",
    "This producer will set up a Kafka server on port `9092` with a Kafka topic named `iot4dashdb` and permanently flow in there messages about wind turbine device measurements."
   ]
  },
  {
   "cell_type": "markdown",
   "metadata": {},
   "source": [
    "__How to start the iotproducer container__\n",
    "\n",
    "Open a terminal window and execute the following commmands:\n",
    "> ssh root@idax29.svl.ibm.com\n",
    "\n",
    "> cd dashdb_analytic_tools/\n",
    "\n",
    "> cd dashdblocal_notebooks/\n",
    "\n",
    "> cd iot_producer\n",
    "\n",
    "> ls\n",
    "\n",
    "Here we see the Dockerfile in the iot_producer folder.\n",
    "\n",
    "Build the docker image:\n",
    "> docker build -t iotproducer .\n",
    "\n",
    "Run the container:\n",
    "> docker run --net=host -d --name=iotproducer iotproducer\n",
    "\n",
    "Note : By default it writes 1000 messages and then it ends. You can change the number of messages written by specifying an integer number as parameter to the container, like: docker run --net=host -d --name=iotproducer iotproducer 5000\n",
    "\n",
    "If you want to see the flow of data in your terminal:\n",
    "> docker exec -it iotproducer kafka/bin/kafka-console-consumer.sh --bootstrap-server localhost:9092 --topic iot4dashdb --from-beginning\n",
    "\n",
    "Note: if you have done this several time, a name conflict may appear, with a message like: *docker: Error response from daemon: Conflict. The container name \"/iotproducer\" is already in use by container \"...\". You have to remove (or rename) that container to be able to reuse that name.*\n",
    "To address this issue, please run the following commands:\n",
    "> docker stop iotproducer\n",
    "\n",
    "> docker rm  iotproducer\n",
    "\n",
    "Then you can continue with \n",
    "> docker run --net=host -d --name=iotproducer iotproducer\n",
    "\n",
    "> docker exec -it iotproducer kafka/bin/kafka-console-consumer.sh --bootstrap-server localhost:9092 --topic iot4dashdb --from-beginning"
   ]
  },
  {
   "cell_type": "markdown",
   "metadata": {},
   "source": [
    "We need the kafka streaming library in the classpath. Loading it via `%AddDep` magic does not currently work because of classloader issues (Spark datasource lookup doesn't find it). The Db2 Warehouse container gets the kafka library deployed in the subsequent step. So adding the dependency is not necessary to execute the code. However the goal of this notebook is to eventually export, compile and deploy it as a Spark application inside Db2. The compilation is going to be performed in the Jupyter container. For this reason we still need to add the kafka library as a compile-time dependency inside comments. The deployment function treats commented %AddDeps as a compile-only dependecy."
   ]
  },
  {
   "cell_type": "markdown",
   "metadata": {},
   "source": [
    "All the imports we need for our demo"
   ]
  },
  {
   "cell_type": "code",
   "execution_count": 1,
   "metadata": {},
   "outputs": [
    {
     "name": "stdout",
     "output_type": "stream",
     "text": [
      "Starting Spark application\n"
     ]
    },
    {
     "data": {
      "text/html": [
       "<table>\n",
       "<tr><th>ID</th><th>YARN Application ID</th><th>Kind</th><th>State</th><th>Spark UI</th><th>Driver log</th><th>Current session?</th></tr><tr><td>73</td><td>None</td><td>pyspark</td><td>idle</td><td></td><td></td><td>✔</td></tr></table>"
      ],
      "text/plain": [
       "<IPython.core.display.HTML object>"
      ]
     },
     "metadata": {},
     "output_type": "display_data"
    },
    {
     "data": {
      "application/vnd.jupyter.widget-view+json": {
       "model_id": "",
       "version_major": 2,
       "version_minor": 0
      },
      "text/plain": [
       "FloatProgress(value=0.0, bar_style='info', description='Progress:', layout=Layout(height='25px', width='50%'),…"
      ]
     },
     "metadata": {},
     "output_type": "display_data"
    },
    {
     "name": "stdout",
     "output_type": "stream",
     "text": [
      "SparkSession available as 'spark'.\n"
     ]
    },
    {
     "data": {
      "application/vnd.jupyter.widget-view+json": {
       "model_id": "",
       "version_major": 2,
       "version_minor": 0
      },
      "text/plain": [
       "FloatProgress(value=0.0, bar_style='info', description='Progress:', layout=Layout(height='25px', width='50%'),…"
      ]
     },
     "metadata": {},
     "output_type": "display_data"
    }
   ],
   "source": [
    "from pyspark import SparkContext\n",
    "from pyspark.streaming import StreamingContext\n",
    "from pyspark.streaming.kafka import KafkaUtils\n",
    "import json\n",
    "from pyspark.sql import SQLContext\n",
    "from py4j.protocol import Py4JJavaError"
   ]
  },
  {
   "cell_type": "markdown",
   "metadata": {},
   "source": [
    "Let's create a Spark context. Spark context sets up internal services and establishes a connection to a Spark execution environment. Once a SparkContext is created you can use it to create RDDs, accumulators and broadcast variables, access Spark services and run jobs (until SparkContext is stopped)."
   ]
  },
  {
   "cell_type": "code",
   "execution_count": 2,
   "metadata": {},
   "outputs": [
    {
     "data": {
      "application/vnd.jupyter.widget-view+json": {
       "model_id": "",
       "version_major": 2,
       "version_minor": 0
      },
      "text/plain": [
       "FloatProgress(value=0.0, bar_style='info', description='Progress:', layout=Layout(height='25px', width='50%'),…"
      ]
     },
     "metadata": {},
     "output_type": "display_data"
    }
   ],
   "source": [
    "sc = SparkContext.getOrCreate()\n",
    "sqlsc = SQLContext(sc)"
   ]
  },
  {
   "cell_type": "markdown",
   "metadata": {},
   "source": [
    "Let's check if you have Kafka assembly available:"
   ]
  },
  {
   "cell_type": "code",
   "execution_count": 3,
   "metadata": {},
   "outputs": [
    {
     "data": {
      "application/vnd.jupyter.widget-view+json": {
       "model_id": "",
       "version_major": 2,
       "version_minor": 0
      },
      "text/plain": [
       "FloatProgress(value=0.0, bar_style='info', description='Progress:', layout=Layout(height='25px', width='50%'),…"
      ]
     },
     "metadata": {},
     "output_type": "display_data"
    },
    {
     "name": "stdout",
     "output_type": "stream",
     "text": [
      "Kafka assembly found"
     ]
    }
   ],
   "source": [
    "import os\n",
    "\n",
    "path = \"/mnt/bludata0/home/bluadmin/spark/defaultlibs\"\n",
    "kafka_assembly = \"spark-streaming-kafka-0-8-assembly_2.11-2.3.0.jar\"\n",
    "url = \"http://repo1.maven.org/maven2/org/apache/spark/spark-streaming-kafka-0-8-assembly_2.11/2.3.0/\" + kafka_assembly\n",
    "\n",
    "if (os.path.exists(path + \"/\" + kafka_assembly)):\n",
    "    print(\"Kafka assembly found\")\n",
    "else:\n",
    "    os.environ['PYSPARK_SUBMIT_ARGS'] = '--packages org.apache.spark:spark-streaming-kafka-0-8_2.11:2.3.0 pyspark-shell'\n",
    "    print (\"Please download the Kafka assembly from the following link: \"+url+\" and restart the notebook\")\n"
   ]
  },
  {
   "cell_type": "markdown",
   "metadata": {},
   "source": [
    "__Kafka configuration to connect to our IoT demo data producer__"
   ]
  },
  {
   "cell_type": "markdown",
   "metadata": {},
   "source": [
    "Now we define a utility function to set up a Kafka Streaming context, and run it for an optionally defined period of time with a given processing function. \n",
    "\n",
    "**Important note** : When we run this interactively in a notebook cell, it's important to set the timeout to a specific value to stop the streaming context. Otherwise it will keep running and produce cell output, even after the cell has finished executing. This timeout is defined in ssc.awaitTerminationOrTimeout().\n",
    "\n",
    "Note also that a streaming context cannot be re-used after it has executed, so we can't keep it across cells and therefore we have to use the utility function to re-create it before every execution.\n",
    "\n",
    "We use a *finally* block to make sure the context is stopped even in case of exception; otherwise the whole streaming infrastructure becomes unusable within the notebook kernel's lifetime."
   ]
  },
  {
   "cell_type": "code",
   "execution_count": 33,
   "metadata": {},
   "outputs": [
    {
     "data": {
      "application/vnd.jupyter.widget-view+json": {
       "model_id": "",
       "version_major": 2,
       "version_minor": 0
      },
      "text/plain": [
       "FloatProgress(value=0.0, bar_style='info', description='Progress:', layout=Layout(height='25px', width='50%'),…"
      ]
     },
     "metadata": {},
     "output_type": "display_data"
    }
   ],
   "source": [
    "topics=[\"iot4dashdb\"]\n",
    "\n",
    "def runStreamingContext(rdd):\n",
    "    sc = SparkContext.getOrCreate()\n",
    "    sqlsc = SQLContext(sc)\n",
    "    ssc = StreamingContext(sc,3)\n",
    "    \n",
    "    messages = KafkaUtils.createDirectStream(ssc, \\\n",
    "                                         topics, \\\n",
    "                                         kafkaParams = {\"metadata.broker.list\": \"localhost:9092\"})\n",
    "    \n",
    "    messages.foreachRDD(rdd)\n",
    "    \n",
    "    try:\n",
    "        ssc.start()\n",
    "        ssc.awaitTerminationOrTimeout(50)\n",
    "    finally:\n",
    "        ssc.stop(stopSparkContext=False, stopGraceFully=True)\n",
    "    \n",
    "\n"
   ]
  },
  {
   "cell_type": "markdown",
   "metadata": {},
   "source": [
    "## Data exploration"
   ]
  },
  {
   "cell_type": "markdown",
   "metadata": {},
   "source": [
    "First, we simply iterate over the batch RDDs and print out their content, just to explore the data in our Kafka queue.\n",
    "\n",
    "__Important note__: Before you execute the cell below, you will need to start the producer container that writes into the kafka queue. When the IoT producer container is not started or has already terminated, the streaming computation in the following cell will hang and never return."
   ]
  },
  {
   "cell_type": "code",
   "execution_count": 34,
   "metadata": {},
   "outputs": [
    {
     "data": {
      "application/vnd.jupyter.widget-view+json": {
       "model_id": "",
       "version_major": 2,
       "version_minor": 0
      },
      "text/plain": [
       "FloatProgress(value=0.0, bar_style='info', description='Progress:', layout=Layout(height='25px', width='50%'),…"
      ]
     },
     "metadata": {},
     "output_type": "display_data"
    },
    {
     "name": "stdout",
     "output_type": "stream",
     "text": [
      "{\"payload\": {\"temperature\": 30,\"tempOutside\": 18,\"powerProd\": 1831,\"noiseLevel1\": 82,\"time\":\"2019-09-23 11:32:54\"},\"deviceId\": \"2707\",\"deviceType\": \"windGen\",\"eventType\": \"status\"}\n",
      "{\"payload\": {\"temperature\": 33,\"tempOutside\": 18,\"powerProd\": 1836,\"noiseLevel1\": 82,\"time\":\"2019-09-23 11:32:56\"},\"deviceId\": \"2709\",\"deviceType\": \"windGen\",\"eventType\": \"status\"}\n",
      "{\"payload\": {\"temperature\": 36,\"tempOutside\": 18,\"powerProd\": 1830,\"noiseLevel1\": 82,\"time\":\"2019-09-23 11:32:58\"},\"deviceId\": \"2705\",\"deviceType\": \"windGen\",\"eventType\": \"status\"}\n",
      "{\"payload\": {\"temperature\": 31,\"tempOutside\": 18,\"powerProd\": 1827,\"noiseLevel1\": 82,\"time\":\"2019-09-23 11:33:00\"},\"deviceId\": \"2708\",\"deviceType\": \"windGen\",\"eventType\": \"status\"}\n",
      "{\"payload\": {\"temperature\": 36,\"tempOutside\": 18,\"powerProd\": 1829,\"noiseLevel1\": 82,\"time\":\"2019-09-23 11:33:01\"},\"deviceId\": \"2702\",\"deviceType\": \"windGen\",\"eventType\": \"status\"}\n",
      "{\"payload\": {\"temperature\": 37,\"tempOutside\": 18,\"powerProd\": 1830,\"noiseLevel1\": 82,\"time\":\"2019-09-23 11:33:03\"},\"deviceId\": \"2702\",\"deviceType\": \"windGen\",\"eventType\": \"status\"}\n",
      "{\"payload\": {\"temperature\": 36,\"tempOutside\": 18,\"powerProd\": 1829,\"noiseLevel1\": 82,\"time\":\"2019-09-23 11:33:05\"},\"deviceId\": \"2708\",\"deviceType\": \"windGen\",\"eventType\": \"status\"}\n",
      "{\"payload\": {\"temperature\": 34,\"tempOutside\": 18,\"powerProd\": 1829,\"noiseLevel1\": 82,\"time\":\"2019-09-23 11:33:07\"},\"deviceId\": \"2700\",\"deviceType\": \"windGen\",\"eventType\": \"status\"}\n",
      "{\"payload\": {\"temperature\": 30,\"tempOutside\": 18,\"powerProd\": 1834,\"noiseLevel1\": 82,\"time\":\"2019-09-23 11:33:09\"},\"deviceId\": \"2709\",\"deviceType\": \"windGen\",\"eventType\": \"status\"}\n",
      "{\"payload\": {\"temperature\": 32,\"tempOutside\": 18,\"powerProd\": 1828,\"noiseLevel1\": 82,\"time\":\"2019-09-23 11:33:10\"},\"deviceId\": \"2702\",\"deviceType\": \"windGen\",\"eventType\": \"status\"}\n",
      "{\"payload\": {\"temperature\": 36,\"tempOutside\": 18,\"powerProd\": 1829,\"noiseLevel1\": 82,\"time\":\"2019-09-23 11:33:12\"},\"deviceId\": \"2708\",\"deviceType\": \"windGen\",\"eventType\": \"status\"}\n",
      "{\"payload\": {\"temperature\": 31,\"tempOutside\": 18,\"powerProd\": 1828,\"noiseLevel1\": 82,\"time\":\"2019-09-23 11:33:14\"},\"deviceId\": \"2704\",\"deviceType\": \"windGen\",\"eventType\": \"status\"}\n",
      "{\"payload\": {\"temperature\": 36,\"tempOutside\": 18,\"powerProd\": 1827,\"noiseLevel1\": 82,\"time\":\"2019-09-23 11:33:16\"},\"deviceId\": \"2708\",\"deviceType\": \"windGen\",\"eventType\": \"status\"}\n",
      "{\"payload\": {\"temperature\": 37,\"tempOutside\": 18,\"powerProd\": 1836,\"noiseLevel1\": 82,\"time\":\"2019-09-23 11:33:18\"},\"deviceId\": \"2702\",\"deviceType\": \"windGen\",\"eventType\": \"status\"}\n",
      "{\"payload\": {\"temperature\": 37,\"tempOutside\": 18,\"powerProd\": 1827,\"noiseLevel1\": 82,\"time\":\"2019-09-23 11:33:19\"},\"deviceId\": \"2708\",\"deviceType\": \"windGen\",\"eventType\": \"status\"}\n",
      "{\"payload\": {\"temperature\": 37,\"tempOutside\": 18,\"powerProd\": 1830,\"noiseLevel1\": 82,\"time\":\"2019-09-23 11:33:21\"},\"deviceId\": \"2705\",\"deviceType\": \"windGen\",\"eventType\": \"status\"}\n",
      "{\"payload\": {\"temperature\": 37,\"tempOutside\": 18,\"powerProd\": 1836,\"noiseLevel1\": 82,\"time\":\"2019-09-23 11:33:23\"},\"deviceId\": \"2707\",\"deviceType\": \"windGen\",\"eventType\": \"status\"}\n",
      "{\"payload\": {\"temperature\": 38,\"tempOutside\": 18,\"powerProd\": 1836,\"noiseLevel1\": 82,\"time\":\"2019-09-23 11:33:25\"},\"deviceId\": \"2708\",\"deviceType\": \"windGen\",\"eventType\": \"status\"}\n",
      "{\"payload\": {\"temperature\": 31,\"tempOutside\": 18,\"powerProd\": 1830,\"noiseLevel1\": 82,\"time\":\"2019-09-23 11:33:26\"},\"deviceId\": \"2700\",\"deviceType\": \"windGen\",\"eventType\": \"status\"}\n",
      "{\"payload\": {\"temperature\": 33,\"tempOutside\": 18,\"powerProd\": 1833,\"noiseLevel1\": 82,\"time\":\"2019-09-23 11:33:28\"},\"deviceId\": \"2701\",\"deviceType\": \"windGen\",\"eventType\": \"status\"}\n",
      "{\"payload\": {\"temperature\": 33,\"tempOutside\": 18,\"powerProd\": 1836,\"noiseLevel1\": 82,\"time\":\"2019-09-23 11:33:30\"},\"deviceId\": \"2707\",\"deviceType\": \"windGen\",\"eventType\": \"status\"}\n",
      "{\"payload\": {\"temperature\": 33,\"tempOutside\": 18,\"powerProd\": 1835,\"noiseLevel1\": 82,\"time\":\"2019-09-23 11:33:32\"},\"deviceId\": \"2706\",\"deviceType\": \"windGen\",\"eventType\": \"status\"}\n",
      "{\"payload\": {\"temperature\": 32,\"tempOutside\": 18,\"powerProd\": 1834,\"noiseLevel1\": 82,\"time\":\"2019-09-23 11:33:34\"},\"deviceId\": \"2703\",\"deviceType\": \"windGen\",\"eventType\": \"status\"}\n",
      "{\"payload\": {\"temperature\": 33,\"tempOutside\": 18,\"powerProd\": 1828,\"noiseLevel1\": 82,\"time\":\"2019-09-23 11:33:36\"},\"deviceId\": \"2705\",\"deviceType\": \"windGen\",\"eventType\": \"status\"}\n",
      "{\"payload\": {\"temperature\": 32,\"tempOutside\": 18,\"powerProd\": 1832,\"noiseLevel1\": 82,\"time\":\"2019-09-23 11:33:37\"},\"deviceId\": \"2707\",\"deviceType\": \"windGen\",\"eventType\": \"status\"}\n",
      "{\"payload\": {\"temperature\": 38,\"tempOutside\": 18,\"powerProd\": 1835,\"noiseLevel1\": 82,\"time\":\"2019-09-23 11:33:39\"},\"deviceId\": \"2705\",\"deviceType\": \"windGen\",\"eventType\": \"status\"}\n",
      "{\"payload\": {\"temperature\": 37,\"tempOutside\": 18,\"powerProd\": 1827,\"noiseLevel1\": 82,\"time\":\"2019-09-23 11:33:41\"},\"deviceId\": \"2706\",\"deviceType\": \"windGen\",\"eventType\": \"status\"}\n",
      "{\"payload\": {\"temperature\": 31,\"tempOutside\": 18,\"powerProd\": 1832,\"noiseLevel1\": 82,\"time\":\"2019-09-23 11:33:43\"},\"deviceId\": \"2706\",\"deviceType\": \"windGen\",\"eventType\": \"status\"}\n",
      "{\"payload\": {\"temperature\": 34,\"tempOutside\": 18,\"powerProd\": 1830,\"noiseLevel1\": 82,\"time\":\"2019-09-23 11:33:45\"},\"deviceId\": \"2702\",\"deviceType\": \"windGen\",\"eventType\": \"status\"}\n",
      "{\"payload\": {\"temperature\": 33,\"tempOutside\": 18,\"powerProd\": 1833,\"noiseLevel1\": 82,\"time\":\"2019-09-23 11:33:46\"},\"deviceId\": \"2706\",\"deviceType\": \"windGen\",\"eventType\": \"status\"}\n",
      "{\"payload\": {\"temperature\": 34,\"tempOutside\": 18,\"powerProd\": 1834,\"noiseLevel1\": 82,\"time\":\"2019-09-23 11:33:48\"},\"deviceId\": \"2706\",\"deviceType\": \"windGen\",\"eventType\": \"status\"}"
     ]
    }
   ],
   "source": [
    "def processStream0(rdd):\n",
    "    for x in rdd.collect():\n",
    "        print(x[1])\n",
    "\n",
    "runStreamingContext(processStream0)"
   ]
  },
  {
   "cell_type": "markdown",
   "metadata": {},
   "source": [
    "So this gives us an idea about the JSON format we can expect from our data source. Lets parse each batch into a DataSet with Spark SQL. We don't want Spark to perform automatic JSON schema detection over and over again for each batch, so we give it a pre-defined schema as follows."
   ]
  },
  {
   "cell_type": "code",
   "execution_count": 35,
   "metadata": {},
   "outputs": [
    {
     "data": {
      "application/vnd.jupyter.widget-view+json": {
       "model_id": "",
       "version_major": 2,
       "version_minor": 0
      },
      "text/plain": [
       "FloatProgress(value=0.0, bar_style='info', description='Progress:', layout=Layout(height='25px', width='50%'),…"
      ]
     },
     "metadata": {},
     "output_type": "display_data"
    }
   ],
   "source": [
    "from pyspark.sql.types import StructType, StructField, StringType, LongType, TimestampType\n",
    "schema = StructType([StructField(\"payload\", \n",
    "                                StructType([StructField(\"temperature\", LongType()),\n",
    "                                            StructField(\"tempOutside\", LongType()),\n",
    "                                            StructField(\"powerProd\", LongType()),\n",
    "                                            StructField(\"noiseLevel1\", LongType()),\n",
    "                                            StructField(\"time\", TimestampType())])),\n",
    "                    StructField(\"deviceId\", StringType()),\n",
    "                    StructField(\"deviceType\", StringType()),\n",
    "                    StructField(\"eventType\", StringType())])\n"
   ]
  },
  {
   "cell_type": "markdown",
   "metadata": {},
   "source": [
    "As we can see, the produced data has a nested structure. \n",
    "Spark can deal with this type of schema, but it's not suitable being stored in a plain SQL database table, so we flatten it to straight rows by creating a dataframe."
   ]
  },
  {
   "cell_type": "code",
   "execution_count": 36,
   "metadata": {},
   "outputs": [
    {
     "data": {
      "application/vnd.jupyter.widget-view+json": {
       "model_id": "",
       "version_major": 2,
       "version_minor": 0
      },
      "text/plain": [
       "FloatProgress(value=0.0, bar_style='info', description='Progress:', layout=Layout(height='25px', width='50%'),…"
      ]
     },
     "metadata": {},
     "output_type": "display_data"
    },
    {
     "name": "stdout",
     "output_type": "stream",
     "text": [
      "+-----------+-----------+---------+-----------+----+--------+----------+---------+\n",
      "|temperature|tempOutside|powerProd|noiseLevel1|time|deviceId|deviceType|eventType|\n",
      "+-----------+-----------+---------+-----------+----+--------+----------+---------+\n",
      "+-----------+-----------+---------+-----------+----+--------+----------+---------+\n",
      "\n",
      "+-----------+-----------+---------+-----------+-------------------+--------+----------+---------+\n",
      "|temperature|tempOutside|powerProd|noiseLevel1|               time|deviceId|deviceType|eventType|\n",
      "+-----------+-----------+---------+-----------+-------------------+--------+----------+---------+\n",
      "|         38|         18|     1836|         82|2019-09-23 11:34:37|    2707|   windGen|   status|\n",
      "|         33|         18|     1836|         82|2019-09-23 11:34:39|    2707|   windGen|   status|\n",
      "+-----------+-----------+---------+-----------+-------------------+--------+----------+---------+\n",
      "\n",
      "+-----------+-----------+---------+-----------+-------------------+--------+----------+---------+\n",
      "|temperature|tempOutside|powerProd|noiseLevel1|               time|deviceId|deviceType|eventType|\n",
      "+-----------+-----------+---------+-----------+-------------------+--------+----------+---------+\n",
      "|         30|         18|     1832|         82|2019-09-23 11:34:41|    2707|   windGen|   status|\n",
      "|         34|         18|     1828|         82|2019-09-23 11:34:43|    2700|   windGen|   status|\n",
      "+-----------+-----------+---------+-----------+-------------------+--------+----------+---------+\n",
      "\n",
      "+-----------+-----------+---------+-----------+-------------------+--------+----------+---------+\n",
      "|temperature|tempOutside|powerProd|noiseLevel1|               time|deviceId|deviceType|eventType|\n",
      "+-----------+-----------+---------+-----------+-------------------+--------+----------+---------+\n",
      "|         38|         18|     1831|         82|2019-09-23 11:34:45|    2709|   windGen|   status|\n",
      "+-----------+-----------+---------+-----------+-------------------+--------+----------+---------+\n",
      "\n",
      "+-----------+-----------+---------+-----------+-------------------+--------+----------+---------+\n",
      "|temperature|tempOutside|powerProd|noiseLevel1|               time|deviceId|deviceType|eventType|\n",
      "+-----------+-----------+---------+-----------+-------------------+--------+----------+---------+\n",
      "|         34|         18|     1827|         82|2019-09-23 11:34:46|    2703|   windGen|   status|\n",
      "|         32|         18|     1830|         82|2019-09-23 11:34:48|    2709|   windGen|   status|\n",
      "+-----------+-----------+---------+-----------+-------------------+--------+----------+---------+\n",
      "\n",
      "+-----------+-----------+---------+-----------+-------------------+--------+----------+---------+\n",
      "|temperature|tempOutside|powerProd|noiseLevel1|               time|deviceId|deviceType|eventType|\n",
      "+-----------+-----------+---------+-----------+-------------------+--------+----------+---------+\n",
      "|         35|         18|     1829|         82|2019-09-23 11:34:50|    2707|   windGen|   status|\n",
      "|         31|         18|     1832|         82|2019-09-23 11:34:52|    2707|   windGen|   status|\n",
      "+-----------+-----------+---------+-----------+-------------------+--------+----------+---------+\n",
      "\n",
      "+-----------+-----------+---------+-----------+-------------------+--------+----------+---------+\n",
      "|temperature|tempOutside|powerProd|noiseLevel1|               time|deviceId|deviceType|eventType|\n",
      "+-----------+-----------+---------+-----------+-------------------+--------+----------+---------+\n",
      "|         35|         18|     1836|         82|2019-09-23 11:34:53|    2708|   windGen|   status|\n",
      "+-----------+-----------+---------+-----------+-------------------+--------+----------+---------+\n",
      "\n",
      "+-----------+-----------+---------+-----------+-------------------+--------+----------+---------+\n",
      "|temperature|tempOutside|powerProd|noiseLevel1|               time|deviceId|deviceType|eventType|\n",
      "+-----------+-----------+---------+-----------+-------------------+--------+----------+---------+\n",
      "|         30|         18|     1827|         82|2019-09-23 11:34:55|    2703|   windGen|   status|\n",
      "|         30|         18|     1828|         82|2019-09-23 11:34:57|    2705|   windGen|   status|\n",
      "+-----------+-----------+---------+-----------+-------------------+--------+----------+---------+\n",
      "\n",
      "+-----------+-----------+---------+-----------+-------------------+--------+----------+---------+\n",
      "|temperature|tempOutside|powerProd|noiseLevel1|               time|deviceId|deviceType|eventType|\n",
      "+-----------+-----------+---------+-----------+-------------------+--------+----------+---------+\n",
      "|         38|         18|     1827|         82|2019-09-23 11:34:59|    2703|   windGen|   status|\n",
      "|         38|         18|     1832|         82|2019-09-23 11:35:01|    2709|   windGen|   status|\n",
      "+-----------+-----------+---------+-----------+-------------------+--------+----------+---------+\n",
      "\n",
      "+-----------+-----------+---------+-----------+-------------------+--------+----------+---------+\n",
      "|temperature|tempOutside|powerProd|noiseLevel1|               time|deviceId|deviceType|eventType|\n",
      "+-----------+-----------+---------+-----------+-------------------+--------+----------+---------+\n",
      "|         36|         18|     1830|         82|2019-09-23 11:35:02|    2704|   windGen|   status|\n",
      "|         35|         18|     1827|         82|2019-09-23 11:35:04|    2701|   windGen|   status|\n",
      "+-----------+-----------+---------+-----------+-------------------+--------+----------+---------+\n",
      "\n",
      "+-----------+-----------+---------+-----------+-------------------+--------+----------+---------+\n",
      "|temperature|tempOutside|powerProd|noiseLevel1|               time|deviceId|deviceType|eventType|\n",
      "+-----------+-----------+---------+-----------+-------------------+--------+----------+---------+\n",
      "|         35|         18|     1828|         82|2019-09-23 11:35:06|    2707|   windGen|   status|\n",
      "+-----------+-----------+---------+-----------+-------------------+--------+----------+---------+\n",
      "\n",
      "+-----------+-----------+---------+-----------+-------------------+--------+----------+---------+\n",
      "|temperature|tempOutside|powerProd|noiseLevel1|               time|deviceId|deviceType|eventType|\n",
      "+-----------+-----------+---------+-----------+-------------------+--------+----------+---------+\n",
      "|         34|         18|     1834|         82|2019-09-23 11:35:08|    2703|   windGen|   status|\n",
      "|         37|         18|     1831|         82|2019-09-23 11:35:09|    2703|   windGen|   status|\n",
      "+-----------+-----------+---------+-----------+-------------------+--------+----------+---------+\n",
      "\n",
      "+-----------+-----------+---------+-----------+-------------------+--------+----------+---------+\n",
      "|temperature|tempOutside|powerProd|noiseLevel1|               time|deviceId|deviceType|eventType|\n",
      "+-----------+-----------+---------+-----------+-------------------+--------+----------+---------+\n",
      "|         35|         18|     1833|         82|2019-09-23 11:35:11|    2708|   windGen|   status|\n",
      "|         37|         18|     1829|         82|2019-09-23 11:35:13|    2708|   windGen|   status|\n",
      "+-----------+-----------+---------+-----------+-------------------+--------+----------+---------+\n",
      "\n",
      "+-----------+-----------+---------+-----------+-------------------+--------+----------+---------+\n",
      "|temperature|tempOutside|powerProd|noiseLevel1|               time|deviceId|deviceType|eventType|\n",
      "+-----------+-----------+---------+-----------+-------------------+--------+----------+---------+\n",
      "|         34|         18|     1835|         82|2019-09-23 11:35:15|    2702|   windGen|   status|\n",
      "+-----------+-----------+---------+-----------+-------------------+--------+----------+---------+\n",
      "\n",
      "+-----------+-----------+---------+-----------+-------------------+--------+----------+---------+\n",
      "|temperature|tempOutside|powerProd|noiseLevel1|               time|deviceId|deviceType|eventType|\n",
      "+-----------+-----------+---------+-----------+-------------------+--------+----------+---------+\n",
      "|         34|         18|     1835|         82|2019-09-23 11:35:17|    2709|   windGen|   status|\n",
      "|         32|         18|     1835|         82|2019-09-23 11:35:18|    2700|   windGen|   status|\n",
      "+-----------+-----------+---------+-----------+-------------------+--------+----------+---------+\n",
      "\n",
      "+-----------+-----------+---------+-----------+-------------------+--------+----------+---------+\n",
      "|temperature|tempOutside|powerProd|noiseLevel1|               time|deviceId|deviceType|eventType|\n",
      "+-----------+-----------+---------+-----------+-------------------+--------+----------+---------+\n",
      "|         36|         18|     1829|         82|2019-09-23 11:35:20|    2700|   windGen|   status|\n",
      "|         37|         18|     1833|         82|2019-09-23 11:35:22|    2705|   windGen|   status|\n",
      "+-----------+-----------+---------+-----------+-------------------+--------+----------+---------+\n",
      "\n",
      "+-----------+-----------+---------+-----------+-------------------+--------+----------+---------+\n",
      "|temperature|tempOutside|powerProd|noiseLevel1|               time|deviceId|deviceType|eventType|\n",
      "+-----------+-----------+---------+-----------+-------------------+--------+----------+---------+\n",
      "|         35|         18|     1836|         82|2019-09-23 11:35:24|    2705|   windGen|   status|\n",
      "+-----------+-----------+---------+-----------+-------------------+--------+----------+---------+\n",
      "\n",
      "+-----------+-----------+---------+-----------+-------------------+--------+----------+---------+\n",
      "|temperature|tempOutside|powerProd|noiseLevel1|               time|deviceId|deviceType|eventType|\n",
      "+-----------+-----------+---------+-----------+-------------------+--------+----------+---------+\n",
      "|         30|         18|     1831|         82|2019-09-23 11:35:26|    2707|   windGen|   status|\n",
      "|         38|         18|     1836|         82|2019-09-23 11:35:27|    2702|   windGen|   status|\n",
      "+-----------+-----------+---------+-----------+-------------------+--------+----------+---------+\n",
      "\n",
      "+-----------+-----------+---------+-----------+-------------------+--------+----------+---------+\n",
      "|temperature|tempOutside|powerProd|noiseLevel1|               time|deviceId|deviceType|eventType|\n",
      "+-----------+-----------+---------+-----------+-------------------+--------+----------+---------+\n",
      "|         33|         18|     1831|         82|2019-09-23 11:35:29|    2708|   windGen|   status|\n",
      "|         30|         18|     1829|         82|2019-09-23 11:35:31|    2705|   windGen|   status|\n",
      "+-----------+-----------+---------+-----------+-------------------+--------+----------+---------+"
     ]
    }
   ],
   "source": [
    "from pyspark.sql.functions import expr\n",
    "\n",
    "def processStream1(rdd):\n",
    "    rdd2 = rdd.map(lambda x: x[1])\n",
    "    df = sqlsc.read.json(rdd2, schema)\n",
    "    df.select([\"payload.temperature\", \"payload.tempOutside\", \"payload.powerProd\", \"payload.noiseLevel1\", \"payload.time\", \"deviceId\", \"deviceType\", \"eventType\"]).show()\n",
    "\n",
    "runStreamingContext(processStream1)   "
   ]
  },
  {
   "cell_type": "markdown",
   "metadata": {},
   "source": [
    "## Write IoT records to a persistent table\n",
    "\n",
    "In the desired deployed application we want to write the records read from the queue into a Db2 table instead of only printing out the datasets. In this demonstration here we will always first *empty* the table in the first batch after the application is started. We use Spark's *'Overwrite'* mode for writing the first batch to clear a pre-existing table and then use *'Append'* mode in subsequent batches.\n",
    "\n",
    "You can check in your Db2 Warehouse console that a table called USERDATA.IOT_EVENTS has been created. For example, run the following SQL query to see how many records have been written: \n",
    "> SELECT COUNT(*) FROM USERDATA.IOT_EVENTS.\n",
    "\n",
    "You will notice that there are only a few rows compared to the number of generated records. For example, with a timeout set to 10s, you will collect approximately 8 rows. With a timeout of 50s, there will be approximetely 30 etc."
   ]
  },
  {
   "cell_type": "code",
   "execution_count": 37,
   "metadata": {},
   "outputs": [
    {
     "data": {
      "application/vnd.jupyter.widget-view+json": {
       "model_id": "",
       "version_major": 2,
       "version_minor": 0
      },
      "text/plain": [
       "FloatProgress(value=0.0, bar_style='info', description='Progress:', layout=Layout(height='25px', width='50%'),…"
      ]
     },
     "metadata": {},
     "output_type": "display_data"
    },
    {
     "name": "stdout",
     "output_type": "stream",
     "text": [
      "Batch written to database\n",
      "Batch written to database\n",
      "Batch written to database\n",
      "Batch written to database\n",
      "Batch written to database\n",
      "Batch written to database\n",
      "Batch written to database\n",
      "Batch written to database\n",
      "Batch written to database\n",
      "Batch written to database\n",
      "Batch written to database\n",
      "Batch written to database\n",
      "Batch written to database\n",
      "Batch written to database\n",
      "Batch written to database\n",
      "Batch written to database\n",
      "Batch written to database\n",
      "Batch written to database"
     ]
    }
   ],
   "source": [
    "tableName= \"USERDATA.IOT_EVENTS\"\n",
    "savemode = 'overwrite'\n",
    "\n",
    "def processStream2(rdd):\n",
    "    global savemode\n",
    "    rdd2 = rdd.map(lambda x: x[1])\n",
    "    df = sqlsc.read.json(rdd2, schema)\n",
    "    df2=df.select([\"payload.temperature\", \\\n",
    "               \"payload.tempOutside\", \\\n",
    "               \"payload.powerProd\", \\\n",
    "               \"payload.noiseLevel1\", \\\n",
    "               \"payload.time\", \\\n",
    "               \"deviceId\", \\\n",
    "               \"deviceType\", \\\n",
    "               \"eventType\"])\n",
    "    \n",
    "    \n",
    "    df2.write.format(\"com.ibm.idax.spark.idaxsource\"). \\\n",
    "            option(\"dbtable\", tableName ). \\\n",
    "            option(\"allowAppend\", \"TRUE\"). \\\n",
    "            mode(savemode). \\\n",
    "            save()\n",
    "    print(\"Batch written to database\")\n",
    "    savemode ='append'\n",
    "    \n",
    "runStreamingContext(processStream2)\n",
    "    \n"
   ]
  },
  {
   "cell_type": "code",
   "execution_count": 52,
   "metadata": {},
   "outputs": [
    {
     "name": "stderr",
     "output_type": "stream",
     "text": [
      "An error was encountered:\n",
      "Invalid status code '404' from http://idax29.svl.ibm.com:8998/sessions/73 with error payload: {\"msg\":\"Session '73' not found.\"}\n"
     ]
    }
   ],
   "source": [
    "# Questiom : what determines the number of iteration ? What does 'Batch written' corresponds to (how many records?)"
   ]
  },
  {
   "cell_type": "markdown",
   "metadata": {},
   "source": [
    "## Launching deployed IoT landing app in background \n",
    "\n",
    "# -> *to cut out ?*\n",
    "Run the following cell to launch the just deployed IoT landing app inside dashDB. The cell keeps a database connection open that we will use to stop the landing app again when you execute the subsequent cell."
   ]
  },
  {
   "cell_type": "code",
   "execution_count": 9,
   "metadata": {},
   "outputs": [
    {
     "data": {
      "application/vnd.jupyter.widget-view+json": {
       "model_id": "",
       "version_major": 2,
       "version_minor": 0
      },
      "text/plain": [
       "FloatProgress(value=0.0, bar_style='info', description='Progress:', layout=Layout(height='25px', width='50%'),…"
      ]
     },
     "metadata": {},
     "output_type": "display_data"
    },
    {
     "name": "stderr",
     "output_type": "stream",
     "text": [
      "('42724', '[42724] [IBM][CLI Driver][DB2/LINUXX8664] SQL0444N  Routine \"*RKSUBMIT\" (specific name \"SQL190923111753010\") is implemented with code in library or path \".../sqllib/function/SPARKSUBMIT\", function \"*SUBMIT\" which cannot be accessed.  Reason code: \"4\".  SQLSTATE=42724\\n')\n",
      "Traceback (most recent call last):\n",
      "  File \"/mnt/blumeta0/home/bluadmin/.local/lib/python3.7/site-packages/ibmdbpy/base.py\", line 762, in ida_query\n",
      "    return sql.ida_query(self, query, silent, first_row_only, autocommit)\n",
      "  File \"/mnt/blumeta0/home/bluadmin/.local/lib/python3.7/site-packages/ibmdbpy/sql.py\", line 81, in ida_query\n",
      "    return _ida_query_ODBC(idadb, query, silent, first_row_only, autocommit)\n",
      "  File \"/mnt/blumeta0/home/bluadmin/.local/lib/python3.7/site-packages/ibmdbpy/sql.py\", line 94, in _ida_query_ODBC\n",
      "    cursor.execute(query)\n",
      "  File \"/mnt/blumeta0/home/bluadmin/.local/lib/python3.7/site-packages/pypyodbc.py\", line 1626, in execute\n",
      "    self.execdirect(query_string)\n",
      "  File \"/mnt/blumeta0/home/bluadmin/.local/lib/python3.7/site-packages/pypyodbc.py\", line 1652, in execdirect\n",
      "    check_success(self, ret)\n",
      "  File \"/mnt/blumeta0/home/bluadmin/.local/lib/python3.7/site-packages/pypyodbc.py\", line 1007, in check_success\n",
      "    ctrl_err(SQL_HANDLE_STMT, ODBC_obj.stmt_h, ret, ODBC_obj.ansi)\n",
      "  File \"/mnt/blumeta0/home/bluadmin/.local/lib/python3.7/site-packages/pypyodbc.py\", line 975, in ctrl_err\n",
      "    raise ProgrammingError(state,err_text)\n",
      "pypyodbc.ProgrammingError: ('42724', '[42724] [IBM][CLI Driver][DB2/LINUXX8664] SQL0444N  Routine \"*RKSUBMIT\" (specific name \"SQL190923111753010\") is implemented with code in library or path \".../sqllib/function/SPARKSUBMIT\", function \"*SUBMIT\" which cannot be accessed.  Reason code: \"4\".  SQLSTATE=42724\\n')\n",
      "\n"
     ]
    }
   ],
   "source": [
    "import ibmdbpy\n",
    "from ibmdbpy import IdaDataBase,IdaDataFrame, IdaGeoDataFrame\n",
    "\n",
    "idadb =IdaDataBase('bludb')\n",
    "\n",
    "r = idadb.ida_query( \"CALL SPARKSUBMIT('appResource=IotDemoPy.py', 'mode=async')\")\n",
    "submissionid=r.item().strip('\"')\n",
    "\n",
    "idadb.commit()\n",
    "print(\"Successfully launched IoT landing app with submission id \" + submissionid)"
   ]
  },
  {
   "cell_type": "markdown",
   "metadata": {},
   "source": [
    "You can use the cells in the subsequent section to observe the progress of landing IoT messages in the target table. When you are done, you can run the following cell to stop the IoT landing app that you started in the background in the previous cell."
   ]
  },
  {
   "cell_type": "code",
   "execution_count": 10,
   "metadata": {},
   "outputs": [
    {
     "data": {
      "application/vnd.jupyter.widget-view+json": {
       "model_id": "",
       "version_major": 2,
       "version_minor": 0
      },
      "text/plain": [
       "FloatProgress(value=0.0, bar_style='info', description='Progress:', layout=Layout(height='25px', width='50%'),…"
      ]
     },
     "metadata": {},
     "output_type": "display_data"
    },
    {
     "name": "stderr",
     "output_type": "stream",
     "text": [
      "name 'submissionid' is not defined\n",
      "Traceback (most recent call last):\n",
      "NameError: name 'submissionid' is not defined\n",
      "\n"
     ]
    }
   ],
   "source": [
    "r2 = idadb.ida_query(\"call idax.cancel_app('\"+ submissionid +\"')\")\n",
    "print(\"Successfully stopped IoT landing app with submission id \" + submissionid)\n"
   ]
  },
  {
   "cell_type": "markdown",
   "metadata": {},
   "source": [
    "## Check landed IoT data\n",
    "You can verify the landed data in Db2 Warehouse. For this we simply establish a dataframe on the result table."
   ]
  },
  {
   "cell_type": "code",
   "execution_count": 38,
   "metadata": {},
   "outputs": [
    {
     "data": {
      "application/vnd.jupyter.widget-view+json": {
       "model_id": "",
       "version_major": 2,
       "version_minor": 0
      },
      "text/plain": [
       "FloatProgress(value=0.0, bar_style='info', description='Progress:', layout=Layout(height='25px', width='50%'),…"
      ]
     },
     "metadata": {},
     "output_type": "display_data"
    }
   ],
   "source": [
    "sparkSession = spark \\\n",
    "        .builder \\\n",
    "        .getOrCreate()\n",
    "\n",
    "df_check = spark.read \\\n",
    "        .format(\"com.ibm.idax.spark.idaxsource\") \\\n",
    "        .options(dbtable=tableName) \\\n",
    "        .load()"
   ]
  },
  {
   "cell_type": "markdown",
   "metadata": {},
   "source": [
    "Now we show the content. You can verify the progress of your deployed landing app by running the next cell repeatetly and check the new records and overall count."
   ]
  },
  {
   "cell_type": "code",
   "execution_count": 39,
   "metadata": {},
   "outputs": [
    {
     "data": {
      "application/vnd.jupyter.widget-view+json": {
       "model_id": "",
       "version_major": 2,
       "version_minor": 0
      },
      "text/plain": [
       "FloatProgress(value=0.0, bar_style='info', description='Progress:', layout=Layout(height='25px', width='50%'),…"
      ]
     },
     "metadata": {},
     "output_type": "display_data"
    },
    {
     "name": "stdout",
     "output_type": "stream",
     "text": [
      "Total IoT Records: 30\n",
      "Showing Newest 30 Records:\n",
      "+--------+-------------------+-----------+-----------+---------+-----------+\n",
      "|deviceId|               time|temperature|tempOutside|powerProd|noiseLevel1|\n",
      "+--------+-------------------+-----------+-----------+---------+-----------+\n",
      "|    2702|2019-09-23 11:36:26|         36|         18|     1832|         82|\n",
      "|    2700|2019-09-23 11:36:25|         30|         18|     1828|         82|\n",
      "|    2700|2019-09-23 11:36:23|         35|         18|     1836|         82|\n",
      "|    2709|2019-09-23 11:36:21|         37|         18|     1827|         82|\n",
      "|    2706|2019-09-23 11:36:19|         36|         18|     1834|         82|\n",
      "|    2708|2019-09-23 11:36:18|         31|         18|     1831|         82|\n",
      "|    2703|2019-09-23 11:36:16|         31|         18|     1830|         82|\n",
      "|    2705|2019-09-23 11:36:14|         37|         18|     1834|         82|\n",
      "|    2706|2019-09-23 11:36:12|         38|         18|     1827|         82|\n",
      "|    2709|2019-09-23 11:36:10|         31|         18|     1829|         82|\n",
      "|    2702|2019-09-23 11:36:09|         32|         18|     1830|         82|\n",
      "|    2706|2019-09-23 11:36:07|         30|         18|     1827|         82|\n",
      "|    2701|2019-09-23 11:36:05|         32|         18|     1831|         82|\n",
      "|    2703|2019-09-23 11:36:03|         38|         18|     1831|         82|\n",
      "|    2702|2019-09-23 11:36:01|         34|         18|     1834|         82|\n",
      "|    2700|2019-09-23 11:36:00|         32|         18|     1831|         82|\n",
      "|    2708|2019-09-23 11:35:58|         37|         18|     1831|         82|\n",
      "|    2709|2019-09-23 11:35:56|         31|         18|     1831|         82|\n",
      "|    2701|2019-09-23 11:35:54|         35|         18|     1834|         82|\n",
      "|    2708|2019-09-23 11:35:52|         36|         18|     1834|         82|\n",
      "+--------+-------------------+-----------+-----------+---------+-----------+\n",
      "only showing top 20 rows"
     ]
    }
   ],
   "source": [
    "print(\"Total IoT Records: \"+ str(df_check.count()))\n",
    "print(\"Showing Newest \"+str(df_check.count()) +\" Records:\")\n",
    "df_check.select(\"deviceId\", \"time\", \"temperature\", \"tempOutside\", \"powerProd\", \"noiseLevel1\").\\\n",
    "                orderBy(\"time\", ascending=False).show()"
   ]
  },
  {
   "cell_type": "markdown",
   "metadata": {},
   "source": [
    "## Visualisation of time series\n",
    "\n",
    "You could want to visualize the data you are collecting. Let's plot some of the features over time."
   ]
  },
  {
   "cell_type": "markdown",
   "metadata": {},
   "source": [
    "__Note : Make a bridge between remote and local__\n",
    "\n",
    "So far we've been using Spark servers and the data is accessed remotely. If we plot visualisations now, they won't appear right on your screen : you will have to fetch them, using their adress, to open them locally. So for convenience, visualisations will be made locally thanks to the __%local__ magic. Therefore, we need to create a temporary view of the data, and query it with the %%sql magic in order to access it locally and plot it directly. Note that the data on the Spark cluster is a Spark dataframe, whereas the data we handle locally is a pandas dataframe.\n",
    "\n",
    "In the following cells, we will:\n",
    "1. Create a SQL temporary view of the tornado (Spark) dataframe\n",
    "2. Run a %%sql cell magic to query the data, and output it to the local space. The table is now seen as a Pandas dataframe.\n",
    "3. We use this Pandas dataframe to make our graphs, which we output locally."
   ]
  },
  {
   "cell_type": "code",
   "execution_count": 42,
   "metadata": {},
   "outputs": [
    {
     "data": {
      "application/vnd.jupyter.widget-view+json": {
       "model_id": "",
       "version_major": 2,
       "version_minor": 0
      },
      "text/plain": [
       "FloatProgress(value=0.0, bar_style='info', description='Progress:', layout=Layout(height='25px', width='50%'),…"
      ]
     },
     "metadata": {},
     "output_type": "display_data"
    }
   ],
   "source": [
    "df_check.createOrReplaceTempView('turbine')"
   ]
  },
  {
   "cell_type": "code",
   "execution_count": 43,
   "metadata": {},
   "outputs": [
    {
     "data": {
      "application/vnd.jupyter.widget-view+json": {
       "model_id": "",
       "version_major": 2,
       "version_minor": 0
      },
      "text/plain": [
       "FloatProgress(value=0.0, bar_style='info', description='Progress:', layout=Layout(height='25px', width='50%'),…"
      ]
     },
     "metadata": {},
     "output_type": "display_data"
    },
    {
     "name": "stderr",
     "output_type": "stream",
     "text": [
      "/Users/eva.feillet/anaconda3/lib/python3.7/site-packages/autovizwidget/widget/utils.py:50: FutureWarning:\n",
      "\n",
      "A future version of pandas will default to `skipna=True`. To silence this warning, pass `skipna=True|False` explicitly.\n",
      "\n"
     ]
    },
    {
     "data": {
      "application/vnd.jupyter.widget-view+json": {
       "model_id": "50fc469464614685807c010c647c637e",
       "version_major": 2,
       "version_minor": 0
      },
      "text/plain": [
       "VBox(children=(HBox(children=(HTML(value='Type:'), Button(description='Table', layout=Layout(width='70px'), st…"
      ]
     },
     "metadata": {},
     "output_type": "display_data"
    },
    {
     "data": {
      "application/vnd.jupyter.widget-view+json": {
       "model_id": "798dcad663434b0d8098604382188ce5",
       "version_major": 2,
       "version_minor": 0
      },
      "text/plain": [
       "Output()"
      ]
     },
     "metadata": {},
     "output_type": "display_data"
    }
   ],
   "source": [
    "%%sql -o turbine --maxrows -1\n",
    "SELECT * FROM turbine"
   ]
  },
  {
   "cell_type": "code",
   "execution_count": 17,
   "metadata": {},
   "outputs": [],
   "source": [
    "%local\n",
    "\n",
    "%matplotlib inline\n",
    "\n",
    "#Useful imports for local visualisations\n",
    "import pandas as pd\n",
    "import matplotlib.pyplot as plt\n",
    "import numpy as np"
   ]
  },
  {
   "cell_type": "markdown",
   "metadata": {},
   "source": [
    "As you may have noticed, our data comes from several devices. Let's focus on only one device to start with. You can change the deviceId if you like."
   ]
  },
  {
   "cell_type": "code",
   "execution_count": 48,
   "metadata": {},
   "outputs": [
    {
     "name": "stdout",
     "output_type": "stream",
     "text": [
      "[2706 2700 2701 2705 2707 2703 2702 2708 2709]\n"
     ]
    }
   ],
   "source": [
    "%local\n",
    "print(turbine['deviceId'].unique())\n",
    "device=turbine[turbine['deviceId']==2706]"
   ]
  },
  {
   "cell_type": "code",
   "execution_count": 49,
   "metadata": {},
   "outputs": [
    {
     "data": {
      "image/png": "[encoded data removed]",
      "text/plain": [
       "<Figure size 1600x500 with 1 Axes>"
      ]
     },
     "metadata": {
      "needs_background": "light"
     },
     "output_type": "display_data"
    }
   ],
   "source": [
    "%local\n",
    "\n",
    "# Basic plot\n",
    "def plot_df(dataFrame, x1, y, title=\"\", xlabel='Date', ylabel='Value', dpi=100):\n",
    "    plt.figure(figsize=(16,5), dpi=dpi)\n",
    "    plt.plot(x1, y, color='tab:red')\n",
    "    plt.gca().set(title=title, xlabel=xlabel, ylabel=ylabel)\n",
    "    plt.show()\n",
    "    \n",
    "plot_df(device, x1=device.time, y=device.temperature, title='Temperature over time in turbine 2706')    "
   ]
  },
  {
   "cell_type": "markdown",
   "metadata": {},
   "source": [
    "It could be useful to compare the temperature measured by the sensor with the power production over time. Is the temperature raising over time? Does an increase in power production implies an increase in temperature? With some lag?\n",
    "\n",
    "Note that the data generator we used here doesn't provide very meaningful data regarding Physics... Furthermore, we would need a far longer observation time to make any conclusion. However, the following visualisations are provided for the sake of our use case."
   ]
  },
  {
   "cell_type": "code",
   "execution_count": 50,
   "metadata": {},
   "outputs": [
    {
     "data": {
      "image/png": "[encoded data removed]",
      "text/plain": [
       "<Figure size 864x360 with 2 Axes>"
      ]
     },
     "metadata": {
      "needs_background": "light"
     },
     "output_type": "display_data"
    }
   ],
   "source": [
    "%local\n",
    "\n",
    "# Temperature and power production over time\n",
    "\n",
    "plt.figure(figsize=(12,5))\n",
    "plt.xlabel('Time')\n",
    "\n",
    "ax1 = device.temperature.plot(color='blue', grid=True, label='Temperature')\n",
    "ax2 = device.powerProd.plot(color='red', grid=True, secondary_y=True, label='PowerProd')\n",
    "\n",
    "h1, l1 = ax1.get_legend_handles_labels()\n",
    "h2, l2 = ax2.get_legend_handles_labels()\n",
    "\n",
    "\n",
    "plt.legend(h1+h2, l1+l2, loc=2)\n",
    "plt.show()"
   ]
  },
  {
   "cell_type": "markdown",
   "metadata": {},
   "source": [
    "__All devices put together__"
   ]
  },
  {
   "cell_type": "code",
   "execution_count": 51,
   "metadata": {},
   "outputs": [
    {
     "data": {
      "image/png": "[encoded data removed]",
      "text/plain": [
       "<Figure size 432x288 with 2 Axes>"
      ]
     },
     "metadata": {
      "needs_background": "light"
     },
     "output_type": "display_data"
    }
   ],
   "source": [
    "%local\n",
    "\n",
    "# Create some mock data\n",
    "t = turbine.time\n",
    "data1 = turbine.temperature\n",
    "data2 = turbine.powerProd\n",
    "\n",
    "fig, ax1 = plt.subplots()\n",
    "\n",
    "color = 'tab:red'\n",
    "ax1.set_xlabel('time')\n",
    "ax1.set_ylabel('temperature', color=color)\n",
    "ax1.plot(t, data1, color=color)\n",
    "ax1.tick_params(axis='y', labelcolor=color)\n",
    "\n",
    "ax2 = ax1.twinx()  # instantiate a second axes that shares the same x-axis\n",
    "\n",
    "color = 'tab:blue'\n",
    "ax2.set_ylabel('powerProd', color=color)  # we already handled the x-label with ax1\n",
    "ax2.plot(t, data2, color=color)\n",
    "ax2.tick_params(axis='y', labelcolor=color)\n",
    "\n",
    "fig.tight_layout()  # otherwise the right y-label is slightly clipped\n",
    "plt.show()\n"
   ]
  },
  {
   "cell_type": "markdown",
   "metadata": {},
   "source": [
    "## What you've learned\n",
    "\n",
    "Congratulations! \n",
    "\n",
    "You've successfully learned how to :\n",
    "* configurate Kafka with a data producer\n",
    "* explore data in a Kafka queue\n",
    "* write data to IBM Db2 Warehouse\n",
    "* create and explore a Spark dataFrame out of the saved table\n",
    "* plot data locally over time.\n",
    "\n",
    "__Where to go from there ?__\n",
    "\n",
    "Deploy this notebook as application.\n",
    "Check out IBM's offers ?"
   ]
  },
  {
   "cell_type": "markdown",
   "metadata": {},
   "source": [
    "___\n",
    "### Authors\n",
    "\n",
    "ehemaliger Praktikant?\n",
    "\n",
    "Toni Bollinger\n",
    "\n",
    "Eva Feillet\n",
    "\n",
    "__Licence?__\n",
    "\n",
    "Copyright © 2019 IBM. This notebook and its source code are released under the terms of the MIT License."
   ]
  }
 ],
 "metadata": {
  "kernelspec": {
   "display_name": "PySpark",
   "language": "",
   "name": "pysparkkernel"
  },
  "language_info": {
   "codemirror_mode": {
    "name": "python",
    "version": 2
   },
   "mimetype": "text/x-python",
   "name": "pyspark",
   "pygments_lexer": "python2"
  }
 },
 "nbformat": 4,
 "nbformat_minor": 2
}
