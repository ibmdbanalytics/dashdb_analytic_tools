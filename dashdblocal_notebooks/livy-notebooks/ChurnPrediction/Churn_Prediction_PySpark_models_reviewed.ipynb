{
 "cells": [
  {
   "cell_type": "markdown",
   "metadata": {},
   "source": [
    "# Customer Churn Prediction with IBM Db2 Warehouse using PySpark\n",
    "\n",
    "# Part 2 : Mixed learning"
   ]
  },
  {
   "cell_type": "markdown",
   "metadata": {},
   "source": [
    "__Introduction__\n",
    "\n",
    "This notebook presents a churn prediction use case using anonymized customer data from a phone operator. It uses IBM Db2 Warehouse and runs on a PySpark kernel. It is the second part of a series on this use case. It is focused on building and evaluating machine learning models. The goal is to build the model with the higher recall on our test set. Visualizations are plotted locally using matplotlib whereas models are built using PySpark and is loaded from IBM Db2.\n",
    "\n",
    "__Use case__\n",
    "\n",
    "Our goal is to accurately predict whether a customer is going to end his/her contract (labeled as positive,1). We prefer to send a commercial email to someone who intends to keep her contract but is labeled as willing to end it (false positive) rather than to overlook the opportunity of preventing a customer from ending her contract (false negative). We also care to accurately target customers with engagement campaigns : not overwhelming customers with commercials and not losing money by proposing special offers to too many people (accuracy). Our optimization objective will thus consist in maximizing recall id est minimizing the false negative rate. We will also look at a couple of other indicators such as accuracy and area under curve.\n",
    "\n",
    "__Data exploration and preparation__\n",
    "\n",
    "In the previous notebook, we used PySpark for data exploration and visualization. We created, scaled and selected features. \n",
    "\n",
    "\n",
    "__Contents__\n",
    "1. Get ready\n",
    "2. Build customer clusters with KMeans\n",
    "3. Compare model performances on the train set\n",
    "4. Tune hyperparameters on the validation set\n",
    "5. Assess your model performance on the test set\n",
    "6. Save the results for deployment"
   ]
  },
  {
   "cell_type": "markdown",
   "metadata": {},
   "source": [
    "## 1. Get ready"
   ]
  },
  {
   "cell_type": "markdown",
   "metadata": {},
   "source": [
    "__Imports__\n",
    "\n",
    "Import the necessary Spark classes, as well as Python packages for local visualisations.\n",
    "We will plot the graphs directly in this notebook. If you like to plot them in a separate window, just comment out `%matplotlib inline`."
   ]
  },
  {
   "cell_type": "code",
   "execution_count": 1,
   "metadata": {},
   "outputs": [
    {
     "name": "stdout",
     "output_type": "stream",
     "text": [
      "Starting Spark application\n"
     ]
    },
    {
     "data": {
      "text/html": [
       "<table>\n",
       "<tr><th>ID</th><th>YARN Application ID</th><th>Kind</th><th>State</th><th>Spark UI</th><th>Driver log</th><th>Current session?</th></tr><tr><td>180</td><td>None</td><td>pyspark</td><td>idle</td><td></td><td></td><td>✔</td></tr></table>"
      ],
      "text/plain": [
       "<IPython.core.display.HTML object>"
      ]
     },
     "metadata": {},
     "output_type": "display_data"
    },
    {
     "data": {
      "application/vnd.jupyter.widget-view+json": {
       "model_id": "",
       "version_major": 2,
       "version_minor": 0
      },
      "text/plain": [
       "FloatProgress(value=0.0, bar_style='info', description='Progress:', layout=Layout(height='25px', width='50%'),…"
      ]
     },
     "metadata": {},
     "output_type": "display_data"
    },
    {
     "name": "stdout",
     "output_type": "stream",
     "text": [
      "SparkSession available as 'spark'.\n"
     ]
    },
    {
     "data": {
      "application/vnd.jupyter.widget-view+json": {
       "model_id": "",
       "version_major": 2,
       "version_minor": 0
      },
      "text/plain": [
       "FloatProgress(value=0.0, bar_style='info', description='Progress:', layout=Layout(height='25px', width='50%'),…"
      ]
     },
     "metadata": {},
     "output_type": "display_data"
    }
   ],
   "source": [
    "# Useful imports - PySpark\n",
    "from pyspark.sql import SparkSession\n",
    "from pyspark.ml.linalg import Vectors\n",
    "from pyspark.ml.feature import VectorAssembler\n",
    "from pyspark.ml.clustering import KMeans\n",
    "from pyspark.ml.evaluation import ClusteringEvaluator\n",
    "\n",
    "from pyspark.sql import Row\n",
    "\n",
    "from pyspark.ml.classification import LogisticRegression\n",
    "from pyspark.ml.classification import GBTClassifier\n",
    "from pyspark.ml.classification import RandomForestClassifier\n",
    "from pyspark.ml.evaluation import MulticlassClassificationEvaluator\n",
    "from pyspark.ml.evaluation import BinaryClassificationEvaluator\n",
    "from pyspark.mllib.evaluation import BinaryClassificationMetrics\n",
    "\n",
    "import numpy as np\n",
    "from itertools import product\n",
    "from multiprocessing.dummy import Pool as ThreadPool"
   ]
  },
  {
   "cell_type": "code",
   "execution_count": 2,
   "metadata": {},
   "outputs": [],
   "source": [
    "%local\n",
    "%matplotlib inline\n",
    "\n",
    "# Useful imports for local visualisations\n",
    "\n",
    "import matplotlib.pyplot as plt\n",
    "import pandas as pd\n",
    "import numpy as np"
   ]
  },
  {
   "cell_type": "markdown",
   "metadata": {},
   "source": [
    "__Load the data__\n",
    "\n",
    "Let's use a table which has been pre-populated in Db2 local. It is called SAMPLES.TRAINING. "
   ]
  },
  {
   "cell_type": "code",
   "execution_count": 3,
   "metadata": {},
   "outputs": [
    {
     "data": {
      "application/vnd.jupyter.widget-view+json": {
       "model_id": "",
       "version_major": 2,
       "version_minor": 0
      },
      "text/plain": [
       "FloatProgress(value=0.0, bar_style='info', description='Progress:', layout=Layout(height='25px', width='50%'),…"
      ]
     },
     "metadata": {},
     "output_type": "display_data"
    },
    {
     "name": "stdout",
     "output_type": "stream",
     "text": [
      "+-----+----+-----+----------+--------+---------+----------+--------+---------+----------+----------+-----------+------------+---------+----------+-----------+---------+\n",
      "|CHURN|AREA|VMAIL|VMAIL_MSGS|DAY_MINS|DAY_CALLS|DAY_CHARGE|EVE_MINS|EVE_CALLS|EVE_CHARGE|NIGHT_MINS|NIGHT_CALLS|NIGHT_CHARGE|INTL_MINS|INTL_CALLS|INTL_CHARGE|SVC_CALLS|\n",
      "+-----+----+-----+----------+--------+---------+----------+--------+---------+----------+----------+-----------+------------+---------+----------+-----------+---------+\n",
      "|    0| 415|    1|         0|   246.5|      108|     41.91|   216.3|       89|     18.39|     179.6|         99|        8.08|     12.7|         3|       3.43|        2|\n",
      "|    1| 408|    1|         0|   298.1|      112|     50.68|   201.3|      100|     17.11|     214.7|         88|        9.66|      9.7|         4|       2.62|        2|\n",
      "|    0| 510|    1|         0|   119.3|       82|     20.28|   185.1|      111|     15.73|     157.0|         74|        7.07|     10.9|         4|       2.94|        2|\n",
      "|    0| 408|    1|         0|   242.5|       82|     41.23|   232.9|       97|     19.80|     154.0|         86|        6.93|      9.6|         7|       2.59|        0|\n",
      "|    1| 408|    0|        18|   222.1|       89|     37.76|   160.6|      109|     13.65|     218.8|        102|        9.85|     13.6|         2|       3.67|        0|\n",
      "+-----+----+-----+----------+--------+---------+----------+--------+---------+----------+----------+-----------+------------+---------+----------+-----------+---------+\n",
      "only showing top 5 rows"
     ]
    }
   ],
   "source": [
    "sparkSession = SparkSession \\\n",
    "        .builder \\\n",
    "        .getOrCreate()\n",
    "\n",
    "df = sparkSession.read \\\n",
    "        .format(\"com.ibm.idax.spark.idaxsource\") \\\n",
    "        .options(dbtable=\"SAMPLES.TRAINING\") \\\n",
    "        .load()\n",
    "df.show(5)"
   ]
  },
  {
   "cell_type": "markdown",
   "metadata": {},
   "source": [
    "__Split the data__\n",
    "\n",
    "We split the data into three distinct sets: for training, validation and testing. We use the proportions 70%, 15% and 15% so that we keep a relatively high number of examples for training. Of course these proportions are subjective, you can change them if you want. We have defined a seed so that results can be reproduced."
   ]
  },
  {
   "cell_type": "code",
   "execution_count": 4,
   "metadata": {},
   "outputs": [
    {
     "data": {
      "application/vnd.jupyter.widget-view+json": {
       "model_id": "",
       "version_major": 2,
       "version_minor": 0
      },
      "text/plain": [
       "FloatProgress(value=0.0, bar_style='info', description='Progress:', layout=Layout(height='25px', width='50%'),…"
      ]
     },
     "metadata": {},
     "output_type": "display_data"
    }
   ],
   "source": [
    "train, val, test = df.randomSplit([0.70,0.15,0.15],1)"
   ]
  },
  {
   "cell_type": "markdown",
   "metadata": {},
   "source": [
    "## 2. Build customer clusters with KMeans\n",
    "\n",
    "First, let's see if we can identify some customer clusters with KMeans unsupervised algorithm. We will enrich our current dataset with information from clustering."
   ]
  },
  {
   "cell_type": "markdown",
   "metadata": {},
   "source": [
    "### a. Apply unsupervised learning for customer segmentation with kMeans"
   ]
  },
  {
   "cell_type": "markdown",
   "metadata": {},
   "source": [
    "__Create a model__ \n",
    "\n",
    "Build a Spark ML algorithm that selects the call counts from the customer data and clusters them using KMeans."
   ]
  },
  {
   "cell_type": "code",
   "execution_count": 5,
   "metadata": {},
   "outputs": [
    {
     "data": {
      "application/vnd.jupyter.widget-view+json": {
       "model_id": "",
       "version_major": 2,
       "version_minor": 0
      },
      "text/plain": [
       "FloatProgress(value=0.0, bar_style='info', description='Progress:', layout=Layout(height='25px', width='50%'),…"
      ]
     },
     "metadata": {},
     "output_type": "display_data"
    }
   ],
   "source": [
    "# We choose to keep the 12 most relevant features\n",
    "\n",
    "assembler_12 = VectorAssembler(\n",
    "    inputCols=[\"SVC_CALLS\", \"DAY_MINS\", \"DAY_CHARGE\", \"VMAIL_MSGS\", \"VMAIL\", \n",
    "               \"INTL_CALLS\", \"INTL_CHARGE\", \"INTL_MINS\", \"EVE_CHARGE\", \"EVE_MINS\",\n",
    "               \"NIGHT_MINS\", \"NIGHT_CHARGE\"],\n",
    "    outputCol=\"features\")\n",
    "\n",
    "# clusters will be built on training data only\n",
    "train_12 = assembler_12.transform(train)\n",
    "\n",
    "# Set characteristics of your model \n",
    "kmeans = KMeans().setK(15).setSeed(1)"
   ]
  },
  {
   "cell_type": "markdown",
   "metadata": {},
   "source": [
    "Fit the model to the required training set and run the algorithm to find the clusters."
   ]
  },
  {
   "cell_type": "code",
   "execution_count": 6,
   "metadata": {},
   "outputs": [
    {
     "data": {
      "application/vnd.jupyter.widget-view+json": {
       "model_id": "",
       "version_major": 2,
       "version_minor": 0
      },
      "text/plain": [
       "FloatProgress(value=0.0, bar_style='info', description='Progress:', layout=Layout(height='25px', width='50%'),…"
      ]
     },
     "metadata": {},
     "output_type": "display_data"
    }
   ],
   "source": [
    "clusterModel = kmeans.fit(train_12)"
   ]
  },
  {
   "cell_type": "code",
   "execution_count": 7,
   "metadata": {},
   "outputs": [
    {
     "data": {
      "application/vnd.jupyter.widget-view+json": {
       "model_id": "",
       "version_major": 2,
       "version_minor": 0
      },
      "text/plain": [
       "FloatProgress(value=0.0, bar_style='info', description='Progress:', layout=Layout(height='25px', width='50%'),…"
      ]
     },
     "metadata": {},
     "output_type": "display_data"
    }
   ],
   "source": [
    "cluster_predictions = clusterModel.transform(train_12)"
   ]
  },
  {
   "cell_type": "markdown",
   "metadata": {},
   "source": [
    "__Inference__\n",
    "\n",
    "KMeans is an unsupervized learning algorithm: we have to see if the clusters we have just built can be really be used to infer churn!"
   ]
  },
  {
   "cell_type": "code",
   "execution_count": 8,
   "metadata": {},
   "outputs": [
    {
     "data": {
      "application/vnd.jupyter.widget-view+json": {
       "model_id": "",
       "version_major": 2,
       "version_minor": 0
      },
      "text/plain": [
       "FloatProgress(value=0.0, bar_style='info', description='Progress:', layout=Layout(height='25px', width='50%'),…"
      ]
     },
     "metadata": {},
     "output_type": "display_data"
    },
    {
     "name": "stdout",
     "output_type": "stream",
     "text": [
      "+---------+-----+\n",
      "|ClusterID|count|\n",
      "+---------+-----+\n",
      "|       13|  101|\n",
      "|        5|  101|\n",
      "|        9|  120|\n",
      "|        2|  122|\n",
      "|        8|  133|\n",
      "|       14|  139|\n",
      "|       10|  147|\n",
      "|        7|  155|\n",
      "|        1|  163|\n",
      "|        6|  163|\n",
      "|        4|  164|\n",
      "|        0|  165|\n",
      "|       11|  189|\n",
      "|       12|  212|\n",
      "|        3|  247|\n",
      "+---------+-----+"
     ]
    }
   ],
   "source": [
    "# Number of customers in each cluster\n",
    "cluster_predictions.groupBy(\"prediction\").count().sort(\"count\").withColumnRenamed(\"prediction\", \"ClusterID\").show()"
   ]
  },
  {
   "cell_type": "markdown",
   "metadata": {},
   "source": [
    "__Silhouette score__\n",
    "\n",
    "The silhouette score measures how similar an object is to its own cluster (cohesion) compared to other clusters (separation). It ranges from −1 to +1. The closer to 1, the better: the object is then well matched to its own cluster and differs from the points belonging to neighboring clusters. If most objects have a high value, then the clustering configuration is considered to be appropriate. Otherwise there may be too many or too few clusters. Here we compute a mean value over all points, using the Euclidean distance."
   ]
  },
  {
   "cell_type": "code",
   "execution_count": 9,
   "metadata": {},
   "outputs": [
    {
     "data": {
      "application/vnd.jupyter.widget-view+json": {
       "model_id": "",
       "version_major": 2,
       "version_minor": 0
      },
      "text/plain": [
       "FloatProgress(value=0.0, bar_style='info', description='Progress:', layout=Layout(height='25px', width='50%'),…"
      ]
     },
     "metadata": {},
     "output_type": "display_data"
    },
    {
     "name": "stdout",
     "output_type": "stream",
     "text": [
      "Silhouette with squared euclidean distance = 0.305"
     ]
    }
   ],
   "source": [
    "# Evaluate clustering by computing Silhouette score\n",
    "evaluator = ClusteringEvaluator()\n",
    "\n",
    "silhouette = evaluator.evaluate(cluster_predictions)\n",
    "print(\"Silhouette with squared euclidean distance = %.3f \" % silhouette)"
   ]
  },
  {
   "cell_type": "code",
   "execution_count": 10,
   "metadata": {},
   "outputs": [
    {
     "data": {
      "application/vnd.jupyter.widget-view+json": {
       "model_id": "",
       "version_major": 2,
       "version_minor": 0
      },
      "text/plain": [
       "FloatProgress(value=0.0, bar_style='info', description='Progress:', layout=Layout(height='25px', width='50%'),…"
      ]
     },
     "metadata": {},
     "output_type": "display_data"
    },
    {
     "name": "stdout",
     "output_type": "stream",
     "text": [
      "+---------+--------------------+\n",
      "|ClusterID|          avg(CHURN)|\n",
      "+---------+--------------------+\n",
      "|        1|0.049079754601226995|\n",
      "|        3| 0.06882591093117409|\n",
      "|       10| 0.07482993197278912|\n",
      "|        7| 0.07741935483870968|\n",
      "|       14| 0.07913669064748201|\n",
      "|        5|  0.0891089108910891|\n",
      "|        6| 0.09815950920245399|\n",
      "|       11| 0.10052910052910052|\n",
      "|        4| 0.10365853658536585|\n",
      "|        8| 0.11278195488721804|\n",
      "|        2| 0.13934426229508196|\n",
      "|       12| 0.14150943396226415|\n",
      "|        0| 0.14545454545454545|\n",
      "|       13|  0.5445544554455446|\n",
      "|        9|  0.5666666666666667|\n",
      "+---------+--------------------+"
     ]
    }
   ],
   "source": [
    "# Churn proportion in each cluster\n",
    "churn_proportion = cluster_predictions.groupBy(\"prediction\").avg(\"CHURN\").sort(\"avg(CHURN)\").withColumnRenamed(\"prediction\", \"ClusterID\")\n",
    "churn_proportion.show()"
   ]
  },
  {
   "cell_type": "markdown",
   "metadata": {},
   "source": [
    "The choice of k=15 allows to target well our customers: churn propencies range from `4.9% to 57%`. With less clusters, we obtain a higher Silhouette score but average churn percentages are less differentiated. We cannot increase the number of clusters too much if we do not have more data, because the model becomes more sensible to outliers. "
   ]
  },
  {
   "cell_type": "code",
   "execution_count": 11,
   "metadata": {},
   "outputs": [
    {
     "data": {
      "application/vnd.jupyter.widget-view+json": {
       "model_id": "",
       "version_major": 2,
       "version_minor": 0
      },
      "text/plain": [
       "FloatProgress(value=0.0, bar_style='info', description='Progress:', layout=Layout(height='25px', width='50%'),…"
      ]
     },
     "metadata": {},
     "output_type": "display_data"
    }
   ],
   "source": [
    "# Save table for future use\n",
    "churn_proportion.write \\\n",
    "      .format(\"com.ibm.idax.spark.idaxsource\") \\\n",
    "      .option(\"dbtable\",\"CHURN_PROPORTION\") \\\n",
    "      .mode(\"overwrite\") \\\n",
    "      .save()"
   ]
  },
  {
   "cell_type": "markdown",
   "metadata": {},
   "source": [
    "Next, we will use the avg(CHURN) column as a new feature."
   ]
  },
  {
   "cell_type": "markdown",
   "metadata": {},
   "source": [
    "### b. Use avg(CHURN) as an additional feature"
   ]
  },
  {
   "cell_type": "code",
   "execution_count": 12,
   "metadata": {},
   "outputs": [
    {
     "data": {
      "application/vnd.jupyter.widget-view+json": {
       "model_id": "",
       "version_major": 2,
       "version_minor": 0
      },
      "text/plain": [
       "FloatProgress(value=0.0, bar_style='info', description='Progress:', layout=Layout(height='25px', width='50%'),…"
      ]
     },
     "metadata": {},
     "output_type": "display_data"
    }
   ],
   "source": [
    "def preparation(DF):\n",
    "    \n",
    "    # assemble \n",
    "    DF_12 = assembler_12.transform(DF)\n",
    "    \n",
    "    # Assign each point of the training set to its cluster\n",
    "    DF_prediction = clusterModel.transform(DF_12)\n",
    "    \n",
    "    # Join DF with table churn_proportion on ClusterID\n",
    "    DF_joined = DF_prediction.join(churn_proportion, DF_prediction.prediction == churn_proportion.ClusterID, \"inner\")\n",
    "    #DF_joined.show(1)\n",
    "    #DF_joined.printSchema()\n",
    "    \n",
    "    # Rename columns\n",
    "    DF_prepared = DF_joined.withColumnRenamed(\"features\", \"featuresClustering\").withColumnRenamed(\"prediction\", \"predictionClustering\").withColumnRenamed(\"avg(CHURN)\", \"ClusterChurn\")\n",
    "    #DF_prepared.printSchema()\n",
    "    \n",
    "    return DF_prepared"
   ]
  },
  {
   "cell_type": "code",
   "execution_count": 13,
   "metadata": {},
   "outputs": [
    {
     "data": {
      "application/vnd.jupyter.widget-view+json": {
       "model_id": "",
       "version_major": 2,
       "version_minor": 0
      },
      "text/plain": [
       "FloatProgress(value=0.0, bar_style='info', description='Progress:', layout=Layout(height='25px', width='50%'),…"
      ]
     },
     "metadata": {},
     "output_type": "display_data"
    }
   ],
   "source": [
    "prepared_train = preparation(train)\n",
    "prepared_val = preparation(val)\n",
    "prepared_test = preparation(test)"
   ]
  },
  {
   "cell_type": "markdown",
   "metadata": {},
   "source": [
    "## 3. Compare model performances on the train set\n",
    "\n",
    "In this section, we will train logistic regression, random forest and gradient boosted trees on the train set. We will compare the performance of the resulting models on the train set. "
   ]
  },
  {
   "cell_type": "markdown",
   "metadata": {},
   "source": [
    "__Prepare the data__\n",
    "\n",
    "Select columns and set label names for training. Here we choose to reuse the 6 column selected above. You can test other options if you like."
   ]
  },
  {
   "cell_type": "code",
   "execution_count": 14,
   "metadata": {},
   "outputs": [
    {
     "data": {
      "application/vnd.jupyter.widget-view+json": {
       "model_id": "",
       "version_major": 2,
       "version_minor": 0
      },
      "text/plain": [
       "FloatProgress(value=0.0, bar_style='info', description='Progress:', layout=Layout(height='25px', width='50%'),…"
      ]
     },
     "metadata": {},
     "output_type": "display_data"
    }
   ],
   "source": [
    "# Define the assembler\n",
    "assembler_12 = VectorAssembler(\n",
    "    inputCols=[\"SVC_CALLS\", \"DAY_MINS\", \"DAY_CHARGE\", \"VMAIL_MSGS\", \"VMAIL\", \n",
    "               \"INTL_CALLS\", \"INTL_CHARGE\", \"INTL_MINS\", \"EVE_CHARGE\", \"EVE_MINS\",\n",
    "               \"NIGHT_MINS\", \"NIGHT_CHARGE\", \"ClusterChurn\"],\n",
    "    outputCol=\"features\")"
   ]
  },
  {
   "cell_type": "code",
   "execution_count": 15,
   "metadata": {},
   "outputs": [
    {
     "data": {
      "application/vnd.jupyter.widget-view+json": {
       "model_id": "",
       "version_major": 2,
       "version_minor": 0
      },
      "text/plain": [
       "FloatProgress(value=0.0, bar_style='info', description='Progress:', layout=Layout(height='25px', width='50%'),…"
      ]
     },
     "metadata": {},
     "output_type": "display_data"
    }
   ],
   "source": [
    "# Transform your training set\n",
    "assembled_train = assembler_12.transform(prepared_train)"
   ]
  },
  {
   "cell_type": "code",
   "execution_count": 16,
   "metadata": {},
   "outputs": [
    {
     "data": {
      "application/vnd.jupyter.widget-view+json": {
       "model_id": "",
       "version_major": 2,
       "version_minor": 0
      },
      "text/plain": [
       "FloatProgress(value=0.0, bar_style='info', description='Progress:', layout=Layout(height='25px', width='50%'),…"
      ]
     },
     "metadata": {},
     "output_type": "display_data"
    }
   ],
   "source": [
    "# Select only the label and features columns\n",
    "labeled_train = assembled_train.select(assembled_train[\"features\"], assembled_train[\"CHURN\"].alias(\"label\"))"
   ]
  },
  {
   "cell_type": "markdown",
   "metadata": {},
   "source": [
    "__Build models__"
   ]
  },
  {
   "cell_type": "code",
   "execution_count": 17,
   "metadata": {},
   "outputs": [
    {
     "data": {
      "application/vnd.jupyter.widget-view+json": {
       "model_id": "",
       "version_major": 2,
       "version_minor": 0
      },
      "text/plain": [
       "FloatProgress(value=0.0, bar_style='info', description='Progress:', layout=Layout(height='25px', width='50%'),…"
      ]
     },
     "metadata": {},
     "output_type": "display_data"
    }
   ],
   "source": [
    "### Logistic regression ###\n",
    "\n",
    "# Define your model\n",
    "lr = LogisticRegression(maxIter = 100)\n",
    "# Fit the model\n",
    "lrModel = lr.fit(labeled_train)\n",
    "# Make predictions\n",
    "pred_train_lr = lrModel.transform(labeled_train)"
   ]
  },
  {
   "cell_type": "code",
   "execution_count": 18,
   "metadata": {},
   "outputs": [
    {
     "data": {
      "application/vnd.jupyter.widget-view+json": {
       "model_id": "",
       "version_major": 2,
       "version_minor": 0
      },
      "text/plain": [
       "FloatProgress(value=0.0, bar_style='info', description='Progress:', layout=Layout(height='25px', width='50%'),…"
      ]
     },
     "metadata": {},
     "output_type": "display_data"
    }
   ],
   "source": [
    "### Random Forest ###\n",
    "\n",
    "# Define your model\n",
    "rf = RandomForestClassifier()\n",
    "# Fit the model\n",
    "rfModel = rf.fit(labeled_train)\n",
    "# Make predictions\n",
    "pred_train_rf = rfModel.transform(labeled_train)"
   ]
  },
  {
   "cell_type": "code",
   "execution_count": 19,
   "metadata": {},
   "outputs": [
    {
     "data": {
      "application/vnd.jupyter.widget-view+json": {
       "model_id": "",
       "version_major": 2,
       "version_minor": 0
      },
      "text/plain": [
       "FloatProgress(value=0.0, bar_style='info', description='Progress:', layout=Layout(height='25px', width='50%'),…"
      ]
     },
     "metadata": {},
     "output_type": "display_data"
    }
   ],
   "source": [
    "### Gradient Boosted Trees ###\n",
    "\n",
    "# Define your model\n",
    "gbt = GBTClassifier()\n",
    "# Fit the model\n",
    "gbtModel = gbt.fit(labeled_train)\n",
    "# Make predictions\n",
    "pred_train_gbt = gbtModel.transform(labeled_train)"
   ]
  },
  {
   "cell_type": "markdown",
   "metadata": {},
   "source": [
    "As you may just have witnessed, GBT takes more time than the other two algorithms."
   ]
  },
  {
   "cell_type": "markdown",
   "metadata": {},
   "source": [
    "__Area under Curve__"
   ]
  },
  {
   "cell_type": "code",
   "execution_count": 20,
   "metadata": {},
   "outputs": [
    {
     "data": {
      "application/vnd.jupyter.widget-view+json": {
       "model_id": "",
       "version_major": 2,
       "version_minor": 0
      },
      "text/plain": [
       "FloatProgress(value=0.0, bar_style='info', description='Progress:', layout=Layout(height='25px', width='50%'),…"
      ]
     },
     "metadata": {},
     "output_type": "display_data"
    },
    {
     "name": "stdout",
     "output_type": "stream",
     "text": [
      "Logistic Regression\n",
      "Area under ROC: 0.808\n",
      "Area under PR curve: 0.498\n",
      "\n",
      "Random Forest\n",
      "Area under ROC: 0.907\n",
      "Area under PR curve: 0.806\n",
      "\n",
      "Gradient Boosted Trees\n",
      "Area under ROC: 0.948\n",
      "Area under PR curve: 0.887"
     ]
    }
   ],
   "source": [
    "# Define the evaluators\n",
    "binEval_AUROC = BinaryClassificationEvaluator().setMetricName(\"areaUnderROC\").setRawPredictionCol(\"rawPrediction\").setLabelCol(\"label\")\n",
    "binEval_AUPRC = BinaryClassificationEvaluator().setMetricName(\"areaUnderPR\").setRawPredictionCol(\"rawPrediction\").setLabelCol(\"label\")\n",
    "\n",
    "pred = [pred_train_lr, pred_train_rf, pred_train_gbt]\n",
    "algo = [\"Logistic Regression\", \"Random Forest\", \"Gradient Boosted Trees\"]\n",
    "\n",
    "# Print results\n",
    "for i in range(len(pred)):\n",
    "    print(algo[i])\n",
    "    print(\"Area under ROC: %.3f\" % binEval_AUROC.evaluate(pred[i]))\n",
    "    print(\"Area under PR curve: %.3f\" % binEval_AUPRC.evaluate(pred[i]))\n",
    "    print(\"\")"
   ]
  },
  {
   "cell_type": "markdown",
   "metadata": {},
   "source": [
    "On the training set, GBT seems to perform better. Let's have a look at other metrics."
   ]
  },
  {
   "cell_type": "markdown",
   "metadata": {},
   "source": [
    "__Metrics and confusion matrix__"
   ]
  },
  {
   "cell_type": "markdown",
   "metadata": {},
   "source": [
    "* Confusion matrix \n",
    "\n",
    "<img src=\"confusionMatrix.png\" width=800/>\n",
    "\n",
    "Sensitivity = TP / (TP + FN), also called Recall\n",
    "\n",
    "Specificity = TN / (TN + FP)\n",
    "\n",
    "Precision = TP / (TP + FP)\n",
    "\n",
    "Negative Predictive Value = TN / (TN + FN)\n",
    "\n",
    "F1-score: 2 x Precision x Recall / (Precision + Recall)\n",
    "\n",
    "Recall = 1 - FNR. "
   ]
  },
  {
   "cell_type": "markdown",
   "metadata": {},
   "source": [
    "TB: I would use BinaryClassificationEvaluator instead of MulticlassClassificationEvaluator, because we have a binary classification problem here."
   ]
  },
  {
   "cell_type": "code",
   "execution_count": 21,
   "metadata": {},
   "outputs": [
    {
     "data": {
      "application/vnd.jupyter.widget-view+json": {
       "model_id": "",
       "version_major": 2,
       "version_minor": 0
      },
      "text/plain": [
       "FloatProgress(value=0.0, bar_style='info', description='Progress:', layout=Layout(height='25px', width='50%'),…"
      ]
     },
     "metadata": {},
     "output_type": "display_data"
    },
    {
     "name": "stdout",
     "output_type": "stream",
     "text": [
      "__Logistic Regression__\n",
      "Accuracy = 0.877\n",
      "f1 = 0.858\n",
      "weightedPrecision = 0.858\n",
      "\n",
      "__Random Forest__\n",
      "Accuracy = 0.937\n",
      "f1 = 0.930\n",
      "weightedPrecision = 0.939\n",
      "\n",
      "__Gradient Boosted Trees__\n",
      "Accuracy = 0.954\n",
      "f1 = 0.951\n",
      "weightedPrecision = 0.955"
     ]
    }
   ],
   "source": [
    "# Metrics (1/2)\n",
    "\n",
    "# Define evaluators\n",
    "evaluator_acc = MulticlassClassificationEvaluator(labelCol=\"label\", predictionCol=\"prediction\", metricName=\"accuracy\")\n",
    "evaluator_f1 = MulticlassClassificationEvaluator(labelCol=\"label\", predictionCol=\"prediction\", metricName=\"f1\")\n",
    "evaluator_wp = MulticlassClassificationEvaluator(labelCol=\"label\", predictionCol=\"prediction\", metricName=\"weightedPrecision\")\n",
    "\n",
    "# Print results\n",
    "\n",
    "pred = [pred_train_lr, pred_train_rf, pred_train_gbt]\n",
    "algo = [\"__Logistic Regression__\", \"__Random Forest__\", \"__Gradient Boosted Trees__\"]\n",
    "\n",
    "# Print results\n",
    "for i in range(len(pred)):\n",
    "    print(algo[i])\n",
    "    wp = evaluator_wp.evaluate(pred[i])\n",
    "    accuracy = evaluator_acc.evaluate(pred[i])\n",
    "    f1 = evaluator_f1.evaluate(pred[i])\n",
    "    print(\"Accuracy = %.3f\" % accuracy)\n",
    "    print(\"f1 = %.3f\" % f1)\n",
    "    print(\"weightedPrecision = %.3f\" % wp)\n",
    "    print(\"\")"
   ]
  },
  {
   "cell_type": "code",
   "execution_count": 22,
   "metadata": {},
   "outputs": [
    {
     "data": {
      "application/vnd.jupyter.widget-view+json": {
       "model_id": "",
       "version_major": 2,
       "version_minor": 0
      },
      "text/plain": [
       "FloatProgress(value=0.0, bar_style='info', description='Progress:', layout=Layout(height='25px', width='50%'),…"
      ]
     },
     "metadata": {},
     "output_type": "display_data"
    }
   ],
   "source": [
    "## Confusion matrix with PySpark ##\n",
    "\n",
    "def confusion_matrix(pred_DF):\n",
    "\n",
    "    pred_DF.createOrReplaceTempView('pred')\n",
    "\n",
    "    # total number of examples\n",
    "    tot = spark.sql(\"SELECT count(*) FROM pred\").collect()[0][0]\n",
    "\n",
    "    # total number of examples labeled as positive\n",
    "    true = spark.sql(\"SELECT count(*) FROM pred WHERE pred.label = 1\").collect()[0][0]\n",
    "\n",
    "    # tp : sum(if pred = label = 1) \n",
    "    tp = spark.sql(\"SELECT count(*) FROM pred WHERE pred.prediction = 1 AND pred.label = 1\").collect()[0][0]\n",
    "\n",
    "    # fn = total number of positive - predicted positives which are rightly predicted\n",
    "    fn = true - tp\n",
    "\n",
    "    # tn : sum(if pred=label=0)\n",
    "    tn = spark.sql(\"SELECT count(*) FROM pred WHERE (pred.prediction + pred.label = 0)\").collect()[0][0]\n",
    "\n",
    "    #fp = total number of negative - tn\n",
    "    fp = tot-true-tn\n",
    "\n",
    "    return (tn, fp, fn, tp)\n",
    "\n",
    "def FNR(fn, tp):\n",
    "    return fn/(fn+tp)\n",
    "\n",
    "def recall(tp, fn):\n",
    "    # also called TPR or sensitivity\n",
    "    return tp/(tp+fn)\n",
    "\n",
    "def precision(tp, fp):\n",
    "    return tp/(tp+fp)"
   ]
  },
  {
   "cell_type": "code",
   "execution_count": 23,
   "metadata": {},
   "outputs": [
    {
     "data": {
      "application/vnd.jupyter.widget-view+json": {
       "model_id": "",
       "version_major": 2,
       "version_minor": 0
      },
      "text/plain": [
       "FloatProgress(value=0.0, bar_style='info', description='Progress:', layout=Layout(height='25px', width='50%'),…"
      ]
     },
     "metadata": {},
     "output_type": "display_data"
    },
    {
     "name": "stdout",
     "output_type": "stream",
     "text": [
      "__Logistic Regression__\n",
      "\n",
      "Confusion matrix: \n",
      "[['tp: 100' 'fn: 229']\n",
      " ['fp: 56' 'tn: 1936']]\n",
      "Precision: 0.641\n",
      "FNR: 0.696\n",
      "Recall: 0.304\n",
      "\n",
      "__Random Forest__\n",
      "\n",
      "Confusion matrix: \n",
      "[['tp: 188' 'fn: 141']\n",
      " ['fp: 6' 'tn: 1986']]\n",
      "Precision: 0.969\n",
      "FNR: 0.429\n",
      "Recall: 0.571\n",
      "\n",
      "__Gradient Boosted Trees__\n",
      "\n",
      "Confusion matrix: \n",
      "[['tp: 228' 'fn: 101']\n",
      " ['fp: 6' 'tn: 1986']]\n",
      "Precision: 0.974\n",
      "FNR: 0.307\n",
      "Recall: 0.693"
     ]
    }
   ],
   "source": [
    "# Print results\n",
    "for i in range(len(pred)):\n",
    "    print(algo[i])\n",
    "    print(\"\")\n",
    "    # Confusion matrix\n",
    "    (tn, fp, fn, tp)=confusion_matrix(pred[i])\n",
    "    # Confusion matrix in format [[tp, fn], [fp, tn]]\n",
    "    print(\"Confusion matrix: \")\n",
    "    print(np.array([[(\"tp: \"+str(tp)), (\"fn: \"+str(fn))], [(\"fp: \"+str(fp)), (\"tn: \"+str(tn))]]))\n",
    "    # Metrics\n",
    "    print(\"Precision: %.3f\" % precision(tp, fp))\n",
    "    print(\"FNR: %.3f\" % FNR(fn, tp))\n",
    "    print(\"Recall: %.3f\" % recall(tp, fn))\n",
    "    print(\"\")"
   ]
  },
  {
   "cell_type": "markdown",
   "metadata": {},
   "source": [
    "Again, GBT seems to perform better when we just use the default hyperparameters. Let's see if this is still is the case on the validation set."
   ]
  },
  {
   "cell_type": "markdown",
   "metadata": {},
   "source": [
    "## 4. Fine tune your hyperparameters on the validation set"
   ]
  },
  {
   "cell_type": "markdown",
   "metadata": {},
   "source": [
    "In the following cell, default values are used for logistic regression's parameters. "
   ]
  },
  {
   "cell_type": "code",
   "execution_count": 24,
   "metadata": {},
   "outputs": [
    {
     "data": {
      "application/vnd.jupyter.widget-view+json": {
       "model_id": "",
       "version_major": 2,
       "version_minor": 0
      },
      "text/plain": [
       "FloatProgress(value=0.0, bar_style='info', description='Progress:', layout=Layout(height='25px', width='50%'),…"
      ]
     },
     "metadata": {},
     "output_type": "display_data"
    }
   ],
   "source": [
    "# Transform your validation set\n",
    "assembled_val = assembler_12.transform(prepared_val)\n",
    "\n",
    "# Select only the label and features columns\n",
    "labeled_val = assembled_val.select(assembled_val[\"features\"], assembled_val[\"CHURN\"].alias(\"label\"))"
   ]
  },
  {
   "cell_type": "markdown",
   "metadata": {},
   "source": [
    "__Grid search__ \n",
    "\n",
    "In the next cell we define a function to test a range of hyperparameters and select the best set of hyperparameters regarding our goal, which is to maximize recall. To speed up the process, we parallelize tasks by using Threadpool. Note that we did not use the native PySpark GridSearch function here, because neither MulticlassClassificationEvaluator nor BinaryClassificationEvaluator do offer the possibility to set recall or FNR as metric.\n",
    "\n",
    "Which hyperparameters do we tune ? Let's have a look at what is available. We highlighted the hyperparameters chosen here.\n",
    "\n",
    "* Logistic Regression\n",
    "\n",
    "> class pyspark.ml.classification.LogisticRegression(self, featuresCol=\"features\", labelCol=\"label\", predictionCol=\"prediction\", maxIter=100, `regParam=0.1`, `elasticNetParam=0.0`, tol=1e-6, fitIntercept=True, threshold=0.5, thresholds=None, probabilityCol=\"probability\", rawPredictionCol=\"rawPrediction\", standardization=True, weightCol=None)\n",
    "\n",
    "* Random Forest\n",
    "\n",
    "> class pyspark.ml.classification.RandomForestClassifier(self, featuresCol=\"features\", labelCol=\"label\", predictionCol=\"prediction\", probabilityCol=\"probability\", rawPredictionCol=\"rawPrediction\", `maxDepth=5`, `maxBins=32`, minInstancesPerNode=1, minInfoGain=0.0, maxMemoryInMB=256, cacheNodeIds=False, checkpointInterval=10, impurity=\"gini\", `numTrees=20`, featureSubsetStrategy=\"auto\", seed=None, subsamplingRate=1.0)\n",
    "\n",
    "* GBT\n",
    "\n",
    "> GBTClassifier(self, featuresCol=\"features\", labelCol=\"label\", predictionCol=\"prediction\", `maxDepth=5`, `maxBins=32`, minInstancesPerNode=1, minInfoGain=0.0, maxMemoryInMB=256, cacheNodeIds=False, checkpointInterval=10, lossType=\"logistic\", maxIter=20, `stepSize=0.1`, seed=None, subsamplingRate=1.0)\n",
    "                 \n",
    " Note : for more details on each hyperparameter, use .explainParams(). For example :\n",
    " >  gbt.explainParams()\n",
    " \n",
    "Regarding Random Forest and GBT, we should set a seed so that results can be reproduced."
   ]
  },
  {
   "cell_type": "markdown",
   "metadata": {},
   "source": [
    "Running the next three cells might take a couple of minutes."
   ]
  },
  {
   "cell_type": "code",
   "execution_count": 25,
   "metadata": {},
   "outputs": [
    {
     "data": {
      "application/vnd.jupyter.widget-view+json": {
       "model_id": "",
       "version_major": 2,
       "version_minor": 0
      },
      "text/plain": [
       "FloatProgress(value=0.0, bar_style='info', description='Progress:', layout=Layout(height='25px', width='50%'),…"
      ]
     },
     "metadata": {},
     "output_type": "display_data"
    }
   ],
   "source": [
    "### Logistic regression ###\n",
    "\n",
    "regParam_range=[0, 0.001, 0.002, 0.005, 0.01]\n",
    "elasticNetParam_range=[0, 0.001, 0.002, 0.005, 0.01]\n",
    "\n",
    "hp_lr = [x for x in product(regParam_range, elasticNetParam_range)]\n",
    "\n",
    "\n",
    "def score_lr(couple):\n",
    "    \n",
    "    (r,e)=couple\n",
    "    # Define your model\n",
    "    logReg = LogisticRegression(maxIter=100, regParam=r, elasticNetParam=e)\n",
    "\n",
    "    # Fit the model on training set\n",
    "    logRegModel = logReg.fit(labeled_train)\n",
    "\n",
    "    # Make predictions\n",
    "    pred_val = logRegModel.transform(labeled_val)\n",
    "\n",
    "    # Compute the confusion matrix and FNR for both sets\n",
    "    (tn, fp, fn, tp) = confusion_matrix(pred_val)\n",
    "    val_recall = recall(tp, fn)\n",
    "                \n",
    "    return val_recall\n",
    "\n",
    "# Parallelize tasks\n",
    "def calculateParallel_lr(paramRange, threads=2):\n",
    "    pool = ThreadPool(threads)\n",
    "    results = pool.map(score_lr, paramRange)\n",
    "    pool.close()\n",
    "    pool.join()\n",
    "    return results\n",
    "\n",
    "# Compute values\n",
    "recallValues_lr = calculateParallel_lr(hp_lr, 4)\n",
    "\n",
    "# Get best hyperparameter combination    \n",
    "def get_best_lr(recallValues, hp):\n",
    "    recallValues.reverse()\n",
    "    hp.reverse()\n",
    "    index = recallValues.index(max(recallValues))\n",
    "    best = {\"regParam\":hp[index][0], \"elasticNetParam\":hp[index][1], \"bestRecall\":max(recallValues)}\n",
    "    return best\n",
    "\n",
    "best_lr = get_best_lr(recallValues_lr, hp_lr)"
   ]
  },
  {
   "cell_type": "code",
   "execution_count": 26,
   "metadata": {},
   "outputs": [
    {
     "data": {
      "application/vnd.jupyter.widget-view+json": {
       "model_id": "",
       "version_major": 2,
       "version_minor": 0
      },
      "text/plain": [
       "FloatProgress(value=0.0, bar_style='info', description='Progress:', layout=Layout(height='25px', width='50%'),…"
      ]
     },
     "metadata": {},
     "output_type": "display_data"
    }
   ],
   "source": [
    "### Random Forest ###\n",
    "\n",
    "maxDepth=[5, 10]\n",
    "maxBins=[32, 64]\n",
    "numTrees=[15, 20, 25]\n",
    "\n",
    "hp_rf = [x for x in product(maxDepth, maxBins, numTrees)]\n",
    "#print(hp_rf)\n",
    "\n",
    "def score_rf(triple):\n",
    "    \n",
    "    (D,B,T)=triple\n",
    "    \n",
    "    # Define your model\n",
    "    rf = RandomForestClassifier(maxDepth=D, maxBins=B, numTrees=T, seed = 1)\n",
    "\n",
    "    # Fit the model on training set\n",
    "    rfModel = rf.fit(labeled_train)\n",
    "\n",
    "    # Make predictions\n",
    "    pred_val = rfModel.transform(labeled_val)\n",
    "\n",
    "    # Compute the confusion matrix and FNR for both sets\n",
    "    (tn, fp, fn, tp) = confusion_matrix(pred_val)\n",
    "    val_recall = recall(tp, fn)\n",
    "                \n",
    "    return val_recall\n",
    "\n",
    "# Parallelize tasks\n",
    "def calculateParallel_rf(paramRange, threads=2):\n",
    "    pool = ThreadPool(threads)\n",
    "    results = pool.map(score_rf, paramRange)\n",
    "    pool.close()\n",
    "    pool.join()\n",
    "    return results\n",
    "\n",
    "# Compute values\n",
    "recallValues_rf = calculateParallel_rf(hp_rf, 4)\n",
    "#print(recallValues_rf)\n",
    "\n",
    "# Get best hyperparameter combination    \n",
    "def get_best_rf(recallValues, hp):\n",
    "    # to pick the model with higher regularization strength when ex aequo case\n",
    "    recallValues.reverse()\n",
    "    hp.reverse()\n",
    "    index = recallValues.index(max(recallValues))\n",
    "    #print(index)\n",
    "    #print(hp[index])\n",
    "    best = {\"maxDepth\": hp[index][0], \"maxBins\": hp[index][1], \"numTrees\": hp[index][2], \"bestRecall\":max(recallValues)}\n",
    "    \n",
    "    return best\n",
    "\n",
    "best_rf = get_best_rf(recallValues_rf, hp_rf)"
   ]
  },
  {
   "cell_type": "code",
   "execution_count": 27,
   "metadata": {},
   "outputs": [
    {
     "data": {
      "application/vnd.jupyter.widget-view+json": {
       "model_id": "",
       "version_major": 2,
       "version_minor": 0
      },
      "text/plain": [
       "FloatProgress(value=0.0, bar_style='info', description='Progress:', layout=Layout(height='25px', width='50%'),…"
      ]
     },
     "metadata": {},
     "output_type": "display_data"
    }
   ],
   "source": [
    "### Gradient Boosted Trees ###\n",
    "\n",
    "maxDepth=[5, 10, 20]\n",
    "maxBins=[16, 32, 64]\n",
    "stepSize=[0.05, 0.1]\n",
    "\n",
    "hp_gbt = [x for x in product(maxDepth, maxBins, stepSize)]\n",
    "\n",
    "\n",
    "def score_gbt(triple):\n",
    "    \n",
    "    (D,B,s)=triple\n",
    "    \n",
    "    gbt = GBTClassifier(maxDepth=D, maxBins=B, stepSize=s, seed=1)\n",
    "\n",
    "    # Fit the model on training set\n",
    "    gbtModel = gbt.fit(labeled_train)\n",
    "\n",
    "    # Make predictions\n",
    "    pred_val = gbtModel.transform(labeled_val)\n",
    "\n",
    "    # Compute the confusion matrix and FNR for both sets\n",
    "    (tn, fp, fn, tp) = confusion_matrix(pred_val)\n",
    "    val_recall = recall(tp, fn)\n",
    "                \n",
    "    return val_recall\n",
    "\n",
    "# Parallelize tasks\n",
    "def calculateParallel_gbt(paramRange, threads=2):\n",
    "    pool = ThreadPool(threads)\n",
    "    results = pool.map(score_gbt, paramRange)\n",
    "    pool.close()\n",
    "    pool.join()\n",
    "    return results\n",
    "\n",
    "# Compute values\n",
    "recallValues_gbt = calculateParallel_gbt(hp_gbt, 4)\n",
    "\n",
    "# Get best hyperparameter combination    \n",
    "def get_best_gbt(recallValues, hp):\n",
    "    recallValues.reverse()\n",
    "    hp.reverse()\n",
    "    index = recallValues.index(max(recallValues))\n",
    "    best = {\"maxDepth\": hp[index][0], \"maxBins\": hp[index][1], \"stepSize\": hp[index][2], \"bestRecall\":max(recallValues)}\n",
    "    return best\n",
    "\n",
    "best_gbt = get_best_gbt(recallValues_gbt, hp_gbt)"
   ]
  },
  {
   "cell_type": "code",
   "execution_count": 28,
   "metadata": {},
   "outputs": [
    {
     "data": {
      "application/vnd.jupyter.widget-view+json": {
       "model_id": "",
       "version_major": 2,
       "version_minor": 0
      },
      "text/plain": [
       "FloatProgress(value=0.0, bar_style='info', description='Progress:', layout=Layout(height='25px', width='50%'),…"
      ]
     },
     "metadata": {},
     "output_type": "display_data"
    },
    {
     "name": "stdout",
     "output_type": "stream",
     "text": [
      "{'regParam': 0.002, 'elasticNetParam': 0.001, 'bestRecall': 0.24390243902439024}\n",
      "{'maxDepth': 10, 'maxBins': 32, 'numTrees': 20, 'bestRecall': 0.5975609756097561}\n",
      "{'maxDepth': 5, 'maxBins': 64, 'stepSize': 0.1, 'bestRecall': 0.573170731707317}"
     ]
    }
   ],
   "source": [
    "print(best_lr)\n",
    "print(best_rf)\n",
    "print(best_gbt)"
   ]
  },
  {
   "cell_type": "code",
   "execution_count": 29,
   "metadata": {},
   "outputs": [
    {
     "data": {
      "application/vnd.jupyter.widget-view+json": {
       "model_id": "",
       "version_major": 2,
       "version_minor": 0
      },
      "text/plain": [
       "FloatProgress(value=0.0, bar_style='info', description='Progress:', layout=Layout(height='25px', width='50%'),…"
      ]
     },
     "metadata": {},
     "output_type": "display_data"
    }
   ],
   "source": [
    "#best_lr = {'regParam': 0.002, 'elasticNetParam': 0.001, 'val_recall': 0.24390243902439024}\n",
    "#best_rf = {'maxDepth': 10, 'maxBins': 64, 'numTrees': 15, 'bestRecall': 0.5365853658536586}\n",
    "#best_gbt = {'maxDepth': 20, 'maxBins': 32, 'stepSize': 0.1, 'bestRecall': 0.5609756097560976}"
   ]
  },
  {
   "cell_type": "markdown",
   "metadata": {},
   "source": [
    "__Visualize feature importance__"
   ]
  },
  {
   "cell_type": "code",
   "execution_count": 30,
   "metadata": {},
   "outputs": [
    {
     "data": {
      "application/vnd.jupyter.widget-view+json": {
       "model_id": "",
       "version_major": 2,
       "version_minor": 0
      },
      "text/plain": [
       "FloatProgress(value=0.0, bar_style='info', description='Progress:', layout=Layout(height='25px', width='50%'),…"
      ]
     },
     "metadata": {},
     "output_type": "display_data"
    },
    {
     "name": "stdout",
     "output_type": "stream",
     "text": [
      "Coefficients: [0.49352483261577973,0.0017602656730124713,0.010375408969140014,-0.020914146734686136,0.11478149125231867,-0.11087092767948839,0.18821456401254472,0.0506176053275298,0.02014677847395563,0.001711852301549124,0.0008795076483475525,0.019550788820755914,5.128412728142389]\n",
      "Intercept: -5.849715742621505"
     ]
    }
   ],
   "source": [
    "# Define your model\n",
    "logReg = LogisticRegression(maxIter=100, regParam=best_lr[\"regParam\"], elasticNetParam=best_lr[\"elasticNetParam\"])\n",
    "\n",
    "# Fit the model on training set\n",
    "logRegModel = logReg.fit(labeled_train)\n",
    "\n",
    "\n",
    "# Print the coefficients and intercept for logistic regression\n",
    "print(\"Coefficients: \" + str(logRegModel.coefficients))\n",
    "print(\"Intercept: \" + str(logRegModel.intercept))"
   ]
  },
  {
   "cell_type": "code",
   "execution_count": 31,
   "metadata": {},
   "outputs": [
    {
     "data": {
      "image/png": "[encoded data removed]",
      "text/plain": [
       "<Figure size 576x432 with 1 Axes>"
      ]
     },
     "metadata": {
      "needs_background": "light"
     },
     "output_type": "display_data"
    }
   ],
   "source": [
    "%local\n",
    "\n",
    "#copy paste new coeffs list if necessary\n",
    "\n",
    "features=[\"SVC_CALLS\", \"DAY_MINS\", \"DAY_CHARGE\", \"VMAIL_MSGS\", \"VMAIL\", \"INTL_CALLS\", \"INTL_CHARGE\", \"INTL_MINS\", \"EVE_CHARGE\", \"EVE_MINS\", \"NIGHT_MINS\", \"NIGHT_CHARGE\", \"ClusterChurn\"]\n",
    "\n",
    "coeffs=[0.49352483261577956,0.0017602656730128982,0.010375408969149938,-0.020914146734751095,0.11478149126217094,-0.11087092767952629,0.18821456401255657,0.05061760532752884,0.020146778473970645,0.0017118523015505517,0.0008795076483460946,0.019550788820730722,5.128412728136836]\n",
    "\n",
    "ax, fig=plt.subplots(figsize=(8,6))\n",
    "index = np.arange(len(features))\n",
    "plt.bar(index, coeffs)\n",
    "plt.xlabel('Features', fontsize=15)\n",
    "plt.ylabel('Magnitude of coefficients in logistic regression', fontsize=15)\n",
    "plt.xticks(index, features, fontsize=15, rotation=40)\n",
    "plt.title('Weights', fontsize=20)\n",
    "plt.show()"
   ]
  },
  {
   "cell_type": "markdown",
   "metadata": {},
   "source": [
    "Note : Here we visualize the weights rather than the importance of the features. As a matter of fact, features were not scaled here so the visualization seems to give an overwhelming weight to ClusterChurn, which it does not have in reality."
   ]
  },
  {
   "cell_type": "code",
   "execution_count": 32,
   "metadata": {},
   "outputs": [
    {
     "data": {
      "application/vnd.jupyter.widget-view+json": {
       "model_id": "",
       "version_major": 2,
       "version_minor": 0
      },
      "text/plain": [
       "FloatProgress(value=0.0, bar_style='info', description='Progress:', layout=Layout(height='25px', width='50%'),…"
      ]
     },
     "metadata": {},
     "output_type": "display_data"
    },
    {
     "name": "stdout",
     "output_type": "stream",
     "text": [
      "(13,[0,1,2,3,4,5,6,7,8,9,10,11,12],[0.1743061146469065,0.14488400968639356,0.07453942716567984,0.040082979552678685,0.04926397361333368,0.0454213482646213,0.045930121881134045,0.03904032743075379,0.08130648210232407,0.06496526377391387,0.04600778421783346,0.044309437440152574,0.14994273022427473])"
     ]
    }
   ],
   "source": [
    "# Define your model\n",
    "rf = RandomForestClassifier(maxDepth = best_rf[\"maxDepth\"], maxBins = best_rf[\"maxBins\"], numTrees = best_rf[\"numTrees\"])\n",
    "\n",
    "# Fit the model on training set\n",
    "rfModel = rf.fit(labeled_train)\n",
    "\n",
    "print(rfModel.featureImportances)"
   ]
  },
  {
   "cell_type": "code",
   "execution_count": 33,
   "metadata": {},
   "outputs": [
    {
     "data": {
      "image/png": "[encoded data removed]",
      "text/plain": [
       "<Figure size 576x432 with 1 Axes>"
      ]
     },
     "metadata": {
      "needs_background": "light"
     },
     "output_type": "display_data"
    }
   ],
   "source": [
    "%local\n",
    "\n",
    "import matplotlib.pyplot as plt\n",
    "import numpy as np\n",
    "\n",
    "features = [\"SVC_CALLS\", \"DAY_MINS\", \"DAY_CHARGE\", \"VMAIL_MSGS\", \"VMAIL\", \"INTL_CALLS\", \"INTL_CHARGE\", \"INTL_MINS\", \"EVE_CHARGE\", \"EVE_MINS\", \"NIGHT_MINS\", \"NIGHT_CHARGE\", \"ClusterChurn\"]\n",
    "coeffs = [0.18178811184798255,0.16012024813703055,0.0838730648127356,0.04829091633062102,0.038785791711073075,0.03954393003297476,0.04112787441993293,0.045218720519418075,0.08050873268287183,0.06845799924702964,0.03970568743887793,0.037886804314506035,0.1346921185049461]\n",
    "\n",
    "ax, fig=plt.subplots(figsize=(8,6))\n",
    "index = np.arange(len(features))\n",
    "plt.bar(index, coeffs)\n",
    "plt.xlabel('Features', fontsize=15)\n",
    "plt.ylabel('Magnitude of coefficients', fontsize=15)\n",
    "plt.xticks(index, features, fontsize=15, rotation=40)\n",
    "plt.title('Feature importance in Random Forest Model', fontsize=20)\n",
    "plt.show()"
   ]
  },
  {
   "cell_type": "code",
   "execution_count": 34,
   "metadata": {},
   "outputs": [
    {
     "data": {
      "application/vnd.jupyter.widget-view+json": {
       "model_id": "",
       "version_major": 2,
       "version_minor": 0
      },
      "text/plain": [
       "FloatProgress(value=0.0, bar_style='info', description='Progress:', layout=Layout(height='25px', width='50%'),…"
      ]
     },
     "metadata": {},
     "output_type": "display_data"
    },
    {
     "name": "stdout",
     "output_type": "stream",
     "text": [
      "(13,[0,1,3,4,5,6,8,9,10,11,12],[0.06714599590652838,0.23636783948027026,0.09613841225316823,0.04088875720039956,0.0695613407908431,0.10131683893384555,0.1910738766434666,0.023698197994991725,0.06498665271484957,0.020281824092990192,0.08854026398864706])"
     ]
    }
   ],
   "source": [
    "# Define your model\n",
    "gbt = GBTClassifier(maxDepth=best_gbt[\"maxDepth\"], maxBins=best_gbt[\"maxBins\"], stepSize=best_gbt[\"stepSize\"])\n",
    "                    \n",
    "# Fit the model on training set\n",
    "gbtModel = gbt.fit(labeled_train)\n",
    "\n",
    "print(gbtModel.featureImportances)"
   ]
  },
  {
   "cell_type": "code",
   "execution_count": 35,
   "metadata": {},
   "outputs": [
    {
     "data": {
      "image/png": "[encoded data removed]",
      "text/plain": [
       "<Figure size 576x432 with 1 Axes>"
      ]
     },
     "metadata": {
      "needs_background": "light"
     },
     "output_type": "display_data"
    }
   ],
   "source": [
    "%local\n",
    "\n",
    "features = [\"SVC_CALLS\", \"DAY_MINS\", \"VMAIL_MSGS\", \"VMAIL\", \"INTL_CALLS\", \"INTL_CHARGE\", \"EVE_CHARGE\", \"EVE_MINS\", \"NIGHT_MINS\", \"NIGHT_CHARGE\", \"ClusterChurn\"]\n",
    "coeffs = [0.08604907727746372,0.17990409496699397,0.062380698472049766,0.040737334334920466,0.09673148702932027,0.11831440107351968,0.13769400258490144,0.04801852764059272,0.09398745422993804,0.017899850163581348,0.11828307222671867]\n",
    "\n",
    "ax, fig=plt.subplots(figsize=(8,6))\n",
    "index = np.arange(len(features))\n",
    "plt.bar(index, coeffs)\n",
    "plt.xlabel('Features', fontsize=15)\n",
    "plt.ylabel('Magnitude of coefficients', fontsize=15)\n",
    "plt.xticks(index, features, fontsize=15, rotation=40)\n",
    "plt.title('Feature importance in GBT Model', fontsize=20)\n",
    "plt.show()"
   ]
  },
  {
   "cell_type": "markdown",
   "metadata": {},
   "source": [
    "Differs qualitatively and quantitatively from the previous model! GBT does not use all features, in contrast to random forest."
   ]
  },
  {
   "cell_type": "markdown",
   "metadata": {},
   "source": [
    "## 5. Assess your model performance on the test set\n",
    "\n",
    "See what is the final perfomance of your tuned model on unseen data."
   ]
  },
  {
   "cell_type": "code",
   "execution_count": 36,
   "metadata": {},
   "outputs": [
    {
     "data": {
      "application/vnd.jupyter.widget-view+json": {
       "model_id": "",
       "version_major": 2,
       "version_minor": 0
      },
      "text/plain": [
       "FloatProgress(value=0.0, bar_style='info', description='Progress:', layout=Layout(height='25px', width='50%'),…"
      ]
     },
     "metadata": {},
     "output_type": "display_data"
    }
   ],
   "source": [
    "# Prepare the test set\n",
    "assembled_test = assembler_12.transform(prepared_test)\n",
    "\n",
    "# Select only the label and features columns\n",
    "labeled_test = assembled_test.select(assembled_test[\"features\"], assembled_test[\"CHURN\"].alias(\"label\"))"
   ]
  },
  {
   "cell_type": "markdown",
   "metadata": {},
   "source": [
    "__Logistic regression__"
   ]
  },
  {
   "cell_type": "code",
   "execution_count": 37,
   "metadata": {},
   "outputs": [
    {
     "data": {
      "application/vnd.jupyter.widget-view+json": {
       "model_id": "",
       "version_major": 2,
       "version_minor": 0
      },
      "text/plain": [
       "FloatProgress(value=0.0, bar_style='info', description='Progress:', layout=Layout(height='25px', width='50%'),…"
      ]
     },
     "metadata": {},
     "output_type": "display_data"
    },
    {
     "name": "stdout",
     "output_type": "stream",
     "text": [
      "Test Accuracy: 0.880\n",
      "Confusion matrix: \n",
      "[['tp: 22' 'fn: 50']\n",
      " ['fp: 12' 'tn: 433']]\n",
      "Recall: 0.306"
     ]
    }
   ],
   "source": [
    "# Make predictions on test set\n",
    "pred_test_lr = logRegModel.transform(labeled_test)\n",
    "\n",
    "# Compute the accuracy on the test set\n",
    "print(\"Test Accuracy: %.3f\" %  evaluator_acc.evaluate(pred_test_lr))\n",
    "\n",
    "# Confusion matrix\n",
    "(tn, fp, fn, tp)=confusion_matrix(pred_test_lr)\n",
    "# Confusion matrix in format [[tp, fn], [fp, tn]]\n",
    "print(\"Confusion matrix: \")\n",
    "print(np.array([[(\"tp: \"+str(tp)), (\"fn: \"+str(fn))], [(\"fp: \"+str(fp)), (\"tn: \"+str(tn))]]))\n",
    "\n",
    "# FNR\n",
    "print(\"Recall: %.3f\" %recall(tp, fn))"
   ]
  },
  {
   "cell_type": "markdown",
   "metadata": {},
   "source": [
    "__Random Forest__"
   ]
  },
  {
   "cell_type": "code",
   "execution_count": 38,
   "metadata": {},
   "outputs": [
    {
     "data": {
      "application/vnd.jupyter.widget-view+json": {
       "model_id": "",
       "version_major": 2,
       "version_minor": 0
      },
      "text/plain": [
       "FloatProgress(value=0.0, bar_style='info', description='Progress:', layout=Layout(height='25px', width='50%'),…"
      ]
     },
     "metadata": {},
     "output_type": "display_data"
    },
    {
     "name": "stdout",
     "output_type": "stream",
     "text": [
      "Test Accuracy = 0.911\n",
      "Confusion matrix: \n",
      "[['tp: 38' 'fn: 34']\n",
      " ['fp: 12' 'tn: 433']]\n",
      "recall: 0.528"
     ]
    }
   ],
   "source": [
    "# Make predictions on test set\n",
    "pred_test_rf = rfModel.transform(labeled_test)\n",
    "\n",
    "# Compute the accuracy on the test set\n",
    "print(\"Test Accuracy = %.3f\" %evaluator_acc.evaluate(pred_test_rf))\n",
    "\n",
    "# Confusion matrix\n",
    "(tn, fp, fn, tp)=confusion_matrix(pred_test_rf)\n",
    "# Confusion matrix in format [[tp, fn], [fp, tn]]\n",
    "print(\"Confusion matrix: \")\n",
    "print(np.array([[(\"tp: \"+str(tp)), (\"fn: \"+str(fn))], [(\"fp: \"+str(fp)), (\"tn: \"+str(tn))]]))\n",
    "\n",
    "# Recall\n",
    "print(\"recall: %.3f\" %recall(tp, fn))"
   ]
  },
  {
   "cell_type": "markdown",
   "metadata": {},
   "source": [
    "__GBT__"
   ]
  },
  {
   "cell_type": "code",
   "execution_count": 39,
   "metadata": {},
   "outputs": [
    {
     "data": {
      "application/vnd.jupyter.widget-view+json": {
       "model_id": "",
       "version_major": 2,
       "version_minor": 0
      },
      "text/plain": [
       "FloatProgress(value=0.0, bar_style='info', description='Progress:', layout=Layout(height='25px', width='50%'),…"
      ]
     },
     "metadata": {},
     "output_type": "display_data"
    },
    {
     "name": "stdout",
     "output_type": "stream",
     "text": [
      "Test Accuracy = 0.915\n",
      "Confusion matrix: \n",
      "[['tp: 41' 'fn: 31']\n",
      " ['fp: 13' 'tn: 432']]\n",
      "recall: 0.569"
     ]
    }
   ],
   "source": [
    "# Make predictions on test set\n",
    "pred_test_gbt = gbtModel.transform(labeled_test)\n",
    "\n",
    "# Compute the accuracy on the test set\n",
    "print(\"Test Accuracy = %.3f\" %evaluator_acc.evaluate(pred_test_gbt))\n",
    "\n",
    "# Confusion matrix\n",
    "(tn, fp, fn, tp)=confusion_matrix(pred_test_gbt)\n",
    "# Confusion matrix in format [[tp, fn], [fp, tn]]\n",
    "print(\"Confusion matrix: \")\n",
    "print(np.array([[(\"tp: \"+str(tp)), (\"fn: \"+str(fn))], [(\"fp: \"+str(fp)), (\"tn: \"+str(tn))]]))\n",
    "\n",
    "# Recall\n",
    "print(\"recall: %.3f\" %recall(tp, fn))"
   ]
  },
  {
   "cell_type": "markdown",
   "metadata": {},
   "source": [
    "__Model choice__ \n",
    "\n",
    "* Logistic regression \n",
    "\n",
    "It does clearly not perform as well as the ensemble models. \n",
    "\n",
    "Comparison between Random Forest and GBT :\n",
    "\n",
    "* Random Forest \n",
    "\n",
    "Hyperparameter takes only a couple of seconds. Performs well: high accuracy and recall.\n",
    "\n",
    "* GBT\n",
    "\n",
    "Hyperparameter tuning can take up to a few minutes. Highest recall by far but at the cost of accuracy because it has a high number of false positives, which is the secondary to us. Our main concern is recall.\n",
    "__=> We keep this model.__"
   ]
  },
  {
   "cell_type": "markdown",
   "metadata": {},
   "source": [
    "__Gains graph__"
   ]
  },
  {
   "cell_type": "code",
   "execution_count": 40,
   "metadata": {},
   "outputs": [
    {
     "data": {
      "application/vnd.jupyter.widget-view+json": {
       "model_id": "",
       "version_major": 2,
       "version_minor": 0
      },
      "text/plain": [
       "FloatProgress(value=0.0, bar_style='info', description='Progress:', layout=Layout(height='25px', width='50%'),…"
      ]
     },
     "metadata": {},
     "output_type": "display_data"
    }
   ],
   "source": [
    "pred_test_rf.createOrReplaceTempView(\"pred_test_rf\")"
   ]
  },
  {
   "cell_type": "code",
   "execution_count": 41,
   "metadata": {},
   "outputs": [
    {
     "data": {
      "application/vnd.jupyter.widget-view+json": {
       "model_id": "",
       "version_major": 2,
       "version_minor": 0
      },
      "text/plain": [
       "FloatProgress(value=0.0, bar_style='info', description='Progress:', layout=Layout(height='25px', width='50%'),…"
      ]
     },
     "metadata": {},
     "output_type": "display_data"
    },
    {
     "name": "stderr",
     "output_type": "stream",
     "text": [
      "/Users/eva.feillet/anaconda3/lib/python3.7/site-packages/autovizwidget/widget/utils.py:50: FutureWarning:\n",
      "\n",
      "A future version of pandas will default to `skipna=True`. To silence this warning, pass `skipna=True|False` explicitly.\n",
      "\n"
     ]
    },
    {
     "data": {
      "application/vnd.jupyter.widget-view+json": {
       "model_id": "cf398c986c3545909c9f15f788047c42",
       "version_major": 2,
       "version_minor": 0
      },
      "text/plain": [
       "VBox(children=(HBox(children=(HTML(value='Type:'), Button(description='Table', layout=Layout(width='70px'), st…"
      ]
     },
     "metadata": {},
     "output_type": "display_data"
    },
    {
     "data": {
      "application/vnd.jupyter.widget-view+json": {
       "model_id": "409ae466557d40d2892f61ea4ce80223",
       "version_major": 2,
       "version_minor": 0
      },
      "text/plain": [
       "Output()"
      ]
     },
     "metadata": {},
     "output_type": "display_data"
    }
   ],
   "source": [
    "%%sql -o pred_test_rf --maxrows -1\n",
    "SELECT * FROM pred_test_rf"
   ]
  },
  {
   "cell_type": "code",
   "execution_count": 42,
   "metadata": {},
   "outputs": [
    {
     "data": {
      "application/vnd.jupyter.widget-view+json": {
       "model_id": "",
       "version_major": 2,
       "version_minor": 0
      },
      "text/plain": [
       "FloatProgress(value=0.0, bar_style='info', description='Progress:', layout=Layout(height='25px', width='50%'),…"
      ]
     },
     "metadata": {},
     "output_type": "display_data"
    }
   ],
   "source": [
    "pred_test_lr.createOrReplaceTempView(\"pred_test_lr\")"
   ]
  },
  {
   "cell_type": "code",
   "execution_count": 43,
   "metadata": {},
   "outputs": [
    {
     "data": {
      "application/vnd.jupyter.widget-view+json": {
       "model_id": "",
       "version_major": 2,
       "version_minor": 0
      },
      "text/plain": [
       "FloatProgress(value=0.0, bar_style='info', description='Progress:', layout=Layout(height='25px', width='50%'),…"
      ]
     },
     "metadata": {},
     "output_type": "display_data"
    },
    {
     "data": {
      "application/vnd.jupyter.widget-view+json": {
       "model_id": "66ad395ba68d456eb36087d01d6fb819",
       "version_major": 2,
       "version_minor": 0
      },
      "text/plain": [
       "VBox(children=(HBox(children=(HTML(value='Type:'), Button(description='Table', layout=Layout(width='70px'), st…"
      ]
     },
     "metadata": {},
     "output_type": "display_data"
    },
    {
     "data": {
      "application/vnd.jupyter.widget-view+json": {
       "model_id": "caf1182f2884466c95f1eec38abec3bb",
       "version_major": 2,
       "version_minor": 0
      },
      "text/plain": [
       "Output()"
      ]
     },
     "metadata": {},
     "output_type": "display_data"
    }
   ],
   "source": [
    "%%sql -o pred_test_lr --maxrows -1\n",
    "SELECT * FROM pred_test_lr"
   ]
  },
  {
   "cell_type": "code",
   "execution_count": 44,
   "metadata": {},
   "outputs": [
    {
     "data": {
      "application/vnd.jupyter.widget-view+json": {
       "model_id": "",
       "version_major": 2,
       "version_minor": 0
      },
      "text/plain": [
       "FloatProgress(value=0.0, bar_style='info', description='Progress:', layout=Layout(height='25px', width='50%'),…"
      ]
     },
     "metadata": {},
     "output_type": "display_data"
    }
   ],
   "source": [
    "pred_test_gbt.createOrReplaceTempView(\"pred_test_gbt\")"
   ]
  },
  {
   "cell_type": "code",
   "execution_count": 45,
   "metadata": {},
   "outputs": [
    {
     "data": {
      "application/vnd.jupyter.widget-view+json": {
       "model_id": "",
       "version_major": 2,
       "version_minor": 0
      },
      "text/plain": [
       "FloatProgress(value=0.0, bar_style='info', description='Progress:', layout=Layout(height='25px', width='50%'),…"
      ]
     },
     "metadata": {},
     "output_type": "display_data"
    },
    {
     "data": {
      "application/vnd.jupyter.widget-view+json": {
       "model_id": "2e60395565634ea8a86945dbbe17383b",
       "version_major": 2,
       "version_minor": 0
      },
      "text/plain": [
       "VBox(children=(HBox(children=(HTML(value='Type:'), Button(description='Table', layout=Layout(width='70px'), st…"
      ]
     },
     "metadata": {},
     "output_type": "display_data"
    },
    {
     "data": {
      "application/vnd.jupyter.widget-view+json": {
       "model_id": "26f30c9da77542529f958ba22b6c2bed",
       "version_major": 2,
       "version_minor": 0
      },
      "text/plain": [
       "Output()"
      ]
     },
     "metadata": {},
     "output_type": "display_data"
    }
   ],
   "source": [
    "%%sql -o pred_test_gbt --maxrows -1\n",
    "SELECT * FROM pred_test_gbt"
   ]
  },
  {
   "cell_type": "code",
   "execution_count": 46,
   "metadata": {},
   "outputs": [],
   "source": [
    "%local \n",
    "\n",
    "def gainChart(pred_test):\n",
    "    \n",
    "    # Extract the relevant data\n",
    "\n",
    "    # Predicted proba that label is 1\n",
    "    proba0 = [x[\"values\"][0] for x in pred_test[\"probability\"]]\n",
    "    pred_test[\"proba0\"] = pd.Series(proba0)\n",
    "    sorted_pred_test = pred_test.sort_values(by=\"proba0\").drop([\"features\", \"rawPrediction\", \"probability\"], axis=1)\n",
    "\n",
    "    sorted_pred_test.head(5)\n",
    "\n",
    "    # Reset index\n",
    "    sorted_pred_test_bis = sorted_pred_test.reset_index(drop=True)\n",
    "    n = len(sorted_pred_test_bis)\n",
    "\n",
    "    # Add cumulated count for #customers and cumulated frequency for %churners\n",
    "\n",
    "    #Initialize columns\n",
    "    sorted_pred_test_bis[\"#Customers\"] = pd.Series([0 for x in range(n)])\n",
    "    #sorted_pred_test_bis[\"#predChurners\"] = pd.Series([0 for x in range(n)])\n",
    "    sorted_pred_test_bis[\"#trueChurners\"] = pd.Series([0 for x in range(n)])\n",
    "\n",
    "    # case i = 0\n",
    "    sorted_pred_test_bis[\"#Customers\"][0] = 1\n",
    "    #sorted_pred_test_bis[\"#predChurners\"][0] = sorted_pred_test_bis[\"prediction\"][0]\n",
    "    sorted_pred_test_bis[\"#trueChurners\"][0] = sorted_pred_test_bis[\"label\"][0]\n",
    "\n",
    "    # case i>0\n",
    "    for i in range(1,n):\n",
    "        sorted_pred_test_bis[\"#Customers\"][i] = i+1\n",
    "        #sorted_pred_test_bis[\"#predChurners\"][i] = sorted_pred_test_bis[\"#predChurners\"][i-1] + sorted_pred_test_bis[\"prediction\"][i]\n",
    "        sorted_pred_test_bis[\"#trueChurners\"][i] = sorted_pred_test_bis[\"#trueChurners\"][i-1] + sorted_pred_test_bis[\"label\"][i]\n",
    "\n",
    "    # Counters as percentages\n",
    "    m = sum(sorted_pred_test_bis[\"label\"])\n",
    "    #sorted_pred_test_bis[\"#predChurners\"]/= m  \n",
    "    sorted_pred_test_bis[\"#trueChurners\"]/= m\n",
    "    sorted_pred_test_bis[\"#Customers\"] /= n\n",
    "\n",
    "    \n",
    "    ## Extract x and y for plot \n",
    "\n",
    "    x = sorted_pred_test_bis[\"#Customers\"].values.tolist()\n",
    "    #y = [sorted_pred_test_bis[\"#trueChurners\"].values.tolist(), sorted_pred_test_bis[\"#predChurners\"].values.tolist()]\n",
    "    y = sorted_pred_test_bis[\"#trueChurners\"].values.tolist()\n",
    "    \n",
    "    return(x,y)"
   ]
  },
  {
   "cell_type": "code",
   "execution_count": 47,
   "metadata": {},
   "outputs": [
    {
     "name": "stderr",
     "output_type": "stream",
     "text": [
      "/Users/eva.feillet/anaconda3/lib/python3.7/site-packages/sparkmagic/kernels/pysparkkernel/pysparkkernel.py:24: SettingWithCopyWarning:\n",
      "\n",
      "\n",
      "A value is trying to be set on a copy of a slice from a DataFrame\n",
      "\n",
      "See the caveats in the documentation: http://pandas.pydata.org/pandas-docs/stable/indexing.html#indexing-view-versus-copy\n",
      "\n",
      "/Users/eva.feillet/anaconda3/lib/python3.7/site-packages/sparkmagic/kernels/pysparkkernel/pysparkkernel.py:26: SettingWithCopyWarning:\n",
      "\n",
      "\n",
      "A value is trying to be set on a copy of a slice from a DataFrame\n",
      "\n",
      "See the caveats in the documentation: http://pandas.pydata.org/pandas-docs/stable/indexing.html#indexing-view-versus-copy\n",
      "\n",
      "/Users/eva.feillet/anaconda3/lib/python3.7/site-packages/sparkmagic/kernels/pysparkkernel/pysparkkernel.py:30: SettingWithCopyWarning:\n",
      "\n",
      "\n",
      "A value is trying to be set on a copy of a slice from a DataFrame\n",
      "\n",
      "See the caveats in the documentation: http://pandas.pydata.org/pandas-docs/stable/indexing.html#indexing-view-versus-copy\n",
      "\n",
      "/Users/eva.feillet/anaconda3/lib/python3.7/site-packages/sparkmagic/kernels/pysparkkernel/pysparkkernel.py:32: SettingWithCopyWarning:\n",
      "\n",
      "\n",
      "A value is trying to be set on a copy of a slice from a DataFrame\n",
      "\n",
      "See the caveats in the documentation: http://pandas.pydata.org/pandas-docs/stable/indexing.html#indexing-view-versus-copy\n",
      "\n"
     ]
    }
   ],
   "source": [
    "%local\n",
    "from multiprocessing.dummy import Pool as ThreadPool\n",
    "# Parallelize tasks\n",
    "def calculateParallel_xy(dfList, threads=2):\n",
    "    pool = ThreadPool(threads)\n",
    "    results = pool.map(gainChart, dfList)\n",
    "    pool.close()\n",
    "    pool.join()\n",
    "    return results\n",
    "\n",
    "# Compute values\n",
    "dfList = [pred_test_lr, pred_test_rf, pred_test_gbt]\n",
    "xy_list = calculateParallel_xy(dfList, 4)\n",
    "[(x_lr, y_lr), (x_rf, y_rf), (x_gbt, y_gbt)] = xy_list"
   ]
  },
  {
   "cell_type": "code",
   "execution_count": 48,
   "metadata": {},
   "outputs": [
    {
     "data": {
      "image/png": "[encoded data removed]",
      "text/plain": [
       "<Figure size 720x576 with 1 Axes>"
      ]
     },
     "metadata": {
      "needs_background": "light"
     },
     "output_type": "display_data"
    }
   ],
   "source": [
    "%local\n",
    "\n",
    "## Plot all the curves on the same graph\n",
    "\n",
    "m = sum(pred_test_lr[\"label\"])\n",
    "n = len(pred_test_lr)\n",
    "\n",
    "ax, fig=plt.subplots(figsize=(10,8))\n",
    "    \n",
    "x_random = [0,1]\n",
    "y_random = [0,1]\n",
    "\n",
    "x_perfect = [0,m/n,1]\n",
    "y_perfect = [0,1,1]\n",
    "\n",
    "plt.ylim((0, 1.1)) \n",
    "\n",
    "plt.plot(x_perfect, y_perfect, color = 'grey', label = \"perfect\")\n",
    "plt.plot(x_random, y_random, color = 'b', label = \"random\")\n",
    "\n",
    "plt.plot(x_lr, y_lr, label=\"true churners Logistic Regression\")\n",
    "plt.plot(x_rf, y_rf, label=\"true churners Random Forest\")\n",
    "plt.plot(x_gbt, y_gbt, label=\"true churners GBT\")\n",
    "    \n",
    "    \n",
    "plt.xlabel('Customer Percentage', fontsize=15)\n",
    "plt.ylabel('True churners in % of the total number of churners', fontsize=15)\n",
    "ax.legend(loc='center')\n",
    "plt.title('Cumulative Gain Curves', fontsize=20)\n",
    "\n",
    "plt.show()    "
   ]
  },
  {
   "cell_type": "markdown",
   "metadata": {},
   "source": [
    "If we target 30 % of the customers which are the most likely to be churners, we are able to reach 80% of all real churners using the model obtained with GBT."
   ]
  },
  {
   "cell_type": "markdown",
   "metadata": {},
   "source": [
    "## 6. Save the results for deployment"
   ]
  },
  {
   "cell_type": "markdown",
   "metadata": {},
   "source": [
    "Optional : if you want to take a final look at your models' parameters before saving them."
   ]
  },
  {
   "cell_type": "code",
   "execution_count": 49,
   "metadata": {},
   "outputs": [
    {
     "data": {
      "application/vnd.jupyter.widget-view+json": {
       "model_id": "",
       "version_major": 2,
       "version_minor": 0
      },
      "text/plain": [
       "FloatProgress(value=0.0, bar_style='info', description='Progress:', layout=Layout(height='25px', width='50%'),…"
      ]
     },
     "metadata": {},
     "output_type": "display_data"
    },
    {
     "name": "stdout",
     "output_type": "stream",
     "text": [
      "KMeans parameters:\n",
      "featuresCol: features column name. (default: features)\n",
      "initMode: The initialization algorithm. This can be either \"random\" to choose random points as initial cluster centers, or \"k-means||\" to use a parallel variant of k-means++ (default: k-means||)\n",
      "initSteps: The number of steps for k-means|| initialization mode. Must be > 0. (default: 2)\n",
      "k: The number of clusters to create. Must be > 1. (default: 2, current: 15)\n",
      "maxIter: max number of iterations (>= 0). (default: 20)\n",
      "predictionCol: prediction column name. (default: prediction)\n",
      "seed: random seed. (default: 7969353092125344463, current: 1)\n",
      "tol: the convergence tolerance for iterative algorithms (>= 0). (default: 0.0001)\n",
      "\n",
      "Logistic Regression parameters:\n",
      "aggregationDepth: suggested depth for treeAggregate (>= 2). (default: 2)\n",
      "elasticNetParam: the ElasticNet mixing parameter, in range [0, 1]. For alpha = 0, the penalty is an L2 penalty. For alpha = 1, it is an L1 penalty. (default: 0.0, current: 0.001)\n",
      "family: The name of family which is a description of the label distribution to be used in the model. Supported options: auto, binomial, multinomial (default: auto)\n",
      "featuresCol: features column name. (default: features)\n",
      "fitIntercept: whether to fit an intercept term. (default: True)\n",
      "labelCol: label column name. (default: label)\n",
      "lowerBoundsOnCoefficients: The lower bounds on coefficients if fitting under bound constrained optimization. The bound matrix must be compatible with the shape (1, number of features) for binomial regression, or (number of classes, number of features) for multinomial regression. (undefined)\n",
      "lowerBoundsOnIntercepts: The lower bounds on intercepts if fitting under bound constrained optimization. The bounds vector size must beequal with 1 for binomial regression, or the number oflasses for multinomial regression. (undefined)\n",
      "maxIter: max number of iterations (>= 0). (default: 100, current: 100)\n",
      "predictionCol: prediction column name. (default: prediction)\n",
      "probabilityCol: Column name for predicted class conditional probabilities. Note: Not all models output well-calibrated probability estimates! These probabilities should be treated as confidences, not precise probabilities. (default: probability)\n",
      "rawPredictionCol: raw prediction (a.k.a. confidence) column name. (default: rawPrediction)\n",
      "regParam: regularization parameter (>= 0). (default: 0.0, current: 0.002)\n",
      "standardization: whether to standardize the training features before fitting the model. (default: True)\n",
      "threshold: Threshold in binary classification prediction, in range [0, 1]. If threshold and thresholds are both set, they must match.e.g. if threshold is p, then thresholds must be equal to [1-p, p]. (default: 0.5)\n",
      "thresholds: Thresholds in multi-class classification to adjust the probability of predicting each class. Array must have length equal to the number of classes, with values > 0, excepting that at most one value may be 0. The class with largest value p/t is predicted, where p is the original probability of that class and t is the class's threshold. (undefined)\n",
      "tol: the convergence tolerance for iterative algorithms (>= 0). (default: 1e-06)\n",
      "upperBoundsOnCoefficients: The upper bounds on coefficients if fitting under bound constrained optimization. The bound matrix must be compatible with the shape (1, number of features) for binomial regression, or (number of classes, number of features) for multinomial regression. (undefined)\n",
      "upperBoundsOnIntercepts: The upper bounds on intercepts if fitting under bound constrained optimization. The bound vector size must be equal with 1 for binomial regression, or the number of classes for multinomial regression. (undefined)\n",
      "weightCol: weight column name. If this is not set or empty, we treat all instance weights as 1.0. (undefined)\n",
      "\n",
      "Random Forest parameters:\n",
      "cacheNodeIds: If false, the algorithm will pass trees to executors to match instances with nodes. If true, the algorithm will cache node IDs for each instance. Caching can speed up training of deeper trees. Users can set how often should the cache be checkpointed or disable it by setting checkpointInterval. (default: False)\n",
      "checkpointInterval: set checkpoint interval (>= 1) or disable checkpoint (-1). E.g. 10 means that the cache will get checkpointed every 10 iterations. Note: this setting will be ignored if the checkpoint directory is not set in the SparkContext. (default: 10)\n",
      "featureSubsetStrategy: The number of features to consider for splits at each tree node. Supported options: auto, all, onethird, sqrt, log2, (0.0-1.0], [1-n]. (default: auto)\n",
      "featuresCol: features column name. (default: features)\n",
      "impurity: Criterion used for information gain calculation (case-insensitive). Supported options: entropy, gini (default: gini)\n",
      "labelCol: label column name. (default: label)\n",
      "maxBins: Max number of bins for discretizing continuous features.  Must be >=2 and >= number of categories for any categorical feature. (default: 32, current: 32)\n",
      "maxDepth: Maximum depth of the tree. (>= 0) E.g., depth 0 means 1 leaf node; depth 1 means 1 internal node + 2 leaf nodes. (default: 5, current: 10)\n",
      "maxMemoryInMB: Maximum memory in MB allocated to histogram aggregation. If too small, then 1 node will be split per iteration, and its aggregates may exceed this size. (default: 256)\n",
      "minInfoGain: Minimum information gain for a split to be considered at a tree node. (default: 0.0)\n",
      "minInstancesPerNode: Minimum number of instances each child must have after split. If a split causes the left or right child to have fewer than minInstancesPerNode, the split will be discarded as invalid. Should be >= 1. (default: 1)\n",
      "numTrees: Number of trees to train (>= 1). (default: 20, current: 20)\n",
      "predictionCol: prediction column name. (default: prediction)\n",
      "probabilityCol: Column name for predicted class conditional probabilities. Note: Not all models output well-calibrated probability estimates! These probabilities should be treated as confidences, not precise probabilities. (default: probability)\n",
      "rawPredictionCol: raw prediction (a.k.a. confidence) column name. (default: rawPrediction)\n",
      "seed: random seed. (default: -5387697053847413545)\n",
      "subsamplingRate: Fraction of the training data used for learning each decision tree, in range (0, 1]. (default: 1.0)\n",
      "\n",
      "Gadient Boosted Trees parameters:\n",
      "cacheNodeIds: If false, the algorithm will pass trees to executors to match instances with nodes. If true, the algorithm will cache node IDs for each instance. Caching can speed up training of deeper trees. Users can set how often should the cache be checkpointed or disable it by setting checkpointInterval. (default: False)\n",
      "checkpointInterval: set checkpoint interval (>= 1) or disable checkpoint (-1). E.g. 10 means that the cache will get checkpointed every 10 iterations. Note: this setting will be ignored if the checkpoint directory is not set in the SparkContext. (default: 10)\n",
      "featuresCol: features column name. (default: features)\n",
      "labelCol: label column name. (default: label)\n",
      "lossType: Loss function which GBT tries to minimize (case-insensitive). Supported options: logistic (default: logistic)\n",
      "maxBins: Max number of bins for discretizing continuous features.  Must be >=2 and >= number of categories for any categorical feature. (default: 32, current: 64)\n",
      "maxDepth: Maximum depth of the tree. (>= 0) E.g., depth 0 means 1 leaf node; depth 1 means 1 internal node + 2 leaf nodes. (default: 5, current: 5)\n",
      "maxIter: max number of iterations (>= 0). (default: 20)\n",
      "maxMemoryInMB: Maximum memory in MB allocated to histogram aggregation. If too small, then 1 node will be split per iteration, and its aggregates may exceed this size. (default: 256)\n",
      "minInfoGain: Minimum information gain for a split to be considered at a tree node. (default: 0.0)\n",
      "minInstancesPerNode: Minimum number of instances each child must have after split. If a split causes the left or right child to have fewer than minInstancesPerNode, the split will be discarded as invalid. Should be >= 1. (default: 1)\n",
      "predictionCol: prediction column name. (default: prediction)\n",
      "seed: random seed. (default: 3504127614838123891)\n",
      "stepSize: Step size (a.k.a. learning rate) in interval (0, 1] for shrinking the contribution of each estimator. (default: 0.1, current: 0.1)\n",
      "subsamplingRate: Fraction of the training data used for learning each decision tree, in range (0, 1]. (default: 1.0)"
     ]
    }
   ],
   "source": [
    "print(\"KMeans parameters:\\n\" + kmeans.explainParams() + \"\\n\")\n",
    "print(\"Logistic Regression parameters:\\n\" + logReg.explainParams() + \"\\n\")\n",
    "print(\"Random Forest parameters:\\n\" + rf.explainParams() + \"\\n\")\n",
    "print(\"Gadient Boosted Trees parameters:\\n\" + gbt.explainParams() + \"\\n\")"
   ]
  },
  {
   "cell_type": "markdown",
   "metadata": {},
   "source": [
    "__Method 1 : Extract parameter map__\n",
    "\n",
    "First, save the parameter map of each model. Then, create a new model and use algo.fit(training_set, saved_param). Here is an example with KMeans."
   ]
  },
  {
   "cell_type": "code",
   "execution_count": 50,
   "metadata": {},
   "outputs": [
    {
     "data": {
      "application/vnd.jupyter.widget-view+json": {
       "model_id": "",
       "version_major": 2,
       "version_minor": 0
      },
      "text/plain": [
       "FloatProgress(value=0.0, bar_style='info', description='Progress:', layout=Layout(height='25px', width='50%'),…"
      ]
     },
     "metadata": {},
     "output_type": "display_data"
    },
    {
     "name": "stdout",
     "output_type": "stream",
     "text": [
      "KMeans Model was fit using parameters: \n",
      "{Param(parent='KMeans_48db9f7085837226d9c9', name='featuresCol', doc='features column name'): 'features', Param(parent='KMeans_48db9f7085837226d9c9', name='initMode', doc=\"The initialization algorithm. Supported options: 'random' and 'k-means||'.\"): 'k-means||', Param(parent='KMeans_48db9f7085837226d9c9', name='initSteps', doc='The number of steps for k-means|| initialization mode. Must be > 0.'): 2, Param(parent='KMeans_48db9f7085837226d9c9', name='k', doc='The number of clusters to create. Must be > 1.'): 15, Param(parent='KMeans_48db9f7085837226d9c9', name='maxIter', doc='maximum number of iterations (>= 0)'): 20, Param(parent='KMeans_48db9f7085837226d9c9', name='predictionCol', doc='prediction column name'): 'prediction', Param(parent='KMeans_48db9f7085837226d9c9', name='seed', doc='random seed'): 1, Param(parent='KMeans_48db9f7085837226d9c9', name='tol', doc='the convergence tolerance for iterative algorithms (>= 0)'): 0.0001}"
     ]
    }
   ],
   "source": [
    "kmeansParamMap = clusterModel.extractParamMap()\n",
    "\n",
    "print(\"KMeans Model was fit using parameters: \")\n",
    "print(kmeansParamMap)\n",
    "\n",
    "kmeans2 = kmeans.fit(train_12, kmeansParamMap)"
   ]
  },
  {
   "cell_type": "markdown",
   "metadata": {},
   "source": [
    "__Method 2 : Save models as files__"
   ]
  },
  {
   "cell_type": "code",
   "execution_count": 51,
   "metadata": {},
   "outputs": [
    {
     "data": {
      "application/vnd.jupyter.widget-view+json": {
       "model_id": "",
       "version_major": 2,
       "version_minor": 0
      },
      "text/plain": [
       "FloatProgress(value=0.0, bar_style='info', description='Progress:', layout=Layout(height='25px', width='50%'),…"
      ]
     },
     "metadata": {},
     "output_type": "display_data"
    }
   ],
   "source": [
    "# just use model.save(\"path\") if there is no name conflict\n",
    "clusterModel.write().overwrite().save(\"/tmp/myClusterModel\")\n",
    "logRegModel.write().overwrite().save(\"/tmp/myLogRegModel\")\n",
    "rfModel.write().overwrite().save(\"/tmp/myRFModel\")\n",
    "gbtModel.write().overwrite().save(\"/tmp/myGBTModel\")"
   ]
  },
  {
   "cell_type": "markdown",
   "metadata": {},
   "source": [
    "## What you've learned\n",
    "\n",
    "Congratulations!\n",
    "\n",
    "Through this notebook, you've learned how to:\n",
    "\n",
    "* use PySpark for a classic workflow, from data preparation to model assessment\n",
    "* build models using both supervised and unsupervised learning\n",
    "* compute and visualize useful indicators in order to evaluate a model\n",
    "* save a model for future use."
   ]
  },
  {
   "cell_type": "markdown",
   "metadata": {},
   "source": [
    "    ## TEST: feature scaling ##\n",
    "    from pyspark.ml.feature import MinMaxScaler\n",
    "    scaler = StandardScaler(inputCol = \"featuresClustering\", outputCol = \"features\", withStd = True, withMean = False)\n",
    "    scalerModel = scaler.fit(train_12)\n",
    "\n",
    "    scaled_train = scalerModel.transform(train_12)"
   ]
  }
 ],
 "metadata": {
  "kernelspec": {
   "display_name": "PySpark",
   "language": "",
   "name": "pysparkkernel"
  },
  "language_info": {
   "codemirror_mode": {
    "name": "python",
    "version": 2
   },
   "mimetype": "text/x-python",
   "name": "pyspark",
   "pygments_lexer": "python2"
  }
 },
 "nbformat": 4,
 "nbformat_minor": 2
}
