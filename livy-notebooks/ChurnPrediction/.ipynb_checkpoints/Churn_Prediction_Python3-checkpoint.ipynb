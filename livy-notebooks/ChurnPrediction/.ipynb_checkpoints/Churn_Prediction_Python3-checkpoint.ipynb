{
 "cells": [
  {
   "cell_type": "markdown",
   "metadata": {},
   "source": [
    "# Customer Churn Prediction with IBM Db2 Warehouse using sklearn\n",
    "\n",
    "__Introduction__\n",
    "\n",
    "This notebook presents a churn prediction use case using anonymized customer data from a phone operator. It uses IBM Db2 Warehouse and runs on a Python3 kernel. Some visualizations are plotted locally using seaborn and matplotlib, modelisation is done with sklearn. Data is accessed to using ibmdbPy. The ibmdbPy package provides methods to read data from, write data to, and sample data from a Db2 database. It also provides access methods for in-database analytic or geospatial functions. For more information abour ibmdbpy, please follow this [link](https://www.ibm.com/support/knowledgecenter/fr/SSFMBX/com.ibm.swg.im.dashdb.analytics.doc/doc/analyze_python.html).\n",
    "\n",
    "Our goal is to accurately predict whether a customer is going to end his/her contract (labeled as positive,1). We prefer to send a commercial email to someone who intends to keep her contract but is labeled as willing to end it (false positive) rather than to overlook the opportunity to prevent a customer from ending her contract (false negative), but also care not to overwhelm our customers with commercials or to lose money by proposing special offers to too many people. Our optimization objective will here be to maximize recall. We will also look at other classic metrics too.\n",
    "\n",
    "__Contents__\n",
    "1. Get ready\n",
    "2. Explore the data\n",
    "3. Train your first models\n",
    "4. Find the best hyperparameters with a grid search\n",
    "5. Assess your model performance on the test set\n",
    "6. Save your model for future use\n",
    "\n",
    "\n",
    "__Requirements:__\n",
    "\n",
    "* connection to Db2 Warehouse\n",
    "* ibmdbpy for accessing data from Db2 Warehouse\n",
    "* Python 3 including pandas, sklearn, joblib"
   ]
  },
  {
   "cell_type": "markdown",
   "metadata": {},
   "source": [
    "## 1. Get ready"
   ]
  },
  {
   "cell_type": "markdown",
   "metadata": {},
   "source": [
    "__Imports__\n",
    "\n",
    "Lets start by loading ibmdbPy. We will also need to import JayDeBeAPI package to connect to the database using JDBC from ibmdbPy."
   ]
  },
  {
   "cell_type": "code",
   "execution_count": 1,
   "metadata": {},
   "outputs": [],
   "source": [
    "import jaydebeapi\n",
    "from ibmdbpy import IdaDataBase\n",
    "from ibmdbpy import IdaDataFrame"
   ]
  },
  {
   "cell_type": "markdown",
   "metadata": {},
   "source": [
    "We import pandas for data exploration and transformation, sklearn for modelisation and evaluation, joblib for model persistence. We will also plot some graphs with matplotlib."
   ]
  },
  {
   "cell_type": "code",
   "execution_count": 2,
   "metadata": {},
   "outputs": [],
   "source": [
    "%matplotlib inline\n",
    "\n",
    "import matplotlib.pyplot as plt\n",
    "import seaborn as sns\n",
    "\n",
    "import pandas as pd\n",
    "import numpy as np\n",
    "\n",
    "from sklearn.linear_model import LogisticRegression\n",
    "from sklearn.ensemble import RandomForestClassifier\n",
    "from sklearn.ensemble import GradientBoostingClassifier\n",
    "\n",
    "from sklearn import metrics\n",
    "from sklearn.metrics import classification_report\n",
    "\n",
    "from sklearn.model_selection import cross_val_score\n",
    "\n",
    "from sklearn.feature_selection import SelectKBest\n",
    "\n",
    "from joblib import dump, load\n",
    "from sklearn.model_selection import train_test_split"
   ]
  },
  {
   "cell_type": "markdown",
   "metadata": {},
   "source": [
    "__Enter your database credentials__"
   ]
  },
  {
   "cell_type": "code",
   "execution_count": 3,
   "metadata": {},
   "outputs": [],
   "source": [
    "#Enter the values for you database connection\n",
    "dsn_database = \"BLUDB\"            # e.g. \"BLUDB\"\n",
    "dsn_hostname = \"idax29.svl.ibm.com\" # e.g.: \"bluemix05.bluforcloud.com\"\n",
    "dsn_port = \"50000\"                # e.g. \"50000\"\n",
    "dsn_uid = \"bluadmin\"        # e.g. \"dash104434\"\n",
    "dsn_pwd = \"curymuryfuk\"       # e.g. \"7dBZ3jWt9xN6$o0JiX!m\""
   ]
  },
  {
   "cell_type": "markdown",
   "metadata": {},
   "source": [
    "Note : you may get the following message:\n",
    "\n",
    "HELP: The JDBC driver for IBM Db2 could not be found. Please download the latest JDBC Driver at the following address: 'http://www-01.ibm.com/support/docview.wss?uid=swg21363866' and put the file 'db2jcc.jar' or 'db2jcc4.jar' in the CLASSPATH variable or in a folder that is in the CLASSPATH variable. Alternatively place it in the folder /Users/<user_name>/anaconda3/lib/python3.7/site-packages/ibmdbpy\n",
    "\n",
    "In this case, follow the steps and don't forget to select the right platform in the menu on IBM's fix catalog. You can check out your CLASSPATH with \n",
    "> import os\n",
    "\n",
    "> print(os.environ[\"CLASSPATH\"])"
   ]
  },
  {
   "cell_type": "code",
   "execution_count": 4,
   "metadata": {},
   "outputs": [],
   "source": [
    "connection_string='jdbc:db2://'+dsn_hostname+':'+dsn_port+'/'+dsn_database+':user='+dsn_uid+';password='+dsn_pwd+\";\" \n",
    "idadb=IdaDataBase(dsn=connection_string)"
   ]
  },
  {
   "cell_type": "markdown",
   "metadata": {},
   "source": [
    "Congratulations! You are now connected to Db2 and can perform in-database analytics with ibmpbpy!\n",
    "\n",
    "As a starter, let's take a quick look at the tables you've got. Documentation for ibmpbpy can be found on this [page](https://pythonhosted.org/ibmdbpy/start.html)."
   ]
  },
  {
   "cell_type": "code",
   "execution_count": 5,
   "metadata": {},
   "outputs": [
    {
     "data": {
      "text/html": [
       "<div>\n",
       "<style scoped>\n",
       "    .dataframe tbody tr th:only-of-type {\n",
       "        vertical-align: middle;\n",
       "    }\n",
       "\n",
       "    .dataframe tbody tr th {\n",
       "        vertical-align: top;\n",
       "    }\n",
       "\n",
       "    .dataframe thead th {\n",
       "        text-align: right;\n",
       "    }\n",
       "</style>\n",
       "<table border=\"1\" class=\"dataframe\">\n",
       "  <thead>\n",
       "    <tr style=\"text-align: right;\">\n",
       "      <th></th>\n",
       "      <th>TABSCHEMA</th>\n",
       "      <th>TABNAME</th>\n",
       "      <th>OWNER</th>\n",
       "      <th>TYPE</th>\n",
       "    </tr>\n",
       "  </thead>\n",
       "  <tbody>\n",
       "    <tr>\n",
       "      <th>0</th>\n",
       "      <td>BLUADMIN</td>\n",
       "      <td>CHURN_PROPORTION</td>\n",
       "      <td>BLUADMIN</td>\n",
       "      <td>T</td>\n",
       "    </tr>\n",
       "    <tr>\n",
       "      <th>1</th>\n",
       "      <td>BLUADMIN</td>\n",
       "      <td>CI_KM5C_CLUSTERS</td>\n",
       "      <td>BLUADMIN</td>\n",
       "      <td>T</td>\n",
       "    </tr>\n",
       "    <tr>\n",
       "      <th>2</th>\n",
       "      <td>BLUADMIN</td>\n",
       "      <td>CI_KM5C_COLUMNS</td>\n",
       "      <td>BLUADMIN</td>\n",
       "      <td>T</td>\n",
       "    </tr>\n",
       "    <tr>\n",
       "      <th>3</th>\n",
       "      <td>BLUADMIN</td>\n",
       "      <td>CI_KM5C_COLUMN_STATISTICS</td>\n",
       "      <td>BLUADMIN</td>\n",
       "      <td>T</td>\n",
       "    </tr>\n",
       "    <tr>\n",
       "      <th>4</th>\n",
       "      <td>BLUADMIN</td>\n",
       "      <td>CI_KM5C_MODEL</td>\n",
       "      <td>BLUADMIN</td>\n",
       "      <td>T</td>\n",
       "    </tr>\n",
       "  </tbody>\n",
       "</table>\n",
       "</div>"
      ],
      "text/plain": [
       "  TABSCHEMA                    TABNAME     OWNER TYPE\n",
       "0  BLUADMIN           CHURN_PROPORTION  BLUADMIN    T\n",
       "1  BLUADMIN           CI_KM5C_CLUSTERS  BLUADMIN    T\n",
       "2  BLUADMIN            CI_KM5C_COLUMNS  BLUADMIN    T\n",
       "3  BLUADMIN  CI_KM5C_COLUMN_STATISTICS  BLUADMIN    T\n",
       "4  BLUADMIN              CI_KM5C_MODEL  BLUADMIN    T"
      ]
     },
     "execution_count": 5,
     "metadata": {},
     "output_type": "execute_result"
    }
   ],
   "source": [
    "test_df=idadb.show_tables(show_all = True)\n",
    "test_df.head(5)"
   ]
  },
  {
   "cell_type": "markdown",
   "metadata": {},
   "source": [
    "__Load the data__\n",
    "\n",
    "Let's use a table which has been pre-populated in Db2 local. It is called SAMPLES.TRAINING. "
   ]
  },
  {
   "cell_type": "code",
   "execution_count": 6,
   "metadata": {},
   "outputs": [
    {
     "name": "stdout",
     "output_type": "stream",
     "text": [
      "<class 'ibmdbpy.frame.IdaDataFrame'>\n"
     ]
    }
   ],
   "source": [
    "# Open an IdaDataFrame\n",
    "idadf = IdaDataFrame(idadb, 'SAMPLES.TRAINING')\n",
    "print(type(idadf))"
   ]
  },
  {
   "cell_type": "code",
   "execution_count": 7,
   "metadata": {},
   "outputs": [
    {
     "data": {
      "text/html": [
       "<div>\n",
       "<style scoped>\n",
       "    .dataframe tbody tr th:only-of-type {\n",
       "        vertical-align: middle;\n",
       "    }\n",
       "\n",
       "    .dataframe tbody tr th {\n",
       "        vertical-align: top;\n",
       "    }\n",
       "\n",
       "    .dataframe thead th {\n",
       "        text-align: right;\n",
       "    }\n",
       "</style>\n",
       "<table border=\"1\" class=\"dataframe\">\n",
       "  <thead>\n",
       "    <tr style=\"text-align: right;\">\n",
       "      <th></th>\n",
       "      <th>CHURN</th>\n",
       "      <th>AREA</th>\n",
       "      <th>VMAIL</th>\n",
       "      <th>VMAIL_MSGS</th>\n",
       "      <th>DAY_MINS</th>\n",
       "      <th>DAY_CALLS</th>\n",
       "      <th>DAY_CHARGE</th>\n",
       "      <th>EVE_MINS</th>\n",
       "      <th>EVE_CALLS</th>\n",
       "      <th>EVE_CHARGE</th>\n",
       "      <th>NIGHT_MINS</th>\n",
       "      <th>NIGHT_CALLS</th>\n",
       "      <th>NIGHT_CHARGE</th>\n",
       "      <th>INTL_MINS</th>\n",
       "      <th>INTL_CALLS</th>\n",
       "      <th>INTL_CHARGE</th>\n",
       "      <th>SVC_CALLS</th>\n",
       "    </tr>\n",
       "  </thead>\n",
       "  <tbody>\n",
       "    <tr>\n",
       "      <th>0</th>\n",
       "      <td>0</td>\n",
       "      <td>408</td>\n",
       "      <td>0</td>\n",
       "      <td>19</td>\n",
       "      <td>154.6</td>\n",
       "      <td>100</td>\n",
       "      <td>26.28</td>\n",
       "      <td>241.6</td>\n",
       "      <td>109</td>\n",
       "      <td>20.54</td>\n",
       "      <td>160.0</td>\n",
       "      <td>112</td>\n",
       "      <td>7.20</td>\n",
       "      <td>12.6</td>\n",
       "      <td>1</td>\n",
       "      <td>3.40</td>\n",
       "      <td>3</td>\n",
       "    </tr>\n",
       "    <tr>\n",
       "      <th>1</th>\n",
       "      <td>0</td>\n",
       "      <td>415</td>\n",
       "      <td>1</td>\n",
       "      <td>0</td>\n",
       "      <td>246.5</td>\n",
       "      <td>108</td>\n",
       "      <td>41.91</td>\n",
       "      <td>216.3</td>\n",
       "      <td>89</td>\n",
       "      <td>18.39</td>\n",
       "      <td>179.6</td>\n",
       "      <td>99</td>\n",
       "      <td>8.08</td>\n",
       "      <td>12.7</td>\n",
       "      <td>3</td>\n",
       "      <td>3.43</td>\n",
       "      <td>2</td>\n",
       "    </tr>\n",
       "    <tr>\n",
       "      <th>2</th>\n",
       "      <td>0</td>\n",
       "      <td>408</td>\n",
       "      <td>1</td>\n",
       "      <td>0</td>\n",
       "      <td>242.5</td>\n",
       "      <td>82</td>\n",
       "      <td>41.23</td>\n",
       "      <td>232.9</td>\n",
       "      <td>97</td>\n",
       "      <td>19.80</td>\n",
       "      <td>154.0</td>\n",
       "      <td>86</td>\n",
       "      <td>6.93</td>\n",
       "      <td>9.6</td>\n",
       "      <td>7</td>\n",
       "      <td>2.59</td>\n",
       "      <td>0</td>\n",
       "    </tr>\n",
       "    <tr>\n",
       "      <th>3</th>\n",
       "      <td>0</td>\n",
       "      <td>510</td>\n",
       "      <td>1</td>\n",
       "      <td>0</td>\n",
       "      <td>119.3</td>\n",
       "      <td>82</td>\n",
       "      <td>20.28</td>\n",
       "      <td>185.1</td>\n",
       "      <td>111</td>\n",
       "      <td>15.73</td>\n",
       "      <td>157.0</td>\n",
       "      <td>74</td>\n",
       "      <td>7.07</td>\n",
       "      <td>10.9</td>\n",
       "      <td>4</td>\n",
       "      <td>2.94</td>\n",
       "      <td>2</td>\n",
       "    </tr>\n",
       "    <tr>\n",
       "      <th>4</th>\n",
       "      <td>0</td>\n",
       "      <td>510</td>\n",
       "      <td>1</td>\n",
       "      <td>0</td>\n",
       "      <td>144.2</td>\n",
       "      <td>87</td>\n",
       "      <td>24.51</td>\n",
       "      <td>212.2</td>\n",
       "      <td>74</td>\n",
       "      <td>18.04</td>\n",
       "      <td>169.3</td>\n",
       "      <td>87</td>\n",
       "      <td>7.62</td>\n",
       "      <td>9.5</td>\n",
       "      <td>4</td>\n",
       "      <td>2.57</td>\n",
       "      <td>0</td>\n",
       "    </tr>\n",
       "  </tbody>\n",
       "</table>\n",
       "</div>"
      ],
      "text/plain": [
       "   CHURN  AREA  VMAIL  VMAIL_MSGS  DAY_MINS  DAY_CALLS  DAY_CHARGE  EVE_MINS  \\\n",
       "0      0   408      0          19     154.6        100       26.28     241.6   \n",
       "1      0   415      1           0     246.5        108       41.91     216.3   \n",
       "2      0   408      1           0     242.5         82       41.23     232.9   \n",
       "3      0   510      1           0     119.3         82       20.28     185.1   \n",
       "4      0   510      1           0     144.2         87       24.51     212.2   \n",
       "\n",
       "   EVE_CALLS  EVE_CHARGE  NIGHT_MINS  NIGHT_CALLS  NIGHT_CHARGE  INTL_MINS  \\\n",
       "0        109       20.54       160.0          112          7.20       12.6   \n",
       "1         89       18.39       179.6           99          8.08       12.7   \n",
       "2         97       19.80       154.0           86          6.93        9.6   \n",
       "3        111       15.73       157.0           74          7.07       10.9   \n",
       "4         74       18.04       169.3           87          7.62        9.5   \n",
       "\n",
       "   INTL_CALLS  INTL_CHARGE  SVC_CALLS  \n",
       "0           1         3.40          3  \n",
       "1           3         3.43          2  \n",
       "2           7         2.59          0  \n",
       "3           4         2.94          2  \n",
       "4           4         2.57          0  "
      ]
     },
     "execution_count": 7,
     "metadata": {},
     "output_type": "execute_result"
    }
   ],
   "source": [
    "# Take a first look at the data\n",
    "idadf.head()"
   ]
  },
  {
   "cell_type": "markdown",
   "metadata": {},
   "source": [
    "How many records do we have? how many features? "
   ]
  },
  {
   "cell_type": "code",
   "execution_count": 8,
   "metadata": {},
   "outputs": [
    {
     "name": "stdout",
     "output_type": "stream",
     "text": [
      "Number of records: 3333\n",
      "Number of features:  17\n"
     ]
    }
   ],
   "source": [
    "print('Number of records: %3.f' %idadf.shape[0])\n",
    "print('Number of features: %3.f' %idadf.shape[1])"
   ]
  },
  {
   "cell_type": "markdown",
   "metadata": {},
   "source": [
    "__Convert into a Pandas DataFrame__\n",
    "\n",
    "Because we want to use sklearn rather than ibmdbpy functions here, we convert our IdaDataFrame into a pandas Dataframe."
   ]
  },
  {
   "cell_type": "code",
   "execution_count": 9,
   "metadata": {},
   "outputs": [
    {
     "name": "stdout",
     "output_type": "stream",
     "text": [
      "<class 'pandas.core.frame.DataFrame'>\n"
     ]
    }
   ],
   "source": [
    "df = idadf.as_dataframe()\n",
    "print(type(df))"
   ]
  },
  {
   "cell_type": "markdown",
   "metadata": {},
   "source": [
    "__Split the data__\n",
    "\n",
    "We split the data into two datasets: the first one for training and validation, the second one for testing. We use the proportions 85% / 15% so that we keep a relatively high number of examples for cross validation but also have enough examples for the test set to be representative. Of course these proportions are subjective, you can change them if you want. We have also defined a seed so that results can be reproduced."
   ]
  },
  {
   "cell_type": "code",
   "execution_count": 10,
   "metadata": {},
   "outputs": [
    {
     "name": "stdout",
     "output_type": "stream",
     "text": [
      "Number of examples for cross validation: 2833\n",
      "Number of examples for test: 500\n"
     ]
    }
   ],
   "source": [
    "#Isolate label from features\n",
    "x = df.drop(\"CHURN\", axis=1)\n",
    "y = df[\"CHURN\"]\n",
    "\n",
    "# Define ratio\n",
    "ratio_test = 0.15\n",
    "\n",
    "# First split: remaining + test\n",
    "cross_val_x, test_x, cross_val_y, test_y = train_test_split(x, y, test_size=ratio_test, random_state=1)\n",
    "\n",
    "print(\"Number of examples for cross validation: %3.f\" %len(cross_val_y))\n",
    "print(\"Number of examples for test: %3.f\" %len(test_y))"
   ]
  },
  {
   "cell_type": "markdown",
   "metadata": {},
   "source": [
    "## 2. Explore the data\n",
    "\n",
    "We only explore the cross-validation set."
   ]
  },
  {
   "cell_type": "markdown",
   "metadata": {},
   "source": [
    "__Data schema__\n",
    "\n",
    "Let's see what kind of features we have."
   ]
  },
  {
   "cell_type": "code",
   "execution_count": 11,
   "metadata": {},
   "outputs": [
    {
     "name": "stdout",
     "output_type": "stream",
     "text": [
      "Index(['AREA', 'VMAIL', 'VMAIL_MSGS', 'DAY_MINS', 'DAY_CALLS', 'DAY_CHARGE',\n",
      "       'EVE_MINS', 'EVE_CALLS', 'EVE_CHARGE', 'NIGHT_MINS', 'NIGHT_CALLS',\n",
      "       'NIGHT_CHARGE', 'INTL_MINS', 'INTL_CALLS', 'INTL_CHARGE', 'SVC_CALLS'],\n",
      "      dtype='object')\n"
     ]
    }
   ],
   "source": [
    "print(cross_val_x.columns)"
   ]
  },
  {
   "cell_type": "markdown",
   "metadata": {},
   "source": [
    "Columns include:\n",
    "\n",
    "- Area : a geographic label, we might wonder which impact this feature has on churn\n",
    "- VMail: whether voice messages have been left\n",
    "- VMail_msgs: number of voice messages\n",
    "- day_mins, eve_mins, night_mins, intl_mins: time spend calling in the day/evening/night/abroad\n",
    "- day_calls, eve_calls, night_calls, intl_calls: number of calls in each category\n",
    "- day_charge, eve_charge, night_charge, intl_charge: price charged for each category\n",
    "- svc_calls: service calls.\n",
    "\n",
    "Churn is our label : whether the customer resigned his/her phone subscription, this is our target"
   ]
  },
  {
   "cell_type": "markdown",
   "metadata": {},
   "source": [
    "__Basic statistics__"
   ]
  },
  {
   "cell_type": "code",
   "execution_count": 12,
   "metadata": {},
   "outputs": [
    {
     "data": {
      "text/html": [
       "<div>\n",
       "<style scoped>\n",
       "    .dataframe tbody tr th:only-of-type {\n",
       "        vertical-align: middle;\n",
       "    }\n",
       "\n",
       "    .dataframe tbody tr th {\n",
       "        vertical-align: top;\n",
       "    }\n",
       "\n",
       "    .dataframe thead th {\n",
       "        text-align: right;\n",
       "    }\n",
       "</style>\n",
       "<table border=\"1\" class=\"dataframe\">\n",
       "  <thead>\n",
       "    <tr style=\"text-align: right;\">\n",
       "      <th></th>\n",
       "      <th>AREA</th>\n",
       "      <th>VMAIL</th>\n",
       "      <th>VMAIL_MSGS</th>\n",
       "      <th>DAY_MINS</th>\n",
       "      <th>DAY_CALLS</th>\n",
       "      <th>DAY_CHARGE</th>\n",
       "      <th>EVE_MINS</th>\n",
       "      <th>EVE_CALLS</th>\n",
       "      <th>EVE_CHARGE</th>\n",
       "      <th>NIGHT_MINS</th>\n",
       "      <th>NIGHT_CALLS</th>\n",
       "      <th>NIGHT_CHARGE</th>\n",
       "      <th>INTL_MINS</th>\n",
       "      <th>INTL_CALLS</th>\n",
       "      <th>INTL_CHARGE</th>\n",
       "      <th>SVC_CALLS</th>\n",
       "    </tr>\n",
       "  </thead>\n",
       "  <tbody>\n",
       "    <tr>\n",
       "      <th>count</th>\n",
       "      <td>2833.000000</td>\n",
       "      <td>2833.000000</td>\n",
       "      <td>2833.000000</td>\n",
       "      <td>2833.000000</td>\n",
       "      <td>2833.000000</td>\n",
       "      <td>2833.000000</td>\n",
       "      <td>2833.000000</td>\n",
       "      <td>2833.000000</td>\n",
       "      <td>2833.000000</td>\n",
       "      <td>2833.000000</td>\n",
       "      <td>2833.000000</td>\n",
       "      <td>2833.000000</td>\n",
       "      <td>2833.000000</td>\n",
       "      <td>2833.000000</td>\n",
       "      <td>2833.000000</td>\n",
       "      <td>2833.000000</td>\n",
       "    </tr>\n",
       "    <tr>\n",
       "      <th>mean</th>\n",
       "      <td>437.501588</td>\n",
       "      <td>0.723968</td>\n",
       "      <td>8.114013</td>\n",
       "      <td>180.030957</td>\n",
       "      <td>100.430639</td>\n",
       "      <td>30.605814</td>\n",
       "      <td>200.985563</td>\n",
       "      <td>100.121779</td>\n",
       "      <td>17.083922</td>\n",
       "      <td>201.104130</td>\n",
       "      <td>100.163784</td>\n",
       "      <td>9.049806</td>\n",
       "      <td>10.222873</td>\n",
       "      <td>4.469820</td>\n",
       "      <td>2.760713</td>\n",
       "      <td>1.555948</td>\n",
       "    </tr>\n",
       "    <tr>\n",
       "      <th>std</th>\n",
       "      <td>42.581437</td>\n",
       "      <td>0.447112</td>\n",
       "      <td>13.723461</td>\n",
       "      <td>54.496793</td>\n",
       "      <td>20.066016</td>\n",
       "      <td>9.264416</td>\n",
       "      <td>50.496372</td>\n",
       "      <td>19.984130</td>\n",
       "      <td>4.292194</td>\n",
       "      <td>50.144205</td>\n",
       "      <td>19.608744</td>\n",
       "      <td>2.256550</td>\n",
       "      <td>2.822454</td>\n",
       "      <td>2.464699</td>\n",
       "      <td>0.762022</td>\n",
       "      <td>1.316639</td>\n",
       "    </tr>\n",
       "    <tr>\n",
       "      <th>min</th>\n",
       "      <td>408.000000</td>\n",
       "      <td>0.000000</td>\n",
       "      <td>0.000000</td>\n",
       "      <td>0.000000</td>\n",
       "      <td>0.000000</td>\n",
       "      <td>0.000000</td>\n",
       "      <td>0.000000</td>\n",
       "      <td>0.000000</td>\n",
       "      <td>0.000000</td>\n",
       "      <td>23.200000</td>\n",
       "      <td>33.000000</td>\n",
       "      <td>1.040000</td>\n",
       "      <td>0.000000</td>\n",
       "      <td>0.000000</td>\n",
       "      <td>0.000000</td>\n",
       "      <td>0.000000</td>\n",
       "    </tr>\n",
       "    <tr>\n",
       "      <th>25%</th>\n",
       "      <td>408.000000</td>\n",
       "      <td>0.000000</td>\n",
       "      <td>0.000000</td>\n",
       "      <td>143.700000</td>\n",
       "      <td>87.000000</td>\n",
       "      <td>24.430000</td>\n",
       "      <td>167.100000</td>\n",
       "      <td>87.000000</td>\n",
       "      <td>14.200000</td>\n",
       "      <td>166.800000</td>\n",
       "      <td>87.000000</td>\n",
       "      <td>7.510000</td>\n",
       "      <td>8.500000</td>\n",
       "      <td>3.000000</td>\n",
       "      <td>2.300000</td>\n",
       "      <td>1.000000</td>\n",
       "    </tr>\n",
       "    <tr>\n",
       "      <th>50%</th>\n",
       "      <td>415.000000</td>\n",
       "      <td>1.000000</td>\n",
       "      <td>0.000000</td>\n",
       "      <td>180.300000</td>\n",
       "      <td>101.000000</td>\n",
       "      <td>30.650000</td>\n",
       "      <td>201.600000</td>\n",
       "      <td>100.000000</td>\n",
       "      <td>17.140000</td>\n",
       "      <td>201.200000</td>\n",
       "      <td>100.000000</td>\n",
       "      <td>9.050000</td>\n",
       "      <td>10.300000</td>\n",
       "      <td>4.000000</td>\n",
       "      <td>2.780000</td>\n",
       "      <td>1.000000</td>\n",
       "    </tr>\n",
       "    <tr>\n",
       "      <th>75%</th>\n",
       "      <td>510.000000</td>\n",
       "      <td>1.000000</td>\n",
       "      <td>20.000000</td>\n",
       "      <td>216.800000</td>\n",
       "      <td>114.000000</td>\n",
       "      <td>36.860000</td>\n",
       "      <td>234.100000</td>\n",
       "      <td>114.000000</td>\n",
       "      <td>19.900000</td>\n",
       "      <td>235.100000</td>\n",
       "      <td>113.000000</td>\n",
       "      <td>10.580000</td>\n",
       "      <td>12.100000</td>\n",
       "      <td>6.000000</td>\n",
       "      <td>3.270000</td>\n",
       "      <td>2.000000</td>\n",
       "    </tr>\n",
       "    <tr>\n",
       "      <th>max</th>\n",
       "      <td>510.000000</td>\n",
       "      <td>1.000000</td>\n",
       "      <td>51.000000</td>\n",
       "      <td>350.800000</td>\n",
       "      <td>165.000000</td>\n",
       "      <td>59.640000</td>\n",
       "      <td>363.700000</td>\n",
       "      <td>170.000000</td>\n",
       "      <td>30.910000</td>\n",
       "      <td>395.000000</td>\n",
       "      <td>175.000000</td>\n",
       "      <td>17.770000</td>\n",
       "      <td>20.000000</td>\n",
       "      <td>20.000000</td>\n",
       "      <td>5.400000</td>\n",
       "      <td>9.000000</td>\n",
       "    </tr>\n",
       "  </tbody>\n",
       "</table>\n",
       "</div>"
      ],
      "text/plain": [
       "              AREA        VMAIL   VMAIL_MSGS     DAY_MINS    DAY_CALLS  \\\n",
       "count  2833.000000  2833.000000  2833.000000  2833.000000  2833.000000   \n",
       "mean    437.501588     0.723968     8.114013   180.030957   100.430639   \n",
       "std      42.581437     0.447112    13.723461    54.496793    20.066016   \n",
       "min     408.000000     0.000000     0.000000     0.000000     0.000000   \n",
       "25%     408.000000     0.000000     0.000000   143.700000    87.000000   \n",
       "50%     415.000000     1.000000     0.000000   180.300000   101.000000   \n",
       "75%     510.000000     1.000000    20.000000   216.800000   114.000000   \n",
       "max     510.000000     1.000000    51.000000   350.800000   165.000000   \n",
       "\n",
       "        DAY_CHARGE     EVE_MINS    EVE_CALLS   EVE_CHARGE   NIGHT_MINS  \\\n",
       "count  2833.000000  2833.000000  2833.000000  2833.000000  2833.000000   \n",
       "mean     30.605814   200.985563   100.121779    17.083922   201.104130   \n",
       "std       9.264416    50.496372    19.984130     4.292194    50.144205   \n",
       "min       0.000000     0.000000     0.000000     0.000000    23.200000   \n",
       "25%      24.430000   167.100000    87.000000    14.200000   166.800000   \n",
       "50%      30.650000   201.600000   100.000000    17.140000   201.200000   \n",
       "75%      36.860000   234.100000   114.000000    19.900000   235.100000   \n",
       "max      59.640000   363.700000   170.000000    30.910000   395.000000   \n",
       "\n",
       "       NIGHT_CALLS  NIGHT_CHARGE    INTL_MINS   INTL_CALLS  INTL_CHARGE  \\\n",
       "count  2833.000000   2833.000000  2833.000000  2833.000000  2833.000000   \n",
       "mean    100.163784      9.049806    10.222873     4.469820     2.760713   \n",
       "std      19.608744      2.256550     2.822454     2.464699     0.762022   \n",
       "min      33.000000      1.040000     0.000000     0.000000     0.000000   \n",
       "25%      87.000000      7.510000     8.500000     3.000000     2.300000   \n",
       "50%     100.000000      9.050000    10.300000     4.000000     2.780000   \n",
       "75%     113.000000     10.580000    12.100000     6.000000     3.270000   \n",
       "max     175.000000     17.770000    20.000000    20.000000     5.400000   \n",
       "\n",
       "         SVC_CALLS  \n",
       "count  2833.000000  \n",
       "mean      1.555948  \n",
       "std       1.316639  \n",
       "min       0.000000  \n",
       "25%       1.000000  \n",
       "50%       1.000000  \n",
       "75%       2.000000  \n",
       "max       9.000000  "
      ]
     },
     "execution_count": 12,
     "metadata": {},
     "output_type": "execute_result"
    }
   ],
   "source": [
    "cross_val_x.describe()"
   ]
  },
  {
   "cell_type": "code",
   "execution_count": 13,
   "metadata": {},
   "outputs": [
    {
     "data": {
      "text/plain": [
       "count    2833.000000\n",
       "mean        0.144017\n",
       "std         0.351169\n",
       "min         0.000000\n",
       "25%         0.000000\n",
       "50%         0.000000\n",
       "75%         0.000000\n",
       "max         1.000000\n",
       "Name: CHURN, dtype: float64"
      ]
     },
     "execution_count": 13,
     "metadata": {},
     "output_type": "execute_result"
    }
   ],
   "source": [
    "cross_val_y.describe()"
   ]
  },
  {
   "cell_type": "markdown",
   "metadata": {},
   "source": [
    "We see that there is no missing value in the dataset, which is great.\n",
    "\n",
    "We have a turnout of roughly 15%, so we must do better than a 85% accuracy (accuracy of a naive classifier which would label all examples as 0 id est customer remains a client).\n"
   ]
  },
  {
   "cell_type": "markdown",
   "metadata": {},
   "source": [
    "__Visualisation__\n",
    "\n",
    "Let's visualize relationships between features."
   ]
  },
  {
   "cell_type": "code",
   "execution_count": 14,
   "metadata": {},
   "outputs": [
    {
     "data": {
      "image/png": "[encoded data removed]",
      "text/plain": [
       "<Figure size 432x360 with 1 Axes>"
      ]
     },
     "metadata": {
      "needs_background": "light"
     },
     "output_type": "display_data"
    },
    {
     "data": {
      "image/png": "[encoded data removed]",
      "text/plain": [
       "<Figure size 432x360 with 1 Axes>"
      ]
     },
     "metadata": {
      "needs_background": "light"
     },
     "output_type": "display_data"
    },
    {
     "data": {
      "image/png": "[encoded data removed]",
      "text/plain": [
       "<Figure size 432x360 with 1 Axes>"
      ]
     },
     "metadata": {
      "needs_background": "light"
     },
     "output_type": "display_data"
    },
    {
     "data": {
      "image/png": "[encoded data removed]",
      "text/plain": [
       "<Figure size 432x360 with 1 Axes>"
      ]
     },
     "metadata": {
      "needs_background": "light"
     },
     "output_type": "display_data"
    },
    {
     "data": {
      "image/png": "[encoded data removed]",
      "text/plain": [
       "<Figure size 432x360 with 1 Axes>"
      ]
     },
     "metadata": {
      "needs_background": "light"
     },
     "output_type": "display_data"
    },
    {
     "data": {
      "image/png": "[encoded data removed]",
      "text/plain": [
       "<Figure size 432x360 with 1 Axes>"
      ]
     },
     "metadata": {
      "needs_background": "light"
     },
     "output_type": "display_data"
    },
    {
     "data": {
      "image/png": "[encoded data removed]",
      "text/plain": [
       "<Figure size 432x360 with 1 Axes>"
      ]
     },
     "metadata": {
      "needs_background": "light"
     },
     "output_type": "display_data"
    },
    {
     "data": {
      "image/png": "[encoded data removed]",
      "text/plain": [
       "<Figure size 432x360 with 1 Axes>"
      ]
     },
     "metadata": {
      "needs_background": "light"
     },
     "output_type": "display_data"
    },
    {
     "data": {
      "image/png": "[encoded data removed]",
      "text/plain": [
       "<Figure size 432x360 with 1 Axes>"
      ]
     },
     "metadata": {
      "needs_background": "light"
     },
     "output_type": "display_data"
    },
    {
     "data": {
      "image/png": "[encoded data removed]",
      "text/plain": [
       "<Figure size 432x360 with 1 Axes>"
      ]
     },
     "metadata": {
      "needs_background": "light"
     },
     "output_type": "display_data"
    },
    {
     "data": {
      "image/png": "[encoded data removed]",
      "text/plain": [
       "<Figure size 432x360 with 1 Axes>"
      ]
     },
     "metadata": {
      "needs_background": "light"
     },
     "output_type": "display_data"
    },
    {
     "data": {
      "image/png": "[encoded data removed]",
      "text/plain": [
       "<Figure size 432x360 with 1 Axes>"
      ]
     },
     "metadata": {
      "needs_background": "light"
     },
     "output_type": "display_data"
    },
    {
     "data": {
      "image/png": "[encoded data removed]",
      "text/plain": [
       "<Figure size 432x360 with 1 Axes>"
      ]
     },
     "metadata": {
      "needs_background": "light"
     },
     "output_type": "display_data"
    },
    {
     "data": {
      "image/png": "[encoded data removed]",
      "text/plain": [
       "<Figure size 432x360 with 1 Axes>"
      ]
     },
     "metadata": {
      "needs_background": "light"
     },
     "output_type": "display_data"
    },
    {
     "data": {
      "image/png": "[encoded data removed]",
      "text/plain": [
       "<Figure size 432x360 with 1 Axes>"
      ]
     },
     "metadata": {
      "needs_background": "light"
     },
     "output_type": "display_data"
    },
    {
     "data": {
      "image/png": "[encoded data removed]",
      "text/plain": [
       "<Figure size 432x360 with 1 Axes>"
      ]
     },
     "metadata": {
      "needs_background": "light"
     },
     "output_type": "display_data"
    }
   ],
   "source": [
    "def hist(dataset, nameX, bins=None):\n",
    "    \"\"\"\n",
    "    prerequisites : matplotlib.pyplot as plt; dataset stored under this name\n",
    "    input : nameX is the name of the feature to be plot on the x-axis\n",
    "    nameY is the same for the y-axis. They are strings.\n",
    "    output : plot (x,y) with color code churn\n",
    "    \"\"\"\n",
    "    x0 = dataset[dataset.CHURN == 0][nameX]\n",
    "    x1 = dataset[dataset.CHURN == 1][nameX]\n",
    "    \n",
    "    fig, ax = plt.subplots(figsize=(6,5))\n",
    "    plt.hist([x0, x1], bins=bins, label = [\"Churn : 0\", \"Churn : 1\"])\n",
    "\n",
    "    plt.xlabel(nameX)\n",
    "    plt.ylabel(\"occurences\")\n",
    "\n",
    "    plt.legend(bbox_to_anchor=(1.05, 1), loc='upper left', borderaxespad=0.)\n",
    "    #plt.legend(bbox_to_anchor=(0., 1.02, 1., .102), loc='lower left', ncol=2, mode=\"expand\", borderaxespad=0.)\n",
    "    plt.title(nameX + \" histogram\") \n",
    "    plt.show()\n",
    "\n",
    "cross_val = cross_val_x.copy()\n",
    "cross_val[\"CHURN\"] = cross_val_y    \n",
    "col = list(cross_val.columns)\n",
    "\n",
    "for i in range(1, len(col)):\n",
    "    hist(cross_val, col[i])"
   ]
  },
  {
   "cell_type": "markdown",
   "metadata": {},
   "source": [
    "Comments\n",
    "- most people who have voice mail messages are likely to end their contract, particularly if they receive between 20 and 40 voice messages;\n",
    "- distribution of number of calls and cumulated time among each category is very similar between classes churn=1 and churn=0. This might make our prediction task hard to perform;\n",
    "- service calls distributions however differ from class 0 to class 1; \n",
    "- area is not a discriminative feature;"
   ]
  },
  {
   "cell_type": "code",
   "execution_count": 15,
   "metadata": {},
   "outputs": [
    {
     "data": {
      "image/png": "[encoded data removed]",
      "text/plain": [
       "<Figure size 720x432 with 1 Axes>"
      ]
     },
     "metadata": {
      "needs_background": "light"
     },
     "output_type": "display_data"
    }
   ],
   "source": [
    "# Price charged per minute - category comparison\n",
    "def pricing_graph(dataset):\n",
    "    ax, fig=plt.subplots(figsize=(10,6))\n",
    "\n",
    "    plt.scatter(dataset['DAY_MINS'], dataset['DAY_CHARGE'], color='blue', s=5, label='day')\n",
    "    plt.scatter(dataset['EVE_MINS'], dataset['EVE_CHARGE'], color='pink', s=5, label='evening')\n",
    "    plt.scatter(dataset['NIGHT_MINS'], dataset['NIGHT_CHARGE'], color='purple', s=5, label='night')\n",
    "    plt.scatter(dataset['INTL_MINS'], dataset['INTL_CHARGE'], color='green', s=5, label='international')\n",
    "\n",
    "\n",
    "    plt.xlabel('minutes spent on the phone')\n",
    "    plt.ylabel('price charged')\n",
    "\n",
    "    ax.legend(loc='right')\n",
    "\n",
    "    plt.show()\n",
    "    \n",
    "pricing_graph(cross_val_x)"
   ]
  },
  {
   "cell_type": "markdown",
   "metadata": {},
   "source": [
    "Comments \n",
    "* Pricing is linear (simple linear function between time and price, no flat rate or minimum charge). \n",
    "* So we can leave `_MINS` column outand keep the `_CHARGE`columns only for instance."
   ]
  },
  {
   "cell_type": "code",
   "execution_count": 16,
   "metadata": {},
   "outputs": [],
   "source": [
    "def drop_MINS(dataset):\n",
    "    return dataset.drop([\"DAY_MINS\", \"EVE_MINS\", \"NIGHT_MINS\", \"INTL_MINS\"], axis=1)\n",
    "\n",
    "for dataset in [cross_val_x, test_x]:\n",
    "    dataset = drop_MINS(dataset)"
   ]
  },
  {
   "cell_type": "markdown",
   "metadata": {},
   "source": [
    "## 3. Train your first models"
   ]
  },
  {
   "cell_type": "markdown",
   "metadata": {},
   "source": [
    "__Build basic models__\n",
    "\n",
    "Let's build three basic models on the basis of our data. In this preliminary step, we just use default options to have a glimpse at the potential of logistic regression, random forest and gradient boosted trees. We have defined a seed for the ensemble models, so that results can be reproduced."
   ]
  },
  {
   "cell_type": "code",
   "execution_count": 17,
   "metadata": {},
   "outputs": [],
   "source": [
    "lr = LogisticRegression(max_iter=2000, random_state=1, solver = 'lbfgs')\n",
    "rf = RandomForestClassifier(n_estimators=10, random_state=1)\n",
    "gbt = GradientBoostingClassifier(n_estimators=10, random_state=1)"
   ]
  },
  {
   "cell_type": "markdown",
   "metadata": {},
   "source": [
    "__Metrics__"
   ]
  },
  {
   "cell_type": "code",
   "execution_count": 18,
   "metadata": {},
   "outputs": [
    {
     "name": "stdout",
     "output_type": "stream",
     "text": [
      "Logistic regression\n",
      "Recall: 0.09 (+/- 0.04)\n",
      "Accuracy: 0.86 (+/- 0.01)\n",
      "\n",
      "Random Forest\n",
      "Recall: 0.48 (+/- 0.14)\n",
      "Accuracy: 0.91 (+/- 0.02)\n",
      "\n",
      "GBT\n",
      "Recall: 0.38 (+/- 0.11)\n",
      "Accuracy: 0.90 (+/- 0.02)\n",
      "\n"
     ]
    }
   ],
   "source": [
    "# with 5 folds => 1 fold represents 17% of the orginal dataset\n",
    "\n",
    "print(\"Logistic regression\")\n",
    "scores = cross_val_score(lr, cross_val_x, cross_val_y, cv=5, scoring = \"recall\")               \n",
    "print(\"Recall: %0.2f (+/- %0.2f)\" % (scores.mean(), scores.std() * 2))\n",
    "scores = cross_val_score(lr, cross_val_x, cross_val_y, cv=5)               \n",
    "print(\"Accuracy: %0.2f (+/- %0.2f)\" % (scores.mean(), scores.std() * 2))\n",
    "print(\"\")\n",
    "\n",
    "print(\"Random Forest\")\n",
    "scores = cross_val_score(rf, cross_val_x, cross_val_y, cv=5, scoring = \"recall\")            \n",
    "print(\"Recall: %0.2f (+/- %0.2f)\" % (scores.mean(), scores.std() * 2))\n",
    "scores = cross_val_score(rf, cross_val_x, cross_val_y, cv=5)               \n",
    "print(\"Accuracy: %0.2f (+/- %0.2f)\" % (scores.mean(), scores.std() * 2))\n",
    "print(\"\")\n",
    "\n",
    "print(\"GBT\")\n",
    "scores = cross_val_score(gbt, cross_val_x, cross_val_y, cv=5, scoring = \"recall\")            \n",
    "print(\"Recall: %0.2f (+/- %0.2f)\" % (scores.mean(), scores.std() * 2))\n",
    "scores = cross_val_score(gbt, cross_val_x, cross_val_y, cv=5)               \n",
    "print(\"Accuracy: %0.2f (+/- %0.2f)\" % (scores.mean(), scores.std() * 2))\n",
    "print(\"\")"
   ]
  },
  {
   "cell_type": "markdown",
   "metadata": {},
   "source": [
    "Random forest and GBT are much ahead of logistic regression in terms of recall, which is the metric we aim to maximize. So we will keep these two algorithms for the next step of this notebook, which is hyperparameter tuning."
   ]
  },
  {
   "cell_type": "markdown",
   "metadata": {},
   "source": [
    "## 4. Find the best hyperparameters with a grid search"
   ]
  },
  {
   "cell_type": "markdown",
   "metadata": {},
   "source": [
    "__Choice of hyperparameters__\n",
    "\n",
    "Which hyperparameters do we want to focus on? First, let's take a look at what hyperparameters are available."
   ]
  },
  {
   "cell_type": "code",
   "execution_count": 19,
   "metadata": {},
   "outputs": [
    {
     "name": "stdout",
     "output_type": "stream",
     "text": [
      "{'bootstrap': True, 'class_weight': None, 'criterion': 'gini', 'max_depth': None, 'max_features': 'auto', 'max_leaf_nodes': None, 'min_impurity_decrease': 0.0, 'min_impurity_split': None, 'min_samples_leaf': 1, 'min_samples_split': 2, 'min_weight_fraction_leaf': 0.0, 'n_estimators': 10, 'n_jobs': None, 'oob_score': False, 'random_state': 1, 'verbose': 0, 'warm_start': False}\n",
      "{'criterion': 'friedman_mse', 'init': None, 'learning_rate': 0.1, 'loss': 'deviance', 'max_depth': 3, 'max_features': None, 'max_leaf_nodes': None, 'min_impurity_decrease': 0.0, 'min_impurity_split': None, 'min_samples_leaf': 1, 'min_samples_split': 2, 'min_weight_fraction_leaf': 0.0, 'n_estimators': 10, 'n_iter_no_change': None, 'presort': 'auto', 'random_state': 1, 'subsample': 1.0, 'tol': 0.0001, 'validation_fraction': 0.1, 'verbose': 0, 'warm_start': False}\n"
     ]
    }
   ],
   "source": [
    "print(rf.get_params())\n",
    "print(gbt.get_params())"
   ]
  },
  {
   "cell_type": "markdown",
   "metadata": {},
   "source": [
    "We have already given an arbitrary value to random_state for each estimator.\n",
    "\n",
    "Regarding random forest, we will focus on n_estimators (number of trees in the forest), max_depth (maximum depth of a tree) and max_features (number of features to consider when looking for the best split). \n",
    "\n",
    "As for GBT, we will tweak the learning_rate, n_estimators and max_depth (maximum depth of an individual refression estimator). "
   ]
  },
  {
   "cell_type": "markdown",
   "metadata": {},
   "source": [
    "__Grid search__\n",
    "\n",
    "Now we can define our hyperparameter ranges. We will use an exhaustive grid search to test each combination."
   ]
  },
  {
   "cell_type": "code",
   "execution_count": 20,
   "metadata": {},
   "outputs": [],
   "source": [
    "from sklearn.model_selection import GridSearchCV\n",
    "tunedRF = GridSearchCV(estimator = RandomForestClassifier(random_state=1),\n",
    "            param_grid = {\"n_estimators\":[10,40,100,200], \"max_depth\":[3, 5, 10, 20], 'max_features': ['sqrt', 'log2']},\n",
    "            scoring = \"recall\",\n",
    "            cv = 5).fit(cross_val_x, cross_val_y)"
   ]
  },
  {
   "cell_type": "code",
   "execution_count": 21,
   "metadata": {},
   "outputs": [
    {
     "name": "stdout",
     "output_type": "stream",
     "text": [
      "{'max_depth': 20, 'max_features': 'sqrt', 'n_estimators': 100}\n"
     ]
    }
   ],
   "source": [
    "best_rf = tunedRF.best_estimator_\n",
    "print(tunedRF.best_params_)"
   ]
  },
  {
   "cell_type": "code",
   "execution_count": 22,
   "metadata": {},
   "outputs": [],
   "source": [
    "tunedGB = GridSearchCV(estimator = GradientBoostingClassifier(random_state=1),\n",
    "            param_grid = {\"learning_rate\":[0.01, 0.05, 0.1], \"n_estimators\":[10,40,100,200], \"max_depth\":[3, 5, 10]},\n",
    "            scoring = \"recall\",\n",
    "            cv = 5).fit(cross_val_x, cross_val_y)"
   ]
  },
  {
   "cell_type": "code",
   "execution_count": 34,
   "metadata": {},
   "outputs": [
    {
     "name": "stdout",
     "output_type": "stream",
     "text": [
      "{'learning_rate': 0.05, 'max_depth': 10, 'n_estimators': 200}\n"
     ]
    }
   ],
   "source": [
    "best_gb = tunedGB.best_estimator_\n",
    "print(tunedGB.best_params_)"
   ]
  },
  {
   "cell_type": "code",
   "execution_count": 24,
   "metadata": {},
   "outputs": [
    {
     "name": "stdout",
     "output_type": "stream",
     "text": [
      "RF best recall:   1\n",
      "GB best recall:   1\n"
     ]
    }
   ],
   "source": [
    "print(\"RF best recall: %3.f\" %tunedRF.best_score_)\n",
    "print(\"GB best recall: %3.f\" %tunedGB.best_score_)"
   ]
  },
  {
   "cell_type": "markdown",
   "metadata": {},
   "source": [
    "We have obtained encouraging results on our cross-validation set... but suspect some over-fitting since both models have a perfect recall! Let's assess the performance of our models on the test set."
   ]
  },
  {
   "cell_type": "markdown",
   "metadata": {},
   "source": [
    "## 5. Assess your model performance on the test set"
   ]
  },
  {
   "cell_type": "markdown",
   "metadata": {},
   "source": [
    "__Make predictions and use the confusion matrix__\n",
    "\n",
    "Let's have a closer look at our model's performances."
   ]
  },
  {
   "cell_type": "code",
   "execution_count": 25,
   "metadata": {},
   "outputs": [
    {
     "name": "stdout",
     "output_type": "stream",
     "text": [
      "Random Forest\n",
      "(tn, fp, fn, tp)=(418, 7, 30, 45)\n",
      "Accuracy:  0.926\n",
      "Precision: 0.865\n",
      "Recall:    0.600\n",
      "\n",
      "GBT\n",
      "(tn, fp, fn, tp)=(415, 10, 26, 49)\n",
      "Accuracy:  0.928\n",
      "Precision: 0.831\n",
      "Recall:    0.653\n"
     ]
    }
   ],
   "source": [
    "def recall(tp,fn):\n",
    "    return tp/(tp+fn)\n",
    "\n",
    "def precision(tp, fp):\n",
    "    return tp/(tp+fp)\n",
    "\n",
    "# Random Forest\n",
    "print(\"Random Forest\")\n",
    "pred_rf = best_rf.predict(test_x)\n",
    "tn, fp, fn, tp = metrics.confusion_matrix(test_y, pred_rf).ravel()\n",
    "print(\"(tn, fp, fn, tp)=\"+str((tn, fp, fn, tp)))\n",
    "print(\"Accuracy:  \"+str(best_rf.score(test_x, test_y)))\n",
    "r = recall(tp,fn)\n",
    "p = precision(tp, fp)\n",
    "print(\"Precision: %.3f\" % p)\n",
    "print(\"Recall:    %.3f\" % r)\n",
    "print(\"\")\n",
    "\n",
    "# GBT\n",
    "print(\"GBT\")\n",
    "pred_gb = best_gb.predict(test_x)\n",
    "tn, fp, fn, tp = metrics.confusion_matrix(test_y, pred_gb).ravel()\n",
    "print(\"(tn, fp, fn, tp)=\"+str((tn, fp, fn, tp)))\n",
    "print(\"Accuracy:  \"+str(best_gb.score(test_x, test_y)))\n",
    "r = recall(tp,fn)\n",
    "p = precision(tp, fp)\n",
    "print(\"Precision: %.3f\" % p)\n",
    "print(\"Recall:    %.3f\" % r)"
   ]
  },
  {
   "cell_type": "markdown",
   "metadata": {},
   "source": [
    "The model obtained with gradient boosting seems to be the best, since it has a higher recall. Additionally it has a slightly best accuracy and a satisfying precision."
   ]
  },
  {
   "cell_type": "markdown",
   "metadata": {},
   "source": [
    "__Plot the ROC curve__\n",
    "\n",
    "The Receiver-Operator Curve (ROC) gives you a visual display of the sensitivity by specificity for all possible classification cutoffs. In other words, it summarizes the trade-off between the true positive rate and false positive rate for a predictive model using different probability thresholds.\n",
    "\n",
    "The true positive rate (TPR) is given by `tp / (tp + tn)` where tp is the number of true positives and tn the number of true negatives. It is also referred to as recall or sensitivity.\n",
    "\n",
    "The false positive rate (FPR) is given by `fp/(fp+tn)` where fp is the number of false positives and tn the number of true negatives. It is also referred to as inverted specificity."
   ]
  },
  {
   "cell_type": "code",
   "execution_count": 26,
   "metadata": {},
   "outputs": [
    {
     "data": {
      "text/plain": [
       "<matplotlib.legend.Legend at 0x1a30737f60>"
      ]
     },
     "execution_count": 26,
     "metadata": {},
     "output_type": "execute_result"
    },
    {
     "data": {
      "image/png": "[encoded data removed]",
      "text/plain": [
       "<Figure size 576x576 with 1 Axes>"
      ]
     },
     "metadata": {
      "needs_background": "light"
     },
     "output_type": "display_data"
    }
   ],
   "source": [
    "# Extract values\n",
    "scores_rf=best_rf.predict_proba(test_x) # (p0, p1) format\n",
    "fpr_rf, tpr_rf, thresholds_rf = metrics.roc_curve(test_y.values, scores_rf[:,1], pos_label=1)\n",
    "\n",
    "scores_gb=best_gb.predict_proba(test_x) # (p0, p1) format\n",
    "fpr_gb, tpr_gb, thresholds_gb = metrics.roc_curve(test_y.values, scores_gb[:,1], pos_label=1)\n",
    "\n",
    "# Define the plot\n",
    "ax, fig = plt.subplots(figsize=(8,7))\n",
    "plt.xlabel(\"False Positive Rate\", fontsize=15)\n",
    "plt.ylabel(\"True Positive Rate\", fontsize=15)\n",
    "plt.title(\"Receiver-Operator Curve\", fontsize=20)\n",
    "\n",
    "# ROC curves\n",
    "plt.plot(fpr_rf, tpr_rf, marker='.')\n",
    "plt.plot(fpr_gb, tpr_gb, marker='.')\n",
    "\n",
    "# plot no skill\n",
    "plt.plot([0, 1], [0, 1], linestyle='--')\n",
    "\n",
    "# our models\n",
    "(tn, fp, fn, tp)=metrics.confusion_matrix(test_y, pred_rf).ravel()\n",
    "plt.plot([fp/(fp+tn)],[tp/(tp+fn)], color='black', marker='*', markersize=12)\n",
    "(tn, fp, fn, tp)=metrics.confusion_matrix(test_y, pred_gb).ravel()\n",
    "plt.plot([fp/(fp+tn)],[tp/(tp+fn)], color='purple', marker='*', markersize=12)\n",
    "\n",
    "# Legend\n",
    "plt.legend([\"random forest\", \"gradient boosting\", \"no skill\", \"RF model\", \"GB model\"])"
   ]
  },
  {
   "cell_type": "markdown",
   "metadata": {},
   "source": [
    "Our final model is represented by the stars on the above plot. "
   ]
  },
  {
   "cell_type": "markdown",
   "metadata": {},
   "source": [
    "* Area under ROC. \n",
    "\n",
    "It should be above 0.5, which is the AUC of a \"dummy\" model. A model with no skill is represented by the dashed line. It corresponds to a diagonal line from the bottom left of the plot to the top right. \n",
    "\n",
    " The closer the AUC is to 1 (perfect model), the better."
   ]
  },
  {
   "cell_type": "code",
   "execution_count": 27,
   "metadata": {},
   "outputs": [
    {
     "name": "stdout",
     "output_type": "stream",
     "text": [
      "Area under ROC curve / RF: 0.8589333333333333\n",
      "Area under ROC curve / GB: 0.8300549019607845\n"
     ]
    }
   ],
   "source": [
    "print(\"Area under ROC curve / RF: \"+ str(metrics.roc_auc_score(test_y.values, scores_rf[:,1])))\n",
    "print(\"Area under ROC curve / GB: \"+ str(metrics.roc_auc_score(test_y.values, scores_gb[:,1])))"
   ]
  },
  {
   "cell_type": "markdown",
   "metadata": {},
   "source": [
    "Here we see that even if our GB model has higher accuracy, precision and recall, its AUC is inferior to the AUC of the RF model. This is due to the particular position of the two on the above curve, right before the inflexion point of each ROC curve.\n",
    "\n",
    "In fact, ROC curves are more appropriate when the observations are balanced between each class, whereas precision-recall curves are appropriate for imbalanced datasets, which is our case here. So let's plot the precision-recall curve. "
   ]
  },
  {
   "cell_type": "markdown",
   "metadata": {},
   "source": [
    "__Precision vs Recall__\n",
    "\n",
    "Precision is the ratio `tp / (tp + fp)` where tp is the number of true positives and fp the number of false positives. The precision is intuitively the ability of the classifier *not to label as positive a sample that is negative*. It is also referred to as the positive predictive value.\n",
    "\n",
    "Recall is the ratio `tp / (tp + fn)` where tp is the number of true positives as above and fn the number of false negatives. The recall is intuitively the ability of the classifier to *find all the positive samples*. It is also referred to as sensitivity.\n",
    "\n",
    "The precision recall curve allows us to visualize how both metrics evolve for different thresholds. A perfect classifier could have both precision and recall equal to 1, but in practice a compromise has to be found."
   ]
  },
  {
   "cell_type": "code",
   "execution_count": 28,
   "metadata": {},
   "outputs": [
    {
     "data": {
      "text/plain": [
       "<matplotlib.legend.Legend at 0x1a2f914860>"
      ]
     },
     "execution_count": 28,
     "metadata": {},
     "output_type": "execute_result"
    },
    {
     "data": {
      "image/png": "[encoded data removed]",
      "text/plain": [
       "<Figure size 576x576 with 1 Axes>"
      ]
     },
     "metadata": {
      "needs_background": "light"
     },
     "output_type": "display_data"
    }
   ],
   "source": [
    "#Extract the values\n",
    "precision_rf, recall_rf, thresholds_rf = metrics.precision_recall_curve(test_y, scores_rf[:,1])\n",
    "precision_gb, recall_gb, thresholds_gb = metrics.precision_recall_curve(test_y, scores_gb[:,1])\n",
    "\n",
    "# Define the plot\n",
    "ax, fig = plt.subplots(figsize=(8,7))\n",
    "plt.xlabel(\"Recall\", fontsize=15)\n",
    "plt.ylabel(\"Precision\", fontsize=15)\n",
    "plt.title(\"Precision-Recall Curve\", fontsize=20)\n",
    "\n",
    "# Plot PR curves\n",
    "plt.plot(recall_rf, precision_rf)\n",
    "plt.plot(recall_gb, precision_gb)\n",
    "\n",
    "# Plot no skill curve\n",
    "plt.plot([0, 1], [0.85, 0.85], linestyle='--')\n",
    "\n",
    "# Our models\n",
    "(tn, fp, fn, tp)=metrics.confusion_matrix(test_y, pred_rf).ravel()\n",
    "plt.plot([tp/(tp+fn)],[tp/(tp+fp)], color='black', marker='*', markersize=12)\n",
    "\n",
    "(tn, fp, fn, tp)=metrics.confusion_matrix(test_y, pred_gb).ravel()\n",
    "plt.plot([tp/(tp+fn)],[tp/(tp+fp)], color='purple', marker='*', markersize=12)\n",
    "\n",
    "# Legend\n",
    "plt.legend([\"random forest\", \"gradient boosting\", \"no skill\", \"RF model\", \"GB model\"])"
   ]
  },
  {
   "cell_type": "markdown",
   "metadata": {},
   "source": [
    "Note : The no-skill line is defined by the total number of positive cases divide by the total number of positive and negative cases. Points above this line show learning, or \"skill\". With our final model choice, we are in the skilled zone, it is the purple star above."
   ]
  },
  {
   "cell_type": "markdown",
   "metadata": {},
   "source": [
    "* Area under Precision-Recall curve"
   ]
  },
  {
   "cell_type": "code",
   "execution_count": 29,
   "metadata": {},
   "outputs": [
    {
     "name": "stdout",
     "output_type": "stream",
     "text": [
      "Area under Precision-Recall curve / RF: 0.7462709460758594\n",
      "Area under Precision-Recall curve / GB: 0.7059928423040448\n"
     ]
    }
   ],
   "source": [
    "print(\"Area under Precision-Recall curve / RF: \"+str(metrics.average_precision_score(test_y.values, scores_rf[:,1])))\n",
    "print(\"Area under Precision-Recall curve / GB: \"+str(metrics.average_precision_score(test_y.values, scores_gb[:,1])))"
   ]
  },
  {
   "cell_type": "markdown",
   "metadata": {},
   "source": [
    "Once again, even if its area under precision recalll curve is slightly inferior to the corresponding value for the RF model, our GB model has the best recall. So we shall keep this model for further use."
   ]
  },
  {
   "cell_type": "markdown",
   "metadata": {},
   "source": [
    "## 6. Save your model for future use"
   ]
  },
  {
   "cell_type": "markdown",
   "metadata": {},
   "source": [
    "__Save your model with Joblib__"
   ]
  },
  {
   "cell_type": "code",
   "execution_count": 30,
   "metadata": {},
   "outputs": [
    {
     "data": {
      "text/plain": [
       "['/tmp/saved_model.joblib']"
      ]
     },
     "execution_count": 30,
     "metadata": {},
     "output_type": "execute_result"
    }
   ],
   "source": [
    "dump(best_gb, '/tmp/saved_model.joblib') "
   ]
  },
  {
   "cell_type": "code",
   "execution_count": 31,
   "metadata": {},
   "outputs": [],
   "source": [
    "saved_model = load('/tmp/saved_model.joblib') "
   ]
  },
  {
   "cell_type": "code",
   "execution_count": 32,
   "metadata": {},
   "outputs": [
    {
     "data": {
      "text/plain": [
       "0.928"
      ]
     },
     "execution_count": 32,
     "metadata": {},
     "output_type": "execute_result"
    }
   ],
   "source": [
    "# Test it : you should get the same result as previously\n",
    "test_pred2 = saved_model.predict(test_x)\n",
    "saved_model.score(test_x, test_y)"
   ]
  },
  {
   "cell_type": "markdown",
   "metadata": {},
   "source": [
    "__Close IdaDataBase instances__\n",
    "\n",
    "To ensure expected behaviors, IdaDataBase instances need to be closed. \n",
    "Closing the IdaDataBase is equivalent to closing the connection: once the connection is closed, it is not possible to use the IdaDataBase instance and any IdaDataFrame instances that were opened on this connection anymore.\n"
   ]
  },
  {
   "cell_type": "code",
   "execution_count": 33,
   "metadata": {},
   "outputs": [
    {
     "name": "stdout",
     "output_type": "stream",
     "text": [
      "Connection closed.\n"
     ]
    }
   ],
   "source": [
    "idadb.close()\n",
    "#idadb.reconnect()"
   ]
  },
  {
   "cell_type": "markdown",
   "metadata": {},
   "source": [
    "## What you've learned\n",
    "\n",
    "Congratulations!\n",
    "\n",
    "In this notebook you have seen how to:\n",
    "* use ibmdbpy to fetch sample data from Db2 \n",
    "* use sklearn to build train and select classification models \n",
    "* deploy a classic ML workflow from data exploration to performance evaluation\n",
    "* save your model for future use - in a Python UDF function for example."
   ]
  },
  {
   "cell_type": "markdown",
   "metadata": {},
   "source": [
    "____ \n",
    "## Authors\n",
    "\n",
    "Eva Feillet - ML intern, IBM Cloud and Cognitive Software, Böblingen, Germany"
   ]
  }
 ],
 "metadata": {
  "kernelspec": {
   "display_name": "Python 3",
   "language": "python",
   "name": "python3"
  },
  "language_info": {
   "codemirror_mode": {
    "name": "ipython",
    "version": 3
   },
   "file_extension": ".py",
   "mimetype": "text/x-python",
   "name": "python",
   "nbconvert_exporter": "python",
   "pygments_lexer": "ipython3",
   "version": "3.7.3"
  }
 },
 "nbformat": 4,
 "nbformat_minor": 2
}
