{
 "cells": [
  {
   "cell_type": "markdown",
   "metadata": {},
   "source": [
    "# Customer Churn Prediction + Clustering"
   ]
  },
  {
   "cell_type": "markdown",
   "metadata": {},
   "source": [
    "Alternative #1 adopted : \n",
    "Features : 6 -> 12 + ClusterChurn\n",
    "\n",
    "Alternative #2bis : Feature scaling as preprocessing step -> MinMax in place of Standard N(0,1)"
   ]
  },
  {
   "cell_type": "markdown",
   "metadata": {},
   "source": [
    "## 1. Get ready"
   ]
  },
  {
   "cell_type": "markdown",
   "metadata": {},
   "source": [
    "__Imports__\n",
    "\n",
    "Import the necessary Spark classes, as well as Python packages for local visualisations.\n",
    "We will plot the graphs directly in this notebook. If you like to plot them in a separate window, just comment out `%matplotlib inline`."
   ]
  },
  {
   "cell_type": "code",
   "execution_count": 1,
   "metadata": {},
   "outputs": [
    {
     "name": "stdout",
     "output_type": "stream",
     "text": [
      "Starting Spark application\n"
     ]
    },
    {
     "data": {
      "text/html": [
       "<table>\n",
       "<tr><th>ID</th><th>YARN Application ID</th><th>Kind</th><th>State</th><th>Spark UI</th><th>Driver log</th><th>Current session?</th></tr><tr><td>151</td><td>None</td><td>pyspark</td><td>idle</td><td></td><td></td><td>✔</td></tr></table>"
      ],
      "text/plain": [
       "<IPython.core.display.HTML object>"
      ]
     },
     "metadata": {},
     "output_type": "display_data"
    },
    {
     "data": {
      "application/vnd.jupyter.widget-view+json": {
       "model_id": "",
       "version_major": 2,
       "version_minor": 0
      },
      "text/plain": [
       "FloatProgress(value=0.0, bar_style='info', description='Progress:', layout=Layout(height='25px', width='50%'),…"
      ]
     },
     "metadata": {},
     "output_type": "display_data"
    },
    {
     "name": "stdout",
     "output_type": "stream",
     "text": [
      "SparkSession available as 'spark'.\n"
     ]
    },
    {
     "data": {
      "application/vnd.jupyter.widget-view+json": {
       "model_id": "",
       "version_major": 2,
       "version_minor": 0
      },
      "text/plain": [
       "FloatProgress(value=0.0, bar_style='info', description='Progress:', layout=Layout(height='25px', width='50%'),…"
      ]
     },
     "metadata": {},
     "output_type": "display_data"
    }
   ],
   "source": [
    "# Useful imports - PySpark\n",
    "from pyspark.sql import SparkSession\n",
    "from pyspark.ml.linalg import Vectors\n",
    "from pyspark.ml.feature import VectorAssembler\n",
    "from pyspark.ml.clustering import KMeans\n",
    "from pyspark.ml.evaluation import ClusteringEvaluator\n",
    "\n",
    "from pyspark.sql import Row\n",
    "\n",
    "from pyspark.ml.regression import LinearRegression\n",
    "from pyspark.ml.evaluation import RegressionEvaluator\n",
    "from pyspark.ml.classification import LogisticRegression\n",
    "from pyspark.ml.evaluation import MulticlassClassificationEvaluator\n",
    "from pyspark.ml.feature import ChiSqSelector\n",
    "from pyspark.mllib.evaluation import BinaryClassificationMetrics\n",
    "\n",
    "import numpy as np\n",
    "\n",
    "from pyspark.ml.feature import StandardScaler\n",
    "from pyspark.ml.feature import MinMaxScaler"
   ]
  },
  {
   "cell_type": "code",
   "execution_count": 2,
   "metadata": {},
   "outputs": [],
   "source": [
    "%local\n",
    "%matplotlib inline\n",
    "\n",
    "# Useful imports for local visualisations\n",
    "\n",
    "import matplotlib.pyplot as plt\n",
    "import pandas as pd\n",
    "import numpy as np"
   ]
  },
  {
   "cell_type": "markdown",
   "metadata": {},
   "source": [
    "__Load the data__\n",
    "\n",
    "Let's use a table which has been pre-populated in Db2 local. It is called SAMPLES.TRAINING. "
   ]
  },
  {
   "cell_type": "code",
   "execution_count": 3,
   "metadata": {},
   "outputs": [
    {
     "data": {
      "application/vnd.jupyter.widget-view+json": {
       "model_id": "",
       "version_major": 2,
       "version_minor": 0
      },
      "text/plain": [
       "FloatProgress(value=0.0, bar_style='info', description='Progress:', layout=Layout(height='25px', width='50%'),…"
      ]
     },
     "metadata": {},
     "output_type": "display_data"
    },
    {
     "name": "stdout",
     "output_type": "stream",
     "text": [
      "+-----+----+-----+----------+--------+---------+----------+--------+---------+----------+----------+-----------+------------+---------+----------+-----------+---------+\n",
      "|CHURN|AREA|VMAIL|VMAIL_MSGS|DAY_MINS|DAY_CALLS|DAY_CHARGE|EVE_MINS|EVE_CALLS|EVE_CHARGE|NIGHT_MINS|NIGHT_CALLS|NIGHT_CHARGE|INTL_MINS|INTL_CALLS|INTL_CHARGE|SVC_CALLS|\n",
      "+-----+----+-----+----------+--------+---------+----------+--------+---------+----------+----------+-----------+------------+---------+----------+-----------+---------+\n",
      "|    0| 415|    1|         0|   246.5|      108|     41.91|   216.3|       89|     18.39|     179.6|         99|        8.08|     12.7|         3|       3.43|        2|\n",
      "|    1| 408|    1|         0|   298.1|      112|     50.68|   201.3|      100|     17.11|     214.7|         88|        9.66|      9.7|         4|       2.62|        2|\n",
      "|    0| 510|    1|         0|   119.3|       82|     20.28|   185.1|      111|     15.73|     157.0|         74|        7.07|     10.9|         4|       2.94|        2|\n",
      "|    0| 408|    1|         0|   242.5|       82|     41.23|   232.9|       97|     19.80|     154.0|         86|        6.93|      9.6|         7|       2.59|        0|\n",
      "|    1| 408|    0|        18|   222.1|       89|     37.76|   160.6|      109|     13.65|     218.8|        102|        9.85|     13.6|         2|       3.67|        0|\n",
      "+-----+----+-----+----------+--------+---------+----------+--------+---------+----------+----------+-----------+------------+---------+----------+-----------+---------+\n",
      "only showing top 5 rows"
     ]
    }
   ],
   "source": [
    "sparkSession = SparkSession \\\n",
    "        .builder \\\n",
    "        .getOrCreate()\n",
    "\n",
    "df = sparkSession.read \\\n",
    "        .format(\"com.ibm.idax.spark.idaxsource\") \\\n",
    "        .options(dbtable=\"SAMPLES.TRAINING\") \\\n",
    "        .load()\n",
    "df.show(5)"
   ]
  },
  {
   "cell_type": "markdown",
   "metadata": {},
   "source": [
    "How many records do we have? How many features?"
   ]
  },
  {
   "cell_type": "code",
   "execution_count": 4,
   "metadata": {},
   "outputs": [
    {
     "data": {
      "application/vnd.jupyter.widget-view+json": {
       "model_id": "",
       "version_major": 2,
       "version_minor": 0
      },
      "text/plain": [
       "FloatProgress(value=0.0, bar_style='info', description='Progress:', layout=Layout(height='25px', width='50%'),…"
      ]
     },
     "metadata": {},
     "output_type": "display_data"
    },
    {
     "name": "stdout",
     "output_type": "stream",
     "text": [
      "Number of records: 3333\n",
      "Number of features: 17"
     ]
    }
   ],
   "source": [
    "print('Number of records: '+str(df.count()))\n",
    "print('Number of features: '+str(len(df.columns)))"
   ]
  },
  {
   "cell_type": "markdown",
   "metadata": {},
   "source": [
    "## 2. Prepare the data"
   ]
  },
  {
   "cell_type": "markdown",
   "metadata": {},
   "source": [
    "__Feature selection__"
   ]
  },
  {
   "cell_type": "code",
   "execution_count": 5,
   "metadata": {},
   "outputs": [
    {
     "data": {
      "application/vnd.jupyter.widget-view+json": {
       "model_id": "",
       "version_major": 2,
       "version_minor": 0
      },
      "text/plain": [
       "FloatProgress(value=0.0, bar_style='info', description='Progress:', layout=Layout(height='25px', width='50%'),…"
      ]
     },
     "metadata": {},
     "output_type": "display_data"
    },
    {
     "name": "stdout",
     "output_type": "stream",
     "text": [
      "root\n",
      " |-- CHURN: short (nullable = false)\n",
      " |-- features: vector (nullable = true)"
     ]
    }
   ],
   "source": [
    "assembler = VectorAssembler(\n",
    "    inputCols=[\"SVC_CALLS\", \"DAY_MINS\", \"DAY_CHARGE\", \"VMAIL_MSGS\", \"VMAIL\", \n",
    "               \"INTL_CALLS\", \"INTL_CHARGE\", \"INTL_MINS\", \"EVE_CHARGE\", \"EVE_MINS\",\n",
    "               \"NIGHT_MINS\", \"NIGHT_CHARGE\"],\n",
    "    outputCol=\"features\")\n",
    "assembled_df = assembler.transform(df).select(\"CHURN\",\"features\")\n",
    "assembled_df.printSchema()"
   ]
  },
  {
   "cell_type": "markdown",
   "metadata": {},
   "source": [
    "__Split the data__\n",
    "\n",
    "We split the data into three distinct sets: for training, validation and testing. We use the proportions 70%, 15% and 15% so that we keep a relatively high number of examples for training. Of course these proportions are subjective, you can change them if you want. We have defined a seed so that results can be reproduced."
   ]
  },
  {
   "cell_type": "code",
   "execution_count": 6,
   "metadata": {},
   "outputs": [
    {
     "data": {
      "application/vnd.jupyter.widget-view+json": {
       "model_id": "",
       "version_major": 2,
       "version_minor": 0
      },
      "text/plain": [
       "FloatProgress(value=0.0, bar_style='info', description='Progress:', layout=Layout(height='25px', width='50%'),…"
      ]
     },
     "metadata": {},
     "output_type": "display_data"
    }
   ],
   "source": [
    "train, val, test = df.randomSplit([0.70,0.15,0.15],1)"
   ]
  },
  {
   "cell_type": "markdown",
   "metadata": {},
   "source": [
    "__Feature scaling__\n",
    "\n",
    "scalerModel is built on the basis of the training set, otherwise you cheat by looking at the distribution of the other sets."
   ]
  },
  {
   "cell_type": "markdown",
   "metadata": {},
   "source": [
    "## 4. Train your algorithm\n",
    "\n",
    "First, let's see if we can identify some customer clusters with KMeans. We will then apply logistic regression to predict churn."
   ]
  },
  {
   "cell_type": "markdown",
   "metadata": {},
   "source": [
    "### a. Apply unsupervised learning for customer segmentation with kMeans"
   ]
  },
  {
   "cell_type": "markdown",
   "metadata": {},
   "source": [
    "Create a model: Build a Spark ML algorithm that selects the call counts from the customer data and clusters them using KMeans."
   ]
  },
  {
   "cell_type": "code",
   "execution_count": 36,
   "metadata": {},
   "outputs": [
    {
     "data": {
      "application/vnd.jupyter.widget-view+json": {
       "model_id": "",
       "version_major": 2,
       "version_minor": 0
      },
      "text/plain": [
       "FloatProgress(value=0.0, bar_style='info', description='Progress:', layout=Layout(height='25px', width='50%'),…"
      ]
     },
     "metadata": {},
     "output_type": "display_data"
    },
    {
     "name": "stdout",
     "output_type": "stream",
     "text": [
      "root\n",
      " |-- CHURN: short (nullable = false)\n",
      " |-- AREA: integer (nullable = false)\n",
      " |-- VMAIL: short (nullable = false)\n",
      " |-- VMAIL_MSGS: integer (nullable = false)\n",
      " |-- DAY_MINS: decimal(5,1) (nullable = false)\n",
      " |-- DAY_CALLS: integer (nullable = false)\n",
      " |-- DAY_CHARGE: decimal(5,2) (nullable = false)\n",
      " |-- EVE_MINS: decimal(5,1) (nullable = false)\n",
      " |-- EVE_CALLS: integer (nullable = false)\n",
      " |-- EVE_CHARGE: decimal(5,2) (nullable = false)\n",
      " |-- NIGHT_MINS: decimal(5,1) (nullable = false)\n",
      " |-- NIGHT_CALLS: integer (nullable = false)\n",
      " |-- NIGHT_CHARGE: decimal(5,2) (nullable = false)\n",
      " |-- INTL_MINS: decimal(4,1) (nullable = false)\n",
      " |-- INTL_CALLS: integer (nullable = false)\n",
      " |-- INTL_CHARGE: decimal(4,2) (nullable = false)\n",
      " |-- SVC_CALLS: integer (nullable = false)\n",
      " |-- rawFeatures: vector (nullable = true)\n",
      " |-- features: vector (nullable = true)"
     ]
    }
   ],
   "source": [
    "# We choose to keep the 12 most relevant features\n",
    "\n",
    "assembler_12 = VectorAssembler(\n",
    "    inputCols=[\"SVC_CALLS\", \"DAY_MINS\", \"DAY_CHARGE\", \"VMAIL_MSGS\", \"VMAIL\", \n",
    "               \"INTL_CALLS\", \"INTL_CHARGE\", \"INTL_MINS\", \"EVE_CHARGE\", \"EVE_MINS\",\n",
    "               \"NIGHT_MINS\", \"NIGHT_CHARGE\"],\n",
    "    outputCol=\"rawFeatures\")\n",
    "\n",
    "train_12 = assembler_12.transform(train)\n",
    "\n",
    "# Feature Scaling\n",
    "scaler = MinMaxScaler(inputCol = \"rawFeatures\", outputCol = \"features\")\n",
    "scalerModel = scaler.fit(train_12)\n",
    "\n",
    "scaled_train = scalerModel.transform(train_12)\n",
    "\n",
    "scaled_train.printSchema()\n",
    "\n",
    "# Set characteristics of your model \n",
    "kmeans = KMeans().setK(15).setSeed(1)"
   ]
  },
  {
   "cell_type": "markdown",
   "metadata": {},
   "source": [
    "Fit the model to the required training set and run the algorithm to find the clusters."
   ]
  },
  {
   "cell_type": "code",
   "execution_count": 37,
   "metadata": {},
   "outputs": [
    {
     "data": {
      "application/vnd.jupyter.widget-view+json": {
       "model_id": "",
       "version_major": 2,
       "version_minor": 0
      },
      "text/plain": [
       "FloatProgress(value=0.0, bar_style='info', description='Progress:', layout=Layout(height='25px', width='50%'),…"
      ]
     },
     "metadata": {},
     "output_type": "display_data"
    }
   ],
   "source": [
    "model = kmeans.fit(scaled_train)"
   ]
  },
  {
   "cell_type": "code",
   "execution_count": 38,
   "metadata": {},
   "outputs": [
    {
     "data": {
      "application/vnd.jupyter.widget-view+json": {
       "model_id": "",
       "version_major": 2,
       "version_minor": 0
      },
      "text/plain": [
       "FloatProgress(value=0.0, bar_style='info', description='Progress:', layout=Layout(height='25px', width='50%'),…"
      ]
     },
     "metadata": {},
     "output_type": "display_data"
    }
   ],
   "source": [
    "cluster_predictions = model.transform(scaled_train)"
   ]
  },
  {
   "cell_type": "markdown",
   "metadata": {},
   "source": [
    "__Inference__\n",
    "\n",
    "KMeans is an unsupervized learning algorithm: we have to see if the clusters we have just built can be really be used to infer churn!"
   ]
  },
  {
   "cell_type": "code",
   "execution_count": 39,
   "metadata": {},
   "outputs": [
    {
     "data": {
      "application/vnd.jupyter.widget-view+json": {
       "model_id": "",
       "version_major": 2,
       "version_minor": 0
      },
      "text/plain": [
       "FloatProgress(value=0.0, bar_style='info', description='Progress:', layout=Layout(height='25px', width='50%'),…"
      ]
     },
     "metadata": {},
     "output_type": "display_data"
    },
    {
     "name": "stdout",
     "output_type": "stream",
     "text": [
      "+---------+-----+\n",
      "|ClusterID|count|\n",
      "+---------+-----+\n",
      "|        1|   89|\n",
      "|        5|  105|\n",
      "|        6|  110|\n",
      "|       12|  111|\n",
      "|       10|  122|\n",
      "|       13|  124|\n",
      "|        7|  135|\n",
      "|       11|  154|\n",
      "|        2|  176|\n",
      "|        3|  177|\n",
      "|        8|  186|\n",
      "|        0|  190|\n",
      "|        4|  193|\n",
      "|        9|  214|\n",
      "|       14|  235|\n",
      "+---------+-----+"
     ]
    }
   ],
   "source": [
    "# Number of customers in each cluster\n",
    "cluster_predictions.groupBy(\"prediction\").count().sort(\"count\").withColumnRenamed(\"prediction\", \"ClusterID\").show()"
   ]
  },
  {
   "cell_type": "markdown",
   "metadata": {},
   "source": [
    "__Silhouette score__\n",
    "\n",
    "The silhouette score measures how similar an object is to its own cluster (cohesion) compared to other clusters (separation). It ranges from −1 to +1. The closer to 1, the better: the object is then well matched to its own cluster and differs from the points belonging to neighboring clusters. If most objects have a high value, then the clustering configuration is considered to be appropriate. Otherwise there may be too many or too few clusters. Here we compute a mean value over all points, using the Euclidean distance."
   ]
  },
  {
   "cell_type": "code",
   "execution_count": 40,
   "metadata": {},
   "outputs": [
    {
     "data": {
      "application/vnd.jupyter.widget-view+json": {
       "model_id": "",
       "version_major": 2,
       "version_minor": 0
      },
      "text/plain": [
       "FloatProgress(value=0.0, bar_style='info', description='Progress:', layout=Layout(height='25px', width='50%'),…"
      ]
     },
     "metadata": {},
     "output_type": "display_data"
    },
    {
     "name": "stdout",
     "output_type": "stream",
     "text": [
      "Silhouette with squared euclidean distance = 0.223"
     ]
    }
   ],
   "source": [
    "# Evaluate clustering by computing Silhouette score\n",
    "evaluator = ClusteringEvaluator()\n",
    "\n",
    "silhouette = evaluator.evaluate(cluster_predictions)\n",
    "print(\"Silhouette with squared euclidean distance = %.3f \" % silhouette)"
   ]
  },
  {
   "cell_type": "markdown",
   "metadata": {},
   "source": [
    "* k=15\n",
    "\n",
    "This allows to target even better our customers: churn propencies go from `4.3% to 43%` (comparison: 6 features : `5.1% to 65%`). We cannot increase the number of clusters too much if we do not have more data, because the model becomes more sensible to outliers."
   ]
  },
  {
   "cell_type": "code",
   "execution_count": 41,
   "metadata": {},
   "outputs": [
    {
     "data": {
      "application/vnd.jupyter.widget-view+json": {
       "model_id": "",
       "version_major": 2,
       "version_minor": 0
      },
      "text/plain": [
       "FloatProgress(value=0.0, bar_style='info', description='Progress:', layout=Layout(height='25px', width='50%'),…"
      ]
     },
     "metadata": {},
     "output_type": "display_data"
    },
    {
     "name": "stdout",
     "output_type": "stream",
     "text": [
      "+---------+--------------------+\n",
      "|ClusterID|          avg(CHURN)|\n",
      "+---------+--------------------+\n",
      "|        1|0.033707865168539325|\n",
      "|        4| 0.03626943005181347|\n",
      "|        0| 0.05263157894736842|\n",
      "|        3|0.062146892655367235|\n",
      "|       13| 0.06451612903225806|\n",
      "|        5| 0.06666666666666667|\n",
      "|        8| 0.06989247311827956|\n",
      "|        6| 0.08181818181818182|\n",
      "|       14|  0.0851063829787234|\n",
      "|       12| 0.12612612612612611|\n",
      "|       10| 0.13934426229508196|\n",
      "|       11| 0.14935064935064934|\n",
      "|        2| 0.19886363636363635|\n",
      "|        7| 0.42962962962962964|\n",
      "|        9|  0.4392523364485981|\n",
      "+---------+--------------------+"
     ]
    }
   ],
   "source": [
    "# Churn proportion in each cluster\n",
    "churn_proportion = cluster_predictions.groupBy(\"prediction\").avg(\"CHURN\").sort(\"avg(CHURN)\").withColumnRenamed(\"prediction\", \"ClusterID\")\n",
    "churn_proportion.show()"
   ]
  },
  {
   "cell_type": "markdown",
   "metadata": {},
   "source": [
    "__Cluster mapping__"
   ]
  },
  {
   "cell_type": "code",
   "execution_count": 42,
   "metadata": {},
   "outputs": [
    {
     "data": {
      "application/vnd.jupyter.widget-view+json": {
       "model_id": "",
       "version_major": 2,
       "version_minor": 0
      },
      "text/plain": [
       "FloatProgress(value=0.0, bar_style='info', description='Progress:', layout=Layout(height='25px', width='50%'),…"
      ]
     },
     "metadata": {},
     "output_type": "display_data"
    },
    {
     "name": "stdout",
     "output_type": "stream",
     "text": [
      "{1: 0.033707865168539325, 4: 0.03626943005181347, 0: 0.05263157894736842, 3: 0.062146892655367235, 13: 0.06451612903225806, 5: 0.06666666666666667, 8: 0.06989247311827956, 6: 0.08181818181818182, 14: 0.0851063829787234, 12: 0.12612612612612611, 10: 0.13934426229508196, 11: 0.14935064935064934, 2: 0.19886363636363635, 7: 0.42962962962962964, 9: 0.4392523364485981}"
     ]
    }
   ],
   "source": [
    "# Extract ClusterIDs and churn percentages for each cluster\n",
    "churn_proportion_list = list(churn_proportion.select(\"avg(CHURN)\").toPandas()[\"avg(CHURN)\"])\n",
    "\n",
    "ClusterID_list = list(churn_proportion.select(\"ClusterID\").toPandas()[\"ClusterID\"])\n",
    "\n",
    "# Transform into a dictionary:\n",
    "dico = {}\n",
    "for i in range(len(ClusterID_list)):\n",
    "    dico[ClusterID_list[i]] = churn_proportion_list[i]\n",
    "print(dico)    "
   ]
  },
  {
   "cell_type": "code",
   "execution_count": 43,
   "metadata": {},
   "outputs": [
    {
     "data": {
      "application/vnd.jupyter.widget-view+json": {
       "model_id": "",
       "version_major": 2,
       "version_minor": 0
      },
      "text/plain": [
       "FloatProgress(value=0.0, bar_style='info', description='Progress:', layout=Layout(height='25px', width='50%'),…"
      ]
     },
     "metadata": {},
     "output_type": "display_data"
    },
    {
     "name": "stdout",
     "output_type": "stream",
     "text": [
      "root\n",
      " |-- CHURN: short (nullable = false)\n",
      " |-- AREA: integer (nullable = false)\n",
      " |-- VMAIL: short (nullable = false)\n",
      " |-- VMAIL_MSGS: integer (nullable = false)\n",
      " |-- DAY_MINS: decimal(5,1) (nullable = false)\n",
      " |-- DAY_CALLS: integer (nullable = false)\n",
      " |-- DAY_CHARGE: decimal(5,2) (nullable = false)\n",
      " |-- EVE_MINS: decimal(5,1) (nullable = false)\n",
      " |-- EVE_CALLS: integer (nullable = false)\n",
      " |-- EVE_CHARGE: decimal(5,2) (nullable = false)\n",
      " |-- NIGHT_MINS: decimal(5,1) (nullable = false)\n",
      " |-- NIGHT_CALLS: integer (nullable = false)\n",
      " |-- NIGHT_CHARGE: decimal(5,2) (nullable = false)\n",
      " |-- INTL_MINS: decimal(4,1) (nullable = false)\n",
      " |-- INTL_CALLS: integer (nullable = false)\n",
      " |-- INTL_CHARGE: decimal(4,2) (nullable = false)\n",
      " |-- SVC_CALLS: integer (nullable = false)\n",
      " |-- rawFeatures: vector (nullable = true)\n",
      " |-- features: vector (nullable = true)\n",
      " |-- prediction: integer (nullable = false)"
     ]
    }
   ],
   "source": [
    "cluster_predictions.printSchema()"
   ]
  },
  {
   "cell_type": "code",
   "execution_count": 44,
   "metadata": {},
   "outputs": [
    {
     "data": {
      "application/vnd.jupyter.widget-view+json": {
       "model_id": "",
       "version_major": 2,
       "version_minor": 0
      },
      "text/plain": [
       "FloatProgress(value=0.0, bar_style='info', description='Progress:', layout=Layout(height='25px', width='50%'),…"
      ]
     },
     "metadata": {},
     "output_type": "display_data"
    }
   ],
   "source": [
    "def preparation(DF):\n",
    "    \"\"\"\n",
    "    Inputs : DF is a raw dataframe \n",
    "    Outputs : dataframe with additional colmns : features for Clustering, \n",
    "    Cluster prediction and corresponding cluster churn percentage\n",
    "    \"\"\"\n",
    "\n",
    "    # We choose to keep only 6 features here (leads to higher cluster separation)\n",
    "    #assembler_6 = VectorAssembler(inputCols=[\"TOT_MINS\", \"VMAIL\", \"INTL_CALLS\", \"DAY_CALLS\", \"SVC_CALLS\", \"DAY_CHARGE\"], outputCol=\"features\")\n",
    "\n",
    "    # assemble \n",
    "    DF_12 = assembler_12.transform(DF)\n",
    "    \n",
    "    # scale\n",
    "    scaled_DF = scalerModel.transform(DF_12)\n",
    "    \n",
    "    # Assign each point of the training set to its cluster\n",
    "    DF_with_clusterIDs = model.transform(scaled_DF)\n",
    "\n",
    "    # Create a new dataframe corresponding to the churn percentages for each point\n",
    "    avgChurn = DF_with_clusterIDs.rdd.map(lambda element : dico[element.prediction])\n",
    "    row = Row(\"prediction\") \n",
    "    avgChurn_df = avgChurn.map(row).toDF().withColumnRenamed(\"prediction\", \"ClusterChurn\")\n",
    "    \n",
    "    # Join tables\n",
    "    temp1 = avgChurn_df.toPandas()\n",
    "    temp2 = DF_with_clusterIDs.toPandas()\n",
    "    temp2[\"ClusterChurn\"] = temp1[\"ClusterChurn\"]\n",
    "    DF_with_avg = spark.createDataFrame(temp2)\n",
    "    \n",
    "    DF_with_avg_renamed = DF_with_avg.withColumnRenamed(\"features\", \"featuresClustering\").withColumnRenamed(\"prediction\", \"predictionClustering\")\n",
    "    print(DF_with_avg_renamed.count())\n",
    "    \n",
    "    return DF_with_avg_renamed"
   ]
  },
  {
   "cell_type": "code",
   "execution_count": 45,
   "metadata": {},
   "outputs": [
    {
     "data": {
      "application/vnd.jupyter.widget-view+json": {
       "model_id": "",
       "version_major": 2,
       "version_minor": 0
      },
      "text/plain": [
       "FloatProgress(value=0.0, bar_style='info', description='Progress:', layout=Layout(height='25px', width='50%'),…"
      ]
     },
     "metadata": {},
     "output_type": "display_data"
    },
    {
     "name": "stdout",
     "output_type": "stream",
     "text": [
      "2321\n",
      "495\n",
      "517"
     ]
    }
   ],
   "source": [
    "prepared_train = preparation(train)\n",
    "prepared_val = preparation(val)\n",
    "prepared_test = preparation(test)"
   ]
  },
  {
   "cell_type": "code",
   "execution_count": 46,
   "metadata": {},
   "outputs": [
    {
     "data": {
      "application/vnd.jupyter.widget-view+json": {
       "model_id": "",
       "version_major": 2,
       "version_minor": 0
      },
      "text/plain": [
       "FloatProgress(value=0.0, bar_style='info', description='Progress:', layout=Layout(height='25px', width='50%'),…"
      ]
     },
     "metadata": {},
     "output_type": "display_data"
    },
    {
     "name": "stdout",
     "output_type": "stream",
     "text": [
      "root\n",
      " |-- CHURN: long (nullable = true)\n",
      " |-- AREA: long (nullable = true)\n",
      " |-- VMAIL: long (nullable = true)\n",
      " |-- VMAIL_MSGS: long (nullable = true)\n",
      " |-- DAY_MINS: decimal(38,18) (nullable = true)\n",
      " |-- DAY_CALLS: long (nullable = true)\n",
      " |-- DAY_CHARGE: decimal(38,18) (nullable = true)\n",
      " |-- EVE_MINS: decimal(38,18) (nullable = true)\n",
      " |-- EVE_CALLS: long (nullable = true)\n",
      " |-- EVE_CHARGE: decimal(38,18) (nullable = true)\n",
      " |-- NIGHT_MINS: decimal(38,18) (nullable = true)\n",
      " |-- NIGHT_CALLS: long (nullable = true)\n",
      " |-- NIGHT_CHARGE: decimal(38,18) (nullable = true)\n",
      " |-- INTL_MINS: decimal(38,18) (nullable = true)\n",
      " |-- INTL_CALLS: long (nullable = true)\n",
      " |-- INTL_CHARGE: decimal(38,18) (nullable = true)\n",
      " |-- SVC_CALLS: long (nullable = true)\n",
      " |-- rawFeatures: vector (nullable = true)\n",
      " |-- featuresClustering: vector (nullable = true)\n",
      " |-- predictionClustering: long (nullable = true)\n",
      " |-- ClusterChurn: double (nullable = true)"
     ]
    }
   ],
   "source": [
    "prepared_train.printSchema()"
   ]
  },
  {
   "cell_type": "code",
   "execution_count": 47,
   "metadata": {},
   "outputs": [
    {
     "data": {
      "application/vnd.jupyter.widget-view+json": {
       "model_id": "",
       "version_major": 2,
       "version_minor": 0
      },
      "text/plain": [
       "FloatProgress(value=0.0, bar_style='info', description='Progress:', layout=Layout(height='25px', width='50%'),…"
      ]
     },
     "metadata": {},
     "output_type": "display_data"
    }
   ],
   "source": [
    "# assemble 13 features\n",
    "assembler_13 = VectorAssembler(\n",
    "    inputCols=[\"SVC_CALLS\", \"DAY_MINS\", \"DAY_CHARGE\", \"VMAIL_MSGS\", \"VMAIL\", \n",
    "               \"INTL_CALLS\", \"INTL_CHARGE\", \"INTL_MINS\", \"EVE_CHARGE\", \"EVE_MINS\",\n",
    "               \"NIGHT_MINS\", \"NIGHT_CHARGE\", \"ClusterChurn\"],\n",
    "    outputCol=\"Features13\")    \n",
    "# scale\n",
    "scaler_13 = MinMaxScaler(inputCol = \"Features13\", outputCol = \"features\")\n",
    "scalerModel_13 = scaler_13.fit(assembler_13.transform(prepared_train))\n",
    "\n",
    "def preparation2(prepared_DF):\n",
    "    \"\"\"\n",
    "    Input : prepared DF with function preparation\n",
    "    Output : DF with 13 scaled features\n",
    "    \"\"\"\n",
    "    DF_13 = assembler_13.transform(prepared_DF)\n",
    "    scaled_DF_13 = scalerModel_13.transform(DF_13)\n",
    "    return scaled_DF_13\n",
    "\n",
    "prepared_train_13 = preparation2(prepared_train)"
   ]
  },
  {
   "cell_type": "markdown",
   "metadata": {},
   "source": [
    "### b. Apply supervised learning for churn prediction with logistic regression"
   ]
  },
  {
   "cell_type": "markdown",
   "metadata": {},
   "source": [
    "__Prepare the data__\n",
    "\n",
    "Select columns and set label names for training. Here we choose to reuse the 13 columns selected above. You can test other options if you like."
   ]
  },
  {
   "cell_type": "code",
   "execution_count": 48,
   "metadata": {},
   "outputs": [
    {
     "data": {
      "application/vnd.jupyter.widget-view+json": {
       "model_id": "",
       "version_major": 2,
       "version_minor": 0
      },
      "text/plain": [
       "FloatProgress(value=0.0, bar_style='info', description='Progress:', layout=Layout(height='25px', width='50%'),…"
      ]
     },
     "metadata": {},
     "output_type": "display_data"
    }
   ],
   "source": [
    "# Select only the label and features columns\n",
    "labeled_train = prepared_train_13.select(prepared_train_13[\"features\"], prepared_train_13[\"CHURN\"].alias(\"label\"))"
   ]
  },
  {
   "cell_type": "markdown",
   "metadata": {},
   "source": [
    "__Build your model__"
   ]
  },
  {
   "cell_type": "code",
   "execution_count": 49,
   "metadata": {},
   "outputs": [
    {
     "data": {
      "application/vnd.jupyter.widget-view+json": {
       "model_id": "",
       "version_major": 2,
       "version_minor": 0
      },
      "text/plain": [
       "FloatProgress(value=0.0, bar_style='info', description='Progress:', layout=Layout(height='25px', width='50%'),…"
      ]
     },
     "metadata": {},
     "output_type": "display_data"
    }
   ],
   "source": [
    "# Define your model\n",
    "logReg = LogisticRegression(maxIter=100)\n",
    "\n",
    "# Fit the model\n",
    "logRegModel = logReg.fit(labeled_train)\n",
    "\n",
    "# Make predictions\n",
    "pred_train = logRegModel.transform(labeled_train)"
   ]
  },
  {
   "cell_type": "markdown",
   "metadata": {},
   "source": [
    "__Area under Curve__"
   ]
  },
  {
   "cell_type": "code",
   "execution_count": 50,
   "metadata": {},
   "outputs": [
    {
     "data": {
      "application/vnd.jupyter.widget-view+json": {
       "model_id": "",
       "version_major": 2,
       "version_minor": 0
      },
      "text/plain": [
       "FloatProgress(value=0.0, bar_style='info', description='Progress:', layout=Layout(height='25px', width='50%'),…"
      ]
     },
     "metadata": {},
     "output_type": "display_data"
    },
    {
     "name": "stdout",
     "output_type": "stream",
     "text": [
      "Area under ROC: 0.795\n",
      "Area under PR curve: 0.474"
     ]
    }
   ],
   "source": [
    "from pyspark.ml.evaluation import BinaryClassificationEvaluator\n",
    "binEval_AUROC = BinaryClassificationEvaluator().setMetricName(\"areaUnderROC\").setRawPredictionCol(\"rawPrediction\").setLabelCol(\"label\")\n",
    "print(\"Area under ROC: %.3f\" % binEval_AUROC.evaluate(pred_train))\n",
    "\n",
    "binEval_AUPRC = BinaryClassificationEvaluator().setMetricName(\"areaUnderPR\").setRawPredictionCol(\"rawPrediction\").setLabelCol(\"label\")\n",
    "print(\"Area under PR curve: %.3f\" % binEval_AUPRC.evaluate(pred_train))"
   ]
  },
  {
   "cell_type": "markdown",
   "metadata": {},
   "source": [
    "decreased"
   ]
  },
  {
   "cell_type": "markdown",
   "metadata": {},
   "source": [
    "__Visualize feature importance__"
   ]
  },
  {
   "cell_type": "code",
   "execution_count": 51,
   "metadata": {},
   "outputs": [
    {
     "data": {
      "application/vnd.jupyter.widget-view+json": {
       "model_id": "",
       "version_major": 2,
       "version_minor": 0
      },
      "text/plain": [
       "FloatProgress(value=0.0, bar_style='info', description='Progress:', layout=Layout(height='25px', width='50%'),…"
      ]
     },
     "metadata": {},
     "output_type": "display_data"
    },
    {
     "name": "stdout",
     "output_type": "stream",
     "text": [
      "Coefficients: [2.5511504539743015,1.640425102362975,1.6838479932671935,1.5059565438480735,0.9268645668464816,-1.6831224797665072,0.8034646703943055,0.7236175279344945,0.5452664574832929,0.6349331012965748,1.1683081794091046,1.1079937900878447,2.0086300182450376]\n",
      "Intercept: -8.035688137555072"
     ]
    }
   ],
   "source": [
    "# Print the coefficients and intercept for logistic regression\n",
    "print(\"Coefficients: \" + str(logRegModel.coefficients))\n",
    "print(\"Intercept: \" + str(logRegModel.intercept))"
   ]
  },
  {
   "cell_type": "code",
   "execution_count": 52,
   "metadata": {},
   "outputs": [
    {
     "name": "stdout",
     "output_type": "stream",
     "text": [
      "13\n",
      "13\n"
     ]
    },
    {
     "data": {
      "image/png": "[encoded data removed]",
      "text/plain": [
       "<Figure size 576x432 with 1 Axes>"
      ]
     },
     "metadata": {
      "needs_background": "light"
     },
     "output_type": "display_data"
    }
   ],
   "source": [
    "%local\n",
    "\n",
    "features=[\"SVC_CALLS\", \"DAY_MINS\", \"DAY_CHARGE\", \"VMAIL_MSGS\", \"VMAIL\", \n",
    "               \"INTL_CALLS\", \"INTL_CHARGE\", \"INTL_MINS\", \"EVE_CHARGE\", \"EVE_MINS\",\n",
    "               \"NIGHT_MINS\", \"NIGHT_CHARGE\", \"ClusterChurn\"]\n",
    "print(len(features))\n",
    "coeffs= [2.5511504539743015,1.640425102362975,1.6838479932671935,1.5059565438480735,0.9268645668464816,-1.6831224797665072,0.8034646703943055,0.7236175279344945,0.5452664574832929,0.6349331012965748,1.1683081794091046,1.1079937900878447,2.0086300182450376]\n",
    "print(len(coeffs))\n",
    "#note : adapt coeffs and features list if you modified the features\n",
    "\n",
    "ax, fig=plt.subplots(figsize=(8,6))\n",
    "index = np.arange(len(features))\n",
    "plt.bar(index, coeffs)\n",
    "\n",
    "plt.xlabel('Features', fontsize=15)\n",
    "plt.ylabel('Magnitude of coefficients in logistic regression', fontsize=15)\n",
    "plt.xticks(index, features, fontsize=15, rotation=40)\n",
    "plt.title('Feature importance', fontsize=20)\n",
    "\n",
    "plt.show()"
   ]
  },
  {
   "cell_type": "markdown",
   "metadata": {},
   "source": [
    "Coefficients are comparable for more features. VMAIL, SVC_CALLS and ClusterChurn now play a much inferior role."
   ]
  },
  {
   "cell_type": "markdown",
   "metadata": {},
   "source": [
    "__Metrics and confusion matrix__\n",
    "\n",
    "\n",
    "Let's have a look at some indicators."
   ]
  },
  {
   "cell_type": "markdown",
   "metadata": {},
   "source": [
    "* Confusion matrix \n",
    "\n",
    "<img src=\"confusionMatrix.png\" width=800/>\n",
    "\n",
    "Sensitivity = TP / (TP + FN), also called Recall\n",
    "\n",
    "Specificity = TN / (TN + FP)\n",
    "\n",
    "Precision = TP / (TP + FP)\n",
    "\n",
    "Negative Predictive Value = TN / (TN + FN)\n",
    "\n",
    "F1-score: 2 x Precision x Recall / (Precision + Recall)\n",
    "\n",
    "Recall = 1 - FNR. "
   ]
  },
  {
   "cell_type": "code",
   "execution_count": 53,
   "metadata": {},
   "outputs": [
    {
     "data": {
      "application/vnd.jupyter.widget-view+json": {
       "model_id": "",
       "version_major": 2,
       "version_minor": 0
      },
      "text/plain": [
       "FloatProgress(value=0.0, bar_style='info', description='Progress:', layout=Layout(height='25px', width='50%'),…"
      ]
     },
     "metadata": {},
     "output_type": "display_data"
    },
    {
     "name": "stdout",
     "output_type": "stream",
     "text": [
      "Accuracy = 0.874\n",
      "f1 = 0.846\n",
      "weightedPrecision = 0.853"
     ]
    }
   ],
   "source": [
    "# Metrics (1/2)\n",
    "\n",
    "evaluator = MulticlassClassificationEvaluator(labelCol=\"label\", predictionCol=\"prediction\", metricName=\"accuracy\")\n",
    "accuracy = evaluator.evaluate(pred_train)\n",
    "print(\"Accuracy = %.3f\" % accuracy)\n",
    "\n",
    "evaluatorf1 = MulticlassClassificationEvaluator(labelCol=\"label\", predictionCol=\"prediction\", metricName=\"f1\")\n",
    "f1 = evaluatorf1.evaluate(pred_train)\n",
    "print(\"f1 = %.3f\" % f1)\n",
    " \n",
    "evaluatorwp = MulticlassClassificationEvaluator(labelCol=\"label\", predictionCol=\"prediction\", metricName=\"weightedPrecision\")\n",
    "wp = evaluatorwp.evaluate(pred_train)\n",
    "print(\"weightedPrecision = %.3f\" % wp)"
   ]
  },
  {
   "cell_type": "markdown",
   "metadata": {},
   "source": [
    "accuracy -1%"
   ]
  },
  {
   "cell_type": "code",
   "execution_count": 54,
   "metadata": {},
   "outputs": [
    {
     "data": {
      "application/vnd.jupyter.widget-view+json": {
       "model_id": "",
       "version_major": 2,
       "version_minor": 0
      },
      "text/plain": [
       "FloatProgress(value=0.0, bar_style='info', description='Progress:', layout=Layout(height='25px', width='50%'),…"
      ]
     },
     "metadata": {},
     "output_type": "display_data"
    }
   ],
   "source": [
    "# Metrics (2/2)\n",
    "\n",
    "def confusion_matrix(pred_DF):\n",
    "    \"\"\"\n",
    "    Input : \n",
    "    pred_DF : Saprk DataFrame obtained after a model.transform() transformation\n",
    "    Output :\n",
    "    (tn, fp, fn, tp) tuple of integers\n",
    "    \"\"\"\n",
    "    \n",
    "    # as pandas DF\n",
    "    label = pred_DF.toPandas()[\"label\"]\n",
    "    prediction = pred_DF.toPandas()[\"prediction\"]\n",
    "    \n",
    "    # true = tp + tn\n",
    "    true = sum(label)\n",
    "\n",
    "    # tp : sum(if pred = label = 1) or count(pred+label=2)\n",
    "    tp = sum(label+prediction==2)\n",
    "    \n",
    "    # fn = total number of positive - predicted positives which are rightly predicted\n",
    "    fn = true - tp\n",
    "\n",
    "    # tn : sum(if pred=label=0) or count(pred+label=0)\n",
    "    tn = sum(label+prediction==0)\n",
    "\n",
    "    # fp = total number of negative - tn\n",
    "    fp = len(label) - true - tn\n",
    "    \n",
    "    return (tn, fp, fn, tp)\n",
    "\n",
    "\n",
    "def FNR(fn, tp):\n",
    "    return fn/(fn+tp)\n",
    "\n",
    "def recall(tp, fn):\n",
    "    # also called TPR or sensitivity\n",
    "    return tp/(tp+fn)\n",
    "\n",
    "def precision(tp, fp):\n",
    "    return tp/(tp+fp)"
   ]
  },
  {
   "cell_type": "code",
   "execution_count": 55,
   "metadata": {},
   "outputs": [
    {
     "data": {
      "application/vnd.jupyter.widget-view+json": {
       "model_id": "",
       "version_major": 2,
       "version_minor": 0
      },
      "text/plain": [
       "FloatProgress(value=0.0, bar_style='info', description='Progress:', layout=Layout(height='25px', width='50%'),…"
      ]
     },
     "metadata": {},
     "output_type": "display_data"
    },
    {
     "name": "stdout",
     "output_type": "stream",
     "text": [
      "Confusion matrix: \n",
      "[['tp: 75' 'fn: 254']\n",
      " ['fp: 39' 'tn: 1953']]\n",
      "FNR: 0.772\n",
      "Recall: 0.228\n",
      "Precision: 0.658"
     ]
    }
   ],
   "source": [
    "# Confusion matrix\n",
    "(tn, fp, fn, tp)=confusion_matrix(pred_train)\n",
    "# Confusion matrix in format [[tp, fn], [fp, tn]]\n",
    "print(\"Confusion matrix: \")\n",
    "print(np.array([[(\"tp: \"+str(tp)), (\"fn: \"+str(fn))], [(\"fp: \"+str(fp)), (\"tn: \"+str(tn))]]))\n",
    "\n",
    "# Metrics\n",
    "print(\"FNR: %.3f\" % FNR(fn, tp))\n",
    "print(\"Recall: %.3f\" % recall(tp, fn))\n",
    "print(\"Precision: %.3f\" % precision(tp, fp))"
   ]
  },
  {
   "cell_type": "markdown",
   "metadata": {},
   "source": [
    "Recall improved! by 8%"
   ]
  },
  {
   "cell_type": "markdown",
   "metadata": {},
   "source": [
    "## 5. Fine tune your hyperparameters on the validation set\n",
    "\n",
    "We will only do it for logistic regression, since it is the more promising model so far. A similar method can be applied for the other model types."
   ]
  },
  {
   "cell_type": "markdown",
   "metadata": {},
   "source": [
    "__Raw results__\n",
    "\n",
    "In the following cell, default values are used for logistic regression's parameters. "
   ]
  },
  {
   "cell_type": "code",
   "execution_count": 56,
   "metadata": {},
   "outputs": [
    {
     "data": {
      "application/vnd.jupyter.widget-view+json": {
       "model_id": "",
       "version_major": 2,
       "version_minor": 0
      },
      "text/plain": [
       "FloatProgress(value=0.0, bar_style='info', description='Progress:', layout=Layout(height='25px', width='50%'),…"
      ]
     },
     "metadata": {},
     "output_type": "display_data"
    },
    {
     "name": "stdout",
     "output_type": "stream",
     "text": [
      "Validation Accuracy = 0.857"
     ]
    }
   ],
   "source": [
    "# Transform your validation set\n",
    "assembled_val = preparation2(prepared_val)\n",
    "\n",
    "# Select only the label and features columns\n",
    "labeled_val = assembled_val.select(assembled_val[\"features\"], assembled_val[\"CHURN\"].alias(\"label\"))\n",
    "\n",
    "# Make predictions\n",
    "pred_val = logRegModel.transform(labeled_val)\n",
    "\n",
    "# Define evaluator\n",
    "evaluator = MulticlassClassificationEvaluator(metricName=\"accuracy\")\n",
    "\n",
    "# Compute the classification accuracy on the validation set\n",
    "accuracy = evaluator.evaluate(pred_val)\n",
    "print(\"Validation Accuracy = %.3f\" %  accuracy)"
   ]
  },
  {
   "cell_type": "markdown",
   "metadata": {},
   "source": [
    "Accuracy had improved by 2%: 0.855 compared to 0.834 without the additional ClusterChurn column.\n",
    "drops again in 12-feature case."
   ]
  },
  {
   "cell_type": "markdown",
   "metadata": {},
   "source": [
    "__Grid search__ \n",
    "\n",
    "In the next cell we define a function to test a range of hyperparameters for regularization in order to minimize the False Negative Rate (FNR)."
   ]
  },
  {
   "cell_type": "code",
   "execution_count": 57,
   "metadata": {},
   "outputs": [
    {
     "data": {
      "application/vnd.jupyter.widget-view+json": {
       "model_id": "",
       "version_major": 2,
       "version_minor": 0
      },
      "text/plain": [
       "FloatProgress(value=0.0, bar_style='info', description='Progress:', layout=Layout(height='25px', width='50%'),…"
      ]
     },
     "metadata": {},
     "output_type": "display_data"
    }
   ],
   "source": [
    "def grid_search():\n",
    "    \"\"\"\n",
    "    Input:\n",
    "    DF : Spark Dataframe, prepared with features and label columns\n",
    "    \n",
    "    Output:\n",
    "    best: dictionary with best hyperparameters and corresponding metrics\n",
    "    \"\"\"\n",
    "       \n",
    "    # Hyperparameter ranges\n",
    "    regParam_range=[0, 0.001, 0.002, 0.005, 0.01]\n",
    "    elasticNetParam_range=[0, 0.001, 0.002, 0.005, 0.01]\n",
    "    \n",
    "    best={\"regParam\":0, \"elasticNetParam\": 0, \"training_FNR\": 1, \"validation_FNR\": 1}\n",
    "          \n",
    "    for r in regParam_range:\n",
    "        for e in elasticNetParam_range:\n",
    "            \n",
    "            print(\"regParam = \"+str(r)+\" , elasticNetParam = \"+ str(e))\n",
    "            \n",
    "            # Define your model\n",
    "            logReg = LogisticRegression(maxIter=100, regParam=r, elasticNetParam=e)\n",
    "\n",
    "            # Fit the model on training set\n",
    "            logRegModel = logReg.fit(labeled_train)\n",
    "\n",
    "            # Make predictions\n",
    "            pred_train = logRegModel.transform(labeled_train)\n",
    "            pred_val = logRegModel.transform(labeled_val)\n",
    "            \n",
    "            # Compute the confusion matrix and FNR for both sets\n",
    "            (tn, fp, fn, tp) = confusion_matrix(pred_train)\n",
    "            training_FNR = FNR(fn, tp)\n",
    "            (tn, fp, fn, tp) = confusion_matrix(pred_val)\n",
    "            val_FNR = FNR(fn, tp)\n",
    "            print(\"Training FNR = \" +str(training_FNR))\n",
    "            print(\"Validation FNR = \" +str(val_FNR))\n",
    "            print(\"\")\n",
    "            \n",
    "            if val_FNR <= best[\"validation_FNR\"]: # to have more regularization for equal performance\n",
    "                best[\"regParam\"] = r\n",
    "                best[\"elasticNetParam\"] = e\n",
    "                best[\"training_FNR\"] = training_FNR\n",
    "                best[\"validation_FNR\"] = val_FNR\n",
    "                \n",
    "    return best"
   ]
  },
  {
   "cell_type": "code",
   "execution_count": 58,
   "metadata": {},
   "outputs": [
    {
     "data": {
      "application/vnd.jupyter.widget-view+json": {
       "model_id": "",
       "version_major": 2,
       "version_minor": 0
      },
      "text/plain": [
       "FloatProgress(value=0.0, bar_style='info', description='Progress:', layout=Layout(height='25px', width='50%'),…"
      ]
     },
     "metadata": {},
     "output_type": "display_data"
    },
    {
     "name": "stdout",
     "output_type": "stream",
     "text": [
      "regParam = 0 , elasticNetParam = 0\n",
      "Training FNR = 0.7720364741641338\n",
      "Validation FNR = 0.7560975609756098\n",
      "\n",
      "regParam = 0 , elasticNetParam = 0.001\n",
      "Training FNR = 0.7720364741641338\n",
      "Validation FNR = 0.7560975609756098\n",
      "\n",
      "regParam = 0 , elasticNetParam = 0.002\n",
      "Training FNR = 0.7720364741641338\n",
      "Validation FNR = 0.7560975609756098\n",
      "\n",
      "regParam = 0 , elasticNetParam = 0.005\n",
      "Training FNR = 0.7720364741641338\n",
      "Validation FNR = 0.7560975609756098\n",
      "\n",
      "regParam = 0 , elasticNetParam = 0.01\n",
      "Training FNR = 0.7720364741641338\n",
      "Validation FNR = 0.7560975609756098\n",
      "\n",
      "regParam = 0.001 , elasticNetParam = 0\n",
      "Training FNR = 0.7720364741641338\n",
      "Validation FNR = 0.7560975609756098\n",
      "\n",
      "regParam = 0.001 , elasticNetParam = 0.001\n",
      "Training FNR = 0.7781155015197568\n",
      "Validation FNR = 0.7560975609756098\n",
      "\n",
      "regParam = 0.001 , elasticNetParam = 0.002\n",
      "Training FNR = 0.7720364741641338\n",
      "Validation FNR = 0.7560975609756098\n",
      "\n",
      "regParam = 0.001 , elasticNetParam = 0.005\n",
      "Training FNR = 0.7720364741641338\n",
      "Validation FNR = 0.7682926829268293\n",
      "\n",
      "regParam = 0.001 , elasticNetParam = 0.01\n",
      "Training FNR = 0.7781155015197568\n",
      "Validation FNR = 0.7804878048780488\n",
      "\n",
      "regParam = 0.002 , elasticNetParam = 0\n",
      "Training FNR = 0.7720364741641338\n",
      "Validation FNR = 0.7682926829268293\n",
      "\n",
      "regParam = 0.002 , elasticNetParam = 0.001\n",
      "Training FNR = 0.7781155015197568\n",
      "Validation FNR = 0.7682926829268293\n",
      "\n",
      "regParam = 0.002 , elasticNetParam = 0.002\n",
      "Training FNR = 0.7811550151975684\n",
      "Validation FNR = 0.7804878048780488\n",
      "\n",
      "regParam = 0.002 , elasticNetParam = 0.005\n",
      "Training FNR = 0.7811550151975684\n",
      "Validation FNR = 0.7804878048780488\n",
      "\n",
      "regParam = 0.002 , elasticNetParam = 0.01\n",
      "Training FNR = 0.790273556231003\n",
      "Validation FNR = 0.7560975609756098\n",
      "\n",
      "regParam = 0.005 , elasticNetParam = 0\n",
      "Training FNR = 0.78419452887538\n",
      "Validation FNR = 0.7926829268292683\n",
      "\n",
      "regParam = 0.005 , elasticNetParam = 0.001\n",
      "Training FNR = 0.7689969604863222\n",
      "Validation FNR = 0.7682926829268293\n",
      "\n",
      "regParam = 0.005 , elasticNetParam = 0.002\n",
      "Training FNR = 0.7629179331306991\n",
      "Validation FNR = 0.7682926829268293\n",
      "\n",
      "regParam = 0.005 , elasticNetParam = 0.005\n",
      "Training FNR = 0.7720364741641338\n",
      "Validation FNR = 0.7560975609756098\n",
      "\n",
      "regParam = 0.005 , elasticNetParam = 0.01\n",
      "Training FNR = 0.7993920972644377\n",
      "Validation FNR = 0.7804878048780488\n",
      "\n",
      "regParam = 0.01 , elasticNetParam = 0\n",
      "Training FNR = 0.790273556231003\n",
      "Validation FNR = 0.7926829268292683\n",
      "\n",
      "regParam = 0.01 , elasticNetParam = 0.001\n",
      "Training FNR = 0.7781155015197568\n",
      "Validation FNR = 0.7682926829268293\n",
      "\n",
      "regParam = 0.01 , elasticNetParam = 0.002\n",
      "Training FNR = 0.8024316109422492\n",
      "Validation FNR = 0.7926829268292683\n",
      "\n",
      "regParam = 0.01 , elasticNetParam = 0.005\n",
      "Training FNR = 0.7720364741641338\n",
      "Validation FNR = 0.7560975609756098\n",
      "\n",
      "regParam = 0.01 , elasticNetParam = 0.01\n",
      "Training FNR = 0.7781155015197568\n",
      "Validation FNR = 0.7560975609756098\n",
      "\n",
      "{'regParam': 0.01, 'elasticNetParam': 0.01, 'training_FNR': 0.7781155015197568, 'validation_FNR': 0.7560975609756098}"
     ]
    }
   ],
   "source": [
    "best = grid_search()\n",
    "print(best)"
   ]
  },
  {
   "cell_type": "markdown",
   "metadata": {},
   "source": [
    "## 6. Assess your model performance on the test set\n",
    "\n",
    "See what is the final perfomance of your tuned model on unseen data."
   ]
  },
  {
   "cell_type": "code",
   "execution_count": 59,
   "metadata": {},
   "outputs": [
    {
     "data": {
      "application/vnd.jupyter.widget-view+json": {
       "model_id": "",
       "version_major": 2,
       "version_minor": 0
      },
      "text/plain": [
       "FloatProgress(value=0.0, bar_style='info', description='Progress:', layout=Layout(height='25px', width='50%'),…"
      ]
     },
     "metadata": {},
     "output_type": "display_data"
    }
   ],
   "source": [
    "# Prepare the test set\n",
    "assembled_test = preparation2(prepared_test)\n",
    "\n",
    "# Select only the label and features columns\n",
    "labeled_test = assembled_test.select(assembled_test[\"features\"], assembled_test[\"CHURN\"].alias(\"label\"))"
   ]
  },
  {
   "cell_type": "code",
   "execution_count": 60,
   "metadata": {},
   "outputs": [
    {
     "data": {
      "application/vnd.jupyter.widget-view+json": {
       "model_id": "",
       "version_major": 2,
       "version_minor": 0
      },
      "text/plain": [
       "FloatProgress(value=0.0, bar_style='info', description='Progress:', layout=Layout(height='25px', width='50%'),…"
      ]
     },
     "metadata": {},
     "output_type": "display_data"
    },
    {
     "name": "stdout",
     "output_type": "stream",
     "text": [
      "+--------------------+-----+--------------------+--------------------+----------+\n",
      "|            features|label|       rawPrediction|         probability|prediction|\n",
      "+--------------------+-----+--------------------+--------------------+----------+\n",
      "|[0.11111111111111...|    0|[3.03511580841771...|[0.95413556611642...|       0.0|\n",
      "|[0.0,0.5908304498...|    0|[2.11186956356083...|[0.89205149602913...|       0.0|\n",
      "|[0.11111111111111...|    0|[1.53746549469804...|[0.82309598062864...|       0.0|\n",
      "|[0.11111111111111...|    0|[3.41202505651993...|[0.96807824169871...|       0.0|\n",
      "|[0.0,0.8829296424...|    0|[1.26731678437639...|[0.78028307965570...|       0.0|\n",
      "+--------------------+-----+--------------------+--------------------+----------+\n",
      "only showing top 5 rows\n",
      "\n",
      "Test Accuracy = 0.865"
     ]
    }
   ],
   "source": [
    "# Define your model\n",
    "logReg = LogisticRegression(maxIter=100, regParam=best[\"regParam\"], elasticNetParam=best[\"elasticNetParam\"])\n",
    "\n",
    "# Fit the model on training set\n",
    "logRegModel = logReg.fit(labeled_train)\n",
    "\n",
    "# Make predictions on test set\n",
    "pred_test = logRegModel.transform(labeled_test)\n",
    "pred_test.show(5)\n",
    "\n",
    "# Compute the accuracy on the test set\n",
    "print(\"Test Accuracy = %.3f\" %evaluator.evaluate(pred_test))"
   ]
  },
  {
   "cell_type": "code",
   "execution_count": 61,
   "metadata": {},
   "outputs": [
    {
     "data": {
      "application/vnd.jupyter.widget-view+json": {
       "model_id": "",
       "version_major": 2,
       "version_minor": 0
      },
      "text/plain": [
       "FloatProgress(value=0.0, bar_style='info', description='Progress:', layout=Layout(height='25px', width='50%'),…"
      ]
     },
     "metadata": {},
     "output_type": "display_data"
    },
    {
     "name": "stdout",
     "output_type": "stream",
     "text": [
      "Confusion matrix: \n",
      "[['tp: 12' 'fn: 60']\n",
      " ['fp: 10' 'tn: 435']]\n",
      "FNR: 0.833"
     ]
    }
   ],
   "source": [
    "# Confusion matrix\n",
    "(tn, fp, fn, tp)=confusion_matrix(pred_test)\n",
    "# Confusion matrix in format [[tp, fn], [fp, tn]]\n",
    "print(\"Confusion matrix: \")\n",
    "print(np.array([[(\"tp: \"+str(tp)), (\"fn: \"+str(fn))], [(\"fp: \"+str(fp)), (\"tn: \"+str(tn))]]))\n",
    "\n",
    "# FNR\n",
    "print(\"FNR: %.3f\" %FNR(fn, tp))"
   ]
  },
  {
   "cell_type": "markdown",
   "metadata": {},
   "source": [
    "Comparison : \n",
    "* (22, 50, 12, 433) FNR: 0.694 - 12 features + ClusterChurn\n",
    "* (18, 54, 4, 441) FNR = 0.750 - 6 features + ClusterChurn\n",
    "* (12, 60, 4, 441), FNR = 0.833 without ClusterChurn column "
   ]
  },
  {
   "cell_type": "markdown",
   "metadata": {},
   "source": [
    "__Plot the ROC curve__ \n",
    "\n",
    "The Receiver-Operator Curve (ROC) gives you a visual display of the sensitivity by specificity for all possible classification cutoffs. In other words, it summarizes the trade-off between the true positive rate and false positive rate for a predictive model using different probability thresholds.\n",
    "\n",
    "The true positive rate (TPR) is given by `tp / (tp + tn)` where tp is the number of true positives and tn the number of true negatives. It is also referred to as recall or sensitivity.\n",
    "\n",
    "The false positive rate (FPR) is given by `fp/(fp+tn)` where fp is the number of false positives and tn the number of true negatives. It is also referred to as inverted specificity."
   ]
  },
  {
   "cell_type": "code",
   "execution_count": 62,
   "metadata": {},
   "outputs": [
    {
     "data": {
      "application/vnd.jupyter.widget-view+json": {
       "model_id": "",
       "version_major": 2,
       "version_minor": 0
      },
      "text/plain": [
       "FloatProgress(value=0.0, bar_style='info', description='Progress:', layout=Layout(height='25px', width='50%'),…"
      ]
     },
     "metadata": {},
     "output_type": "display_data"
    }
   ],
   "source": [
    "# Extract the summary from the returned LogisticRegressionModel instance trained\n",
    "trainingSummary = logRegModel.summary\n",
    "# Obtain the receiver-operating characteristic as a dataframe and areaUnderROC.\n",
    "trainingSummary.roc.createOrReplaceTempView(\"roc\")"
   ]
  },
  {
   "cell_type": "code",
   "execution_count": 63,
   "metadata": {},
   "outputs": [
    {
     "data": {
      "application/vnd.jupyter.widget-view+json": {
       "model_id": "",
       "version_major": 2,
       "version_minor": 0
      },
      "text/plain": [
       "FloatProgress(value=0.0, bar_style='info', description='Progress:', layout=Layout(height='25px', width='50%'),…"
      ]
     },
     "metadata": {},
     "output_type": "display_data"
    },
    {
     "name": "stderr",
     "output_type": "stream",
     "text": [
      "/Users/eva.feillet/anaconda3/lib/python3.7/site-packages/autovizwidget/widget/utils.py:50: FutureWarning:\n",
      "\n",
      "A future version of pandas will default to `skipna=True`. To silence this warning, pass `skipna=True|False` explicitly.\n",
      "\n"
     ]
    },
    {
     "data": {
      "application/vnd.jupyter.widget-view+json": {
       "model_id": "3f404204a7df46cd910152998ed9972b",
       "version_major": 2,
       "version_minor": 0
      },
      "text/plain": [
       "VBox(children=(HBox(children=(HTML(value='Type:'), Button(description='Table', layout=Layout(width='70px'), st…"
      ]
     },
     "metadata": {},
     "output_type": "display_data"
    },
    {
     "data": {
      "application/vnd.jupyter.widget-view+json": {
       "model_id": "44264318a5a0474dada5522b4744325e",
       "version_major": 2,
       "version_minor": 0
      },
      "text/plain": [
       "Output()"
      ]
     },
     "metadata": {},
     "output_type": "display_data"
    }
   ],
   "source": [
    "%%sql -o roc --maxrows -1\n",
    "SELECT * FROM roc"
   ]
  },
  {
   "cell_type": "code",
   "execution_count": 64,
   "metadata": {},
   "outputs": [
    {
     "data": {
      "text/plain": [
       "[<matplotlib.lines.Line2D at 0x11c00dac8>]"
      ]
     },
     "execution_count": 64,
     "metadata": {},
     "output_type": "execute_result"
    },
    {
     "data": {
      "image/png": "[encoded data removed]",
      "text/plain": [
       "<Figure size 576x576 with 1 Axes>"
      ]
     },
     "metadata": {
      "needs_background": "light"
     },
     "output_type": "display_data"
    }
   ],
   "source": [
    "%local\n",
    "ax, fig = plt.subplots(figsize=(8,8))\n",
    "plt.xlabel(\"False Positive Rate\", fontsize=15)\n",
    "plt.ylabel(\"True Positive Rate\", fontsize=15)\n",
    "plt.title(\"Receiver-Operator Curve\", fontsize=20)\n",
    "plt.plot(roc[\"FPR\"], roc[\"TPR\"])"
   ]
  },
  {
   "cell_type": "code",
   "execution_count": 65,
   "metadata": {},
   "outputs": [
    {
     "data": {
      "application/vnd.jupyter.widget-view+json": {
       "model_id": "",
       "version_major": 2,
       "version_minor": 0
      },
      "text/plain": [
       "FloatProgress(value=0.0, bar_style='info', description='Progress:', layout=Layout(height='25px', width='50%'),…"
      ]
     },
     "metadata": {},
     "output_type": "display_data"
    },
    {
     "name": "stdout",
     "output_type": "stream",
     "text": [
      "areaUnderROC: 0.793"
     ]
    }
   ],
   "source": [
    "print(\"areaUnderROC: %.3f\" %trainingSummary.areaUnderROC)"
   ]
  }
 ],
 "metadata": {
  "kernelspec": {
   "display_name": "PySpark",
   "language": "",
   "name": "pysparkkernel"
  },
  "language_info": {
   "codemirror_mode": {
    "name": "python",
    "version": 2
   },
   "mimetype": "text/x-python",
   "name": "pyspark",
   "pygments_lexer": "python2"
  }
 },
 "nbformat": 4,
 "nbformat_minor": 2
}
