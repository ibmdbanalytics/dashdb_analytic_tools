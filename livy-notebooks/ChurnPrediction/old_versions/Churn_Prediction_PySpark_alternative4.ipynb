{
 "cells": [
  {
   "cell_type": "markdown",
   "metadata": {},
   "source": [
    "# Customer Churn Prediction + Clustering"
   ]
  },
  {
   "cell_type": "markdown",
   "metadata": {},
   "source": [
    "12 features, ClusterChurn, Ensemble models : Random Forest and Gradient Boosted Trees."
   ]
  },
  {
   "cell_type": "markdown",
   "metadata": {},
   "source": [
    "## 1. Get ready"
   ]
  },
  {
   "cell_type": "markdown",
   "metadata": {},
   "source": [
    "__Imports__\n",
    "\n",
    "Import the necessary Spark classes, as well as Python packages for local visualisations.\n",
    "We will plot the graphs directly in this notebook. If you like to plot them in a separate window, just comment out `%matplotlib inline`."
   ]
  },
  {
   "cell_type": "code",
   "execution_count": 18,
   "metadata": {},
   "outputs": [
    {
     "data": {
      "application/vnd.jupyter.widget-view+json": {
       "model_id": "",
       "version_major": 2,
       "version_minor": 0
      },
      "text/plain": [
       "FloatProgress(value=0.0, bar_style='info', description='Progress:', layout=Layout(height='25px', width='50%'),…"
      ]
     },
     "metadata": {},
     "output_type": "display_data"
    }
   ],
   "source": [
    "# Useful imports - PySpark\n",
    "from pyspark.sql import SparkSession\n",
    "from pyspark.ml.linalg import Vectors\n",
    "from pyspark.ml.feature import VectorAssembler\n",
    "from pyspark.ml.clustering import KMeans\n",
    "from pyspark.ml.evaluation import ClusteringEvaluator\n",
    "\n",
    "from pyspark.sql import Row\n",
    "\n",
    "from pyspark.ml.regression import LinearRegression\n",
    "from pyspark.ml.evaluation import RegressionEvaluator\n",
    "from pyspark.ml.classification import LogisticRegression\n",
    "from pyspark.ml.evaluation import MulticlassClassificationEvaluator\n",
    "from pyspark.ml.feature import ChiSqSelector\n",
    "from pyspark.mllib.evaluation import BinaryClassificationMetrics\n",
    "\n",
    "import numpy as np\n",
    "\n",
    "from pyspark.ml.classification import GBTClassifier\n",
    "from pyspark.ml.classification import RandomForestClassifier"
   ]
  },
  {
   "cell_type": "code",
   "execution_count": 19,
   "metadata": {},
   "outputs": [],
   "source": [
    "%local\n",
    "%matplotlib inline\n",
    "\n",
    "# Useful imports for local visualisations\n",
    "\n",
    "import matplotlib.pyplot as plt\n",
    "import pandas as pd\n",
    "import numpy as np"
   ]
  },
  {
   "cell_type": "markdown",
   "metadata": {},
   "source": [
    "__Load the data__\n",
    "\n",
    "Let's use a table which has been pre-populated in Db2 local. It is called SAMPLES.TRAINING. "
   ]
  },
  {
   "cell_type": "code",
   "execution_count": 20,
   "metadata": {},
   "outputs": [
    {
     "data": {
      "application/vnd.jupyter.widget-view+json": {
       "model_id": "",
       "version_major": 2,
       "version_minor": 0
      },
      "text/plain": [
       "FloatProgress(value=0.0, bar_style='info', description='Progress:', layout=Layout(height='25px', width='50%'),…"
      ]
     },
     "metadata": {},
     "output_type": "display_data"
    },
    {
     "name": "stdout",
     "output_type": "stream",
     "text": [
      "+-----+----+-----+----------+--------+---------+----------+--------+---------+----------+----------+-----------+------------+---------+----------+-----------+---------+\n",
      "|CHURN|AREA|VMAIL|VMAIL_MSGS|DAY_MINS|DAY_CALLS|DAY_CHARGE|EVE_MINS|EVE_CALLS|EVE_CHARGE|NIGHT_MINS|NIGHT_CALLS|NIGHT_CHARGE|INTL_MINS|INTL_CALLS|INTL_CHARGE|SVC_CALLS|\n",
      "+-----+----+-----+----------+--------+---------+----------+--------+---------+----------+----------+-----------+------------+---------+----------+-----------+---------+\n",
      "|    0| 415|    1|         0|   246.5|      108|     41.91|   216.3|       89|     18.39|     179.6|         99|        8.08|     12.7|         3|       3.43|        2|\n",
      "|    1| 408|    1|         0|   298.1|      112|     50.68|   201.3|      100|     17.11|     214.7|         88|        9.66|      9.7|         4|       2.62|        2|\n",
      "|    0| 510|    1|         0|   119.3|       82|     20.28|   185.1|      111|     15.73|     157.0|         74|        7.07|     10.9|         4|       2.94|        2|\n",
      "|    0| 408|    1|         0|   242.5|       82|     41.23|   232.9|       97|     19.80|     154.0|         86|        6.93|      9.6|         7|       2.59|        0|\n",
      "|    1| 408|    0|        18|   222.1|       89|     37.76|   160.6|      109|     13.65|     218.8|        102|        9.85|     13.6|         2|       3.67|        0|\n",
      "+-----+----+-----+----------+--------+---------+----------+--------+---------+----------+----------+-----------+------------+---------+----------+-----------+---------+\n",
      "only showing top 5 rows"
     ]
    }
   ],
   "source": [
    "sparkSession = SparkSession \\\n",
    "        .builder \\\n",
    "        .getOrCreate()\n",
    "\n",
    "df = sparkSession.read \\\n",
    "        .format(\"com.ibm.idax.spark.idaxsource\") \\\n",
    "        .options(dbtable=\"SAMPLES.TRAINING\") \\\n",
    "        .load()\n",
    "df.show(5)"
   ]
  },
  {
   "cell_type": "markdown",
   "metadata": {},
   "source": [
    "How many records do we have? How many features?"
   ]
  },
  {
   "cell_type": "code",
   "execution_count": 21,
   "metadata": {},
   "outputs": [
    {
     "data": {
      "application/vnd.jupyter.widget-view+json": {
       "model_id": "",
       "version_major": 2,
       "version_minor": 0
      },
      "text/plain": [
       "FloatProgress(value=0.0, bar_style='info', description='Progress:', layout=Layout(height='25px', width='50%'),…"
      ]
     },
     "metadata": {},
     "output_type": "display_data"
    },
    {
     "name": "stdout",
     "output_type": "stream",
     "text": [
      "Number of records: 3333\n",
      "Number of features: 17"
     ]
    }
   ],
   "source": [
    "print('Number of records: '+str(df.count()))\n",
    "print('Number of features: '+str(len(df.columns)))"
   ]
  },
  {
   "cell_type": "markdown",
   "metadata": {},
   "source": [
    "## 2. Prepare the data"
   ]
  },
  {
   "cell_type": "markdown",
   "metadata": {},
   "source": [
    "__Split the data__\n",
    "\n",
    "We split the data into three distinct sets: for training, validation and testing. We use the proportions 70%, 15% and 15% so that we keep a relatively high number of examples for training. Of course these proportions are subjective, you can change them if you want. We have defined a seed so that results can be reproduced."
   ]
  },
  {
   "cell_type": "code",
   "execution_count": 22,
   "metadata": {},
   "outputs": [
    {
     "data": {
      "application/vnd.jupyter.widget-view+json": {
       "model_id": "",
       "version_major": 2,
       "version_minor": 0
      },
      "text/plain": [
       "FloatProgress(value=0.0, bar_style='info', description='Progress:', layout=Layout(height='25px', width='50%'),…"
      ]
     },
     "metadata": {},
     "output_type": "display_data"
    }
   ],
   "source": [
    "train, val, test = df.randomSplit([0.70,0.15,0.15],1)"
   ]
  },
  {
   "cell_type": "markdown",
   "metadata": {},
   "source": [
    "## 3. Clustering\n",
    "\n",
    "First, let's see if we can identify some customer clusters with KMeans. We will then apply logistic regression to predict churn."
   ]
  },
  {
   "cell_type": "markdown",
   "metadata": {},
   "source": [
    "### a. Apply unsupervised learning for customer segmentation with kMeans"
   ]
  },
  {
   "cell_type": "markdown",
   "metadata": {},
   "source": [
    "Create a model: Build a Spark ML algorithm that selects the call counts from the customer data and clusters them using KMeans."
   ]
  },
  {
   "cell_type": "code",
   "execution_count": 23,
   "metadata": {},
   "outputs": [
    {
     "data": {
      "application/vnd.jupyter.widget-view+json": {
       "model_id": "",
       "version_major": 2,
       "version_minor": 0
      },
      "text/plain": [
       "FloatProgress(value=0.0, bar_style='info', description='Progress:', layout=Layout(height='25px', width='50%'),…"
      ]
     },
     "metadata": {},
     "output_type": "display_data"
    }
   ],
   "source": [
    "# We choose to keep the 12 most relevant features\n",
    "\n",
    "assembler_12 = VectorAssembler(\n",
    "    inputCols=[\"SVC_CALLS\", \"DAY_MINS\", \"DAY_CHARGE\", \"VMAIL_MSGS\", \"VMAIL\", \n",
    "               \"INTL_CALLS\", \"INTL_CHARGE\", \"INTL_MINS\", \"EVE_CHARGE\", \"EVE_MINS\",\n",
    "               \"NIGHT_MINS\", \"NIGHT_CHARGE\"],\n",
    "    outputCol=\"features\")\n",
    "\n",
    "# clusters will be built on training data only\n",
    "train_12 = assembler_12.transform(train)\n",
    "\n",
    "# Set characteristics of your model \n",
    "kmeans = KMeans().setK(15).setSeed(1)"
   ]
  },
  {
   "cell_type": "markdown",
   "metadata": {},
   "source": [
    "Fit the model to the required training set and run the algorithm to find the clusters."
   ]
  },
  {
   "cell_type": "code",
   "execution_count": 24,
   "metadata": {},
   "outputs": [
    {
     "data": {
      "application/vnd.jupyter.widget-view+json": {
       "model_id": "",
       "version_major": 2,
       "version_minor": 0
      },
      "text/plain": [
       "FloatProgress(value=0.0, bar_style='info', description='Progress:', layout=Layout(height='25px', width='50%'),…"
      ]
     },
     "metadata": {},
     "output_type": "display_data"
    }
   ],
   "source": [
    "model = kmeans.fit(train_12)"
   ]
  },
  {
   "cell_type": "code",
   "execution_count": 25,
   "metadata": {},
   "outputs": [
    {
     "data": {
      "application/vnd.jupyter.widget-view+json": {
       "model_id": "",
       "version_major": 2,
       "version_minor": 0
      },
      "text/plain": [
       "FloatProgress(value=0.0, bar_style='info', description='Progress:', layout=Layout(height='25px', width='50%'),…"
      ]
     },
     "metadata": {},
     "output_type": "display_data"
    }
   ],
   "source": [
    "cluster_predictions = model.transform(train_12)"
   ]
  },
  {
   "cell_type": "markdown",
   "metadata": {},
   "source": [
    "__Inference__\n",
    "\n",
    "KMeans is an unsupervized learning algorithm: we have to see if the clusters we have just built can be really be used to infer churn!"
   ]
  },
  {
   "cell_type": "code",
   "execution_count": 26,
   "metadata": {},
   "outputs": [
    {
     "data": {
      "application/vnd.jupyter.widget-view+json": {
       "model_id": "",
       "version_major": 2,
       "version_minor": 0
      },
      "text/plain": [
       "FloatProgress(value=0.0, bar_style='info', description='Progress:', layout=Layout(height='25px', width='50%'),…"
      ]
     },
     "metadata": {},
     "output_type": "display_data"
    },
    {
     "name": "stdout",
     "output_type": "stream",
     "text": [
      "+---------+-----+\n",
      "|ClusterID|count|\n",
      "+---------+-----+\n",
      "|       13|  101|\n",
      "|        5|  101|\n",
      "|        9|  120|\n",
      "|        2|  122|\n",
      "|        8|  133|\n",
      "|       14|  139|\n",
      "|       10|  147|\n",
      "|        7|  155|\n",
      "|        1|  163|\n",
      "|        6|  163|\n",
      "|        4|  164|\n",
      "|        0|  165|\n",
      "|       11|  189|\n",
      "|       12|  212|\n",
      "|        3|  247|\n",
      "+---------+-----+"
     ]
    }
   ],
   "source": [
    "# Number of customers in each cluster\n",
    "cluster_predictions.groupBy(\"prediction\").count().sort(\"count\").withColumnRenamed(\"prediction\", \"ClusterID\").show()"
   ]
  },
  {
   "cell_type": "markdown",
   "metadata": {},
   "source": [
    "__Silhouette score__\n",
    "\n",
    "The silhouette score measures how similar an object is to its own cluster (cohesion) compared to other clusters (separation). It ranges from −1 to +1. The closer to 1, the better: the object is then well matched to its own cluster and differs from the points belonging to neighboring clusters. If most objects have a high value, then the clustering configuration is considered to be appropriate. Otherwise there may be too many or too few clusters. Here we compute a mean value over all points, using the Euclidean distance."
   ]
  },
  {
   "cell_type": "code",
   "execution_count": 27,
   "metadata": {},
   "outputs": [
    {
     "data": {
      "application/vnd.jupyter.widget-view+json": {
       "model_id": "",
       "version_major": 2,
       "version_minor": 0
      },
      "text/plain": [
       "FloatProgress(value=0.0, bar_style='info', description='Progress:', layout=Layout(height='25px', width='50%'),…"
      ]
     },
     "metadata": {},
     "output_type": "display_data"
    },
    {
     "name": "stdout",
     "output_type": "stream",
     "text": [
      "Silhouette with squared euclidean distance = 0.305"
     ]
    }
   ],
   "source": [
    "# Evaluate clustering by computing Silhouette score\n",
    "evaluator = ClusteringEvaluator()\n",
    "\n",
    "silhouette = evaluator.evaluate(cluster_predictions)\n",
    "print(\"Silhouette with squared euclidean distance = %.3f \" % silhouette)"
   ]
  },
  {
   "cell_type": "markdown",
   "metadata": {},
   "source": [
    "* k=15\n",
    "\n",
    "This allows to target even better our customers: churn propencies go from `4.9% to 57%` (comparison: 6 features : `5.1% to 65%`). We cannot increase the number of clusters too much if we do not have more data, because the model becomes more sensible to outliers."
   ]
  },
  {
   "cell_type": "code",
   "execution_count": 28,
   "metadata": {},
   "outputs": [
    {
     "data": {
      "application/vnd.jupyter.widget-view+json": {
       "model_id": "",
       "version_major": 2,
       "version_minor": 0
      },
      "text/plain": [
       "FloatProgress(value=0.0, bar_style='info', description='Progress:', layout=Layout(height='25px', width='50%'),…"
      ]
     },
     "metadata": {},
     "output_type": "display_data"
    },
    {
     "name": "stdout",
     "output_type": "stream",
     "text": [
      "+---------+--------------------+\n",
      "|ClusterID|          avg(CHURN)|\n",
      "+---------+--------------------+\n",
      "|        1|0.049079754601226995|\n",
      "|        3| 0.06882591093117409|\n",
      "|       10| 0.07482993197278912|\n",
      "|        7| 0.07741935483870968|\n",
      "|       14| 0.07913669064748201|\n",
      "|        5|  0.0891089108910891|\n",
      "|        6| 0.09815950920245399|\n",
      "|       11| 0.10052910052910052|\n",
      "|        4| 0.10365853658536585|\n",
      "|        8| 0.11278195488721804|\n",
      "|        2| 0.13934426229508196|\n",
      "|       12| 0.14150943396226415|\n",
      "|        0| 0.14545454545454545|\n",
      "|       13|  0.5445544554455446|\n",
      "|        9|  0.5666666666666667|\n",
      "+---------+--------------------+"
     ]
    }
   ],
   "source": [
    "# Churn proportion in each cluster\n",
    "churn_proportion = cluster_predictions.groupBy(\"prediction\").avg(\"CHURN\").sort(\"avg(CHURN)\").withColumnRenamed(\"prediction\", \"ClusterID\")\n",
    "churn_proportion.show()"
   ]
  },
  {
   "cell_type": "markdown",
   "metadata": {},
   "source": [
    "### b. Use this new information as an additional feature"
   ]
  },
  {
   "cell_type": "code",
   "execution_count": 29,
   "metadata": {},
   "outputs": [
    {
     "data": {
      "application/vnd.jupyter.widget-view+json": {
       "model_id": "",
       "version_major": 2,
       "version_minor": 0
      },
      "text/plain": [
       "FloatProgress(value=0.0, bar_style='info', description='Progress:', layout=Layout(height='25px', width='50%'),…"
      ]
     },
     "metadata": {},
     "output_type": "display_data"
    },
    {
     "name": "stdout",
     "output_type": "stream",
     "text": [
      "{1: 0.049079754601226995, 3: 0.06882591093117409, 10: 0.07482993197278912, 7: 0.07741935483870968, 14: 0.07913669064748201, 5: 0.0891089108910891, 6: 0.09815950920245399, 11: 0.10052910052910052, 4: 0.10365853658536585, 8: 0.11278195488721804, 2: 0.13934426229508196, 12: 0.14150943396226415, 0: 0.14545454545454545, 13: 0.5445544554455446, 9: 0.5666666666666667}"
     ]
    }
   ],
   "source": [
    "# Extract ClusterIDs and churn percentages for each cluster\n",
    "churn_proportion_list = list(churn_proportion.select(\"avg(CHURN)\").toPandas()[\"avg(CHURN)\"])\n",
    "\n",
    "ClusterID_list = list(churn_proportion.select(\"ClusterID\").toPandas()[\"ClusterID\"])\n",
    "\n",
    "# Transform into a dictionary:\n",
    "dico = {}\n",
    "for i in range(len(ClusterID_list)):\n",
    "    dico[ClusterID_list[i]] = churn_proportion_list[i]\n",
    "print(dico)    "
   ]
  },
  {
   "cell_type": "code",
   "execution_count": 30,
   "metadata": {},
   "outputs": [
    {
     "data": {
      "application/vnd.jupyter.widget-view+json": {
       "model_id": "",
       "version_major": 2,
       "version_minor": 0
      },
      "text/plain": [
       "FloatProgress(value=0.0, bar_style='info', description='Progress:', layout=Layout(height='25px', width='50%'),…"
      ]
     },
     "metadata": {},
     "output_type": "display_data"
    }
   ],
   "source": [
    "def preparation(DF):\n",
    "    \"\"\"\n",
    "    Inputs : DF is a raw dataframe \n",
    "    Outputs : dataframe with additional colmns : features for Clustering, \n",
    "    Cluster prediction and corresponding cluster churn percentage\n",
    "    \"\"\"\n",
    "\n",
    "    # We choose to keep only 6 features here (leads to higher cluster separation)\n",
    "    #assembler_6 = VectorAssembler(inputCols=[\"TOT_MINS\", \"VMAIL\", \"INTL_CALLS\", \"DAY_CALLS\", \"SVC_CALLS\", \"DAY_CHARGE\"], outputCol=\"features\")\n",
    "\n",
    "    # assemble \n",
    "    DF_12 = assembler_12.transform(DF)\n",
    "    \n",
    "    # Assign each point of the training set to its cluster\n",
    "    DF_with_clusterIDs = model.transform(DF_12)\n",
    "\n",
    "    # Create a new dataframe corresponding to the churn percentages for each point\n",
    "    avgChurn = DF_with_clusterIDs.rdd.map(lambda element : dico[element.prediction])\n",
    "    row = Row(\"prediction\") \n",
    "    avgChurn_df = avgChurn.map(row).toDF().withColumnRenamed(\"prediction\", \"ClusterChurn\")\n",
    "    \n",
    "    # Join tables\n",
    "    temp1 = avgChurn_df.toPandas()\n",
    "    temp2 = DF_with_clusterIDs.toPandas()\n",
    "    temp2[\"ClusterChurn\"] = temp1[\"ClusterChurn\"]\n",
    "    DF_with_avg = spark.createDataFrame(temp2)\n",
    "    \n",
    "    DF_with_avg_renamed = DF_with_avg.withColumnRenamed(\"features\", \"featuresClustering\").withColumnRenamed(\"prediction\", \"predictionClustering\")\n",
    "    print(DF_with_avg_renamed.count())\n",
    "    \n",
    "    return DF_with_avg_renamed"
   ]
  },
  {
   "cell_type": "code",
   "execution_count": 31,
   "metadata": {},
   "outputs": [
    {
     "data": {
      "application/vnd.jupyter.widget-view+json": {
       "model_id": "",
       "version_major": 2,
       "version_minor": 0
      },
      "text/plain": [
       "FloatProgress(value=0.0, bar_style='info', description='Progress:', layout=Layout(height='25px', width='50%'),…"
      ]
     },
     "metadata": {},
     "output_type": "display_data"
    },
    {
     "name": "stdout",
     "output_type": "stream",
     "text": [
      "2321\n",
      "495\n",
      "517"
     ]
    }
   ],
   "source": [
    "prepared_train = preparation(train)\n",
    "prepared_val = preparation(val)\n",
    "prepared_test = preparation(test)"
   ]
  },
  {
   "cell_type": "markdown",
   "metadata": {},
   "source": [
    "## 4. Apply supervised learning for churn prediction"
   ]
  },
  {
   "cell_type": "markdown",
   "metadata": {},
   "source": [
    "__Prepare the data__\n",
    "\n",
    "Select columns and set label names for training. Here we choose to reuse the 6 column selected above. You can test other options if you like."
   ]
  },
  {
   "cell_type": "code",
   "execution_count": 32,
   "metadata": {},
   "outputs": [
    {
     "data": {
      "application/vnd.jupyter.widget-view+json": {
       "model_id": "",
       "version_major": 2,
       "version_minor": 0
      },
      "text/plain": [
       "FloatProgress(value=0.0, bar_style='info', description='Progress:', layout=Layout(height='25px', width='50%'),…"
      ]
     },
     "metadata": {},
     "output_type": "display_data"
    }
   ],
   "source": [
    "# Define the assembler\n",
    "LogReg_assembler = VectorAssembler(\n",
    "    inputCols=[\"SVC_CALLS\", \"DAY_MINS\", \"DAY_CHARGE\", \"VMAIL_MSGS\", \"VMAIL\", \n",
    "               \"INTL_CALLS\", \"INTL_CHARGE\", \"INTL_MINS\", \"EVE_CHARGE\", \"EVE_MINS\",\n",
    "               \"NIGHT_MINS\", \"NIGHT_CHARGE\", \"ClusterChurn\"],\n",
    "    outputCol=\"features\")"
   ]
  },
  {
   "cell_type": "code",
   "execution_count": 33,
   "metadata": {},
   "outputs": [
    {
     "data": {
      "application/vnd.jupyter.widget-view+json": {
       "model_id": "",
       "version_major": 2,
       "version_minor": 0
      },
      "text/plain": [
       "FloatProgress(value=0.0, bar_style='info', description='Progress:', layout=Layout(height='25px', width='50%'),…"
      ]
     },
     "metadata": {},
     "output_type": "display_data"
    }
   ],
   "source": [
    "# Transform your training set\n",
    "assembled_train = LogReg_assembler.transform(prepared_train)"
   ]
  },
  {
   "cell_type": "code",
   "execution_count": 34,
   "metadata": {},
   "outputs": [
    {
     "data": {
      "application/vnd.jupyter.widget-view+json": {
       "model_id": "",
       "version_major": 2,
       "version_minor": 0
      },
      "text/plain": [
       "FloatProgress(value=0.0, bar_style='info', description='Progress:', layout=Layout(height='25px', width='50%'),…"
      ]
     },
     "metadata": {},
     "output_type": "display_data"
    }
   ],
   "source": [
    "# Select only the label and features columns\n",
    "labeled_train = assembled_train.select(assembled_train[\"features\"], assembled_train[\"CHURN\"].alias(\"label\"))"
   ]
  },
  {
   "cell_type": "markdown",
   "metadata": {},
   "source": [
    "### a. Random Forest"
   ]
  },
  {
   "cell_type": "markdown",
   "metadata": {},
   "source": [
    "__Build your model__"
   ]
  },
  {
   "cell_type": "code",
   "execution_count": 35,
   "metadata": {},
   "outputs": [
    {
     "data": {
      "application/vnd.jupyter.widget-view+json": {
       "model_id": "",
       "version_major": 2,
       "version_minor": 0
      },
      "text/plain": [
       "FloatProgress(value=0.0, bar_style='info', description='Progress:', layout=Layout(height='25px', width='50%'),…"
      ]
     },
     "metadata": {},
     "output_type": "display_data"
    }
   ],
   "source": [
    "from pyspark.ml.classification import RandomForestClassifier\n",
    "\n",
    "# Define your model\n",
    "rf = RandomForestClassifier(featuresCol = 'features', labelCol = 'label')\n",
    "# Fit the model\n",
    "rfModel = rf.fit(labeled_train)\n",
    "# Make predictions\n",
    "pred_train = rfModel.transform(labeled_train)"
   ]
  },
  {
   "cell_type": "markdown",
   "metadata": {},
   "source": [
    "__Area under Curve__"
   ]
  },
  {
   "cell_type": "code",
   "execution_count": 36,
   "metadata": {},
   "outputs": [
    {
     "data": {
      "application/vnd.jupyter.widget-view+json": {
       "model_id": "",
       "version_major": 2,
       "version_minor": 0
      },
      "text/plain": [
       "FloatProgress(value=0.0, bar_style='info', description='Progress:', layout=Layout(height='25px', width='50%'),…"
      ]
     },
     "metadata": {},
     "output_type": "display_data"
    },
    {
     "name": "stdout",
     "output_type": "stream",
     "text": [
      "Area under ROC: 0.905\n",
      "Area under PR curve: 0.797"
     ]
    }
   ],
   "source": [
    "from pyspark.ml.evaluation import BinaryClassificationEvaluator\n",
    "binEval_AUROC = BinaryClassificationEvaluator().setMetricName(\"areaUnderROC\").setRawPredictionCol(\"rawPrediction\").setLabelCol(\"label\")\n",
    "print(\"Area under ROC: %.3f\" % binEval_AUROC.evaluate(pred_train))\n",
    "\n",
    "binEval_AUPRC = BinaryClassificationEvaluator().setMetricName(\"areaUnderPR\").setRawPredictionCol(\"rawPrediction\").setLabelCol(\"label\")\n",
    "print(\"Area under PR curve: %.3f\" % binEval_AUPRC.evaluate(pred_train))"
   ]
  },
  {
   "cell_type": "markdown",
   "metadata": {},
   "source": [
    "__Visualize feature importance__"
   ]
  },
  {
   "cell_type": "markdown",
   "metadata": {},
   "source": [
    "__Metrics and confusion matrix__\n",
    "\n",
    "\n",
    "Let's have a look at some indicators."
   ]
  },
  {
   "cell_type": "markdown",
   "metadata": {},
   "source": [
    "* Confusion matrix \n",
    "\n",
    "<img src=\"confusionMatrix.png\" width=800/>\n",
    "\n",
    "Sensitivity = TP / (TP + FN), also called Recall\n",
    "\n",
    "Specificity = TN / (TN + FP)\n",
    "\n",
    "Precision = TP / (TP + FP)\n",
    "\n",
    "Negative Predictive Value = TN / (TN + FN)\n",
    "\n",
    "F1-score: 2 x Precision x Recall / (Precision + Recall)\n",
    "\n",
    "Recall = 1 - FNR. "
   ]
  },
  {
   "cell_type": "code",
   "execution_count": 37,
   "metadata": {},
   "outputs": [
    {
     "data": {
      "application/vnd.jupyter.widget-view+json": {
       "model_id": "",
       "version_major": 2,
       "version_minor": 0
      },
      "text/plain": [
       "FloatProgress(value=0.0, bar_style='info', description='Progress:', layout=Layout(height='25px', width='50%'),…"
      ]
     },
     "metadata": {},
     "output_type": "display_data"
    },
    {
     "name": "stdout",
     "output_type": "stream",
     "text": [
      "Accuracy = 0.938\n",
      "f1 = 0.931\n",
      "weightedPrecision = 0.939"
     ]
    }
   ],
   "source": [
    "# Metrics (1/2)\n",
    "\n",
    "evaluator = MulticlassClassificationEvaluator(labelCol=\"label\", predictionCol=\"prediction\", metricName=\"accuracy\")\n",
    "accuracy = evaluator.evaluate(pred_train)\n",
    "print(\"Accuracy = %.3f\" % accuracy)\n",
    "\n",
    "evaluatorf1 = MulticlassClassificationEvaluator(labelCol=\"label\", predictionCol=\"prediction\", metricName=\"f1\")\n",
    "f1 = evaluatorf1.evaluate(pred_train)\n",
    "print(\"f1 = %.3f\" % f1)\n",
    " \n",
    "evaluatorwp = MulticlassClassificationEvaluator(labelCol=\"label\", predictionCol=\"prediction\", metricName=\"weightedPrecision\")\n",
    "wp = evaluatorwp.evaluate(pred_train)\n",
    "print(\"weightedPrecision = %.3f\" % wp)"
   ]
  },
  {
   "cell_type": "code",
   "execution_count": 38,
   "metadata": {},
   "outputs": [
    {
     "data": {
      "application/vnd.jupyter.widget-view+json": {
       "model_id": "",
       "version_major": 2,
       "version_minor": 0
      },
      "text/plain": [
       "FloatProgress(value=0.0, bar_style='info', description='Progress:', layout=Layout(height='25px', width='50%'),…"
      ]
     },
     "metadata": {},
     "output_type": "display_data"
    }
   ],
   "source": [
    "# Metrics (2/2)\n",
    "\n",
    "def confusion_matrix(pred_DF):\n",
    "    \"\"\"\n",
    "    Input : \n",
    "    pred_DF : Saprk DataFrame obtained after a model.transform() transformation\n",
    "    Output :\n",
    "    (tn, fp, fn, tp) tuple of integers\n",
    "    \"\"\"\n",
    "    \n",
    "    # as pandas DF\n",
    "    label = pred_DF.toPandas()[\"label\"]\n",
    "    prediction = pred_DF.toPandas()[\"prediction\"]\n",
    "    \n",
    "    # true = tp + tn\n",
    "    true = sum(label)\n",
    "\n",
    "    # tp : sum(if pred = label = 1) or count(pred+label=2)\n",
    "    tp = sum(label+prediction==2)\n",
    "    \n",
    "    # fn = total number of positive - predicted positives which are rightly predicted\n",
    "    fn = true - tp\n",
    "\n",
    "    # tn : sum(if pred=label=0) or count(pred+label=0)\n",
    "    tn = sum(label+prediction==0)\n",
    "\n",
    "    # fp = total number of negative - tn\n",
    "    fp = len(label) - true - tn\n",
    "    \n",
    "    return (tn, fp, fn, tp)\n",
    "\n",
    "\n",
    "def FNR(fn, tp):\n",
    "    return fn/(fn+tp)\n",
    "\n",
    "def recall(tp, fn):\n",
    "    # also called TPR or sensitivity\n",
    "    return tp/(tp+fn)\n",
    "\n",
    "def precision(tp, fp):\n",
    "    return tp/(tp+fp)"
   ]
  },
  {
   "cell_type": "code",
   "execution_count": 39,
   "metadata": {},
   "outputs": [
    {
     "data": {
      "application/vnd.jupyter.widget-view+json": {
       "model_id": "",
       "version_major": 2,
       "version_minor": 0
      },
      "text/plain": [
       "FloatProgress(value=0.0, bar_style='info', description='Progress:', layout=Layout(height='25px', width='50%'),…"
      ]
     },
     "metadata": {},
     "output_type": "display_data"
    },
    {
     "name": "stdout",
     "output_type": "stream",
     "text": [
      "Confusion matrix: \n",
      "[['tp: 191' 'fn: 138']\n",
      " ['fp: 7' 'tn: 1985']]\n",
      "FNR: 0.419\n",
      "Recall: 0.581\n",
      "Precision: 0.965"
     ]
    }
   ],
   "source": [
    "# Confusion matrix\n",
    "(tn, fp, fn, tp)=confusion_matrix(pred_train)\n",
    "# Confusion matrix in format [[tp, fn], [fp, tn]]\n",
    "print(\"Confusion matrix: \")\n",
    "print(np.array([[(\"tp: \"+str(tp)), (\"fn: \"+str(fn))], [(\"fp: \"+str(fp)), (\"tn: \"+str(tn))]]))\n",
    "\n",
    "# Metrics\n",
    "print(\"FNR: %.3f\" % FNR(fn, tp))\n",
    "print(\"Recall: %.3f\" % recall(tp, fn))\n",
    "print(\"Precision: %.3f\" % precision(tp, fp))"
   ]
  },
  {
   "cell_type": "markdown",
   "metadata": {},
   "source": [
    "__Fine tune your hyperparameters on the validation set__\n",
    "\n",
    "We will only do it for logistic regression, since it is the more promising model so far. A similar method can be applied for the other model types."
   ]
  },
  {
   "cell_type": "markdown",
   "metadata": {},
   "source": [
    "In the following cell, default values are used for logistic regression's parameters. "
   ]
  },
  {
   "cell_type": "code",
   "execution_count": 40,
   "metadata": {},
   "outputs": [
    {
     "data": {
      "application/vnd.jupyter.widget-view+json": {
       "model_id": "",
       "version_major": 2,
       "version_minor": 0
      },
      "text/plain": [
       "FloatProgress(value=0.0, bar_style='info', description='Progress:', layout=Layout(height='25px', width='50%'),…"
      ]
     },
     "metadata": {},
     "output_type": "display_data"
    },
    {
     "name": "stdout",
     "output_type": "stream",
     "text": [
      "Validation Accuracy = 0.905"
     ]
    }
   ],
   "source": [
    "# Transform your validation set\n",
    "assembled_val = LogReg_assembler.transform(prepared_val)\n",
    "\n",
    "# Select only the label and features columns\n",
    "labeled_val = assembled_val.select(assembled_val[\"features\"], assembled_val[\"CHURN\"].alias(\"label\"))\n",
    "\n",
    "# Make predictions\n",
    "pred_val = rfModel.transform(labeled_val)\n",
    "\n",
    "# Define evaluator\n",
    "evaluator = MulticlassClassificationEvaluator(metricName=\"accuracy\")\n",
    "\n",
    "# Compute the classification accuracy on the validation set\n",
    "accuracy = evaluator.evaluate(pred_val)\n",
    "print(\"Validation Accuracy = %.3f\" %  accuracy)"
   ]
  },
  {
   "cell_type": "markdown",
   "metadata": {},
   "source": [
    "__Grid search__ \n",
    "\n",
    "In the next cell we define a function to test a range of hyperparameters for regularization in order to minimize the False Negative Rate (FNR).\n",
    "\n",
    "> class pyspark.ml.classification.RandomForestClassifier(self, featuresCol=\"features\", labelCol=\"label\", predictionCol=\"prediction\", probabilityCol=\"probability\", rawPredictionCol=\"rawPrediction\", `maxDepth=5`, `maxBins=32`, minInstancesPerNode=1, minInfoGain=0.0, maxMemoryInMB=256, cacheNodeIds=False, checkpointInterval=10, impurity=\"gini\", `numTrees=20`, featureSubsetStrategy=\"auto\", seed=None, subsamplingRate=1.0)"
   ]
  },
  {
   "cell_type": "code",
   "execution_count": 41,
   "metadata": {},
   "outputs": [
    {
     "data": {
      "application/vnd.jupyter.widget-view+json": {
       "model_id": "",
       "version_major": 2,
       "version_minor": 0
      },
      "text/plain": [
       "FloatProgress(value=0.0, bar_style='info', description='Progress:', layout=Layout(height='25px', width='50%'),…"
      ]
     },
     "metadata": {},
     "output_type": "display_data"
    }
   ],
   "source": [
    "def grid_search():\n",
    "    \"\"\"\n",
    "    Input:\n",
    "    DF : Spark Dataframe, prepared with features and label columns\n",
    "    \n",
    "    Output:\n",
    "    best: dictionary with best hyperparameters and corresponding metrics\n",
    "    \"\"\"\n",
    "       \n",
    "    # Hyperparameter ranges\n",
    "    maxDepth=[5, 10]\n",
    "    maxBins=[32, 64]\n",
    "    numTrees=[15, 20, 25]\n",
    "    \n",
    "    best={\"maxDepth\": 5, \"maxBins\": 32, \"numTrees\": 20, \"val_recall\": 0}\n",
    "          \n",
    "    for D in maxDepth:\n",
    "        for B in maxBins:\n",
    "            for T in numTrees : \n",
    "\n",
    "                # Define your model\n",
    "                rf = RandomForestClassifier(featuresCol = 'features', labelCol = 'label')\n",
    "\n",
    "                # Fit the model on training set\n",
    "                rfModel = rf.fit(labeled_train)\n",
    "\n",
    "                # Make predictions\n",
    "                pred_val = rfModel.transform(labeled_val)\n",
    "\n",
    "                # Compute the confusion matrix and FNR for both sets\n",
    "                (tn, fp, fn, tp) = confusion_matrix(pred_val)\n",
    "                val_recall = recall(tp, fn)\n",
    "                \n",
    "                #print(\"Validation FNR = \" +str(val_FNR))\n",
    "                #print(\"\")\n",
    "\n",
    "                if val_recall >= best[\"val_recall\"]: # to have more regularization for equal performance\n",
    "                    best[\"maxDepth\"] = D\n",
    "                    best[\"maxBins\"] = B\n",
    "                    best[\"numTrees\"] = T\n",
    "                    best[\"val_recall\"] = val_recall\n",
    "                \n",
    "    return best"
   ]
  },
  {
   "cell_type": "code",
   "execution_count": 42,
   "metadata": {},
   "outputs": [
    {
     "data": {
      "application/vnd.jupyter.widget-view+json": {
       "model_id": "",
       "version_major": 2,
       "version_minor": 0
      },
      "text/plain": [
       "FloatProgress(value=0.0, bar_style='info', description='Progress:', layout=Layout(height='25px', width='50%'),…"
      ]
     },
     "metadata": {},
     "output_type": "display_data"
    },
    {
     "name": "stdout",
     "output_type": "stream",
     "text": [
      "{'maxDepth': 10, 'maxBins': 64, 'numTrees': 25, 'val_recall': 0.524390243902439}"
     ]
    }
   ],
   "source": [
    "best = grid_search()\n",
    "print(best)"
   ]
  },
  {
   "cell_type": "markdown",
   "metadata": {},
   "source": [
    "__Assess your model performance on the test set__\n",
    "\n",
    "See what is the final perfomance of your tuned model on unseen data."
   ]
  },
  {
   "cell_type": "code",
   "execution_count": 43,
   "metadata": {},
   "outputs": [
    {
     "data": {
      "application/vnd.jupyter.widget-view+json": {
       "model_id": "",
       "version_major": 2,
       "version_minor": 0
      },
      "text/plain": [
       "FloatProgress(value=0.0, bar_style='info', description='Progress:', layout=Layout(height='25px', width='50%'),…"
      ]
     },
     "metadata": {},
     "output_type": "display_data"
    }
   ],
   "source": [
    "# Prepare the test set\n",
    "assembled_test = LogReg_assembler.transform(prepared_test)\n",
    "\n",
    "# Select only the label and features columns\n",
    "labeled_test = assembled_test.select(assembled_test[\"features\"], assembled_test[\"CHURN\"].alias(\"label\"))"
   ]
  },
  {
   "cell_type": "code",
   "execution_count": 44,
   "metadata": {},
   "outputs": [
    {
     "data": {
      "application/vnd.jupyter.widget-view+json": {
       "model_id": "",
       "version_major": 2,
       "version_minor": 0
      },
      "text/plain": [
       "FloatProgress(value=0.0, bar_style='info', description='Progress:', layout=Layout(height='25px', width='50%'),…"
      ]
     },
     "metadata": {},
     "output_type": "display_data"
    },
    {
     "name": "stdout",
     "output_type": "stream",
     "text": [
      "+--------------------+-----+--------------------+--------------------+----------+\n",
      "|            features|label|       rawPrediction|         probability|prediction|\n",
      "+--------------------+-----+--------------------+--------------------+----------+\n",
      "|[1.0,199.1,33.85,...|    0|[23.6570898551729...|[0.94628359420691...|       0.0|\n",
      "|[0.0,204.9,34.83,...|    0|[24.5029872713351...|[0.98011949085340...|       0.0|\n",
      "|[1.0,291.1,49.49,...|    0|          [21.0,4.0]|         [0.84,0.16]|       0.0|\n",
      "|[1.0,141.8,24.11,...|    0|[24.5299542194007...|[0.98119816877603...|       0.0|\n",
      "|[0.0,306.2,52.05,...|    0|          [23.0,2.0]|         [0.92,0.08]|       0.0|\n",
      "+--------------------+-----+--------------------+--------------------+----------+\n",
      "only showing top 5 rows\n",
      "\n",
      "Test Accuracy = 0.925"
     ]
    }
   ],
   "source": [
    "# Define your model\n",
    "rf = RandomForestClassifier(featuresCol = 'features', labelCol = 'label', \n",
    "                            maxDepth = best[\"maxDepth\"], maxBins = best[\"maxBins\"], numTrees = best[\"numTrees\"])\n",
    "\n",
    "# Fit the model on training set\n",
    "rfModel = rf.fit(labeled_train)\n",
    "\n",
    "# Make predictions on test set\n",
    "pred_test = rfModel.transform(labeled_test)\n",
    "pred_test.show(5)\n",
    "\n",
    "# Compute the accuracy on the test set\n",
    "print(\"Test Accuracy = %.3f\" %evaluator.evaluate(pred_test))"
   ]
  },
  {
   "cell_type": "code",
   "execution_count": 45,
   "metadata": {},
   "outputs": [
    {
     "data": {
      "application/vnd.jupyter.widget-view+json": {
       "model_id": "",
       "version_major": 2,
       "version_minor": 0
      },
      "text/plain": [
       "FloatProgress(value=0.0, bar_style='info', description='Progress:', layout=Layout(height='25px', width='50%'),…"
      ]
     },
     "metadata": {},
     "output_type": "display_data"
    },
    {
     "name": "stdout",
     "output_type": "stream",
     "text": [
      "Confusion matrix: \n",
      "[['tp: 41' 'fn: 31']\n",
      " ['fp: 8' 'tn: 437']]\n",
      "FNR: 0.431\n",
      "recall: 0.569"
     ]
    }
   ],
   "source": [
    "# Confusion matrix\n",
    "(tn, fp, fn, tp)=confusion_matrix(pred_test)\n",
    "# Confusion matrix in format [[tp, fn], [fp, tn]]\n",
    "print(\"Confusion matrix: \")\n",
    "print(np.array([[(\"tp: \"+str(tp)), (\"fn: \"+str(fn))], [(\"fp: \"+str(fp)), (\"tn: \"+str(tn))]]))\n",
    "\n",
    "# FNR\n",
    "print(\"FNR: %.3f\" %FNR(fn, tp))\n",
    "print(\"recall: %.3f\" %recall(tp, fn))"
   ]
  },
  {
   "cell_type": "markdown",
   "metadata": {},
   "source": [
    "Comparison : Logistic regression\n",
    "* (22, 50, 12, 433) FNR: 0.694 - 12 features + ClusterChurn\n",
    "* (18, 54, 4, 441) FNR = 0.750 - 6 features + ClusterChurn\n",
    "* (12, 60, 4, 441), FNR = 0.833 without ClusterChurn column "
   ]
  },
  {
   "cell_type": "markdown",
   "metadata": {},
   "source": [
    "__Feature importance__ "
   ]
  },
  {
   "cell_type": "code",
   "execution_count": 46,
   "metadata": {},
   "outputs": [
    {
     "data": {
      "application/vnd.jupyter.widget-view+json": {
       "model_id": "",
       "version_major": 2,
       "version_minor": 0
      },
      "text/plain": [
       "FloatProgress(value=0.0, bar_style='info', description='Progress:', layout=Layout(height='25px', width='50%'),…"
      ]
     },
     "metadata": {},
     "output_type": "display_data"
    },
    {
     "name": "stdout",
     "output_type": "stream",
     "text": [
      "SparseVector(13, {0: 0.1818, 1: 0.1601, 2: 0.0839, 3: 0.0483, 4: 0.0388, 5: 0.0395, 6: 0.0411, 7: 0.0452, 8: 0.0805, 9: 0.0685, 10: 0.0397, 11: 0.0379, 12: 0.1347})"
     ]
    }
   ],
   "source": [
    "rfModel.featureImportances"
   ]
  },
  {
   "cell_type": "code",
   "execution_count": 47,
   "metadata": {},
   "outputs": [
    {
     "data": {
      "image/png": "[encoded data removed]",
      "text/plain": [
       "<Figure size 576x432 with 1 Axes>"
      ]
     },
     "metadata": {
      "needs_background": "light"
     },
     "output_type": "display_data"
    }
   ],
   "source": [
    "%local\n",
    "\n",
    "import matplotlib.pyplot as plt\n",
    "import numpy as np\n",
    "\n",
    "dic = {0: 0.1818, 1: 0.1601, 2: 0.0839, 3: 0.0483, 4: 0.0388, 5: 0.0395, 6: 0.0411, 7: 0.0452, 8: 0.0805, 9: 0.0685, 10: 0.0397, 11: 0.0379, 12: 0.1347}\n",
    "features = [\"SVC_CALLS\", \"DAY_MINS\", \"DAY_CHARGE\", \"VMAIL_MSGS\", \"VMAIL\", \"INTL_CALLS\", \"INTL_CHARGE\", \"INTL_MINS\", \"EVE_CHARGE\", \"EVE_MINS\", \"NIGHT_MINS\", \"NIGHT_CHARGE\", \"ClusterChurn\"]\n",
    "coeffs = [x for x in dic.values()]\n",
    "\n",
    "ax, fig=plt.subplots(figsize=(8,6))\n",
    "index = np.arange(len(features))\n",
    "plt.bar(index, coeffs)\n",
    "plt.xlabel('Features', fontsize=15)\n",
    "plt.ylabel('Magnitude of coefficients', fontsize=15)\n",
    "plt.xticks(index, features, fontsize=15, rotation=40)\n",
    "plt.title('Feature importance in Random Forest Model', fontsize=20)\n",
    "plt.show()"
   ]
  },
  {
   "cell_type": "markdown",
   "metadata": {},
   "source": [
    "### b.  Gradient Boosted Trees"
   ]
  },
  {
   "cell_type": "markdown",
   "metadata": {},
   "source": [
    "__Hyperparameter tuning__"
   ]
  },
  {
   "cell_type": "markdown",
   "metadata": {},
   "source": [
    "GBTClassifier(self, featuresCol=\"features\", labelCol=\"label\", predictionCol=\"prediction\",\n",
    "                 maxDepth=5, maxBins=32, minInstancesPerNode=1, minInfoGain=0.0,\n",
    "                 maxMemoryInMB=256, cacheNodeIds=False, checkpointInterval=10, lossType=\"logistic\",\n",
    "                 maxIter=20, stepSize=0.1, seed=None, subsamplingRate=1.0)"
   ]
  },
  {
   "cell_type": "code",
   "execution_count": 60,
   "metadata": {},
   "outputs": [
    {
     "data": {
      "application/vnd.jupyter.widget-view+json": {
       "model_id": "",
       "version_major": 2,
       "version_minor": 0
      },
      "text/plain": [
       "FloatProgress(value=0.0, bar_style='info', description='Progress:', layout=Layout(height='25px', width='50%'),…"
      ]
     },
     "metadata": {},
     "output_type": "display_data"
    }
   ],
   "source": [
    "def grid_search_GBT():\n",
    "    \"\"\"\n",
    "    Input:\n",
    "    DF : Spark Dataframe, prepared with features and label columns\n",
    "    \n",
    "    Output:\n",
    "    best: dictionary with best hyperparameters and corresponding metrics\n",
    "    \"\"\"\n",
    "       \n",
    "    # Hyperparameter ranges\n",
    "    maxDepth=[5, 10, 20]\n",
    "    maxBins=[32, 64]\n",
    "    stepSize=[0.05, 0.1]\n",
    "    \n",
    "    best={\"maxDepth\": 5, \"maxBins\": 32, \"stepSize\": 20, \"val_recall\": 0}\n",
    "          \n",
    "    for D in maxDepth:\n",
    "        for B in maxBins:\n",
    "            for s in stepSize : \n",
    "\n",
    "                # Define your model\n",
    "                gbt = GBTClassifier(maxDepth=D, maxBins=B, stepSize=s)\n",
    "\n",
    "                # Fit the model on training set\n",
    "                gbtModel = gbt.fit(labeled_train)\n",
    "\n",
    "                # Make predictions\n",
    "                pred_val = gbtModel.transform(labeled_val)\n",
    "\n",
    "                # Compute the confusion matrix and FNR for both sets\n",
    "                (tn, fp, fn, tp) = confusion_matrix(pred_val)\n",
    "                val_recall = recall(tp, fn)\n",
    "                \n",
    "                #print(\"Validation FNR = \" +str(val_FNR))\n",
    "                #print(\"\")\n",
    "\n",
    "                if val_recall >= best[\"val_recall\"]: # to have more regularization for equal performance\n",
    "                    best[\"maxDepth\"] = D\n",
    "                    best[\"maxBins\"] = B\n",
    "                    best[\"stepSize\"] = s\n",
    "                    best[\"val_recall\"] = val_recall\n",
    "                \n",
    "    return best"
   ]
  },
  {
   "cell_type": "code",
   "execution_count": null,
   "metadata": {},
   "outputs": [
    {
     "data": {
      "application/vnd.jupyter.widget-view+json": {
       "model_id": "d95a8e8546bc49af8a6902803844481a",
       "version_major": 2,
       "version_minor": 0
      },
      "text/plain": [
       "FloatProgress(value=0.0, bar_style='info', description='Progress:', layout=Layout(height='25px', width='50%'),…"
      ]
     },
     "metadata": {},
     "output_type": "display_data"
    }
   ],
   "source": [
    "best_GBT = grid_search_GBT()\n",
    "print(best_GBT)"
   ]
  },
  {
   "cell_type": "markdown",
   "metadata": {},
   "source": [
    "__Assess your model's performance on the test set__"
   ]
  },
  {
   "cell_type": "code",
   "execution_count": 56,
   "metadata": {},
   "outputs": [
    {
     "data": {
      "application/vnd.jupyter.widget-view+json": {
       "model_id": "",
       "version_major": 2,
       "version_minor": 0
      },
      "text/plain": [
       "FloatProgress(value=0.0, bar_style='info', description='Progress:', layout=Layout(height='25px', width='50%'),…"
      ]
     },
     "metadata": {},
     "output_type": "display_data"
    },
    {
     "name": "stderr",
     "output_type": "stream",
     "text": [
      "__init__() got an unexpected keyword argument 'numTrees'\n",
      "Traceback (most recent call last):\n",
      "  File \"/opt/ibm/dashdb_spark/spark/python/lib/pyspark.zip/pyspark/__init__.py\", line 105, in wrapper\n",
      "    return func(self, **kwargs)\n",
      "TypeError: __init__() got an unexpected keyword argument 'numTrees'\n",
      "\n"
     ]
    }
   ],
   "source": [
    "# Define your model\n",
    "gbt = GBTClassifier(maxDepth=D, maxBins=B, stepSize=s)\n",
    "                    \n",
    "# Fit the model on training set\n",
    "gbtModel = gbt.fit(labeled_train)\n",
    "\n",
    "# Make predictions on test set\n",
    "pred_test_GBT = gbtModel.transform(labeled_test)\n",
    "pred_test_GBT.show(5)\n",
    "\n",
    "# Compute the accuracy on the test set\n",
    "print(\"Test Accuracy = %.3f\" %evaluator.evaluate(pred_test))"
   ]
  },
  {
   "cell_type": "markdown",
   "metadata": {},
   "source": [
    "Note : if you wonder what other hyperparameters you can modify, here is how to get the list with a succint description of each one."
   ]
  },
  {
   "cell_type": "code",
   "execution_count": 55,
   "metadata": {},
   "outputs": [
    {
     "data": {
      "application/vnd.jupyter.widget-view+json": {
       "model_id": "",
       "version_major": 2,
       "version_minor": 0
      },
      "text/plain": [
       "FloatProgress(value=0.0, bar_style='info', description='Progress:', layout=Layout(height='25px', width='50%'),…"
      ]
     },
     "metadata": {},
     "output_type": "display_data"
    },
    {
     "name": "stderr",
     "output_type": "stream",
     "text": [
      "name 'gbtModel' is not defined\n",
      "Traceback (most recent call last):\n",
      "NameError: name 'gbtModel' is not defined\n",
      "\n"
     ]
    }
   ],
   "source": [
    "print(gbt.explainParams())"
   ]
  },
  {
   "cell_type": "code",
   "execution_count": 52,
   "metadata": {},
   "outputs": [
    {
     "data": {
      "application/vnd.jupyter.widget-view+json": {
       "model_id": "",
       "version_major": 2,
       "version_minor": 0
      },
      "text/plain": [
       "FloatProgress(value=0.0, bar_style='info', description='Progress:', layout=Layout(height='25px', width='50%'),…"
      ]
     },
     "metadata": {},
     "output_type": "display_data"
    },
    {
     "name": "stderr",
     "output_type": "stream",
     "text": [
      "name 'pred_test_GBT' is not defined\n",
      "Traceback (most recent call last):\n",
      "NameError: name 'pred_test_GBT' is not defined\n",
      "\n"
     ]
    }
   ],
   "source": [
    "# Confusion matrix\n",
    "(tn, fp, fn, tp)=confusion_matrix(pred_test_GBT)\n",
    "# Confusion matrix in format [[tp, fn], [fp, tn]]\n",
    "print(\"Confusion matrix: \")\n",
    "print(np.array([[(\"tp: \"+str(tp)), (\"fn: \"+str(fn))], [(\"fp: \"+str(fp)), (\"tn: \"+str(tn))]]))\n",
    "\n",
    "# FNR\n",
    "print(\"FNR: %.3f\" %FNR(fn, tp))\n",
    "print(\"recall: %.3f\" %recall(tp, fn))"
   ]
  },
  {
   "cell_type": "markdown",
   "metadata": {},
   "source": [
    "__Feature importance__"
   ]
  },
  {
   "cell_type": "code",
   "execution_count": 53,
   "metadata": {},
   "outputs": [
    {
     "data": {
      "application/vnd.jupyter.widget-view+json": {
       "model_id": "",
       "version_major": 2,
       "version_minor": 0
      },
      "text/plain": [
       "FloatProgress(value=0.0, bar_style='info', description='Progress:', layout=Layout(height='25px', width='50%'),…"
      ]
     },
     "metadata": {},
     "output_type": "display_data"
    },
    {
     "name": "stderr",
     "output_type": "stream",
     "text": [
      "name 'gbtModel' is not defined\n",
      "Traceback (most recent call last):\n",
      "NameError: name 'gbtModel' is not defined\n",
      "\n"
     ]
    }
   ],
   "source": [
    "gbtModel.featureImportances"
   ]
  },
  {
   "cell_type": "code",
   "execution_count": 54,
   "metadata": {},
   "outputs": [
    {
     "ename": "AttributeError",
     "evalue": "'ellipsis' object has no attribute 'values'",
     "output_type": "error",
     "traceback": [
      "\u001b[0;31m---------------------------------------------------------------------------\u001b[0m",
      "\u001b[0;31mAttributeError\u001b[0m                            Traceback (most recent call last)",
      "\u001b[0;32m<ipython-input-54-d729208dfc8b>\u001b[0m in \u001b[0;36m<module>\u001b[0;34m\u001b[0m\n\u001b[1;32m      1\u001b[0m \u001b[0mdic\u001b[0m \u001b[0;34m=\u001b[0m \u001b[0;34m...\u001b[0m\u001b[0;34m\u001b[0m\u001b[0;34m\u001b[0m\u001b[0m\n\u001b[1;32m      2\u001b[0m \u001b[0mfeatures\u001b[0m \u001b[0;34m=\u001b[0m \u001b[0;34m[\u001b[0m\u001b[0;34m\"SVC_CALLS\"\u001b[0m\u001b[0;34m,\u001b[0m \u001b[0;34m\"DAY_MINS\"\u001b[0m\u001b[0;34m,\u001b[0m \u001b[0;34m\"DAY_CHARGE\"\u001b[0m\u001b[0;34m,\u001b[0m \u001b[0;34m\"VMAIL_MSGS\"\u001b[0m\u001b[0;34m,\u001b[0m \u001b[0;34m\"VMAIL\"\u001b[0m\u001b[0;34m,\u001b[0m \u001b[0;34m\"INTL_CALLS\"\u001b[0m\u001b[0;34m,\u001b[0m \u001b[0;34m\"INTL_CHARGE\"\u001b[0m\u001b[0;34m,\u001b[0m \u001b[0;34m\"INTL_MINS\"\u001b[0m\u001b[0;34m,\u001b[0m \u001b[0;34m\"EVE_CHARGE\"\u001b[0m\u001b[0;34m,\u001b[0m \u001b[0;34m\"EVE_MINS\"\u001b[0m\u001b[0;34m,\u001b[0m \u001b[0;34m\"NIGHT_MINS\"\u001b[0m\u001b[0;34m,\u001b[0m \u001b[0;34m\"NIGHT_CHARGE\"\u001b[0m\u001b[0;34m,\u001b[0m \u001b[0;34m\"ClusterChurn\"\u001b[0m\u001b[0;34m]\u001b[0m\u001b[0;34m\u001b[0m\u001b[0;34m\u001b[0m\u001b[0m\n\u001b[0;32m----> 3\u001b[0;31m \u001b[0mcoeffs\u001b[0m \u001b[0;34m=\u001b[0m \u001b[0;34m[\u001b[0m\u001b[0mx\u001b[0m \u001b[0;32mfor\u001b[0m \u001b[0mx\u001b[0m \u001b[0;32min\u001b[0m \u001b[0mdic\u001b[0m\u001b[0;34m.\u001b[0m\u001b[0mvalues\u001b[0m\u001b[0;34m(\u001b[0m\u001b[0;34m)\u001b[0m\u001b[0;34m]\u001b[0m\u001b[0;34m\u001b[0m\u001b[0;34m\u001b[0m\u001b[0m\n\u001b[0m\u001b[1;32m      4\u001b[0m \u001b[0;34m\u001b[0m\u001b[0m\n\u001b[1;32m      5\u001b[0m \u001b[0max\u001b[0m\u001b[0;34m,\u001b[0m \u001b[0mfig\u001b[0m\u001b[0;34m=\u001b[0m\u001b[0mplt\u001b[0m\u001b[0;34m.\u001b[0m\u001b[0msubplots\u001b[0m\u001b[0;34m(\u001b[0m\u001b[0mfigsize\u001b[0m\u001b[0;34m=\u001b[0m\u001b[0;34m(\u001b[0m\u001b[0;36m8\u001b[0m\u001b[0;34m,\u001b[0m\u001b[0;36m6\u001b[0m\u001b[0;34m)\u001b[0m\u001b[0;34m)\u001b[0m\u001b[0;34m\u001b[0m\u001b[0;34m\u001b[0m\u001b[0m\n",
      "\u001b[0;31mAttributeError\u001b[0m: 'ellipsis' object has no attribute 'values'"
     ]
    }
   ],
   "source": [
    "%local\n",
    "\n",
    "dic = ...\n",
    "features = [\"SVC_CALLS\", \"DAY_MINS\", \"DAY_CHARGE\", \"VMAIL_MSGS\", \"VMAIL\", \"INTL_CALLS\", \"INTL_CHARGE\", \"INTL_MINS\", \"EVE_CHARGE\", \"EVE_MINS\", \"NIGHT_MINS\", \"NIGHT_CHARGE\", \"ClusterChurn\"]\n",
    "coeffs = [x for x in dic.values()]\n",
    "\n",
    "ax, fig=plt.subplots(figsize=(8,6))\n",
    "index = np.arange(len(features))\n",
    "plt.bar(index, coeffs)\n",
    "plt.xlabel('Features', fontsize=15)\n",
    "plt.ylabel('Magnitude of coefficients', fontsize=15)\n",
    "plt.xticks(index, features, fontsize=15, rotation=40)\n",
    "plt.title('Feature importance in GBT Model', fontsize=20)\n",
    "plt.show()"
   ]
  },
  {
   "cell_type": "code",
   "execution_count": null,
   "metadata": {},
   "outputs": [],
   "source": [
    "__Conclusion__\n",
    "\n"
   ]
  }
 ],
 "metadata": {
  "kernelspec": {
   "display_name": "PySpark",
   "language": "",
   "name": "pysparkkernel"
  },
  "language_info": {
   "codemirror_mode": {
    "name": "python",
    "version": 2
   },
   "mimetype": "text/x-python",
   "name": "pyspark",
   "pygments_lexer": "python2"
  }
 },
 "nbformat": 4,
 "nbformat_minor": 2
}
