{
 "cells": [
  {
   "cell_type": "markdown",
   "metadata": {},
   "source": [
    "# Customer Churn Prediction + Clustering"
   ]
  },
  {
   "cell_type": "markdown",
   "metadata": {},
   "source": [
    "Alternative #1bis: \n",
    "Features : 6 -> 12 + 3"
   ]
  },
  {
   "cell_type": "markdown",
   "metadata": {},
   "source": [
    "## 1. Get ready"
   ]
  },
  {
   "cell_type": "markdown",
   "metadata": {},
   "source": [
    "__Imports__\n",
    "\n",
    "Import the necessary Spark classes, as well as Python packages for local visualisations.\n",
    "We will plot the graphs directly in this notebook. If you like to plot them in a separate window, just comment out `%matplotlib inline`."
   ]
  },
  {
   "cell_type": "code",
   "execution_count": 1,
   "metadata": {},
   "outputs": [
    {
     "name": "stdout",
     "output_type": "stream",
     "text": [
      "Starting Spark application\n"
     ]
    },
    {
     "data": {
      "text/html": [
       "<table>\n",
       "<tr><th>ID</th><th>YARN Application ID</th><th>Kind</th><th>State</th><th>Spark UI</th><th>Driver log</th><th>Current session?</th></tr><tr><td>148</td><td>None</td><td>pyspark</td><td>idle</td><td></td><td></td><td>✔</td></tr></table>"
      ],
      "text/plain": [
       "<IPython.core.display.HTML object>"
      ]
     },
     "metadata": {},
     "output_type": "display_data"
    },
    {
     "data": {
      "application/vnd.jupyter.widget-view+json": {
       "model_id": "",
       "version_major": 2,
       "version_minor": 0
      },
      "text/plain": [
       "FloatProgress(value=0.0, bar_style='info', description='Progress:', layout=Layout(height='25px', width='50%'),…"
      ]
     },
     "metadata": {},
     "output_type": "display_data"
    },
    {
     "name": "stdout",
     "output_type": "stream",
     "text": [
      "SparkSession available as 'spark'.\n"
     ]
    },
    {
     "data": {
      "application/vnd.jupyter.widget-view+json": {
       "model_id": "",
       "version_major": 2,
       "version_minor": 0
      },
      "text/plain": [
       "FloatProgress(value=0.0, bar_style='info', description='Progress:', layout=Layout(height='25px', width='50%'),…"
      ]
     },
     "metadata": {},
     "output_type": "display_data"
    }
   ],
   "source": [
    "# Useful imports - PySpark\n",
    "from pyspark.sql import SparkSession\n",
    "from pyspark.ml.linalg import Vectors\n",
    "from pyspark.ml.feature import VectorAssembler\n",
    "from pyspark.ml.clustering import KMeans\n",
    "from pyspark.ml.evaluation import ClusteringEvaluator\n",
    "\n",
    "from pyspark.sql import Row\n",
    "\n",
    "from pyspark.ml.regression import LinearRegression\n",
    "from pyspark.ml.evaluation import RegressionEvaluator\n",
    "from pyspark.ml.classification import LogisticRegression\n",
    "from pyspark.ml.evaluation import MulticlassClassificationEvaluator\n",
    "from pyspark.ml.feature import ChiSqSelector\n",
    "from pyspark.mllib.evaluation import BinaryClassificationMetrics\n",
    "\n",
    "import numpy as np"
   ]
  },
  {
   "cell_type": "code",
   "execution_count": 2,
   "metadata": {},
   "outputs": [],
   "source": [
    "%local\n",
    "%matplotlib inline\n",
    "\n",
    "# Useful imports for local visualisations\n",
    "\n",
    "import matplotlib.pyplot as plt\n",
    "import pandas as pd\n",
    "import numpy as np"
   ]
  },
  {
   "cell_type": "markdown",
   "metadata": {},
   "source": [
    "__Load the data__\n",
    "\n",
    "Let's use a table which has been pre-populated in Db2 local. It is called SAMPLES.TRAINING. "
   ]
  },
  {
   "cell_type": "code",
   "execution_count": 3,
   "metadata": {},
   "outputs": [
    {
     "data": {
      "application/vnd.jupyter.widget-view+json": {
       "model_id": "",
       "version_major": 2,
       "version_minor": 0
      },
      "text/plain": [
       "FloatProgress(value=0.0, bar_style='info', description='Progress:', layout=Layout(height='25px', width='50%'),…"
      ]
     },
     "metadata": {},
     "output_type": "display_data"
    },
    {
     "name": "stdout",
     "output_type": "stream",
     "text": [
      "+-----+----+-----+----------+--------+---------+----------+--------+---------+----------+----------+-----------+------------+---------+----------+-----------+---------+\n",
      "|CHURN|AREA|VMAIL|VMAIL_MSGS|DAY_MINS|DAY_CALLS|DAY_CHARGE|EVE_MINS|EVE_CALLS|EVE_CHARGE|NIGHT_MINS|NIGHT_CALLS|NIGHT_CHARGE|INTL_MINS|INTL_CALLS|INTL_CHARGE|SVC_CALLS|\n",
      "+-----+----+-----+----------+--------+---------+----------+--------+---------+----------+----------+-----------+------------+---------+----------+-----------+---------+\n",
      "|    0| 415|    1|         0|   246.5|      108|     41.91|   216.3|       89|     18.39|     179.6|         99|        8.08|     12.7|         3|       3.43|        2|\n",
      "|    1| 408|    1|         0|   298.1|      112|     50.68|   201.3|      100|     17.11|     214.7|         88|        9.66|      9.7|         4|       2.62|        2|\n",
      "|    0| 510|    1|         0|   119.3|       82|     20.28|   185.1|      111|     15.73|     157.0|         74|        7.07|     10.9|         4|       2.94|        2|\n",
      "|    0| 408|    1|         0|   242.5|       82|     41.23|   232.9|       97|     19.80|     154.0|         86|        6.93|      9.6|         7|       2.59|        0|\n",
      "|    1| 408|    0|        18|   222.1|       89|     37.76|   160.6|      109|     13.65|     218.8|        102|        9.85|     13.6|         2|       3.67|        0|\n",
      "+-----+----+-----+----------+--------+---------+----------+--------+---------+----------+----------+-----------+------------+---------+----------+-----------+---------+\n",
      "only showing top 5 rows"
     ]
    }
   ],
   "source": [
    "sparkSession = SparkSession \\\n",
    "        .builder \\\n",
    "        .getOrCreate()\n",
    "\n",
    "df = sparkSession.read \\\n",
    "        .format(\"com.ibm.idax.spark.idaxsource\") \\\n",
    "        .options(dbtable=\"SAMPLES.TRAINING\") \\\n",
    "        .load()\n",
    "df.show(5)"
   ]
  },
  {
   "cell_type": "markdown",
   "metadata": {},
   "source": [
    "How many records do we have? How many features?"
   ]
  },
  {
   "cell_type": "code",
   "execution_count": 4,
   "metadata": {},
   "outputs": [
    {
     "data": {
      "application/vnd.jupyter.widget-view+json": {
       "model_id": "",
       "version_major": 2,
       "version_minor": 0
      },
      "text/plain": [
       "FloatProgress(value=0.0, bar_style='info', description='Progress:', layout=Layout(height='25px', width='50%'),…"
      ]
     },
     "metadata": {},
     "output_type": "display_data"
    },
    {
     "name": "stdout",
     "output_type": "stream",
     "text": [
      "Number of records: 3333\n",
      "Number of features: 17"
     ]
    }
   ],
   "source": [
    "print('Number of records: '+str(df.count()))\n",
    "print('Number of features: '+str(len(df.columns)))"
   ]
  },
  {
   "cell_type": "markdown",
   "metadata": {},
   "source": [
    "## 2. Prepare the data"
   ]
  },
  {
   "cell_type": "markdown",
   "metadata": {},
   "source": [
    "__Create new columns__\n",
    "\n",
    "Here we create a new column. Feel free to come up with new feature combinations and transformations."
   ]
  },
  {
   "cell_type": "code",
   "execution_count": 5,
   "metadata": {},
   "outputs": [
    {
     "data": {
      "application/vnd.jupyter.widget-view+json": {
       "model_id": "",
       "version_major": 2,
       "version_minor": 0
      },
      "text/plain": [
       "FloatProgress(value=0.0, bar_style='info', description='Progress:', layout=Layout(height='25px', width='50%'),…"
      ]
     },
     "metadata": {},
     "output_type": "display_data"
    }
   ],
   "source": [
    "# TOT_MINS not useful anymore because linear combination of features which are now taken into account.\n",
    "\n",
    "DAY_MINS_perCALL = df['DAY_MINS']/df['DAY_CALLS']\n",
    "NIGHT_MINS_perCALL = df['NIGHT_MINS']/df['NIGHT_CALLS']\n",
    "EVE_MINS_perCALL = df['EVE_MINS']/df['EVE_CALLS']\n",
    "# type <class 'pyspark.sql.column.Column'>\n",
    "\n",
    "# to add : price per call, since _CALLS not added to the features\n",
    "#tot_df = df.withColumn(\"TOT_MINS\", TOT_MINS)\n",
    "tot_df = df.withColumn(\"DAY_MINS_perCALL\", DAY_MINS_perCALL).withColumn(\"NIGHT_MINS_perCALL\", NIGHT_MINS_perCALL).withColumn(\"EVE_MINS_perCALL\", EVE_MINS_perCALL)"
   ]
  },
  {
   "cell_type": "markdown",
   "metadata": {},
   "source": [
    "Now we add this new column to the original dataframe and assemble columns into a features outpout column because this is  the format required by PySpark ML functions."
   ]
  },
  {
   "cell_type": "code",
   "execution_count": 6,
   "metadata": {},
   "outputs": [
    {
     "data": {
      "application/vnd.jupyter.widget-view+json": {
       "model_id": "",
       "version_major": 2,
       "version_minor": 0
      },
      "text/plain": [
       "FloatProgress(value=0.0, bar_style='info', description='Progress:', layout=Layout(height='25px', width='50%'),…"
      ]
     },
     "metadata": {},
     "output_type": "display_data"
    },
    {
     "name": "stdout",
     "output_type": "stream",
     "text": [
      "root\n",
      " |-- CHURN: short (nullable = false)\n",
      " |-- features: vector (nullable = true)"
     ]
    }
   ],
   "source": [
    "assembler = VectorAssembler(\n",
    "    inputCols=[\"SVC_CALLS\", \"DAY_MINS\", \"DAY_CHARGE\", \"VMAIL_MSGS\", \"VMAIL\", \n",
    "               \"INTL_CALLS\", \"INTL_CHARGE\", \"INTL_MINS\", \"EVE_CHARGE\", \"EVE_MINS\",\n",
    "               \"NIGHT_MINS\", \"NIGHT_CHARGE\", \"DAY_MINS_perCALL\", \"NIGHT_MINS_perCALL\", \"EVE_MINS_perCALL\"],\n",
    "    outputCol=\"features\")\n",
    "assembled_df = assembler.transform(tot_df).select(\"CHURN\",\"features\")\n",
    "assembled_df.printSchema()"
   ]
  },
  {
   "cell_type": "markdown",
   "metadata": {},
   "source": [
    "__Split the data__\n",
    "\n",
    "We split the data into three distinct sets: for training, validation and testing. We use the proportions 70%, 15% and 15% so that we keep a relatively high number of examples for training. Of course these proportions are subjective, you can change them if you want. We have defined a seed so that results can be reproduced."
   ]
  },
  {
   "cell_type": "code",
   "execution_count": 7,
   "metadata": {},
   "outputs": [
    {
     "data": {
      "application/vnd.jupyter.widget-view+json": {
       "model_id": "",
       "version_major": 2,
       "version_minor": 0
      },
      "text/plain": [
       "FloatProgress(value=0.0, bar_style='info', description='Progress:', layout=Layout(height='25px', width='50%'),…"
      ]
     },
     "metadata": {},
     "output_type": "display_data"
    },
    {
     "name": "stdout",
     "output_type": "stream",
     "text": [
      "                        0                    1  ...               3                4\n",
      "summary             count                 mean  ...             min              max\n",
      "CHURN                3333  0.14491449144914492  ...               0                1\n",
      "AREA                 3333   437.18241824182417  ...             408              510\n",
      "VMAIL                3333   0.7233723372337234  ...               0                1\n",
      "VMAIL_MSGS           3333    8.099009900990099  ...               0               51\n",
      "DAY_MINS             3333            179.77510  ...             0.0            350.8\n",
      "DAY_CALLS            3333   100.43564356435644  ...               0              165\n",
      "DAY_CHARGE           3333            30.562307  ...            0.00            59.64\n",
      "EVE_MINS             3333            200.98035  ...             0.0            363.7\n",
      "EVE_CALLS            3333   100.11431143114311  ...               0              170\n",
      "EVE_CHARGE           3333            17.083540  ...            0.00            30.91\n",
      "NIGHT_MINS           3333            200.87204  ...            23.2            395.0\n",
      "NIGHT_CALLS          3333   100.10771077107711  ...              33              175\n",
      "NIGHT_CHARGE         3333             9.039325  ...            1.04            17.77\n",
      "INTL_MINS            3333             10.23729  ...             0.0             20.0\n",
      "INTL_CALLS           3333   4.4794479447944795  ...               0               20\n",
      "INTL_CHARGE          3333             2.764581  ...            0.00             5.40\n",
      "SVC_CALLS            3333   1.5628562856285628  ...               0                9\n",
      "DAY_MINS_perCALL     3331   1.8725443060806208  ...  0.023008849558   7.223333333333\n",
      "NIGHT_MINS_perCALL   3333   2.0917482965167204  ...  0.227450980392   7.124242424242\n",
      "EVE_MINS_perCALL     3332   2.1037539347556122  ...  0.271304347826  15.608333333333\n",
      "\n",
      "[21 rows x 5 columns]"
     ]
    }
   ],
   "source": [
    "tot_df.describe().toPandas().transpose()"
   ]
  },
  {
   "cell_type": "code",
   "execution_count": 8,
   "metadata": {},
   "outputs": [
    {
     "data": {
      "application/vnd.jupyter.widget-view+json": {
       "model_id": "",
       "version_major": 2,
       "version_minor": 0
      },
      "text/plain": [
       "FloatProgress(value=0.0, bar_style='info', description='Progress:', layout=Layout(height='25px', width='50%'),…"
      ]
     },
     "metadata": {},
     "output_type": "display_data"
    }
   ],
   "source": [
    "train0, val0, test0 = tot_df.randomSplit([0.70,0.15,0.15],1)"
   ]
  },
  {
   "cell_type": "code",
   "execution_count": 9,
   "metadata": {},
   "outputs": [
    {
     "data": {
      "application/vnd.jupyter.widget-view+json": {
       "model_id": "",
       "version_major": 2,
       "version_minor": 0
      },
      "text/plain": [
       "FloatProgress(value=0.0, bar_style='info', description='Progress:', layout=Layout(height='25px', width='50%'),…"
      ]
     },
     "metadata": {},
     "output_type": "display_data"
    }
   ],
   "source": [
    "train, val, test = train0.dropna(subset = [\"DAY_MINS_perCALL\", \"EVE_MINS_perCALL\"]), val0.dropna(subset = [\"DAY_MINS_perCALL\", \"EVE_MINS_perCALL\"]), test0.dropna(subset = [\"DAY_MINS_perCALL\", \"EVE_MINS_perCALL\"])"
   ]
  },
  {
   "cell_type": "markdown",
   "metadata": {},
   "source": [
    "## 4. Train your algorithm\n",
    "\n",
    "First, let's see if we can identify some customer clusters with KMeans. We will then apply logistic regression to predict churn."
   ]
  },
  {
   "cell_type": "markdown",
   "metadata": {},
   "source": [
    "### a. Apply unsupervised learning for customer segmentation with kMeans"
   ]
  },
  {
   "cell_type": "markdown",
   "metadata": {},
   "source": [
    "Create a model: Build a Spark ML algorithm that selects the call counts from the customer data and clusters them using KMeans."
   ]
  },
  {
   "cell_type": "code",
   "execution_count": 10,
   "metadata": {},
   "outputs": [
    {
     "data": {
      "application/vnd.jupyter.widget-view+json": {
       "model_id": "",
       "version_major": 2,
       "version_minor": 0
      },
      "text/plain": [
       "FloatProgress(value=0.0, bar_style='info', description='Progress:', layout=Layout(height='25px', width='50%'),…"
      ]
     },
     "metadata": {},
     "output_type": "display_data"
    }
   ],
   "source": [
    "# We choose to keep the 12 most relevant features + the newly created ones\n",
    "\n",
    "assembler_12 = VectorAssembler(\n",
    "    inputCols=[\"SVC_CALLS\", \"DAY_MINS\", \"DAY_CHARGE\", \"VMAIL_MSGS\", \"VMAIL\", \n",
    "               \"INTL_CALLS\", \"INTL_CHARGE\", \"INTL_MINS\", \"EVE_CHARGE\", \"EVE_MINS\",\n",
    "               \"NIGHT_MINS\", \"NIGHT_CHARGE\", \"DAY_MINS_perCALL\", \"NIGHT_MINS_perCALL\", \"EVE_MINS_perCALL\"],\n",
    "    outputCol=\"features\")\n",
    "\n",
    "# clusters will be built on training data only\n",
    "train_12 = assembler_12.transform(train)\n",
    "\n",
    "# Set characteristics of your model \n",
    "kmeans = KMeans().setK(15).setSeed(1)"
   ]
  },
  {
   "cell_type": "markdown",
   "metadata": {},
   "source": [
    "Fit the model to the required training set and run the algorithm to find the clusters."
   ]
  },
  {
   "cell_type": "code",
   "execution_count": 11,
   "metadata": {},
   "outputs": [
    {
     "data": {
      "application/vnd.jupyter.widget-view+json": {
       "model_id": "",
       "version_major": 2,
       "version_minor": 0
      },
      "text/plain": [
       "FloatProgress(value=0.0, bar_style='info', description='Progress:', layout=Layout(height='25px', width='50%'),…"
      ]
     },
     "metadata": {},
     "output_type": "display_data"
    }
   ],
   "source": [
    "model = kmeans.fit(train_12)"
   ]
  },
  {
   "cell_type": "code",
   "execution_count": 12,
   "metadata": {},
   "outputs": [
    {
     "data": {
      "application/vnd.jupyter.widget-view+json": {
       "model_id": "",
       "version_major": 2,
       "version_minor": 0
      },
      "text/plain": [
       "FloatProgress(value=0.0, bar_style='info', description='Progress:', layout=Layout(height='25px', width='50%'),…"
      ]
     },
     "metadata": {},
     "output_type": "display_data"
    }
   ],
   "source": [
    "cluster_predictions = model.transform(train_12)"
   ]
  },
  {
   "cell_type": "markdown",
   "metadata": {},
   "source": [
    "__Inference__\n",
    "\n",
    "KMeans is an unsupervized learning algorithm: we have to see if the clusters we have just built can be really be used to infer churn!"
   ]
  },
  {
   "cell_type": "code",
   "execution_count": 13,
   "metadata": {},
   "outputs": [
    {
     "data": {
      "application/vnd.jupyter.widget-view+json": {
       "model_id": "",
       "version_major": 2,
       "version_minor": 0
      },
      "text/plain": [
       "FloatProgress(value=0.0, bar_style='info', description='Progress:', layout=Layout(height='25px', width='50%'),…"
      ]
     },
     "metadata": {},
     "output_type": "display_data"
    },
    {
     "name": "stdout",
     "output_type": "stream",
     "text": [
      "+---------+-----+\n",
      "|ClusterID|count|\n",
      "+---------+-----+\n",
      "|        3|   92|\n",
      "|       10|  105|\n",
      "|        5|  118|\n",
      "|        8|  120|\n",
      "|       11|  122|\n",
      "|        2|  142|\n",
      "|        1|  144|\n",
      "|        0|  152|\n",
      "|       12|  156|\n",
      "|        9|  156|\n",
      "|        6|  160|\n",
      "|       13|  171|\n",
      "|        4|  179|\n",
      "|       14|  221|\n",
      "|        7|  281|\n",
      "+---------+-----+"
     ]
    }
   ],
   "source": [
    "# Number of customers in each cluster\n",
    "cluster_predictions.groupBy(\"prediction\").count().sort(\"count\").withColumnRenamed(\"prediction\", \"ClusterID\").show()"
   ]
  },
  {
   "cell_type": "markdown",
   "metadata": {},
   "source": [
    "__Silhouette score__\n",
    "\n",
    "The silhouette score measures how similar an object is to its own cluster (cohesion) compared to other clusters (separation). It ranges from −1 to +1. The closer to 1, the better: the object is then well matched to its own cluster and differs from the points belonging to neighboring clusters. If most objects have a high value, then the clustering configuration is considered to be appropriate. Otherwise there may be too many or too few clusters. Here we compute a mean value over all points, using the Euclidean distance."
   ]
  },
  {
   "cell_type": "code",
   "execution_count": 14,
   "metadata": {},
   "outputs": [
    {
     "data": {
      "application/vnd.jupyter.widget-view+json": {
       "model_id": "",
       "version_major": 2,
       "version_minor": 0
      },
      "text/plain": [
       "FloatProgress(value=0.0, bar_style='info', description='Progress:', layout=Layout(height='25px', width='50%'),…"
      ]
     },
     "metadata": {},
     "output_type": "display_data"
    },
    {
     "name": "stdout",
     "output_type": "stream",
     "text": [
      "Silhouette with squared euclidean distance = 0.334"
     ]
    }
   ],
   "source": [
    "# Evaluate clustering by computing Silhouette score\n",
    "evaluator = ClusteringEvaluator()\n",
    "\n",
    "silhouette = evaluator.evaluate(cluster_predictions)\n",
    "print(\"Silhouette with squared euclidean distance = %.3f \" % silhouette)"
   ]
  },
  {
   "cell_type": "markdown",
   "metadata": {},
   "source": [
    "* k=15\n",
    "\n",
    "This allows to target even better our customers: churn propencies go from `4.9% to 57%` (comparison: 6 features : `5.1% to 65%`). We cannot increase the number of clusters too much if we do not have more data, because the model becomes more sensible to outliers."
   ]
  },
  {
   "cell_type": "code",
   "execution_count": 15,
   "metadata": {},
   "outputs": [
    {
     "data": {
      "application/vnd.jupyter.widget-view+json": {
       "model_id": "",
       "version_major": 2,
       "version_minor": 0
      },
      "text/plain": [
       "FloatProgress(value=0.0, bar_style='info', description='Progress:', layout=Layout(height='25px', width='50%'),…"
      ]
     },
     "metadata": {},
     "output_type": "display_data"
    },
    {
     "name": "stdout",
     "output_type": "stream",
     "text": [
      "+---------+-------------------+\n",
      "|ClusterID|         avg(CHURN)|\n",
      "+---------+-------------------+\n",
      "|       11|0.04918032786885246|\n",
      "|       13|0.05847953216374269|\n",
      "|        6|             0.0625|\n",
      "|        7|0.06405693950177936|\n",
      "|        3|0.08695652173913043|\n",
      "|       12|0.09615384615384616|\n",
      "|        9|0.10256410256410256|\n",
      "|        8|0.11666666666666667|\n",
      "|        2|0.11971830985915492|\n",
      "|       10|0.12380952380952381|\n",
      "|       14|0.12669683257918551|\n",
      "|        4| 0.1340782122905028|\n",
      "|        1|             0.1875|\n",
      "|        0|0.40131578947368424|\n",
      "|        5| 0.5254237288135594|\n",
      "+---------+-------------------+"
     ]
    }
   ],
   "source": [
    "# Churn proportion in each cluster\n",
    "churn_proportion = cluster_predictions.groupBy(\"prediction\").avg(\"CHURN\").sort(\"avg(CHURN)\").withColumnRenamed(\"prediction\", \"ClusterID\")\n",
    "churn_proportion.show()"
   ]
  },
  {
   "cell_type": "markdown",
   "metadata": {},
   "source": [
    "__Cluster mapping__"
   ]
  },
  {
   "cell_type": "code",
   "execution_count": 16,
   "metadata": {},
   "outputs": [
    {
     "data": {
      "application/vnd.jupyter.widget-view+json": {
       "model_id": "",
       "version_major": 2,
       "version_minor": 0
      },
      "text/plain": [
       "FloatProgress(value=0.0, bar_style='info', description='Progress:', layout=Layout(height='25px', width='50%'),…"
      ]
     },
     "metadata": {},
     "output_type": "display_data"
    },
    {
     "name": "stdout",
     "output_type": "stream",
     "text": [
      "{11: 0.04918032786885246, 13: 0.05847953216374269, 6: 0.0625, 7: 0.06405693950177936, 3: 0.08695652173913043, 12: 0.09615384615384616, 9: 0.10256410256410256, 8: 0.11666666666666667, 2: 0.11971830985915492, 10: 0.12380952380952381, 14: 0.12669683257918551, 4: 0.1340782122905028, 1: 0.1875, 0: 0.40131578947368424, 5: 0.5254237288135594}"
     ]
    }
   ],
   "source": [
    "# Extract ClusterIDs and churn percentages for each cluster\n",
    "churn_proportion_list = list(churn_proportion.select(\"avg(CHURN)\").toPandas()[\"avg(CHURN)\"])\n",
    "\n",
    "ClusterID_list = list(churn_proportion.select(\"ClusterID\").toPandas()[\"ClusterID\"])\n",
    "\n",
    "# Transform into a dictionary:\n",
    "dico = {}\n",
    "for i in range(len(ClusterID_list)):\n",
    "    dico[ClusterID_list[i]] = churn_proportion_list[i]\n",
    "print(dico)    "
   ]
  },
  {
   "cell_type": "code",
   "execution_count": 17,
   "metadata": {},
   "outputs": [
    {
     "data": {
      "application/vnd.jupyter.widget-view+json": {
       "model_id": "",
       "version_major": 2,
       "version_minor": 0
      },
      "text/plain": [
       "FloatProgress(value=0.0, bar_style='info', description='Progress:', layout=Layout(height='25px', width='50%'),…"
      ]
     },
     "metadata": {},
     "output_type": "display_data"
    }
   ],
   "source": [
    "def preparation(DF):\n",
    "    \"\"\"\n",
    "    Inputs : DF is a raw dataframe \n",
    "    Outputs : dataframe with additional colmns : features for Clustering, \n",
    "    Cluster prediction and corresponding cluster churn percentage\n",
    "    \"\"\"\n",
    "\n",
    "    # We choose to keep only 6 features here (leads to higher cluster separation)\n",
    "    #assembler_6 = VectorAssembler(inputCols=[\"TOT_MINS\", \"VMAIL\", \"INTL_CALLS\", \"DAY_CALLS\", \"SVC_CALLS\", \"DAY_CHARGE\"], outputCol=\"features\")\n",
    "\n",
    "    # assemble \n",
    "    DF_12 = assembler_12.transform(DF)\n",
    "    \n",
    "    # Assign each point of the training set to its cluster\n",
    "    DF_with_clusterIDs = model.transform(DF_12)\n",
    "\n",
    "    # Create a new dataframe corresponding to the churn percentages for each point\n",
    "    avgChurn = DF_with_clusterIDs.rdd.map(lambda element : dico[element.prediction])\n",
    "    row = Row(\"prediction\") \n",
    "    avgChurn_df = avgChurn.map(row).toDF().withColumnRenamed(\"prediction\", \"ClusterChurn\")\n",
    "    \n",
    "    # Join tables\n",
    "    temp1 = avgChurn_df.toPandas()\n",
    "    temp2 = DF_with_clusterIDs.toPandas()\n",
    "    temp2[\"ClusterChurn\"] = temp1[\"ClusterChurn\"]\n",
    "    DF_with_avg = spark.createDataFrame(temp2)\n",
    "    \n",
    "    DF_with_avg_renamed = DF_with_avg.withColumnRenamed(\"features\", \"featuresClustering\").withColumnRenamed(\"prediction\", \"predictionClustering\")\n",
    "    print(DF_with_avg_renamed.count())\n",
    "    \n",
    "    return DF_with_avg_renamed"
   ]
  },
  {
   "cell_type": "code",
   "execution_count": 18,
   "metadata": {},
   "outputs": [
    {
     "data": {
      "application/vnd.jupyter.widget-view+json": {
       "model_id": "",
       "version_major": 2,
       "version_minor": 0
      },
      "text/plain": [
       "FloatProgress(value=0.0, bar_style='info', description='Progress:', layout=Layout(height='25px', width='50%'),…"
      ]
     },
     "metadata": {},
     "output_type": "display_data"
    },
    {
     "name": "stdout",
     "output_type": "stream",
     "text": [
      "2319\n",
      "495\n",
      "516"
     ]
    }
   ],
   "source": [
    "prepared_train = preparation(train)\n",
    "prepared_val = preparation(val)\n",
    "prepared_test = preparation(test)"
   ]
  },
  {
   "cell_type": "markdown",
   "metadata": {},
   "source": [
    "### b. Apply supervised learning for churn prediction with logistic regression"
   ]
  },
  {
   "cell_type": "markdown",
   "metadata": {},
   "source": [
    "__Prepare the data__\n",
    "\n",
    "Select columns and set label names for training. Here we choose to reuse the 6 column selected above. You can test other options if you like."
   ]
  },
  {
   "cell_type": "code",
   "execution_count": 19,
   "metadata": {},
   "outputs": [
    {
     "data": {
      "application/vnd.jupyter.widget-view+json": {
       "model_id": "",
       "version_major": 2,
       "version_minor": 0
      },
      "text/plain": [
       "FloatProgress(value=0.0, bar_style='info', description='Progress:', layout=Layout(height='25px', width='50%'),…"
      ]
     },
     "metadata": {},
     "output_type": "display_data"
    }
   ],
   "source": [
    "# Define the assembler\n",
    "LogReg_assembler = VectorAssembler(\n",
    "    inputCols=[\"SVC_CALLS\", \"DAY_MINS\", \"DAY_CHARGE\", \"VMAIL_MSGS\", \"VMAIL\", \n",
    "               \"INTL_CALLS\", \"INTL_CHARGE\", \"INTL_MINS\", \"EVE_CHARGE\", \"EVE_MINS\",\n",
    "               \"NIGHT_MINS\", \"NIGHT_CHARGE\", \n",
    "               \"DAY_MINS_perCALL\", \"NIGHT_MINS_perCALL\", \"EVE_MINS_perCALL\", \"ClusterChurn\"],\n",
    "    outputCol=\"features\")"
   ]
  },
  {
   "cell_type": "code",
   "execution_count": 20,
   "metadata": {},
   "outputs": [
    {
     "data": {
      "application/vnd.jupyter.widget-view+json": {
       "model_id": "",
       "version_major": 2,
       "version_minor": 0
      },
      "text/plain": [
       "FloatProgress(value=0.0, bar_style='info', description='Progress:', layout=Layout(height='25px', width='50%'),…"
      ]
     },
     "metadata": {},
     "output_type": "display_data"
    }
   ],
   "source": [
    "# Transform your training set\n",
    "assembled_train = LogReg_assembler.transform(prepared_train)"
   ]
  },
  {
   "cell_type": "code",
   "execution_count": 21,
   "metadata": {},
   "outputs": [
    {
     "data": {
      "application/vnd.jupyter.widget-view+json": {
       "model_id": "",
       "version_major": 2,
       "version_minor": 0
      },
      "text/plain": [
       "FloatProgress(value=0.0, bar_style='info', description='Progress:', layout=Layout(height='25px', width='50%'),…"
      ]
     },
     "metadata": {},
     "output_type": "display_data"
    }
   ],
   "source": [
    "# Select only the label and features columns\n",
    "labeled_train = assembled_train.select(assembled_train[\"features\"], assembled_train[\"CHURN\"].alias(\"label\"))"
   ]
  },
  {
   "cell_type": "markdown",
   "metadata": {},
   "source": [
    "__Build your model__"
   ]
  },
  {
   "cell_type": "code",
   "execution_count": 22,
   "metadata": {},
   "outputs": [
    {
     "data": {
      "application/vnd.jupyter.widget-view+json": {
       "model_id": "",
       "version_major": 2,
       "version_minor": 0
      },
      "text/plain": [
       "FloatProgress(value=0.0, bar_style='info', description='Progress:', layout=Layout(height='25px', width='50%'),…"
      ]
     },
     "metadata": {},
     "output_type": "display_data"
    }
   ],
   "source": [
    "# Define your model\n",
    "logReg = LogisticRegression(maxIter=100)\n",
    "\n",
    "# Fit the model\n",
    "logRegModel = logReg.fit(labeled_train)\n",
    "\n",
    "# Make predictions\n",
    "pred_train = logRegModel.transform(labeled_train)"
   ]
  },
  {
   "cell_type": "markdown",
   "metadata": {},
   "source": [
    "__Area under Curve__"
   ]
  },
  {
   "cell_type": "code",
   "execution_count": 23,
   "metadata": {},
   "outputs": [
    {
     "data": {
      "application/vnd.jupyter.widget-view+json": {
       "model_id": "",
       "version_major": 2,
       "version_minor": 0
      },
      "text/plain": [
       "FloatProgress(value=0.0, bar_style='info', description='Progress:', layout=Layout(height='25px', width='50%'),…"
      ]
     },
     "metadata": {},
     "output_type": "display_data"
    },
    {
     "name": "stdout",
     "output_type": "stream",
     "text": [
      "Area under ROC: 0.799\n",
      "Area under PR curve: 0.467"
     ]
    }
   ],
   "source": [
    "from pyspark.ml.evaluation import BinaryClassificationEvaluator\n",
    "binEval_AUROC = BinaryClassificationEvaluator().setMetricName(\"areaUnderROC\").setRawPredictionCol(\"rawPrediction\").setLabelCol(\"label\")\n",
    "print(\"Area under ROC: %.3f\" % binEval_AUROC.evaluate(pred_train))\n",
    "\n",
    "binEval_AUPRC = BinaryClassificationEvaluator().setMetricName(\"areaUnderPR\").setRawPredictionCol(\"rawPrediction\").setLabelCol(\"label\")\n",
    "print(\"Area under PR curve: %.3f\" % binEval_AUPRC.evaluate(pred_train))"
   ]
  },
  {
   "cell_type": "markdown",
   "metadata": {},
   "source": [
    "ROC increased by 2%\n",
    "Area under PR curve increased by 1%"
   ]
  },
  {
   "cell_type": "markdown",
   "metadata": {},
   "source": [
    "__PRC__ error?\n",
    "\n",
    "Compute raw scores on the test set\n",
    "\n",
    "#predictionAndLabels = pred_train.rdd.map(lambda lp: (lp.rawPrediction, lp.label))\n",
    "#TypeError: field score: DoubleType can not accept object DenseVector([3.306, -3.306]) in type <class 'pyspark.ml.linalg.DenseVector'>\n",
    "\n",
    "#predictionAndLabels = labeled_train.rdd.map(lambda lp: (float(logRegModel.predict(lp.features)), lp.label))\n",
    "#Could not serialize object: Py4JError: An error occurred while calling o746.__getstate__. Trace:\n",
    "#py4j.Py4JException: Method __getstate__([]) does not exist\n",
    "\n",
    "predictionAndLabels = pred_train.rdd.map(lambda el : (el.rawPrediction, el.label))\n",
    "\n",
    "Instantiate metrics object\n",
    "\n",
    "metrics = BinaryClassificationMetrics(predictionAndLabels)\n",
    "\n",
    "Area under precision-recall curve\n",
    "\n",
    "print(\"Area under PR = %s\" % metrics.areaUnderPR)\n",
    "\n",
    "Area under ROC curve\n",
    "\n",
    "print(\"Area under ROC = %s\" % metrics.areaUnderROC)"
   ]
  },
  {
   "cell_type": "markdown",
   "metadata": {},
   "source": [
    "__Visualize feature importance__"
   ]
  },
  {
   "cell_type": "code",
   "execution_count": 24,
   "metadata": {},
   "outputs": [
    {
     "data": {
      "application/vnd.jupyter.widget-view+json": {
       "model_id": "",
       "version_major": 2,
       "version_minor": 0
      },
      "text/plain": [
       "FloatProgress(value=0.0, bar_style='info', description='Progress:', layout=Layout(height='25px', width='50%'),…"
      ]
     },
     "metadata": {},
     "output_type": "display_data"
    },
    {
     "name": "stdout",
     "output_type": "stream",
     "text": [
      "Coefficients: [0.47070088854633846,0.0029603161095587177,0.01762941305452056,0.03305096931248304,1.8487859268027127,-0.10114988548033757,0.19823271019233485,0.043511535809216455,0.02604425064231895,0.002338407402565874,0.0009246150875325816,0.021618889311868884,-0.11166198357915838,-0.08206326565526705,-0.13464707674918505,5.117348227991164]\n",
      "Intercept: -7.532085641829511"
     ]
    }
   ],
   "source": [
    "# Print the coefficients and intercept for logistic regression\n",
    "print(\"Coefficients: \" + str(logRegModel.coefficients))\n",
    "print(\"Intercept: \" + str(logRegModel.intercept))"
   ]
  },
  {
   "cell_type": "code",
   "execution_count": 26,
   "metadata": {},
   "outputs": [
    {
     "name": "stdout",
     "output_type": "stream",
     "text": [
      "16\n",
      "16\n"
     ]
    },
    {
     "data": {
      "image/png": "[encoded data removed]",
      "text/plain": [
       "<Figure size 576x432 with 1 Axes>"
      ]
     },
     "metadata": {
      "needs_background": "light"
     },
     "output_type": "display_data"
    }
   ],
   "source": [
    "%local\n",
    "\n",
    "features=[\"SVC_CALLS\", \"DAY_MINS\", \"DAY_CHARGE\", \"VMAIL_MSGS\", \"VMAIL\", \n",
    "               \"INTL_CALLS\", \"INTL_CHARGE\", \"INTL_MINS\", \"EVE_CHARGE\", \"EVE_MINS\",\n",
    "               \"NIGHT_MINS\", \"NIGHT_CHARGE\", \n",
    "               \"DAY_MINS_perCALL\", \"NIGHT_MINS_perCALL\", \"EVE_MINS_perCALL\", \"ClusterChurn\"]\n",
    "print(len(features))\n",
    "coeffs= [0.47070088854633846,0.0029603161095587177,0.01762941305452056,0.03305096931248304,1.8487859268027127,-0.10114988548033757,0.19823271019233485,0.043511535809216455,0.02604425064231895,0.002338407402565874,0.0009246150875325816,0.021618889311868884,-0.11166198357915838,-0.08206326565526705,-0.13464707674918505,5.117348227991164]\n",
    "print(len(coeffs))\n",
    "#note : adapt coeffs and features list if you modified the features\n",
    "\n",
    "ax, fig=plt.subplots(figsize=(8,6))\n",
    "index = np.arange(len(features))\n",
    "plt.bar(index, coeffs)\n",
    "\n",
    "plt.xlabel('Features', fontsize=15)\n",
    "plt.ylabel('Magnitude of coefficients in logistic regression', fontsize=15)\n",
    "plt.xticks(index, features, fontsize=15, rotation=40)\n",
    "plt.title('Feature importance', fontsize=20)\n",
    "\n",
    "plt.show()"
   ]
  },
  {
   "cell_type": "markdown",
   "metadata": {},
   "source": [
    "Features which have the higher weight in the predictive model are unchanged compared to the 6-feature case :\n",
    "\n",
    "* ClusterChurn\n",
    "* VMAIL\n",
    "* SVC_CALLS\n",
    "\n",
    "The model is almost exclusively based on three features!\n",
    "\n",
    "Before the introduction of the ClusterChurn column it was overwhelmingly based on VMAIL, SVC_CALLS and INTL_CALLS."
   ]
  },
  {
   "cell_type": "markdown",
   "metadata": {},
   "source": [
    "__Metrics and confusion matrix__\n",
    "\n",
    "\n",
    "Let's have a look at some indicators."
   ]
  },
  {
   "cell_type": "markdown",
   "metadata": {},
   "source": [
    "* Confusion matrix \n",
    "\n",
    "<img src=\"confusionMatrix.png\" width=800/>\n",
    "\n",
    "Sensitivity = TP / (TP + FN), also called Recall\n",
    "\n",
    "Specificity = TN / (TN + FP)\n",
    "\n",
    "Precision = TP / (TP + FP)\n",
    "\n",
    "Negative Predictive Value = TN / (TN + FN)\n",
    "\n",
    "F1-score: 2 x Precision x Recall / (Precision + Recall)\n",
    "\n",
    "Recall = 1 - FNR. "
   ]
  },
  {
   "cell_type": "code",
   "execution_count": 27,
   "metadata": {},
   "outputs": [
    {
     "data": {
      "application/vnd.jupyter.widget-view+json": {
       "model_id": "",
       "version_major": 2,
       "version_minor": 0
      },
      "text/plain": [
       "FloatProgress(value=0.0, bar_style='info', description='Progress:', layout=Layout(height='25px', width='50%'),…"
      ]
     },
     "metadata": {},
     "output_type": "display_data"
    },
    {
     "name": "stdout",
     "output_type": "stream",
     "text": [
      "Accuracy = 0.871\n",
      "f1 = 0.844\n",
      "weightedPrecision = 0.848"
     ]
    }
   ],
   "source": [
    "# Metrics (1/2)\n",
    "\n",
    "evaluator = MulticlassClassificationEvaluator(labelCol=\"label\", predictionCol=\"prediction\", metricName=\"accuracy\")\n",
    "accuracy = evaluator.evaluate(pred_train)\n",
    "print(\"Accuracy = %.3f\" % accuracy)\n",
    "\n",
    "evaluatorf1 = MulticlassClassificationEvaluator(labelCol=\"label\", predictionCol=\"prediction\", metricName=\"f1\")\n",
    "f1 = evaluatorf1.evaluate(pred_train)\n",
    "print(\"f1 = %.3f\" % f1)\n",
    " \n",
    "evaluatorwp = MulticlassClassificationEvaluator(labelCol=\"label\", predictionCol=\"prediction\", metricName=\"weightedPrecision\")\n",
    "wp = evaluatorwp.evaluate(pred_train)\n",
    "print(\"weightedPrecision = %.3f\" % wp)"
   ]
  },
  {
   "cell_type": "markdown",
   "metadata": {},
   "source": [
    "Almost no improvement\n",
    "\n",
    "Note : weighted precision and recall means that values were weighted by the number of elements in each class. Weighted recall is equal to accuracy. Without weights: see below."
   ]
  },
  {
   "cell_type": "code",
   "execution_count": 28,
   "metadata": {},
   "outputs": [
    {
     "data": {
      "application/vnd.jupyter.widget-view+json": {
       "model_id": "",
       "version_major": 2,
       "version_minor": 0
      },
      "text/plain": [
       "FloatProgress(value=0.0, bar_style='info', description='Progress:', layout=Layout(height='25px', width='50%'),…"
      ]
     },
     "metadata": {},
     "output_type": "display_data"
    }
   ],
   "source": [
    "# Metrics (2/2)\n",
    "\n",
    "def confusion_matrix(pred_DF):\n",
    "    \"\"\"\n",
    "    Input : \n",
    "    pred_DF : Saprk DataFrame obtained after a model.transform() transformation\n",
    "    Output :\n",
    "    (tn, fp, fn, tp) tuple of integers\n",
    "    \"\"\"\n",
    "    \n",
    "    # as pandas DF\n",
    "    label = pred_DF.toPandas()[\"label\"]\n",
    "    prediction = pred_DF.toPandas()[\"prediction\"]\n",
    "    \n",
    "    # true = tp + tn\n",
    "    true = sum(label)\n",
    "\n",
    "    # tp : sum(if pred = label = 1) or count(pred+label=2)\n",
    "    tp = sum(label+prediction==2)\n",
    "    \n",
    "    # fn = total number of positive - predicted positives which are rightly predicted\n",
    "    fn = true - tp\n",
    "\n",
    "    # tn : sum(if pred=label=0) or count(pred+label=0)\n",
    "    tn = sum(label+prediction==0)\n",
    "\n",
    "    # fp = total number of negative - tn\n",
    "    fp = len(label) - true - tn\n",
    "    \n",
    "    return (tn, fp, fn, tp)\n",
    "\n",
    "\n",
    "def FNR(fn, tp):\n",
    "    return fn/(fn+tp)\n",
    "\n",
    "def recall(tp, fn):\n",
    "    # also called TPR or sensitivity\n",
    "    return tp/(tp+fn)\n",
    "\n",
    "def precision(tp, fp):\n",
    "    return tp/(tp+fp)"
   ]
  },
  {
   "cell_type": "code",
   "execution_count": 29,
   "metadata": {},
   "outputs": [
    {
     "data": {
      "application/vnd.jupyter.widget-view+json": {
       "model_id": "",
       "version_major": 2,
       "version_minor": 0
      },
      "text/plain": [
       "FloatProgress(value=0.0, bar_style='info', description='Progress:', layout=Layout(height='25px', width='50%'),…"
      ]
     },
     "metadata": {},
     "output_type": "display_data"
    },
    {
     "name": "stdout",
     "output_type": "stream",
     "text": [
      "Confusion matrix: \n",
      "[['tp: 74' 'fn: 255']\n",
      " ['fp: 43' 'tn: 1947']]\n",
      "FNR: 0.775\n",
      "Recall: 0.225\n",
      "Precision: 0.632"
     ]
    }
   ],
   "source": [
    "# Confusion matrix\n",
    "(tn, fp, fn, tp)=confusion_matrix(pred_train)\n",
    "# Confusion matrix in format [[tp, fn], [fp, tn]]\n",
    "print(\"Confusion matrix: \")\n",
    "print(np.array([[(\"tp: \"+str(tp)), (\"fn: \"+str(fn))], [(\"fp: \"+str(fp)), (\"tn: \"+str(tn))]]))\n",
    "\n",
    "# Metrics\n",
    "print(\"FNR: %.3f\" % FNR(fn, tp))\n",
    "print(\"Recall: %.3f\" % recall(tp, fn))\n",
    "print(\"Precision: %.3f\" % precision(tp, fp))"
   ]
  },
  {
   "cell_type": "markdown",
   "metadata": {},
   "source": [
    "Recall improved! by 8%"
   ]
  },
  {
   "cell_type": "markdown",
   "metadata": {},
   "source": [
    "## 5. Fine tune your hyperparameters on the validation set\n",
    "\n",
    "We will only do it for logistic regression, since it is the more promising model so far. A similar method can be applied for the other model types."
   ]
  },
  {
   "cell_type": "markdown",
   "metadata": {},
   "source": [
    "__Raw results__\n",
    "\n",
    "In the following cell, default values are used for logistic regression's parameters. "
   ]
  },
  {
   "cell_type": "code",
   "execution_count": 30,
   "metadata": {},
   "outputs": [
    {
     "data": {
      "application/vnd.jupyter.widget-view+json": {
       "model_id": "",
       "version_major": 2,
       "version_minor": 0
      },
      "text/plain": [
       "FloatProgress(value=0.0, bar_style='info', description='Progress:', layout=Layout(height='25px', width='50%'),…"
      ]
     },
     "metadata": {},
     "output_type": "display_data"
    },
    {
     "name": "stdout",
     "output_type": "stream",
     "text": [
      "Validation Accuracy = 0.851"
     ]
    }
   ],
   "source": [
    "# Transform your validation set\n",
    "assembled_val = LogReg_assembler.transform(prepared_val)\n",
    "\n",
    "# Select only the label and features columns\n",
    "labeled_val = assembled_val.select(assembled_val[\"features\"], assembled_val[\"CHURN\"].alias(\"label\"))\n",
    "\n",
    "# Make predictions\n",
    "pred_val = logRegModel.transform(labeled_val)\n",
    "\n",
    "# Define evaluator\n",
    "evaluator = MulticlassClassificationEvaluator(metricName=\"accuracy\")\n",
    "\n",
    "# Compute the classification accuracy on the validation set\n",
    "accuracy = evaluator.evaluate(pred_val)\n",
    "print(\"Validation Accuracy = %.3f\" %  accuracy)"
   ]
  },
  {
   "cell_type": "markdown",
   "metadata": {},
   "source": [
    "Accuracy had improved by 2%: 0.855 compared to 0.834 without the additional ClusterChurn column.\n",
    "drops again in 12-feature case."
   ]
  },
  {
   "cell_type": "markdown",
   "metadata": {},
   "source": [
    "__Grid search__ \n",
    "\n",
    "In the next cell we define a function to test a range of hyperparameters for regularization in order to minimize the False Negative Rate (FNR)."
   ]
  },
  {
   "cell_type": "code",
   "execution_count": 31,
   "metadata": {},
   "outputs": [
    {
     "data": {
      "application/vnd.jupyter.widget-view+json": {
       "model_id": "",
       "version_major": 2,
       "version_minor": 0
      },
      "text/plain": [
       "FloatProgress(value=0.0, bar_style='info', description='Progress:', layout=Layout(height='25px', width='50%'),…"
      ]
     },
     "metadata": {},
     "output_type": "display_data"
    }
   ],
   "source": [
    "def grid_search():\n",
    "    \"\"\"\n",
    "    Input:\n",
    "    DF : Spark Dataframe, prepared with features and label columns\n",
    "    \n",
    "    Output:\n",
    "    best: dictionary with best hyperparameters and corresponding metrics\n",
    "    \"\"\"\n",
    "       \n",
    "    # Hyperparameter ranges\n",
    "    regParam_range=[0, 0.001, 0.002, 0.005, 0.01]\n",
    "    elasticNetParam_range=[0, 0.001, 0.002, 0.005, 0.01]\n",
    "    \n",
    "    best={\"regParam\":0, \"elasticNetParam\": 0, \"training_FNR\": 1, \"validation_FNR\": 1}\n",
    "          \n",
    "    for r in regParam_range:\n",
    "        for e in elasticNetParam_range:\n",
    "            \n",
    "            print(\"regParam = \"+str(r)+\" , elasticNetParam = \"+ str(e))\n",
    "            \n",
    "            # Define your model\n",
    "            logReg = LogisticRegression(maxIter=100, regParam=r, elasticNetParam=e)\n",
    "\n",
    "            # Fit the model on training set\n",
    "            logRegModel = logReg.fit(labeled_train)\n",
    "\n",
    "            # Make predictions\n",
    "            pred_train = logRegModel.transform(labeled_train)\n",
    "            pred_val = logRegModel.transform(labeled_val)\n",
    "            \n",
    "            # Compute the confusion matrix and FNR for both sets\n",
    "            (tn, fp, fn, tp) = confusion_matrix(pred_train)\n",
    "            training_FNR = FNR(fn, tp)\n",
    "            (tn, fp, fn, tp) = confusion_matrix(pred_val)\n",
    "            val_FNR = FNR(fn, tp)\n",
    "            print(\"Training FNR = \" +str(training_FNR))\n",
    "            print(\"Validation FNR = \" +str(val_FNR))\n",
    "            print(\"\")\n",
    "            \n",
    "            if val_FNR <= best[\"validation_FNR\"]: # to have more regularization for equal performance\n",
    "                best[\"regParam\"] = r\n",
    "                best[\"elasticNetParam\"] = e\n",
    "                best[\"training_FNR\"] = training_FNR\n",
    "                best[\"validation_FNR\"] = val_FNR\n",
    "                \n",
    "    return best"
   ]
  },
  {
   "cell_type": "code",
   "execution_count": 32,
   "metadata": {},
   "outputs": [
    {
     "data": {
      "application/vnd.jupyter.widget-view+json": {
       "model_id": "",
       "version_major": 2,
       "version_minor": 0
      },
      "text/plain": [
       "FloatProgress(value=0.0, bar_style='info', description='Progress:', layout=Layout(height='25px', width='50%'),…"
      ]
     },
     "metadata": {},
     "output_type": "display_data"
    },
    {
     "name": "stdout",
     "output_type": "stream",
     "text": [
      "regParam = 0 , elasticNetParam = 0\n",
      "Training FNR = 0.7750759878419453\n",
      "Validation FNR = 0.7682926829268293\n",
      "\n",
      "regParam = 0 , elasticNetParam = 0.001\n",
      "Training FNR = 0.7750759878419453\n",
      "Validation FNR = 0.7682926829268293\n",
      "\n",
      "regParam = 0 , elasticNetParam = 0.002\n",
      "Training FNR = 0.7750759878419453\n",
      "Validation FNR = 0.7682926829268293\n",
      "\n",
      "regParam = 0 , elasticNetParam = 0.005\n",
      "Training FNR = 0.7750759878419453\n",
      "Validation FNR = 0.7682926829268293\n",
      "\n",
      "regParam = 0 , elasticNetParam = 0.01\n",
      "Training FNR = 0.7750759878419453\n",
      "Validation FNR = 0.7682926829268293\n",
      "\n",
      "regParam = 0.001 , elasticNetParam = 0\n",
      "Training FNR = 0.7750759878419453\n",
      "Validation FNR = 0.7682926829268293\n",
      "\n",
      "regParam = 0.001 , elasticNetParam = 0.001\n",
      "Training FNR = 0.7750759878419453\n",
      "Validation FNR = 0.7804878048780488\n",
      "\n",
      "regParam = 0.001 , elasticNetParam = 0.002\n",
      "Training FNR = 0.7781155015197568\n",
      "Validation FNR = 0.7804878048780488\n",
      "\n",
      "regParam = 0.001 , elasticNetParam = 0.005\n",
      "Training FNR = 0.7750759878419453\n",
      "Validation FNR = 0.7804878048780488\n",
      "\n",
      "regParam = 0.001 , elasticNetParam = 0.01\n",
      "Training FNR = 0.78419452887538\n",
      "Validation FNR = 0.7804878048780488\n",
      "\n",
      "regParam = 0.002 , elasticNetParam = 0\n",
      "Training FNR = 0.7781155015197568\n",
      "Validation FNR = 0.7682926829268293\n",
      "\n",
      "regParam = 0.002 , elasticNetParam = 0.001\n",
      "Training FNR = 0.7811550151975684\n",
      "Validation FNR = 0.7682926829268293\n",
      "\n",
      "regParam = 0.002 , elasticNetParam = 0.002\n",
      "Training FNR = 0.7750759878419453\n",
      "Validation FNR = 0.7682926829268293\n",
      "\n",
      "regParam = 0.002 , elasticNetParam = 0.005\n",
      "Training FNR = 0.7811550151975684\n",
      "Validation FNR = 0.7926829268292683\n",
      "\n",
      "regParam = 0.002 , elasticNetParam = 0.01\n",
      "Training FNR = 0.7720364741641338\n",
      "Validation FNR = 0.7560975609756098\n",
      "\n",
      "regParam = 0.005 , elasticNetParam = 0\n",
      "Training FNR = 0.7781155015197568\n",
      "Validation FNR = 0.7682926829268293\n",
      "\n",
      "regParam = 0.005 , elasticNetParam = 0.001\n",
      "Training FNR = 0.7781155015197568\n",
      "Validation FNR = 0.7804878048780488\n",
      "\n",
      "regParam = 0.005 , elasticNetParam = 0.002\n",
      "Training FNR = 0.7750759878419453\n",
      "Validation FNR = 0.7926829268292683\n",
      "\n",
      "regParam = 0.005 , elasticNetParam = 0.005\n",
      "Training FNR = 0.78419452887538\n",
      "Validation FNR = 0.7804878048780488\n",
      "\n",
      "regParam = 0.005 , elasticNetParam = 0.01\n",
      "Training FNR = 0.7720364741641338\n",
      "Validation FNR = 0.7439024390243902\n",
      "\n",
      "regParam = 0.01 , elasticNetParam = 0\n",
      "Training FNR = 0.78419452887538\n",
      "Validation FNR = 0.7804878048780488\n",
      "\n",
      "regParam = 0.01 , elasticNetParam = 0.001\n",
      "Training FNR = 0.8115501519756839\n",
      "Validation FNR = 0.8048780487804879\n",
      "\n",
      "regParam = 0.01 , elasticNetParam = 0.002\n",
      "Training FNR = 0.7811550151975684\n",
      "Validation FNR = 0.7926829268292683\n",
      "\n",
      "regParam = 0.01 , elasticNetParam = 0.005\n",
      "Training FNR = 0.790273556231003\n",
      "Validation FNR = 0.7926829268292683\n",
      "\n",
      "regParam = 0.01 , elasticNetParam = 0.01\n",
      "Training FNR = 0.78419452887538\n",
      "Validation FNR = 0.7926829268292683\n",
      "\n",
      "{'regParam': 0.005, 'elasticNetParam': 0.01, 'training_FNR': 0.7720364741641338, 'validation_FNR': 0.7439024390243902}"
     ]
    }
   ],
   "source": [
    "best = grid_search()\n",
    "print(best)"
   ]
  },
  {
   "cell_type": "markdown",
   "metadata": {},
   "source": [
    "## 6. Assess your model performance on the test set\n",
    "\n",
    "See what is the final perfomance of your tuned model on unseen data."
   ]
  },
  {
   "cell_type": "code",
   "execution_count": 33,
   "metadata": {},
   "outputs": [
    {
     "data": {
      "application/vnd.jupyter.widget-view+json": {
       "model_id": "",
       "version_major": 2,
       "version_minor": 0
      },
      "text/plain": [
       "FloatProgress(value=0.0, bar_style='info', description='Progress:', layout=Layout(height='25px', width='50%'),…"
      ]
     },
     "metadata": {},
     "output_type": "display_data"
    }
   ],
   "source": [
    "# Prepare the test set\n",
    "assembled_test = LogReg_assembler.transform(prepared_test)\n",
    "\n",
    "# Select only the label and features columns\n",
    "labeled_test = assembled_test.select(assembled_test[\"features\"], assembled_test[\"CHURN\"].alias(\"label\"))"
   ]
  },
  {
   "cell_type": "code",
   "execution_count": 34,
   "metadata": {},
   "outputs": [
    {
     "data": {
      "application/vnd.jupyter.widget-view+json": {
       "model_id": "",
       "version_major": 2,
       "version_minor": 0
      },
      "text/plain": [
       "FloatProgress(value=0.0, bar_style='info', description='Progress:', layout=Layout(height='25px', width='50%'),…"
      ]
     },
     "metadata": {},
     "output_type": "display_data"
    },
    {
     "name": "stdout",
     "output_type": "stream",
     "text": [
      "+--------------------+-----+--------------------+--------------------+----------+\n",
      "|            features|label|       rawPrediction|         probability|prediction|\n",
      "+--------------------+-----+--------------------+--------------------+----------+\n",
      "|[1.0,199.1,33.85,...|    0|[2.66436793539785...|[0.93489104741464...|       0.0|\n",
      "|[0.0,204.9,34.83,...|    0|[3.22016714033588...|[0.96158618883629...|       0.0|\n",
      "|[1.0,291.1,49.49,...|    0|[0.04634360072981...|[0.51158382701291...|       0.0|\n",
      "|[1.0,141.8,24.11,...|    0|[3.12445227678408...|[0.95789018434366...|       0.0|\n",
      "|[0.0,306.2,52.05,...|    0|[1.99112818646314...|[0.87986244306212...|       0.0|\n",
      "+--------------------+-----+--------------------+--------------------+----------+\n",
      "only showing top 5 rows\n",
      "\n",
      "Test Accuracy = 0.872"
     ]
    }
   ],
   "source": [
    "# Define your model\n",
    "logReg = LogisticRegression(maxIter=100, regParam=best[\"regParam\"], elasticNetParam=best[\"elasticNetParam\"])\n",
    "\n",
    "# Fit the model on training set\n",
    "logRegModel = logReg.fit(labeled_train)\n",
    "\n",
    "# Make predictions on test set\n",
    "pred_test = logRegModel.transform(labeled_test)\n",
    "pred_test.show(5)\n",
    "\n",
    "# Compute the accuracy on the test set\n",
    "print(\"Test Accuracy = %.3f\" %evaluator.evaluate(pred_test))"
   ]
  },
  {
   "cell_type": "code",
   "execution_count": 35,
   "metadata": {},
   "outputs": [
    {
     "data": {
      "application/vnd.jupyter.widget-view+json": {
       "model_id": "",
       "version_major": 2,
       "version_minor": 0
      },
      "text/plain": [
       "FloatProgress(value=0.0, bar_style='info', description='Progress:', layout=Layout(height='25px', width='50%'),…"
      ]
     },
     "metadata": {},
     "output_type": "display_data"
    },
    {
     "name": "stdout",
     "output_type": "stream",
     "text": [
      "Confusion matrix: \n",
      "[['tp: 16' 'fn: 55']\n",
      " ['fp: 11' 'tn: 434']]\n",
      "FNR: 0.775"
     ]
    }
   ],
   "source": [
    "# Confusion matrix\n",
    "(tn, fp, fn, tp)=confusion_matrix(pred_test)\n",
    "# Confusion matrix in format [[tp, fn], [fp, tn]]\n",
    "print(\"Confusion matrix: \")\n",
    "print(np.array([[(\"tp: \"+str(tp)), (\"fn: \"+str(fn))], [(\"fp: \"+str(fp)), (\"tn: \"+str(tn))]]))\n",
    "\n",
    "# FNR\n",
    "print(\"FNR: %.3f\" %FNR(fn, tp))"
   ]
  },
  {
   "cell_type": "markdown",
   "metadata": {},
   "source": [
    "Comparison : \n",
    "* (22, 50, 12, 433) FNR: 0.694 - 12 features + ClusterChurn\n",
    "* (18, 54, 4, 441) FNR = 0.750 - 6 features + ClusterChurn\n",
    "* (12, 60, 4, 441), FNR = 0.833 without ClusterChurn column "
   ]
  },
  {
   "cell_type": "markdown",
   "metadata": {},
   "source": [
    "__Plot the ROC curve__ \n",
    "\n",
    "The Receiver-Operator Curve (ROC) gives you a visual display of the sensitivity by specificity for all possible classification cutoffs. In other words, it summarizes the trade-off between the true positive rate and false positive rate for a predictive model using different probability thresholds.\n",
    "\n",
    "The true positive rate (TPR) is given by `tp / (tp + tn)` where tp is the number of true positives and tn the number of true negatives. It is also referred to as recall or sensitivity.\n",
    "\n",
    "The false positive rate (FPR) is given by `fp/(fp+tn)` where fp is the number of false positives and tn the number of true negatives. It is also referred to as inverted specificity."
   ]
  },
  {
   "cell_type": "code",
   "execution_count": 36,
   "metadata": {},
   "outputs": [
    {
     "data": {
      "application/vnd.jupyter.widget-view+json": {
       "model_id": "",
       "version_major": 2,
       "version_minor": 0
      },
      "text/plain": [
       "FloatProgress(value=0.0, bar_style='info', description='Progress:', layout=Layout(height='25px', width='50%'),…"
      ]
     },
     "metadata": {},
     "output_type": "display_data"
    }
   ],
   "source": [
    "# Extract the summary from the returned LogisticRegressionModel instance trained\n",
    "trainingSummary = logRegModel.summary\n",
    "# Obtain the receiver-operating characteristic as a dataframe and areaUnderROC.\n",
    "trainingSummary.roc.createOrReplaceTempView(\"roc\")"
   ]
  },
  {
   "cell_type": "code",
   "execution_count": 37,
   "metadata": {},
   "outputs": [
    {
     "data": {
      "application/vnd.jupyter.widget-view+json": {
       "model_id": "",
       "version_major": 2,
       "version_minor": 0
      },
      "text/plain": [
       "FloatProgress(value=0.0, bar_style='info', description='Progress:', layout=Layout(height='25px', width='50%'),…"
      ]
     },
     "metadata": {},
     "output_type": "display_data"
    },
    {
     "name": "stderr",
     "output_type": "stream",
     "text": [
      "/Users/eva.feillet/anaconda3/lib/python3.7/site-packages/autovizwidget/widget/utils.py:50: FutureWarning:\n",
      "\n",
      "A future version of pandas will default to `skipna=True`. To silence this warning, pass `skipna=True|False` explicitly.\n",
      "\n"
     ]
    },
    {
     "data": {
      "application/vnd.jupyter.widget-view+json": {
       "model_id": "44c15b88d7ea466ab5d4007bf2d08116",
       "version_major": 2,
       "version_minor": 0
      },
      "text/plain": [
       "VBox(children=(HBox(children=(HTML(value='Type:'), Button(description='Table', layout=Layout(width='70px'), st…"
      ]
     },
     "metadata": {},
     "output_type": "display_data"
    },
    {
     "data": {
      "application/vnd.jupyter.widget-view+json": {
       "model_id": "718c2c0fbd3a4a8285ab322418fba30b",
       "version_major": 2,
       "version_minor": 0
      },
      "text/plain": [
       "Output()"
      ]
     },
     "metadata": {},
     "output_type": "display_data"
    }
   ],
   "source": [
    "%%sql -o roc --maxrows -1\n",
    "SELECT * FROM roc"
   ]
  },
  {
   "cell_type": "code",
   "execution_count": 38,
   "metadata": {},
   "outputs": [
    {
     "data": {
      "text/plain": [
       "[<matplotlib.lines.Line2D at 0x11d84df98>]"
      ]
     },
     "execution_count": 38,
     "metadata": {},
     "output_type": "execute_result"
    },
    {
     "data": {
      "image/png": "[encoded data removed]",
      "text/plain": [
       "<Figure size 576x576 with 1 Axes>"
      ]
     },
     "metadata": {
      "needs_background": "light"
     },
     "output_type": "display_data"
    }
   ],
   "source": [
    "%local\n",
    "ax, fig = plt.subplots(figsize=(8,8))\n",
    "plt.xlabel(\"False Positive Rate\", fontsize=15)\n",
    "plt.ylabel(\"True Positive Rate\", fontsize=15)\n",
    "plt.title(\"Receiver-Operator Curve\", fontsize=20)\n",
    "plt.plot(roc[\"FPR\"], roc[\"TPR\"])"
   ]
  },
  {
   "cell_type": "code",
   "execution_count": 39,
   "metadata": {},
   "outputs": [
    {
     "data": {
      "application/vnd.jupyter.widget-view+json": {
       "model_id": "",
       "version_major": 2,
       "version_minor": 0
      },
      "text/plain": [
       "FloatProgress(value=0.0, bar_style='info', description='Progress:', layout=Layout(height='25px', width='50%'),…"
      ]
     },
     "metadata": {},
     "output_type": "display_data"
    },
    {
     "name": "stdout",
     "output_type": "stream",
     "text": [
      "areaUnderROC: 0.793"
     ]
    }
   ],
   "source": [
    "print(\"areaUnderROC: %.3f\" %trainingSummary.areaUnderROC)"
   ]
  },
  {
   "cell_type": "markdown",
   "metadata": {},
   "source": [
    "__Gains chart__"
   ]
  },
  {
   "cell_type": "code",
   "execution_count": null,
   "metadata": {},
   "outputs": [],
   "source": [
    "pred_test.show(5)"
   ]
  },
  {
   "cell_type": "code",
   "execution_count": null,
   "metadata": {},
   "outputs": [],
   "source": [
    "# Order by growing churn probability\n",
    "\n",
    "# Extract proba1\n",
    "pred_test1 = pred_test.rdd.map(lambda element : [element.probability[1], element.label, element.prediction])\n",
    "pred_test1.take(2)\n",
    "\n",
    "# Order by proba1\n",
    "ordered_pred_test1 = pred_test1.sortBy(lambda x: x[0])\n",
    "ordered_pred_test1.take(10)\n",
    "\n",
    "# Convert back to dataframe\n",
    "#ordered_DF = ordered_pred_test1.toDF()\n",
    "# .map(Row(\"colName\")).toDF()\n",
    "#issue : no schema for PipelinedRDD\n",
    "\n",
    "# Create temporary view\n",
    "# ordered_DF.createOrReplaceTempView(\"ordered_DF\")"
   ]
  },
  {
   "cell_type": "code",
   "execution_count": null,
   "metadata": {},
   "outputs": [],
   "source": [
    "pred_test.createOrReplaceTempView(\"pred_test\")"
   ]
  },
  {
   "cell_type": "code",
   "execution_count": null,
   "metadata": {},
   "outputs": [],
   "source": [
    "%%sql -o pred_test --maxrows -1\n",
    "SELECT * FROM pred_test"
   ]
  },
  {
   "cell_type": "code",
   "execution_count": null,
   "metadata": {},
   "outputs": [],
   "source": [
    "%local\n",
    "\n",
    "# Extract the relevant data\n",
    "\n",
    "# Predicted proba that label is 1\n",
    "proba1 = [x[\"values\"][1] for x in pred_test[\"probability\"]]\n",
    "# equivalent to \n",
    "# proba1 = pred_test.select(\"probability\").toPandas().values.tolist()\n",
    "\n",
    "pred_test[\"proba1\"] = pd.Series(proba1)\n",
    "sorted_pred_test = pred_test.sort_values(by=\"proba1\").drop([\"features\", \"rawPrediction\", \"probability\"], axis=1)"
   ]
  },
  {
   "cell_type": "code",
   "execution_count": null,
   "metadata": {},
   "outputs": [],
   "source": [
    "%local\n",
    "sorted_pred_test"
   ]
  },
  {
   "cell_type": "code",
   "execution_count": null,
   "metadata": {},
   "outputs": [],
   "source": [
    "%local\n",
    "\n",
    "# Reset index\n",
    "sorted_pred_test = sorted_pred_test.reset_index(drop=True)\n",
    "n = len(sorted_pred_test)\n",
    "\n",
    "# Add cumulated count for #customers and cumulated frequency for %churners\n",
    "\n",
    "#Initialize columns\n",
    "sorted_pred_test[\"#Customers\"] = pd.Series([0 for x in range(n)])\n",
    "sorted_pred_test[\"#predChurners\"] = pd.Series([0 for x in range(n)])\n",
    "sorted_pred_test[\"#trueChurners\"] = pd.Series([0 for x in range(n)])\n",
    "\n",
    "# case i = 0\n",
    "sorted_pred_test[\"#Customers\"][0] = 1\n",
    "sorted_pred_test[\"#predChurners\"][0] = sorted_pred_test[\"prediction\"][0]\n",
    "sorted_pred_test[\"#trueChurners\"][0] = sorted_pred_test[\"label\"][0]\n",
    "\n",
    "# case i>0\n",
    "for i in range(1,n):\n",
    "    sorted_pred_test[\"#Customers\"][i] = i+1\n",
    "    sorted_pred_test[\"#predChurners\"][i] = sorted_pred_test[\"#predChurners\"][i-1] + sorted_pred_test[\"prediction\"][i]\n",
    "    sorted_pred_test[\"#trueChurners\"][i] = sorted_pred_test[\"#trueChurners\"][i-1] + sorted_pred_test[\"label\"][i]\n",
    "\n",
    "sorted_pred_test[\"#predChurners\"]/=n   \n",
    "sorted_pred_test[\"#trueChurners\"]/=n \n",
    "\n",
    "sorted_pred_test"
   ]
  },
  {
   "cell_type": "code",
   "execution_count": null,
   "metadata": {},
   "outputs": [],
   "source": [
    "%local\n",
    "\n",
    "ax, fig=plt.subplots(figsize=(8,6))\n",
    "\n",
    "x = sorted_pred_test[\"#Customers\"].values.tolist()\n",
    "y = [sorted_pred_test[\"#trueChurners\"].values.tolist(), sorted_pred_test[\"#predChurners\"].values.tolist()]\n",
    "labels = [\"true churners\", \"predicted churners\"]\n",
    "\n",
    "for y_arr, label in zip(y, labels):\n",
    "    plt.plot(x, y_arr, label=label)\n",
    "\n",
    "plt.xlabel('Customer Count', fontsize=15)\n",
    "plt.ylabel('True and predicted churners in %', fontsize=15)\n",
    "ax.legend(loc='center')\n",
    "plt.title('Cumulative Gains Curves', fontsize=20)\n",
    "\n",
    "plt.show()    "
   ]
  },
  {
   "cell_type": "markdown",
   "metadata": {},
   "source": [
    "## What you've learned\n",
    "\n",
    "Congratulations!\n",
    "\n",
    "Through this notebook, you've learned how to:\n",
    "* use PySpark for a classic workflow, from data preparation to model assessment\n",
    "* perform feature engineering by combining different ML techniques\n",
    "* build models using both supervised and unsupervised learning\n",
    "* compute and visualize useful indicators in order to evaluate a model."
   ]
  },
  {
   "cell_type": "markdown",
   "metadata": {},
   "source": [
    "___\n",
    "## Authors\n",
    "\n",
    "Eva Feillet - ML intern, IBM Cloud and Cognitive Software, IBM Lab in Böbligen, Germany"
   ]
  },
  {
   "cell_type": "markdown",
   "metadata": {},
   "source": [
    "__Licence__\n",
    "\n",
    "to add"
   ]
  }
 ],
 "metadata": {
  "kernelspec": {
   "display_name": "PySpark",
   "language": "",
   "name": "pysparkkernel"
  },
  "language_info": {
   "codemirror_mode": {
    "name": "python",
    "version": 2
   },
   "mimetype": "text/x-python",
   "name": "pyspark",
   "pygments_lexer": "python2"
  }
 },
 "nbformat": 4,
 "nbformat_minor": 2
}
