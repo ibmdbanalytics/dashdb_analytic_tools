{
 "cells": [
  {
   "cell_type": "markdown",
   "metadata": {},
   "source": [
    "# Customer Churn Prediction with IBM Db2 Warehouse using PySpark\n",
    "\n",
    "# Part 2 : Mixed learning"
   ]
  },
  {
   "cell_type": "markdown",
   "metadata": {},
   "source": [
    "__Introduction__\n",
    "\n",
    "This notebook presents a churn prediction use case using anonymized customer data from a phone operator. It uses IBM Db2 Warehouse and runs on a PySpark kernel. It is the second part of a series on this use case. It is focused on building and evaluating machine learning models. We aim at maximizing recall on our test set. Data is loaded from IBM Db2 Warehouse, visualizations are plotted locally using matplotlib and models are built using PySpark to benefit from parallelization.\n",
    "\n",
    "__Use case__\n",
    "\n",
    "Our goal is to accurately predict whether a customer is going to end his/her contract (labeled as positive,1). We prefer to send a commercial email to someone who intends to keep her contract but is labeled as willing to end it (false positive) rather than to overlook the opportunity of preventing a customer from ending her contract (false negative). We also care to accurately target customers with engagement campaigns : not overwhelming customers with commercials and not losing money by proposing special offers to too many people (precision and accuracy). Our optimization objective will thus consist in maximizing recall i.e. minimizing the false negative rate. We will also look at a couple of other indicators such as accuracy and area under curve.\n",
    "\n",
    "\n",
    "__Previously__\n",
    "\n",
    "In the previous notebook, we used PySpark for data exploration and visualization. We created, scaled and selected features before saving our prepared dataset into a Db2 table. You need to run this first notebook before running this one in order to create the necessary Db2 tables. \n",
    "\n",
    "\n",
    "__Contents__\n",
    "1. Get ready\n",
    "2. Build customer clusters with KMeans\n",
    "3. Compare model performances on the train set\n",
    "4. Tune hyperparameters on the validation set\n",
    "5. Assess your model performance on the test set\n",
    "6. Save the results for deployment"
   ]
  },
  {
   "cell_type": "markdown",
   "metadata": {},
   "source": [
    "## 1. Get ready"
   ]
  },
  {
   "cell_type": "markdown",
   "metadata": {},
   "source": [
    "__Livy configuration__\n",
    "\n",
    "Depending on your server and current livy settings, your current driver memory may not be sufficient for this use case. The cell below sets driver memory to 2 GB to make sure there is no \"out of memory\" error."
   ]
  },
  {
   "cell_type": "code",
   "execution_count": 1,
   "metadata": {},
   "outputs": [
    {
     "data": {
      "text/html": [
       "Current session configs: <tt>{'driverMemory': '2000M', 'kind': 'pyspark'}</tt><br>"
      ],
      "text/plain": [
       "<IPython.core.display.HTML object>"
      ]
     },
     "metadata": {},
     "output_type": "display_data"
    },
    {
     "data": {
      "text/html": [
       "No active sessions."
      ],
      "text/plain": [
       "<IPython.core.display.HTML object>"
      ]
     },
     "metadata": {},
     "output_type": "display_data"
    }
   ],
   "source": [
    "%%configure -f\n",
    "{\"driverMemory\": \"2000M\"}"
   ]
  },
  {
   "cell_type": "markdown",
   "metadata": {},
   "source": [
    "__Imports__\n",
    "\n",
    "Import the necessary Spark classes, as well as Python packages for local visualisations.\n",
    "We will plot the graphs directly in this notebook. If you like to plot them in a separate window, just comment out `%matplotlib inline`."
   ]
  },
  {
   "cell_type": "code",
   "execution_count": 2,
   "metadata": {},
   "outputs": [
    {
     "name": "stdout",
     "output_type": "stream",
     "text": [
      "Starting Spark application\n"
     ]
    },
    {
     "data": {
      "text/html": [
       "<table>\n",
       "<tr><th>ID</th><th>YARN Application ID</th><th>Kind</th><th>State</th><th>Spark UI</th><th>Driver log</th><th>Current session?</th></tr><tr><td>70</td><td>None</td><td>pyspark</td><td>idle</td><td></td><td></td><td>✔</td></tr></table>"
      ],
      "text/plain": [
       "<IPython.core.display.HTML object>"
      ]
     },
     "metadata": {},
     "output_type": "display_data"
    },
    {
     "data": {
      "application/vnd.jupyter.widget-view+json": {
       "model_id": "",
       "version_major": 2,
       "version_minor": 0
      },
      "text/plain": [
       "FloatProgress(value=0.0, bar_style='info', description='Progress:', layout=Layout(height='25px', width='50%'),…"
      ]
     },
     "metadata": {},
     "output_type": "display_data"
    },
    {
     "name": "stdout",
     "output_type": "stream",
     "text": [
      "SparkSession available as 'spark'.\n"
     ]
    },
    {
     "data": {
      "application/vnd.jupyter.widget-view+json": {
       "model_id": "",
       "version_major": 2,
       "version_minor": 0
      },
      "text/plain": [
       "FloatProgress(value=0.0, bar_style='info', description='Progress:', layout=Layout(height='25px', width='50%'),…"
      ]
     },
     "metadata": {},
     "output_type": "display_data"
    }
   ],
   "source": [
    "# Useful imports - PySpark\n",
    "from pyspark.sql import SparkSession\n",
    "from pyspark.ml.linalg import Vectors\n",
    "from pyspark.ml.feature import VectorAssembler\n",
    "from pyspark.ml.clustering import KMeans\n",
    "from pyspark.ml.evaluation import ClusteringEvaluator\n",
    "\n",
    "from pyspark.sql import Row\n",
    "\n",
    "from pyspark.ml.classification import LogisticRegression\n",
    "from pyspark.ml.classification import GBTClassifier\n",
    "from pyspark.ml.classification import RandomForestClassifier\n",
    "from pyspark.ml.evaluation import MulticlassClassificationEvaluator\n",
    "from pyspark.ml.evaluation import BinaryClassificationEvaluator\n",
    "from pyspark.mllib.evaluation import BinaryClassificationMetrics\n",
    "from pyspark.ml.tuning import ParamGridBuilder, TrainValidationSplit\n",
    "\n",
    "import numpy as np\n",
    "from itertools import product\n",
    "from multiprocessing.dummy import Pool as ThreadPool"
   ]
  },
  {
   "cell_type": "code",
   "execution_count": 3,
   "metadata": {},
   "outputs": [],
   "source": [
    "%local\n",
    "%matplotlib inline\n",
    "\n",
    "# Useful imports for local visualisations\n",
    "\n",
    "import matplotlib.pyplot as plt\n",
    "import pandas as pd\n",
    "import numpy as np"
   ]
  },
  {
   "cell_type": "markdown",
   "metadata": {},
   "source": [
    "__Load the data__\n",
    "\n",
    "Let's use the table which we had saved at the end of data preparation, in the previous notebook."
   ]
  },
  {
   "cell_type": "code",
   "execution_count": 4,
   "metadata": {},
   "outputs": [
    {
     "data": {
      "application/vnd.jupyter.widget-view+json": {
       "model_id": "",
       "version_major": 2,
       "version_minor": 0
      },
      "text/plain": [
       "FloatProgress(value=0.0, bar_style='info', description='Progress:', layout=Layout(height='25px', width='50%'),…"
      ]
     },
     "metadata": {},
     "output_type": "display_data"
    },
    {
     "name": "stdout",
     "output_type": "stream",
     "text": [
      "+-----+-----+-------------------+-------------------+-------------------+-------------------+----------+-------------------+---------+-------------------+------------------+------------------+------------------+-------------------+-------------------+-------------------+\n",
      "|CHURN|VMAIL|           TOT_MINS|   DAY_MINS_perCALL|   EVE_MINS_perCALL| NIGHT_MINS_perCALL|VMAIL_MSGS|         INTL_CALLS|DAY_CALLS|          EVE_CALLS|       NIGHT_CALLS|         SVC_CALLS|       INTL_CHARGE|         DAY_CHARGE|         EVE_CHARGE|       NIGHT_CHARGE|\n",
      "+-----+-----+-------------------+-------------------+-------------------+-------------------+----------+-------------------+---------+-------------------+------------------+------------------+------------------+-------------------+-------------------+-------------------+\n",
      "|    0|    1|   0.38921258531713| 0.1480484058710267|0.08646008207783044|0.31759438821884395|       0.0|0.21052631578947367|   0.8375| 0.6392405063291139|0.3669064748201439|0.1111111111111111|0.5055555555555555| 0.4084507042253521|0.45160142348754445|   0.43335325762104|\n",
      "|    0|    1| 0.5573497586149492|0.38497035958963477|0.10194140353698468|0.22226493848858866|       0.0| 0.2631578947368421|   0.4875| 0.6518987341772152|0.5755395683453237|0.3333333333333333|0.5703703703703703| 0.6182092555331992| 0.5441281138790036|0.42139868499701133|\n",
      "|    0|    1|0.29831862826702177|0.16643255221938932|0.10419651831219201| 0.1738108338945924|       0.0| 0.2631578947368421|  0.56875| 0.6265822784810127|0.5107913669064749|               0.0|0.5796296296296296|0.31187122736418516| 0.5334519572953736|  0.301255230125523|\n",
      "|    0|    1| 0.7164974196770435|0.31654594193813185| 0.2559685520030478| 0.4657123319884501|       0.0|0.15789473684210525|  0.55625|0.36075949367088606|0.2517985611510791|0.3333333333333333|0.4351851851851852|  0.580147551978538| 0.7818505338078292|  0.510460251046025|\n",
      "|    0|    1| 0.4020309638754785| 0.1158796082653953|0.21618976154509706|0.18358131857696985|       0.0|0.10526315789473684|    0.675|0.41139240506329117| 0.539568345323741|0.1111111111111111|0.6351851851851852| 0.2577129443326626| 0.7412811387900357|0.33173939031679617|\n",
      "+-----+-----+-------------------+-------------------+-------------------+-------------------+----------+-------------------+---------+-------------------+------------------+------------------+------------------+-------------------+-------------------+-------------------+\n",
      "only showing top 5 rows"
     ]
    }
   ],
   "source": [
    "sparkSession = SparkSession \\\n",
    "        .builder \\\n",
    "        .getOrCreate()\n",
    "\n",
    "df = sparkSession.read \\\n",
    "        .format(\"com.ibm.idax.spark.idaxsource\") \\\n",
    "        .options(dbtable=\"SCALED_CHURN\") \\\n",
    "        .load()\n",
    "df.show(5)"
   ]
  },
  {
   "cell_type": "markdown",
   "metadata": {},
   "source": [
    "__Split the data__\n",
    "\n",
    "We split the data into three distinct sets: for training, validation and testing. We use the proportions 70%, 15% and 15% so that we keep a relatively high number of examples for training. Of course these proportions are subjective, you can change them if you want. We have defined a seed so that results can be reproduced."
   ]
  },
  {
   "cell_type": "code",
   "execution_count": 5,
   "metadata": {},
   "outputs": [
    {
     "data": {
      "application/vnd.jupyter.widget-view+json": {
       "model_id": "",
       "version_major": 2,
       "version_minor": 0
      },
      "text/plain": [
       "FloatProgress(value=0.0, bar_style='info', description='Progress:', layout=Layout(height='25px', width='50%'),…"
      ]
     },
     "metadata": {},
     "output_type": "display_data"
    }
   ],
   "source": [
    "train, val, test = df.randomSplit([0.70,0.15,0.15],1)"
   ]
  },
  {
   "cell_type": "markdown",
   "metadata": {},
   "source": [
    "## 2. Build customer clusters with KMeans\n",
    "\n",
    "First, let's see if we can identify some customer clusters with KMeans unsupervised algorithm. We will enrich our current dataset with information from clustering."
   ]
  },
  {
   "cell_type": "markdown",
   "metadata": {},
   "source": [
    "### a. Apply unsupervised learning for customer segmentation with kMeans"
   ]
  },
  {
   "cell_type": "markdown",
   "metadata": {},
   "source": [
    "__Create a model__ \n",
    "\n",
    "Previously we have scaled the numerical features: this is useful for our clustering task because we do not want a feature with higher values to be given a higher weight in the distance computation."
   ]
  },
  {
   "cell_type": "code",
   "execution_count": 6,
   "metadata": {},
   "outputs": [
    {
     "data": {
      "application/vnd.jupyter.widget-view+json": {
       "model_id": "",
       "version_major": 2,
       "version_minor": 0
      },
      "text/plain": [
       "FloatProgress(value=0.0, bar_style='info', description='Progress:', layout=Layout(height='25px', width='50%'),…"
      ]
     },
     "metadata": {},
     "output_type": "display_data"
    }
   ],
   "source": [
    "# Previously : Here we build clusters using the 16 above features\n",
    "# now : without churn\n",
    "assembler_16 = VectorAssembler(\n",
    "    inputCols=['VMAIL', 'TOT_MINS', 'DAY_MINS_perCALL', 'EVE_MINS_perCALL', \n",
    "               'NIGHT_MINS_perCALL', 'VMAIL_MSGS', 'INTL_CALLS', 'DAY_CALLS', \n",
    "               'EVE_CALLS', 'NIGHT_CALLS', 'SVC_CALLS', 'INTL_CHARGE', \n",
    "               'DAY_CHARGE', 'EVE_CHARGE', 'NIGHT_CHARGE'],\n",
    "    outputCol=\"features\")\n",
    "\n",
    "# Clusters will be built on training data only\n",
    "train_16 = assembler_16.transform(train)\n",
    "\n",
    "# Set characteristics of your model : here we will have 5 clusters\n",
    "kmeans = KMeans().setK(15).setSeed(1)"
   ]
  },
  {
   "cell_type": "markdown",
   "metadata": {},
   "source": [
    "Fit the model to the required training set and run the algorithm to find the clusters."
   ]
  },
  {
   "cell_type": "code",
   "execution_count": 7,
   "metadata": {},
   "outputs": [
    {
     "data": {
      "application/vnd.jupyter.widget-view+json": {
       "model_id": "",
       "version_major": 2,
       "version_minor": 0
      },
      "text/plain": [
       "FloatProgress(value=0.0, bar_style='info', description='Progress:', layout=Layout(height='25px', width='50%'),…"
      ]
     },
     "metadata": {},
     "output_type": "display_data"
    }
   ],
   "source": [
    "clusterModel = kmeans.fit(train_16)"
   ]
  },
  {
   "cell_type": "code",
   "execution_count": 8,
   "metadata": {},
   "outputs": [
    {
     "data": {
      "application/vnd.jupyter.widget-view+json": {
       "model_id": "",
       "version_major": 2,
       "version_minor": 0
      },
      "text/plain": [
       "FloatProgress(value=0.0, bar_style='info', description='Progress:', layout=Layout(height='25px', width='50%'),…"
      ]
     },
     "metadata": {},
     "output_type": "display_data"
    }
   ],
   "source": [
    "cluster_predictions = clusterModel.transform(train_16)"
   ]
  },
  {
   "cell_type": "markdown",
   "metadata": {},
   "source": [
    "__Inference__\n",
    "\n",
    "KMeans is an unsupervized learning algorithm: we have to see if the clusters we have just built can be really be used to infer churn!"
   ]
  },
  {
   "cell_type": "code",
   "execution_count": 9,
   "metadata": {},
   "outputs": [
    {
     "data": {
      "application/vnd.jupyter.widget-view+json": {
       "model_id": "",
       "version_major": 2,
       "version_minor": 0
      },
      "text/plain": [
       "FloatProgress(value=0.0, bar_style='info', description='Progress:', layout=Layout(height='25px', width='50%'),…"
      ]
     },
     "metadata": {},
     "output_type": "display_data"
    },
    {
     "name": "stdout",
     "output_type": "stream",
     "text": [
      "+---------+-----+\n",
      "|ClusterID|count|\n",
      "+---------+-----+\n",
      "|        5|  111|\n",
      "|        9|  123|\n",
      "|       11|  128|\n",
      "|        6|  140|\n",
      "|        7|  145|\n",
      "|        4|  145|\n",
      "|       14|  147|\n",
      "|        1|  147|\n",
      "|       13|  163|\n",
      "|        3|  169|\n",
      "|       10|  170|\n",
      "|       12|  173|\n",
      "|        8|  177|\n",
      "|        2|  188|\n",
      "|        0|  227|\n",
      "+---------+-----+"
     ]
    }
   ],
   "source": [
    "# Number of customers in each cluster\n",
    "cluster_predictions.groupBy(\"prediction\").count().sort(\"count\").withColumnRenamed(\"prediction\", \"ClusterID\").show()"
   ]
  },
  {
   "cell_type": "markdown",
   "metadata": {},
   "source": [
    "Cluster sizes differ quite heavily: we must determine if it's only under the effect of outliers or if this is meaningful. "
   ]
  },
  {
   "cell_type": "markdown",
   "metadata": {},
   "source": [
    "__Silhouette score__\n",
    "\n",
    "The silhouette score measures how similar an object is to its own cluster (cohesion) compared to other clusters (separation). It ranges from −1 to +1. The closer to 1, the better: the object is then well matched to its own cluster and differs from the points belonging to neighboring clusters. If most objects have a high value, then the clustering configuration is considered to be appropriate. Otherwise there may be too many or too few clusters. Here we compute a mean value over all points, using the squared Euclidean distance. "
   ]
  },
  {
   "cell_type": "code",
   "execution_count": 10,
   "metadata": {},
   "outputs": [
    {
     "data": {
      "application/vnd.jupyter.widget-view+json": {
       "model_id": "",
       "version_major": 2,
       "version_minor": 0
      },
      "text/plain": [
       "FloatProgress(value=0.0, bar_style='info', description='Progress:', layout=Layout(height='25px', width='50%'),…"
      ]
     },
     "metadata": {},
     "output_type": "display_data"
    },
    {
     "name": "stdout",
     "output_type": "stream",
     "text": [
      "Silhouette with squared euclidean distance = 0.146"
     ]
    }
   ],
   "source": [
    "# Evaluate clustering by computing Silhouette score\n",
    "evaluator = ClusteringEvaluator()\n",
    "\n",
    "silhouette = evaluator.evaluate(cluster_predictions)\n",
    "print(\"Silhouette with squared euclidean distance = %.3f \" % silhouette)"
   ]
  },
  {
   "cell_type": "markdown",
   "metadata": {},
   "source": [
    "Silhouette score is relatively high, this is encouraging regarding our capacity to build meaningful clusters."
   ]
  },
  {
   "cell_type": "code",
   "execution_count": 11,
   "metadata": {},
   "outputs": [
    {
     "data": {
      "application/vnd.jupyter.widget-view+json": {
       "model_id": "",
       "version_major": 2,
       "version_minor": 0
      },
      "text/plain": [
       "FloatProgress(value=0.0, bar_style='info', description='Progress:', layout=Layout(height='25px', width='50%'),…"
      ]
     },
     "metadata": {},
     "output_type": "display_data"
    },
    {
     "name": "stdout",
     "output_type": "stream",
     "text": [
      "+---------+--------------------+\n",
      "|ClusterID|           AVG_CHURN|\n",
      "+---------+--------------------+\n",
      "|       14|0.047619047619047616|\n",
      "|        0| 0.05726872246696035|\n",
      "|        5| 0.06306306306306306|\n",
      "|        2| 0.06914893617021277|\n",
      "|        3| 0.07100591715976332|\n",
      "|       12| 0.07514450867052024|\n",
      "|        4| 0.07586206896551724|\n",
      "|        6| 0.08571428571428572|\n",
      "|        1| 0.08843537414965986|\n",
      "|        9|  0.0975609756097561|\n",
      "|        7| 0.14482758620689656|\n",
      "|        8| 0.14689265536723164|\n",
      "|       13|  0.3006134969325153|\n",
      "|       11|           0.4140625|\n",
      "|       10|  0.4764705882352941|\n",
      "+---------+--------------------+"
     ]
    }
   ],
   "source": [
    "# Churn proportion in each cluster\n",
    "churn_proportion = cluster_predictions.groupBy(\"prediction\").avg(\"CHURN\").sort(\"avg(CHURN)\").withColumnRenamed(\"prediction\", \"ClusterID\").withColumnRenamed(\"avg(CHURN)\", \"AVG_CHURN\")\n",
    "churn_proportion.show()"
   ]
  },
  {
   "cell_type": "markdown",
   "metadata": {},
   "source": [
    "The choice of k=15 allows to target well our customers. The proportion of churners in the clusters ranges from 2.5% to 56%. With less clusters, we would obtain a higher Silhouette score but average churn percentages would be less differentiated. We cannot increase the number of clusters too much if we do not have more data, because the model becomes more sensible to outliers. "
   ]
  },
  {
   "cell_type": "code",
   "execution_count": 12,
   "metadata": {},
   "outputs": [
    {
     "data": {
      "application/vnd.jupyter.widget-view+json": {
       "model_id": "",
       "version_major": 2,
       "version_minor": 0
      },
      "text/plain": [
       "FloatProgress(value=0.0, bar_style='info', description='Progress:', layout=Layout(height='25px', width='50%'),…"
      ]
     },
     "metadata": {},
     "output_type": "display_data"
    }
   ],
   "source": [
    "# Save table for future use\n",
    "churn_proportion.write \\\n",
    "      .format(\"com.ibm.idax.spark.idaxsource\") \\\n",
    "      .option(\"dbtable\",\"AVG_CLUSTER_CHURN\") \\\n",
    "      .mode(\"overwrite\") \\\n",
    "      .save()"
   ]
  },
  {
   "cell_type": "markdown",
   "metadata": {},
   "source": [
    "Next, we will use the AVG_CHURN column as a new feature: it is a proxy for the label."
   ]
  },
  {
   "cell_type": "markdown",
   "metadata": {},
   "source": [
    "### b. Use AVG_CHURN as an additional feature"
   ]
  },
  {
   "cell_type": "markdown",
   "metadata": {},
   "source": [
    "Note that we rename the AVG_CHURN to ClusterChurn. Furthermore, we include a `repartition` step in the preparation code bellow to improve performance. We have set `num_partitions` to 8 because the data is relatively small ( < 10000 rows). "
   ]
  },
  {
   "cell_type": "code",
   "execution_count": 13,
   "metadata": {},
   "outputs": [
    {
     "data": {
      "application/vnd.jupyter.widget-view+json": {
       "model_id": "",
       "version_major": 2,
       "version_minor": 0
      },
      "text/plain": [
       "FloatProgress(value=0.0, bar_style='info', description='Progress:', layout=Layout(height='25px', width='50%'),…"
      ]
     },
     "metadata": {},
     "output_type": "display_data"
    }
   ],
   "source": [
    "num_partitions = 8\n",
    "\n",
    "def preparation(DF):\n",
    "    \n",
    "    # assemble \n",
    "    DF_16 = assembler_16.transform(DF)\n",
    "    \n",
    "    # Assign each point of the training set to its cluster\n",
    "    DF_prediction = clusterModel.transform(DF_16)\n",
    "    \n",
    "    # Join DF with table churn_proportion on ClusterID\n",
    "    DF_joined = DF_prediction.join(churn_proportion, DF_prediction.prediction == churn_proportion.ClusterID, \"inner\")\n",
    "    \n",
    "    # Rename columns\n",
    "    DF_prepared = DF_joined.withColumnRenamed(\"features\", \"featuresClustering\").withColumnRenamed(\"prediction\", \"predictionClustering\").withColumnRenamed(\"AVG_CHURN\", \"ClusterChurn\")\n",
    "    \n",
    "    return DF_prepared.repartition(num_partitions)"
   ]
  },
  {
   "cell_type": "code",
   "execution_count": 14,
   "metadata": {},
   "outputs": [
    {
     "data": {
      "application/vnd.jupyter.widget-view+json": {
       "model_id": "",
       "version_major": 2,
       "version_minor": 0
      },
      "text/plain": [
       "FloatProgress(value=0.0, bar_style='info', description='Progress:', layout=Layout(height='25px', width='50%'),…"
      ]
     },
     "metadata": {},
     "output_type": "display_data"
    }
   ],
   "source": [
    "# Transform the three sets\n",
    "prepared_train = preparation(train)\n",
    "prepared_val = preparation(val)\n",
    "prepared_test = preparation(test)"
   ]
  },
  {
   "cell_type": "markdown",
   "metadata": {},
   "source": [
    "## 3. Compare model performances on training and test sets\n",
    "\n",
    "In this section, we will train logistic regression, random forest and gradient boosted trees. We will assess the performances on both the training and the set: we look for overfitting (high performance on the training set but poor results on the test set) and compare models."
   ]
  },
  {
   "cell_type": "markdown",
   "metadata": {},
   "source": [
    "__Prepare the data__\n",
    "\n",
    "We have to add our new column ClusterChurn to the feature list of the assembler."
   ]
  },
  {
   "cell_type": "code",
   "execution_count": 15,
   "metadata": {},
   "outputs": [
    {
     "data": {
      "application/vnd.jupyter.widget-view+json": {
       "model_id": "",
       "version_major": 2,
       "version_minor": 0
      },
      "text/plain": [
       "FloatProgress(value=0.0, bar_style='info', description='Progress:', layout=Layout(height='25px', width='50%'),…"
      ]
     },
     "metadata": {},
     "output_type": "display_data"
    },
    {
     "name": "stdout",
     "output_type": "stream",
     "text": [
      "['CHURN', 'VMAIL', 'TOT_MINS', 'DAY_MINS_perCALL', 'EVE_MINS_perCALL', 'NIGHT_MINS_perCALL', 'VMAIL_MSGS', 'INTL_CALLS', 'DAY_CALLS', 'EVE_CALLS', 'NIGHT_CALLS', 'SVC_CALLS', 'INTL_CHARGE', 'DAY_CHARGE', 'EVE_CHARGE', 'NIGHT_CHARGE']"
     ]
    }
   ],
   "source": [
    "# we take all the features but CHURN\n",
    "# we will then add the ClusterChurn feature on top of the others\n",
    "df.columns"
   ]
  },
  {
   "cell_type": "code",
   "execution_count": 16,
   "metadata": {},
   "outputs": [
    {
     "data": {
      "application/vnd.jupyter.widget-view+json": {
       "model_id": "",
       "version_major": 2,
       "version_minor": 0
      },
      "text/plain": [
       "FloatProgress(value=0.0, bar_style='info', description='Progress:', layout=Layout(height='25px', width='50%'),…"
      ]
     },
     "metadata": {},
     "output_type": "display_data"
    }
   ],
   "source": [
    "# Define the assembler\n",
    "assembler_12 = VectorAssembler(\n",
    "    inputCols=['VMAIL', 'TOT_MINS', 'DAY_MINS_perCALL', 'EVE_MINS_perCALL', \n",
    "               'NIGHT_MINS_perCALL', 'VMAIL_MSGS', 'INTL_CALLS', 'DAY_CALLS', \n",
    "               'EVE_CALLS', 'NIGHT_CALLS', 'SVC_CALLS', 'INTL_CHARGE', \n",
    "               'DAY_CHARGE', 'EVE_CHARGE', 'NIGHT_CHARGE', 'ClusterChurn'],\n",
    "    outputCol=\"features\")"
   ]
  },
  {
   "cell_type": "code",
   "execution_count": 17,
   "metadata": {},
   "outputs": [
    {
     "data": {
      "application/vnd.jupyter.widget-view+json": {
       "model_id": "",
       "version_major": 2,
       "version_minor": 0
      },
      "text/plain": [
       "FloatProgress(value=0.0, bar_style='info', description='Progress:', layout=Layout(height='25px', width='50%'),…"
      ]
     },
     "metadata": {},
     "output_type": "display_data"
    }
   ],
   "source": [
    "# Transform your training set\n",
    "assembled_train = assembler_12.transform(prepared_train)\n",
    "assembled_test = assembler_12.transform(prepared_test)"
   ]
  },
  {
   "cell_type": "code",
   "execution_count": 18,
   "metadata": {},
   "outputs": [
    {
     "data": {
      "application/vnd.jupyter.widget-view+json": {
       "model_id": "",
       "version_major": 2,
       "version_minor": 0
      },
      "text/plain": [
       "FloatProgress(value=0.0, bar_style='info', description='Progress:', layout=Layout(height='25px', width='50%'),…"
      ]
     },
     "metadata": {},
     "output_type": "display_data"
    }
   ],
   "source": [
    "# Select only the label and features columns\n",
    "labeled_train = assembled_train.select(assembled_train[\"features\"], assembled_train[\"CHURN\"].alias(\"label\"))\n",
    "labeled_test = assembled_test.select(assembled_test[\"features\"], assembled_test[\"CHURN\"].alias(\"label\"))"
   ]
  },
  {
   "cell_type": "markdown",
   "metadata": {},
   "source": [
    "__Build models__"
   ]
  },
  {
   "cell_type": "code",
   "execution_count": 19,
   "metadata": {},
   "outputs": [
    {
     "data": {
      "application/vnd.jupyter.widget-view+json": {
       "model_id": "",
       "version_major": 2,
       "version_minor": 0
      },
      "text/plain": [
       "FloatProgress(value=0.0, bar_style='info', description='Progress:', layout=Layout(height='25px', width='50%'),…"
      ]
     },
     "metadata": {},
     "output_type": "display_data"
    }
   ],
   "source": [
    "### Logistic regression ###\n",
    "\n",
    "# Define your model\n",
    "lr = LogisticRegression(maxIter = 100)\n",
    "# Fit the model\n",
    "lrModel = lr.fit(labeled_train)\n",
    "# Make predictions\n",
    "pred_train_lr = lrModel.transform(labeled_train)\n",
    "pred_test_lr = lrModel.transform(labeled_test)"
   ]
  },
  {
   "cell_type": "code",
   "execution_count": 20,
   "metadata": {},
   "outputs": [
    {
     "data": {
      "application/vnd.jupyter.widget-view+json": {
       "model_id": "",
       "version_major": 2,
       "version_minor": 0
      },
      "text/plain": [
       "FloatProgress(value=0.0, bar_style='info', description='Progress:', layout=Layout(height='25px', width='50%'),…"
      ]
     },
     "metadata": {},
     "output_type": "display_data"
    },
    {
     "name": "stdout",
     "output_type": "stream",
     "text": [
      "Number of trees: 20\n",
      "Total number of nodes: 1062\n",
      "Tree weights: [1.0, 1.0, 1.0, 1.0, 1.0, 1.0, 1.0, 1.0, 1.0, 1.0, 1.0, 1.0, 1.0, 1.0, 1.0, 1.0, 1.0, 1.0, 1.0, 1.0]"
     ]
    }
   ],
   "source": [
    "### Random Forest ###\n",
    "\n",
    "# Define your model\n",
    "rf = RandomForestClassifier()\n",
    "# Fit the model\n",
    "rfModel = rf.fit(labeled_train)\n",
    "# Make predictions\n",
    "pred_train_rf = rfModel.transform(labeled_train)\n",
    "pred_test_rf = rfModel.transform(labeled_test)\n",
    "\n",
    "# Look at some characteristics of your model:\n",
    "print(\"Number of trees: \"+str(rfModel.getNumTrees))\n",
    "print(\"Total number of nodes: \"+ str(rfModel.totalNumNodes))\n",
    "print(\"Tree weights: \"+str(rfModel.treeWeights))"
   ]
  },
  {
   "cell_type": "code",
   "execution_count": 21,
   "metadata": {},
   "outputs": [
    {
     "data": {
      "application/vnd.jupyter.widget-view+json": {
       "model_id": "",
       "version_major": 2,
       "version_minor": 0
      },
      "text/plain": [
       "FloatProgress(value=0.0, bar_style='info', description='Progress:', layout=Layout(height='25px', width='50%'),…"
      ]
     },
     "metadata": {},
     "output_type": "display_data"
    },
    {
     "name": "stdout",
     "output_type": "stream",
     "text": [
      "Number of trees: 20\n",
      "Total number of nodes: 1192\n",
      "Tree weights: [1.0, 0.1, 0.1, 0.1, 0.1, 0.1, 0.1, 0.1, 0.1, 0.1, 0.1, 0.1, 0.1, 0.1, 0.1, 0.1, 0.1, 0.1, 0.1, 0.1]"
     ]
    }
   ],
   "source": [
    "### Gradient Boosted Trees ###\n",
    "\n",
    "# Define your model\n",
    "gbt = GBTClassifier()\n",
    "# Fit the model\n",
    "gbtModel = gbt.fit(labeled_train)\n",
    "# Make predictions\n",
    "pred_train_gbt = gbtModel.transform(labeled_train)\n",
    "pred_test_gbt = gbtModel.transform(labeled_test)\n",
    "\n",
    "# Look at some characteristics of your model:\n",
    "print(\"Number of trees: \"+str(gbtModel.getNumTrees))\n",
    "print(\"Total number of nodes: \"+ str(gbtModel.totalNumNodes))\n",
    "print(\"Tree weights: \"+str(gbtModel.treeWeights))"
   ]
  },
  {
   "cell_type": "markdown",
   "metadata": {},
   "source": [
    "As you may just have witnessed, GBT takes more time to train than the other two algorithms. Tree weights are not evenly balanced. Keep an eye on the number of nodes: too many nodes in comparison to your number of training examples makes your model prone to overfitting!"
   ]
  },
  {
   "cell_type": "markdown",
   "metadata": {},
   "source": [
    "__Area under Curve__\n",
    "\n",
    "The Receiver-Operator Curve (ROC) gives you a visual display of the sensitivity by specificity for all possible classification cutoffs. In other words, it summarizes the trade-off between the true positive rate and false positive rate for a predictive model using different probability thresholds. The area under ROC should be above 0.5, which is the AUC of a \"dummy\" model. The closer the AUC is to 1 (perfect model), the better.\n",
    "\n",
    "The precision recall curve allows us to visualize how both metrics evolve for different thresholds. A perfect classifier could have both precision and recall equal to 1, but in practice a compromise has to be found. A dummy model would be able to have a precision of approximately 15%. Again, the closer the area is to 1, the better.\n"
   ]
  },
  {
   "cell_type": "code",
   "execution_count": 22,
   "metadata": {},
   "outputs": [
    {
     "data": {
      "application/vnd.jupyter.widget-view+json": {
       "model_id": "",
       "version_major": 2,
       "version_minor": 0
      },
      "text/plain": [
       "FloatProgress(value=0.0, bar_style='info', description='Progress:', layout=Layout(height='25px', width='50%'),…"
      ]
     },
     "metadata": {},
     "output_type": "display_data"
    },
    {
     "name": "stdout",
     "output_type": "stream",
     "text": [
      "Logistic Regression Train\n",
      "Area under ROC: 0.778\n",
      "Area under PR curve: 0.448\n",
      "\n",
      "Logistic Regression Test\n",
      "Area under ROC: 0.798\n",
      "Area under PR curve: 0.416\n",
      "\n",
      "Random Forest Train\n",
      "Area under ROC: 0.906\n",
      "Area under PR curve: 0.795\n",
      "\n",
      "Random Forest Test\n",
      "Area under ROC: 0.885\n",
      "Area under PR curve: 0.732\n",
      "\n",
      "Gradient Boosted Trees Train\n",
      "Area under ROC: 0.958\n",
      "Area under PR curve: 0.906\n",
      "\n",
      "Gradient Boosted Trees Test\n",
      "Area under ROC: 0.896\n",
      "Area under PR curve: 0.749"
     ]
    }
   ],
   "source": [
    "# Define the evaluators\n",
    "binEval_AUROC = BinaryClassificationEvaluator().setMetricName(\"areaUnderROC\").setRawPredictionCol(\"rawPrediction\").setLabelCol(\"label\")\n",
    "binEval_AUPRC = BinaryClassificationEvaluator().setMetricName(\"areaUnderPR\").setRawPredictionCol(\"rawPrediction\").setLabelCol(\"label\")\n",
    "\n",
    "pred = [pred_train_lr, pred_test_lr, pred_train_rf, pred_test_rf, pred_train_gbt, pred_test_gbt]\n",
    "algo = [\"Logistic Regression Train\", \"Logistic Regression Test\", \"Random Forest Train\", \"Random Forest Test\",\"Gradient Boosted Trees Train\", \"Gradient Boosted Trees Test\"]\n",
    "\n",
    "# Print results\n",
    "for i in range(len(pred)):\n",
    "    print(algo[i])\n",
    "    print(\"Area under ROC: %.3f\" % binEval_AUROC.evaluate(pred[i]))\n",
    "    print(\"Area under PR curve: %.3f\" % binEval_AUPRC.evaluate(pred[i]))\n",
    "    print(\"\")"
   ]
  },
  {
   "cell_type": "markdown",
   "metadata": {},
   "source": [
    "Note that a higher training AUC or AuPR doesn't necessarily imply a better performance on the test set: there might be overfitting!\n",
    "\n",
    "Looking at the results above, you notice that training and testing metrics are quite close in the case of Logistic Regression (approximately a 3% gap between training and testing metrics): as the model isn't very complex, it has a higher bias but a lower variance than the two other models. Hence it generalizes better despite lower results. In the case of Random Forest, both AuC and AuPR are high but they decrease by nearly 10% on the test set! Same for GBT: results seem satisfying but the model clearly overfits the traning set. "
   ]
  },
  {
   "cell_type": "markdown",
   "metadata": {},
   "source": [
    "__Metrics and confusion matrix__"
   ]
  },
  {
   "cell_type": "markdown",
   "metadata": {},
   "source": [
    "* Confusion matrix \n",
    "\n",
    "<img src=\"confusionMatrix.png\" width=800/>\n",
    "\n",
    "Sensitivity = TP / (TP + FN), also called Recall\n",
    "\n",
    "Specificity = TN / (TN + FP)\n",
    "\n",
    "Precision = TP / (TP + FP)\n",
    "\n",
    "Negative Predictive Value = TN / (TN + FN)\n",
    "\n",
    "F1-score: 2 x Precision x Recall / (Precision + Recall)\n",
    "\n",
    "Recall = 1 - FNR. "
   ]
  },
  {
   "cell_type": "code",
   "execution_count": 23,
   "metadata": {},
   "outputs": [
    {
     "data": {
      "application/vnd.jupyter.widget-view+json": {
       "model_id": "",
       "version_major": 2,
       "version_minor": 0
      },
      "text/plain": [
       "FloatProgress(value=0.0, bar_style='info', description='Progress:', layout=Layout(height='25px', width='50%'),…"
      ]
     },
     "metadata": {},
     "output_type": "display_data"
    }
   ],
   "source": [
    "def confusion_matrix(pred_DF):\n",
    "    pred_DF.createOrReplaceTempView(\"pred_DF\")\n",
    "    tp = spark.sql(\"select count(*) from pred_DF where pred_DF.label=1 and pred_DF.prediction=1\").collect()[0][0]\n",
    "    fn = spark.sql(\"select count(*) from pred_DF where pred_DF.label=1 and pred_DF.prediction=0\").collect()[0][0]\n",
    "    fp = spark.sql(\"select count(*) from pred_DF where pred_DF.label=0 and pred_DF.prediction=1\").collect()[0][0]\n",
    "    tn = spark.sql(\"select count(*) from pred_DF where pred_DF.label=0 and pred_DF.prediction=0\").collect()[0][0]\n",
    "    return (tn, fp, fn, tp)\n",
    "\n",
    "def FNR(fn, tp):\n",
    "    return fn/(fn+tp)\n",
    "\n",
    "def recall(tp, fn):\n",
    "    # also called TPR or sensitivity\n",
    "    return tp/(tp+fn)\n",
    "\n",
    "def precision(tp, fp):\n",
    "    return tp/(tp+fp)"
   ]
  },
  {
   "cell_type": "code",
   "execution_count": 24,
   "metadata": {},
   "outputs": [
    {
     "data": {
      "application/vnd.jupyter.widget-view+json": {
       "model_id": "",
       "version_major": 2,
       "version_minor": 0
      },
      "text/plain": [
       "FloatProgress(value=0.0, bar_style='info', description='Progress:', layout=Layout(height='25px', width='50%'),…"
      ]
     },
     "metadata": {},
     "output_type": "display_data"
    },
    {
     "name": "stdout",
     "output_type": "stream",
     "text": [
      "Logistic Regression Train\n",
      "\n",
      "Confusion matrix: \n",
      "[['tp: 63' 'fn: 280']\n",
      " ['fp: 38' 'tn: 1972']]\n",
      "Accuracy = 0.865\n",
      "Precision: 0.624\n",
      "FNR: 0.816\n",
      "Recall: 0.184\n",
      "\n",
      "Logistic Regression Test\n",
      "\n",
      "Confusion matrix: \n",
      "[['tp: 11' 'fn: 55']\n",
      " ['fp: 9' 'tn: 408']]\n",
      "Accuracy = 0.867\n",
      "Precision: 0.550\n",
      "FNR: 0.833\n",
      "Recall: 0.167\n",
      "\n",
      "Random Forest Train\n",
      "\n",
      "Confusion matrix: \n",
      "[['tp: 180' 'fn: 163']\n",
      " ['fp: 3' 'tn: 2007']]\n",
      "Accuracy = 0.929\n",
      "Precision: 0.984\n",
      "FNR: 0.475\n",
      "Recall: 0.525\n",
      "\n",
      "Random Forest Test\n",
      "\n",
      "Confusion matrix: \n",
      "[['tp: 29' 'fn: 37']\n",
      " ['fp: 0' 'tn: 417']]\n",
      "Accuracy = 0.923\n",
      "Precision: 1.000\n",
      "FNR: 0.561\n",
      "Recall: 0.439\n",
      "\n",
      "Gradient Boosted Trees Train\n",
      "\n",
      "Confusion matrix: \n",
      "[['tp: 240' 'fn: 103']\n",
      " ['fp: 6' 'tn: 2004']]\n",
      "Accuracy = 0.954\n",
      "Precision: 0.976\n",
      "FNR: 0.300\n",
      "Recall: 0.700\n",
      "\n",
      "Gradient Boosted Trees Test\n",
      "\n",
      "Confusion matrix: \n",
      "[['tp: 37' 'fn: 29']\n",
      " ['fp: 3' 'tn: 414']]\n",
      "Accuracy = 0.934\n",
      "Precision: 0.925\n",
      "FNR: 0.439\n",
      "Recall: 0.561"
     ]
    }
   ],
   "source": [
    "# Print results\n",
    "\n",
    "pred = [pred_train_lr, pred_test_lr, pred_train_rf, pred_test_rf, pred_train_gbt, pred_test_gbt]\n",
    "algo = [\"Logistic Regression Train\", \"Logistic Regression Test\", \"Random Forest Train\", \"Random Forest Test\",\"Gradient Boosted Trees Train\", \"Gradient Boosted Trees Test\"]\n",
    "\n",
    "# Define evaluator\n",
    "evaluator_acc = MulticlassClassificationEvaluator(labelCol=\"label\", predictionCol=\"prediction\", metricName=\"accuracy\")\n",
    "    \n",
    "for i in range(len(pred)):\n",
    "    print(algo[i])\n",
    "    print(\"\")\n",
    "    # Confusion matrix\n",
    "    (tn, fp, fn, tp)=confusion_matrix(pred[i])\n",
    "    # Confusion matrix in format [[tp, fn], [fp, tn]]\n",
    "    print(\"Confusion matrix: \")\n",
    "    print(np.array([[(\"tp: \"+str(tp)), (\"fn: \"+str(fn))], [(\"fp: \"+str(fp)), (\"tn: \"+str(tn))]]))\n",
    "    # Metrics\n",
    "    accuracy = evaluator_acc.evaluate(pred[i])\n",
    "    print(\"Accuracy = %.3f\" % accuracy)\n",
    "    print(\"Precision: %.3f\" % precision(tp, fp))\n",
    "    print(\"FNR: %.3f\" % FNR(fn, tp))\n",
    "    print(\"Recall: %.3f\" % recall(tp, fn))\n",
    "    print(\"\")"
   ]
  },
  {
   "cell_type": "markdown",
   "metadata": {},
   "source": [
    "Random Forest and GBT clearly perform better than Logistic Regression. Let's see if this is still is the case after tweaking the hyperparameters on the validation set, and whether the gap between random forest and GBT widens."
   ]
  },
  {
   "cell_type": "markdown",
   "metadata": {},
   "source": [
    "## 4. Fine tune your hyperparameters on the validation set"
   ]
  },
  {
   "cell_type": "code",
   "execution_count": 25,
   "metadata": {},
   "outputs": [
    {
     "data": {
      "application/vnd.jupyter.widget-view+json": {
       "model_id": "",
       "version_major": 2,
       "version_minor": 0
      },
      "text/plain": [
       "FloatProgress(value=0.0, bar_style='info', description='Progress:', layout=Layout(height='25px', width='50%'),…"
      ]
     },
     "metadata": {},
     "output_type": "display_data"
    }
   ],
   "source": [
    "# Transform your validation set\n",
    "assembled_val = assembler_12.transform(prepared_val)\n",
    "\n",
    "# Select only the label and features columns\n",
    "labeled_val = assembled_val.select(assembled_val[\"features\"], assembled_val[\"CHURN\"].alias(\"label\"))"
   ]
  },
  {
   "cell_type": "markdown",
   "metadata": {},
   "source": [
    "__Hyperparameter tuning__ \n",
    "\n",
    "In the next cell we define a function to test a range of hyperparameters and select the best set of hyperparameters regarding our goal, which is to maximize recall. Ideally you would use cross-validation but as this process takes several minutes for each model type, we just use TrainValidationSplit instead of CrossValidator and GridSearch for this demo. We set area under ROC as metric for best model selection.\n",
    "\n",
    "Note : We use the AUC as a proxy for recall, which is unfortunately not available as option here. As a matter of fact, neither BinaryClassificationEvaluator nor MulticlassClassificationEvaluator offers the possibility to set \"recall\" as metricName. An alternative is to write your own crossvalidation function. However, this will be slow because you do not use PySpark's parallelization. To speed up the process, we could then parallelize tasks by using Python's Threadpool. It is also a bit dirty to mix again train and val sets into this new crossval set, since train was already used for the KMeans model. To do things properly we would need to write our data transformation code into another format (custom Transformers) so that it can be used inside a PySpark pipeline. Here we have implemented a more direct approach.\n",
    "\n",
    "\n",
    "Which hyperparameters do we tune ? Let's have a look at what is available. We highlighted the hyperparameters chosen here.\n",
    "\n",
    "* Logistic Regression\n",
    "\n",
    "> class pyspark.ml.classification.LogisticRegression(self, featuresCol=\"features\", labelCol=\"label\", predictionCol=\"prediction\", maxIter=100, `regParam=0.1`, `elasticNetParam=0.0`, tol=1e-6, fitIntercept=True, threshold=0.5, thresholds=None, probabilityCol=\"probability\", rawPredictionCol=\"rawPrediction\", standardization=True, weightCol=None)\n",
    "\n",
    "* Random Forest\n",
    "\n",
    "> class pyspark.ml.classification.RandomForestClassifier(self, featuresCol=\"features\", labelCol=\"label\", predictionCol=\"prediction\", probabilityCol=\"probability\", rawPredictionCol=\"rawPrediction\", `maxDepth=5`, `maxBins=32`, minInstancesPerNode=1, minInfoGain=0.0, maxMemoryInMB=256, cacheNodeIds=False, checkpointInterval=10, impurity=\"gini\", `numTrees=20`, featureSubsetStrategy=\"auto\", seed=None, subsamplingRate=1.0)\n",
    "\n",
    "* GBT\n",
    "\n",
    "> GBTClassifier(self, featuresCol=\"features\", labelCol=\"label\", predictionCol=\"prediction\", `maxDepth=5`, `maxBins=32`, minInstancesPerNode=1, minInfoGain=0.0, maxMemoryInMB=256, cacheNodeIds=False, checkpointInterval=10, lossType=\"logistic\", maxIter=20, `stepSize=0.1`, seed=None, subsamplingRate=1.0)\n",
    "                 \n",
    " Note : for more details on each hyperparameter, use .explainParams(). For example :\n",
    " >  gbt.explainParams()\n",
    " \n",
    "Regarding Random Forest and GBT, we should set a seed so that results can be reproduced. TrainValidationSplit also comes with a seed in order to reproduce results."
   ]
  },
  {
   "cell_type": "code",
   "execution_count": 26,
   "metadata": {},
   "outputs": [
    {
     "data": {
      "application/vnd.jupyter.widget-view+json": {
       "model_id": "",
       "version_major": 2,
       "version_minor": 0
      },
      "text/plain": [
       "FloatProgress(value=0.0, bar_style='info', description='Progress:', layout=Layout(height='25px', width='50%'),…"
      ]
     },
     "metadata": {},
     "output_type": "display_data"
    },
    {
     "name": "stdout",
     "output_type": "stream",
     "text": [
      "root\n",
      " |-- features: vector (nullable = true)\n",
      " |-- label: long (nullable = true)"
     ]
    }
   ],
   "source": [
    "## merge dataframes for cross-validation\n",
    "labeled_crossval=labeled_train.union(labeled_val)\n",
    "labeled_crossval.printSchema()"
   ]
  },
  {
   "cell_type": "code",
   "execution_count": 27,
   "metadata": {},
   "outputs": [
    {
     "data": {
      "application/vnd.jupyter.widget-view+json": {
       "model_id": "",
       "version_major": 2,
       "version_minor": 0
      },
      "text/plain": [
       "FloatProgress(value=0.0, bar_style='info', description='Progress:', layout=Layout(height='25px', width='50%'),…"
      ]
     },
     "metadata": {},
     "output_type": "display_data"
    },
    {
     "name": "stdout",
     "output_type": "stream",
     "text": [
      "16\n",
      "new number of partitions:8"
     ]
    }
   ],
   "source": [
    "print(labeled_crossval.rdd.getNumPartitions())\n",
    "labeled_crossval = labeled_crossval.repartition(8)\n",
    "print(\"new number of partitions:\" +str(labeled_crossval.rdd.getNumPartitions()))\n",
    "# you may change the number of partitions according to your own device's characteristics."
   ]
  },
  {
   "cell_type": "markdown",
   "metadata": {},
   "source": [
    "Running the next three cells might take a couple of minutes, even if tasks are parallelized across nodes. We use the `parallelism` option to speed up process: default option is 1, i.e. no parallelisation. "
   ]
  },
  {
   "cell_type": "code",
   "execution_count": 28,
   "metadata": {},
   "outputs": [
    {
     "data": {
      "application/vnd.jupyter.widget-view+json": {
       "model_id": "",
       "version_major": 2,
       "version_minor": 0
      },
      "text/plain": [
       "FloatProgress(value=0.0, bar_style='info', description='Progress:', layout=Layout(height='25px', width='50%'),…"
      ]
     },
     "metadata": {},
     "output_type": "display_data"
    }
   ],
   "source": [
    "parallelism=16\n",
    "\n",
    "## Logistic regression\n",
    "\n",
    "# Define estimators\n",
    "logReg = LogisticRegression(maxIter=100)\n",
    "\n",
    "# Define the hyperparameter combination for best model selection\n",
    "paramGrid_logReg = ParamGridBuilder() \\\n",
    "    .addGrid(logReg.elasticNetParam, [0.001, 0.002, 0.005, 0.01]) \\\n",
    "    .addGrid(logReg.regParam, [0.001, 0.002, 0.005, 0.01]) \\\n",
    "    .build()\n",
    "\n",
    "# Set area under ROC as evaluation metric for best model selection\n",
    "evaluator = BinaryClassificationEvaluator(metricName=\"areaUnderROC\")\n",
    "\n",
    "# A TrainValidationSplit requires an Estimator, a set of Estimator ParamMaps, and an Evaluator.\n",
    "tvs_logReg = TrainValidationSplit(estimator=logReg,\n",
    "                                  estimatorParamMaps=paramGrid_logReg,\n",
    "                                  evaluator=evaluator,\n",
    "                                  trainRatio=70/85,\n",
    "                                  parallelism=parallelism,\n",
    "                                  seed=1)\n",
    "\n",
    "# Run TrainValidationSplit, and choose the best set of parameters.\n",
    "lrModel = tvs_logReg.fit(labeled_crossval)"
   ]
  },
  {
   "cell_type": "code",
   "execution_count": 29,
   "metadata": {},
   "outputs": [
    {
     "data": {
      "application/vnd.jupyter.widget-view+json": {
       "model_id": "",
       "version_major": 2,
       "version_minor": 0
      },
      "text/plain": [
       "FloatProgress(value=0.0, bar_style='info', description='Progress:', layout=Layout(height='25px', width='50%'),…"
      ]
     },
     "metadata": {},
     "output_type": "display_data"
    }
   ],
   "source": [
    "## Random Forest \n",
    "\n",
    "# Define estimators\n",
    "rf = RandomForestClassifier(seed = 1)\n",
    "\n",
    "# Define the hyperparameter combination for best model selection\n",
    "paramGrid_rf = ParamGridBuilder() \\\n",
    "    .addGrid(rf.maxDepth, [5, 10]) \\\n",
    "    .addGrid(rf.maxBins, [32, 64]) \\\n",
    "    .addGrid(rf.numTrees, [15, 20, 25]) \\\n",
    "    .build()\n",
    "\n",
    "# evaluator already set up\n",
    "\n",
    "# A TrainValidationSplit requires an Estimator, a set of Estimator ParamMaps, and an Evaluator.\n",
    "tvs_rf = TrainValidationSplit(estimator=rf,\n",
    "                              estimatorParamMaps=paramGrid_rf,\n",
    "                              evaluator=evaluator,\n",
    "                              trainRatio=70/85, \n",
    "                              parallelism=parallelism,\n",
    "                              seed=1)\n",
    "\n",
    "# Run TrainValidationSplit, and choose the best set of parameters.\n",
    "rfModel = tvs_rf.fit(labeled_crossval)\n"
   ]
  },
  {
   "cell_type": "code",
   "execution_count": 30,
   "metadata": {},
   "outputs": [
    {
     "data": {
      "application/vnd.jupyter.widget-view+json": {
       "model_id": "",
       "version_major": 2,
       "version_minor": 0
      },
      "text/plain": [
       "FloatProgress(value=0.0, bar_style='info', description='Progress:', layout=Layout(height='25px', width='50%'),…"
      ]
     },
     "metadata": {},
     "output_type": "display_data"
    }
   ],
   "source": [
    "## Gradient Boosted Trees\n",
    "\n",
    "# Define estimators\n",
    "gbt = GBTClassifier(seed = 1)\n",
    "\n",
    "# Define the hyperparameter combination for best model selection\n",
    "paramGrid_gbt = ParamGridBuilder() \\\n",
    "    .addGrid(gbt.maxDepth, [10]) \\\n",
    "    .addGrid(gbt.maxBins, [32, 64]) \\\n",
    "    .addGrid(gbt.stepSize, [0.05, 0.1]) \\\n",
    "    .build()\n",
    "\n",
    "# evaluator already set up \n",
    "\n",
    "# Set up 4-fold cross validation\n",
    "tvs_gbt = TrainValidationSplit(estimator=gbt,\n",
    "                               estimatorParamMaps=paramGrid_gbt,\n",
    "                               evaluator=evaluator,\n",
    "                               trainRatio=70/85,\n",
    "                               parallelism=parallelism,\n",
    "                               seed = 1)\n",
    "\n",
    "gbtModel = tvs_gbt.fit(labeled_crossval) "
   ]
  },
  {
   "cell_type": "markdown",
   "metadata": {},
   "source": [
    "Optional: You can now take a look at the characteristics of the best models."
   ]
  },
  {
   "cell_type": "code",
   "execution_count": 31,
   "metadata": {},
   "outputs": [
    {
     "data": {
      "application/vnd.jupyter.widget-view+json": {
       "model_id": "",
       "version_major": 2,
       "version_minor": 0
      },
      "text/plain": [
       "FloatProgress(value=0.0, bar_style='info', description='Progress:', layout=Layout(height='25px', width='50%'),…"
      ]
     },
     "metadata": {},
     "output_type": "display_data"
    },
    {
     "name": "stdout",
     "output_type": "stream",
     "text": [
      "Random Forest - Model characteristics\n",
      "Number of trees: 25\n",
      "Total number of nodes: 6649\n",
      "Tree weights: [1.0, 1.0, 1.0, 1.0, 1.0, 1.0, 1.0, 1.0, 1.0, 1.0, 1.0, 1.0, 1.0, 1.0, 1.0, 1.0, 1.0, 1.0, 1.0, 1.0, 1.0, 1.0, 1.0, 1.0, 1.0]\n",
      "Max depth: 10\n",
      "Max bins: 32\n",
      "\n",
      "GBT - Model characteristics\n",
      "Number of trees: 20\n",
      "Total number of nodes: 7710\n",
      "Tree weights: [1.0, 0.05, 0.05, 0.05, 0.05, 0.05, 0.05, 0.05, 0.05, 0.05, 0.05, 0.05, 0.05, 0.05, 0.05, 0.05, 0.05, 0.05, 0.05, 0.05]\n",
      "Max depth: 10\n",
      "Max bins: 64\n",
      "Step size: 0.05"
     ]
    }
   ],
   "source": [
    "print(\"Random Forest - Model characteristics\")\n",
    "print(\"Number of trees: \"+str(rfModel.bestModel.getNumTrees))\n",
    "print(\"Total number of nodes: \"+str(rfModel.bestModel.totalNumNodes))\n",
    "print(\"Tree weights: \"+str(rfModel.bestModel.treeWeights))\n",
    "print(\"Max depth: \"+str(rfModel.bestModel.getOrDefault(\"maxDepth\")))\n",
    "print(\"Max bins: \"+str(rfModel.bestModel.getOrDefault(\"maxBins\"))) \n",
    "print(\"\")\n",
    "print(\"GBT - Model characteristics\")\n",
    "print(\"Number of trees: \"+str(gbtModel.bestModel.getNumTrees))\n",
    "print(\"Total number of nodes: \"+str(gbtModel.bestModel.totalNumNodes))\n",
    "print(\"Tree weights: \"+str(gbtModel.bestModel.treeWeights))\n",
    "print(\"Max depth: \"+str(gbtModel.bestModel.getOrDefault(\"maxDepth\"))) \n",
    "print(\"Max bins: \"+str(gbtModel.bestModel.getOrDefault(\"maxBins\"))) \n",
    "print(\"Step size: \"+str(gbtModel.bestModel.getOrDefault(\"stepSize\")))"
   ]
  },
  {
   "cell_type": "markdown",
   "metadata": {},
   "source": [
    "Note: for the full parameter explanation, use the `extractParamMap()` method. \n",
    "\n",
    "For example:\n",
    "       \n",
    "  > print(rfModel.bestModel.extractParamMap())\n"
   ]
  },
  {
   "cell_type": "markdown",
   "metadata": {},
   "source": [
    "__Visualize feature importance__"
   ]
  },
  {
   "cell_type": "code",
   "execution_count": 32,
   "metadata": {},
   "outputs": [
    {
     "data": {
      "application/vnd.jupyter.widget-view+json": {
       "model_id": "",
       "version_major": 2,
       "version_minor": 0
      },
      "text/plain": [
       "FloatProgress(value=0.0, bar_style='info', description='Progress:', layout=Layout(height='25px', width='50%'),…"
      ]
     },
     "metadata": {},
     "output_type": "display_data"
    },
    {
     "name": "stdout",
     "output_type": "stream",
     "text": [
      "[-0.3547844878273185,4.171508444622251,-2.435571013979986,-6.102145722772029,-1.5559879834507981,-0.7350822642371739,-1.2145344133224767,-0.5145701054681171,-1.7506503406205232,-0.46421122614983296,2.5349461594378413,0.9505256921926418,1.184873515822841,0.5274366529135186,-1.1729513928621753,4.606993110234869]\n",
      "(16,[0,1,2,3,4,5,6,7,8,9,10,11,12,13,14,15],[0.022261426332175555,0.16158423995470877,0.046127430760396354,0.03181301173693684,0.03282270272052878,0.02549691468916595,0.02995920934946593,0.03574081498900511,0.02912603961126538,0.027060271944383995,0.1268673886671205,0.04287386950461314,0.18884635906299574,0.055767284744225216,0.032917997509162245,0.11073503842385052])\n",
      "(16,[0,1,2,3,4,5,6,7,8,9,10,11,12,13,14,15],[0.011589766848100397,0.17145549916920214,0.047736183872018854,0.056913707052326575,0.07356781222811305,0.03067603170762062,0.05203785783178435,0.047323155067907206,0.04027855787999227,0.05130906793399481,0.05682239311560221,0.02618444605806486,0.13556194432054874,0.06241429652631464,0.05490730937446231,0.08122197101394714])"
     ]
    }
   ],
   "source": [
    "## Logistic regression ##\n",
    "lrModel = lrModel.bestModel\n",
    "print(lrModel.coefficients)\n",
    "\n",
    "## Random Forest ##\n",
    "rfModel = rfModel.bestModel\n",
    "print(rfModel.featureImportances)\n",
    "\n",
    "## GBT ##\n",
    "gbtModel = gbtModel.bestModel\n",
    "print(gbtModel.featureImportances)"
   ]
  },
  {
   "cell_type": "code",
   "execution_count": 33,
   "metadata": {},
   "outputs": [
    {
     "data": {
      "image/png": "[encoded data removed]",
      "text/plain": [
       "<Figure size 720x504 with 1 Axes>"
      ]
     },
     "metadata": {
      "needs_background": "light"
     },
     "output_type": "display_data"
    },
    {
     "data": {
      "image/png": "[encoded data removed]",
      "text/plain": [
       "<Figure size 720x504 with 1 Axes>"
      ]
     },
     "metadata": {
      "needs_background": "light"
     },
     "output_type": "display_data"
    }
   ],
   "source": [
    "%local\n",
    "\n",
    "features = ['VMAIL', 'TOT_MINS', 'DAY_MINS_perCALL', 'EVE_MINS_perCALL', \n",
    "            'NIGHT_MINS_perCALL', 'VMAIL_MSGS', 'INTL_CALLS', 'DAY_CALLS', \n",
    "            'EVE_CALLS', 'NIGHT_CALLS', 'SVC_CALLS', 'INTL_CHARGE', \n",
    "            'DAY_CHARGE', 'EVE_CHARGE', 'NIGHT_CHARGE', 'ClusterChurn']\n",
    "\n",
    "# data to plot\n",
    "n_groups = len(features)\n",
    "coeffs_lr = [-0.11251601599299345,2.906261977471809,-1.6019446341054508,-3.319943236975987,-1.2985139731574447,-0.1935320133543743,-1.34527318764671,0.19600384349572286,-1.5121580300914172,-0.6556688106493058,2.4031714008704173,0.770545590812604,1.094168338251794,0.1504736871152245,-1.2873407240484356,4.737812573348208]\n",
    "coeffs_rf = [0.01594815521329947,0.13585015874721937,0.04086397394731816,0.039372155189935365,0.034583299759959676,0.020413193119434934,0.039653439979700195,0.040859957561148,0.030799355456019212,0.030887176947753593,0.11644778221026132,0.04055043061186903,0.1716565221499646,0.05067391438208147,0.03617287043197296,0.1552676142920625]\n",
    "coeffs_gbt = [0.005288982085306896,0.13990770624131496,0.06295174559001883,0.06407871721821042,0.04113983414499353,0.016760605361193344,0.0373416999340728,0.05439253894153414,0.06604796898198552,0.06217194473005905,0.048596062687150374,0.06794094108279879,0.11536057479042439,0.07942061191575911,0.045823843638031825,0.09277622265714598]\n",
    "\n",
    "# define plot\n",
    "ax, fig=plt.subplots(figsize=(10,7))\n",
    "index = np.arange(len(features))\n",
    "bar_width = 0.35\n",
    "opacity = 0.8\n",
    "\n",
    "# Bar plot\n",
    "plt.bar(index, coeffs_rf, bar_width,alpha=opacity,color='b',label='Random Forest')\n",
    "plt.bar(index + bar_width, coeffs_gbt, bar_width, alpha=opacity,color='g',label='GBT')\n",
    "\n",
    "plt.xticks(index + bar_width, features, rotation = 40)\n",
    "\n",
    "# Labels\n",
    "plt.xlabel('Features', fontsize=15)\n",
    "plt.ylabel('Magnitude of coefficients', fontsize=15)\n",
    "#plt.xticks(index, features, fontsize=15, rotation=40)\n",
    "plt.title('Feature importance', fontsize=20)\n",
    "plt.legend()\n",
    "plt.tight_layout()\n",
    "plt.grid()\n",
    "plt.show()\n",
    "\n",
    "# Separate plot for logReg because different scale for coefficients\n",
    "\n",
    "# New figure\n",
    "ax1, fig1=plt.subplots(figsize=(10,7))\n",
    "# Bar plot\n",
    "plt.bar(index, coeffs_lr, bar_width, alpha=opacity, color=\"purple\", label=\"LogReg\")\n",
    "plt.xticks(index + bar_width, features, rotation = 40)\n",
    "# Labels\n",
    "plt.xlabel('Features', fontsize=15)\n",
    "plt.ylabel('Magnitude of coefficients', fontsize=15)\n",
    "#plt.xticks(index, features, fontsize=15, rotation=40)\n",
    "plt.title('Feature importance', fontsize=20)\n",
    "plt.legend()\n",
    "plt.tight_layout()\n",
    "plt.grid()\n",
    "plt.show()"
   ]
  },
  {
   "cell_type": "markdown",
   "metadata": {},
   "source": [
    "GBT and Random Forest overwhelmingly use ClusterChurn, DAY_CHARGE and TOT_MINS. Logistic regression also uses SVC_CALLS and EVE_MINS_perCALL. So feature importances differ quantitatively across the three models."
   ]
  },
  {
   "cell_type": "markdown",
   "metadata": {},
   "source": [
    "## 5. Assess your model performance on the test set\n",
    "\n",
    "See what is the final perfomance of your tuned model on unseen data."
   ]
  },
  {
   "cell_type": "code",
   "execution_count": 34,
   "metadata": {},
   "outputs": [
    {
     "data": {
      "application/vnd.jupyter.widget-view+json": {
       "model_id": "",
       "version_major": 2,
       "version_minor": 0
      },
      "text/plain": [
       "FloatProgress(value=0.0, bar_style='info', description='Progress:', layout=Layout(height='25px', width='50%'),…"
      ]
     },
     "metadata": {},
     "output_type": "display_data"
    }
   ],
   "source": [
    "# Prepare the test set\n",
    "assembled_test = assembler_12.transform(prepared_test)\n",
    "\n",
    "# Select only the label and features columns\n",
    "labeled_test = assembled_test.select(assembled_test[\"features\"], assembled_test[\"CHURN\"].alias(\"label\"))"
   ]
  },
  {
   "cell_type": "code",
   "execution_count": 35,
   "metadata": {},
   "outputs": [
    {
     "data": {
      "application/vnd.jupyter.widget-view+json": {
       "model_id": "",
       "version_major": 2,
       "version_minor": 0
      },
      "text/plain": [
       "FloatProgress(value=0.0, bar_style='info', description='Progress:', layout=Layout(height='25px', width='50%'),…"
      ]
     },
     "metadata": {},
     "output_type": "display_data"
    },
    {
     "name": "stdout",
     "output_type": "stream",
     "text": [
      "8"
     ]
    }
   ],
   "source": [
    "print(labeled_test.rdd.getNumPartitions())\n",
    "labeled_test = labeled_test.repartition(8)"
   ]
  },
  {
   "cell_type": "markdown",
   "metadata": {},
   "source": [
    "__Logistic regression__"
   ]
  },
  {
   "cell_type": "code",
   "execution_count": 36,
   "metadata": {},
   "outputs": [
    {
     "data": {
      "application/vnd.jupyter.widget-view+json": {
       "model_id": "",
       "version_major": 2,
       "version_minor": 0
      },
      "text/plain": [
       "FloatProgress(value=0.0, bar_style='info', description='Progress:', layout=Layout(height='25px', width='50%'),…"
      ]
     },
     "metadata": {},
     "output_type": "display_data"
    },
    {
     "name": "stdout",
     "output_type": "stream",
     "text": [
      "Test Accuracy: 0.861\n",
      "Confusion matrix: \n",
      "[['tp: 12' 'fn: 54']\n",
      " ['fp: 13' 'tn: 404']]\n",
      "Recall: 0.182"
     ]
    }
   ],
   "source": [
    "# Make predictions on test set\n",
    "pred_test_lr = lrModel.transform(labeled_test)\n",
    "\n",
    "# Compute the accuracy on the test set\n",
    "print(\"Test Accuracy: %.3f\" %  evaluator_acc.evaluate(pred_test_lr))\n",
    "\n",
    "# Confusion matrix\n",
    "(tn, fp, fn, tp)=confusion_matrix(pred_test_lr)\n",
    "# Confusion matrix in format [[tp, fn], [fp, tn]]\n",
    "print(\"Confusion matrix: \")\n",
    "print(np.array([[(\"tp: \"+str(tp)), (\"fn: \"+str(fn))], [(\"fp: \"+str(fp)), (\"tn: \"+str(tn))]]))\n",
    "\n",
    "# FNR\n",
    "print(\"Recall: %.3f\" %recall(tp, fn))"
   ]
  },
  {
   "cell_type": "markdown",
   "metadata": {},
   "source": [
    "__Random Forest__"
   ]
  },
  {
   "cell_type": "code",
   "execution_count": 37,
   "metadata": {},
   "outputs": [
    {
     "data": {
      "application/vnd.jupyter.widget-view+json": {
       "model_id": "",
       "version_major": 2,
       "version_minor": 0
      },
      "text/plain": [
       "FloatProgress(value=0.0, bar_style='info', description='Progress:', layout=Layout(height='25px', width='50%'),…"
      ]
     },
     "metadata": {},
     "output_type": "display_data"
    },
    {
     "name": "stdout",
     "output_type": "stream",
     "text": [
      "Test Accuracy = 0.928\n",
      "Confusion matrix: \n",
      "[['tp: 33' 'fn: 33']\n",
      " ['fp: 2' 'tn: 415']]\n",
      "recall: 0.500"
     ]
    }
   ],
   "source": [
    "# Make predictions on test set\n",
    "pred_test_rf = rfModel.transform(labeled_test)\n",
    "\n",
    "# Compute the accuracy on the test set\n",
    "print(\"Test Accuracy = %.3f\" %evaluator_acc.evaluate(pred_test_rf))\n",
    "\n",
    "# Confusion matrix\n",
    "(tn, fp, fn, tp)=confusion_matrix(pred_test_rf)\n",
    "# Confusion matrix in format [[tp, fn], [fp, tn]]\n",
    "print(\"Confusion matrix: \")\n",
    "print(np.array([[(\"tp: \"+str(tp)), (\"fn: \"+str(fn))], [(\"fp: \"+str(fp)), (\"tn: \"+str(tn))]]))\n",
    "\n",
    "# Recall\n",
    "print(\"recall: %.3f\" %recall(tp, fn))"
   ]
  },
  {
   "cell_type": "markdown",
   "metadata": {},
   "source": [
    "__GBT__"
   ]
  },
  {
   "cell_type": "code",
   "execution_count": 38,
   "metadata": {},
   "outputs": [
    {
     "data": {
      "application/vnd.jupyter.widget-view+json": {
       "model_id": "",
       "version_major": 2,
       "version_minor": 0
      },
      "text/plain": [
       "FloatProgress(value=0.0, bar_style='info', description='Progress:', layout=Layout(height='25px', width='50%'),…"
      ]
     },
     "metadata": {},
     "output_type": "display_data"
    },
    {
     "name": "stdout",
     "output_type": "stream",
     "text": [
      "Test Accuracy = 0.909\n",
      "Confusion matrix: \n",
      "[['tp: 38' 'fn: 28']\n",
      " ['fp: 16' 'tn: 401']]\n",
      "recall: 0.576"
     ]
    }
   ],
   "source": [
    "# Make predictions on test set\n",
    "pred_test_gbt = gbtModel.transform(labeled_test)\n",
    "\n",
    "# Compute the accuracy on the test set\n",
    "print(\"Test Accuracy = %.3f\" %evaluator_acc.evaluate(pred_test_gbt))\n",
    "\n",
    "# Confusion matrix\n",
    "(tn, fp, fn, tp)=confusion_matrix(pred_test_gbt)\n",
    "# Confusion matrix in format [[tp, fn], [fp, tn]]\n",
    "print(\"Confusion matrix: \")\n",
    "print(np.array([[(\"tp: \"+str(tp)), (\"fn: \"+str(fn))], [(\"fp: \"+str(fp)), (\"tn: \"+str(tn))]]))\n",
    "\n",
    "# Recall\n",
    "print(\"recall: %.3f\" %recall(tp, fn))"
   ]
  },
  {
   "cell_type": "markdown",
   "metadata": {},
   "source": [
    "__Model choice__ \n",
    "\n",
    "* Logistic regression \n",
    "\n",
    "It does clearly not perform as well as the ensemble models. \n",
    "\n",
    "* Random Forest \n",
    "\n",
    "Performs best: high accuracy, recall above 50% and very few false positives. \n",
    "\n",
    "* GBT\n",
    "\n",
    "Performs well: high accuracy, recall above 50%, but many false positives.\n",
    "\n",
    "__=> We keep the model obtained with Random Forest.__\n",
    "\n",
    "*Note: even if we have set a seed, the results may depend on the server platform which potentially influences the sampling. For example, we tested this notebook on two different servers: in one case, random forest performed better, in the other, it was GBT. The difference was slight, but was there. So you may also obtain different results from ours and it's nothing to worry about!*"
   ]
  },
  {
   "cell_type": "markdown",
   "metadata": {},
   "source": [
    "__Gains graph__\n",
    "\n",
    "Thanks to our models, we now are aware of which customers might resign their contract, so we know which customers to target with a marketing campaign for example.\n",
    "We can sort customers according to the probability of a positive reaction to the campaign or here according to their churn probability and run the campaign only for a percentage of customers with highest probability.\n",
    "The Gains chart is the visualization of that principle. \n",
    "\n",
    "Here on the X axis we display the targeted percentage of the customer base, ordered by decreasing churn probability. The Y axis gives us the corresponding percentage of all actual churners that have been found in the targeted sample."
   ]
  },
  {
   "cell_type": "code",
   "execution_count": 39,
   "metadata": {},
   "outputs": [
    {
     "data": {
      "application/vnd.jupyter.widget-view+json": {
       "model_id": "",
       "version_major": 2,
       "version_minor": 0
      },
      "text/plain": [
       "FloatProgress(value=0.0, bar_style='info', description='Progress:', layout=Layout(height='25px', width='50%'),…"
      ]
     },
     "metadata": {},
     "output_type": "display_data"
    }
   ],
   "source": [
    "pred_test_rf.createOrReplaceTempView(\"pred_test_rf\")"
   ]
  },
  {
   "cell_type": "code",
   "execution_count": null,
   "metadata": {},
   "outputs": [],
   "source": [
    "%%sql -o pred_test_rf --maxrows -1\n",
    "SELECT * FROM pred_test_rf"
   ]
  },
  {
   "cell_type": "code",
   "execution_count": 41,
   "metadata": {},
   "outputs": [
    {
     "data": {
      "application/vnd.jupyter.widget-view+json": {
       "model_id": "",
       "version_major": 2,
       "version_minor": 0
      },
      "text/plain": [
       "FloatProgress(value=0.0, bar_style='info', description='Progress:', layout=Layout(height='25px', width='50%'),…"
      ]
     },
     "metadata": {},
     "output_type": "display_data"
    }
   ],
   "source": [
    "pred_test_lr.createOrReplaceTempView(\"pred_test_lr\")"
   ]
  },
  {
   "cell_type": "code",
   "execution_count": 42,
   "metadata": {},
   "outputs": [
    {
     "data": {
      "application/vnd.jupyter.widget-view+json": {
       "model_id": "",
       "version_major": 2,
       "version_minor": 0
      },
      "text/plain": [
       "FloatProgress(value=0.0, bar_style='info', description='Progress:', layout=Layout(height='25px', width='50%'),…"
      ]
     },
     "metadata": {},
     "output_type": "display_data"
    },
    {
     "data": {
      "application/vnd.jupyter.widget-view+json": {
       "model_id": "ea5607d2763c489393e4642bfc3c348b",
       "version_major": 2,
       "version_minor": 0
      },
      "text/plain": [
       "VBox(children=(HBox(children=(HTML(value='Type:'), Button(description='Table', layout=Layout(width='70px'), st…"
      ]
     },
     "metadata": {},
     "output_type": "display_data"
    },
    {
     "data": {
      "application/vnd.jupyter.widget-view+json": {
       "model_id": "75795780afe54f5da507adccae086b07",
       "version_major": 2,
       "version_minor": 0
      },
      "text/plain": [
       "Output()"
      ]
     },
     "metadata": {},
     "output_type": "display_data"
    }
   ],
   "source": [
    "%%sql -o pred_test_lr --maxrows -1\n",
    "SELECT * FROM pred_test_lr"
   ]
  },
  {
   "cell_type": "code",
   "execution_count": 43,
   "metadata": {},
   "outputs": [
    {
     "data": {
      "application/vnd.jupyter.widget-view+json": {
       "model_id": "",
       "version_major": 2,
       "version_minor": 0
      },
      "text/plain": [
       "FloatProgress(value=0.0, bar_style='info', description='Progress:', layout=Layout(height='25px', width='50%'),…"
      ]
     },
     "metadata": {},
     "output_type": "display_data"
    }
   ],
   "source": [
    "pred_test_gbt.createOrReplaceTempView(\"pred_test_gbt\")"
   ]
  },
  {
   "cell_type": "code",
   "execution_count": 44,
   "metadata": {},
   "outputs": [
    {
     "data": {
      "application/vnd.jupyter.widget-view+json": {
       "model_id": "",
       "version_major": 2,
       "version_minor": 0
      },
      "text/plain": [
       "FloatProgress(value=0.0, bar_style='info', description='Progress:', layout=Layout(height='25px', width='50%'),…"
      ]
     },
     "metadata": {},
     "output_type": "display_data"
    },
    {
     "data": {
      "application/vnd.jupyter.widget-view+json": {
       "model_id": "b13eee5fcb2a4f658a6f0e22d5834c88",
       "version_major": 2,
       "version_minor": 0
      },
      "text/plain": [
       "VBox(children=(HBox(children=(HTML(value='Type:'), Button(description='Table', layout=Layout(width='70px'), st…"
      ]
     },
     "metadata": {},
     "output_type": "display_data"
    },
    {
     "data": {
      "application/vnd.jupyter.widget-view+json": {
       "model_id": "f9a297784bd54ee091f21b33205b1fae",
       "version_major": 2,
       "version_minor": 0
      },
      "text/plain": [
       "Output()"
      ]
     },
     "metadata": {},
     "output_type": "display_data"
    }
   ],
   "source": [
    "%%sql -o pred_test_gbt --maxrows -1\n",
    "SELECT * FROM pred_test_gbt"
   ]
  },
  {
   "cell_type": "code",
   "execution_count": 45,
   "metadata": {},
   "outputs": [],
   "source": [
    "%local \n",
    "\n",
    "def gainsChart(pred_test):\n",
    "    \n",
    "    # Extract the relevant data\n",
    "\n",
    "    # Predicted proba that label is 1\n",
    "    proba0 = [x[\"values\"][0] for x in pred_test[\"probability\"]]\n",
    "    pred_test[\"proba0\"] = pd.Series(proba0)\n",
    "    sorted_pred_test = pred_test.sort_values(by=\"proba0\").drop([\"features\", \"rawPrediction\", \"probability\"], axis=1)\n",
    "\n",
    "    sorted_pred_test.head(5)\n",
    "\n",
    "    # Reset index\n",
    "    sorted_pred_test_bis = sorted_pred_test.reset_index(drop=True)\n",
    "    n = len(sorted_pred_test_bis)\n",
    "\n",
    "    # Add cumulated count for #customers and cumulated frequency for %churners\n",
    "\n",
    "    #Initialize columns\n",
    "    sorted_pred_test_bis[\"#Customers\"] = pd.Series([0 for x in range(n)])\n",
    "    #sorted_pred_test_bis[\"#predChurners\"] = pd.Series([0 for x in range(n)])\n",
    "    sorted_pred_test_bis[\"#trueChurners\"] = pd.Series([0 for x in range(n)])\n",
    "\n",
    "    # case i = 0\n",
    "    sorted_pred_test_bis[\"#Customers\"][0] = 1\n",
    "    #sorted_pred_test_bis[\"#predChurners\"][0] = sorted_pred_test_bis[\"prediction\"][0]\n",
    "    sorted_pred_test_bis[\"#trueChurners\"][0] = sorted_pred_test_bis[\"label\"][0]\n",
    "\n",
    "    # case i>0\n",
    "    for i in range(1,n):\n",
    "        sorted_pred_test_bis[\"#Customers\"][i] = i+1\n",
    "        #sorted_pred_test_bis[\"#predChurners\"][i] = sorted_pred_test_bis[\"#predChurners\"][i-1] + sorted_pred_test_bis[\"prediction\"][i]\n",
    "        sorted_pred_test_bis[\"#trueChurners\"][i] = sorted_pred_test_bis[\"#trueChurners\"][i-1] + sorted_pred_test_bis[\"label\"][i]\n",
    "\n",
    "    # Counters as percentages\n",
    "    m = sum(sorted_pred_test_bis[\"label\"])\n",
    "    #sorted_pred_test_bis[\"#predChurners\"]/= m  \n",
    "    sorted_pred_test_bis[\"#trueChurners\"]/= m\n",
    "    sorted_pred_test_bis[\"#Customers\"] /= n\n",
    "\n",
    "    \n",
    "    ## Extract x and y for plot \n",
    "\n",
    "    x = sorted_pred_test_bis[\"#Customers\"].values.tolist()\n",
    "    #y = [sorted_pred_test_bis[\"#trueChurners\"].values.tolist(), sorted_pred_test_bis[\"#predChurners\"].values.tolist()]\n",
    "    y = sorted_pred_test_bis[\"#trueChurners\"].values.tolist()\n",
    "    \n",
    "    return(x,y)"
   ]
  },
  {
   "cell_type": "code",
   "execution_count": 46,
   "metadata": {},
   "outputs": [],
   "source": [
    "%local\n",
    "import warnings\n",
    "warnings.filterwarnings(\"ignore\")\n",
    "\n",
    "from multiprocessing.dummy import Pool as ThreadPool\n",
    "# Parallelize tasks\n",
    "def calculateParallel_xy(dfList, threads=2):\n",
    "    pool = ThreadPool(threads)\n",
    "    results = pool.map(gainsChart, dfList)\n",
    "    pool.close()\n",
    "    pool.join()\n",
    "    return results\n",
    "\n",
    "# Compute values\n",
    "dfList = [pred_test_lr, pred_test_rf, pred_test_gbt]\n",
    "xy_list = calculateParallel_xy(dfList, 4)\n",
    "[(x_lr, y_lr), (x_rf, y_rf), (x_gbt, y_gbt)] = xy_list"
   ]
  },
  {
   "cell_type": "code",
   "execution_count": 47,
   "metadata": {},
   "outputs": [
    {
     "data": {
      "image/png": "[encoded data removed]",
      "text/plain": [
       "<Figure size 720x504 with 1 Axes>"
      ]
     },
     "metadata": {
      "needs_background": "light"
     },
     "output_type": "display_data"
    }
   ],
   "source": [
    "%local\n",
    "\n",
    "## Plot all the curves on the same graph\n",
    "\n",
    "m = sum(pred_test_lr[\"label\"])\n",
    "n = len(pred_test_lr)\n",
    "\n",
    "ax, fig=plt.subplots(figsize=(10,7))\n",
    "    \n",
    "x_random = [0,1]\n",
    "y_random = [0,1]\n",
    "\n",
    "x_perfect = [0,m/n,1]\n",
    "y_perfect = [0,1,1]\n",
    "\n",
    "plt.ylim((0, 1.1)) \n",
    "\n",
    "plt.plot(x_perfect, y_perfect, color = 'grey', label = \"perfect\")\n",
    "plt.plot(x_random, y_random, color = 'b', label = \"random\")\n",
    "\n",
    "plt.plot(x_lr, y_lr, label=\"true churners Logistic Regression\")\n",
    "plt.plot(x_rf, y_rf, label=\"true churners Random Forest\")\n",
    "plt.plot(x_gbt, y_gbt, label=\"true churners GBT\")\n",
    "    \n",
    "    \n",
    "plt.xlabel('Percentage of customer base - customers ordered by decreasing churn likelihood', fontsize=12)\n",
    "plt.ylabel('Fraction of true churners actually targeted', fontsize=15)\n",
    "ax.legend(loc='center')\n",
    "plt.title('Cumulative Gains Curves', fontsize=20)\n",
    "plt.grid()\n",
    "plt.show()    "
   ]
  },
  {
   "cell_type": "markdown",
   "metadata": {},
   "source": [
    "If we target 20 % of the customers which are the most likely to be churners, we are able to reach 70% of all real churners with GBT and Random Forest. Beyond this point improvements come slower. Again, you may obtain slightly different results."
   ]
  },
  {
   "cell_type": "markdown",
   "metadata": {},
   "source": [
    "## 6. Save the results for deployment"
   ]
  },
  {
   "cell_type": "markdown",
   "metadata": {},
   "source": [
    "Optional : if you want to take a final look at your models' parameters before saving them."
   ]
  },
  {
   "cell_type": "code",
   "execution_count": 48,
   "metadata": {},
   "outputs": [
    {
     "data": {
      "application/vnd.jupyter.widget-view+json": {
       "model_id": "",
       "version_major": 2,
       "version_minor": 0
      },
      "text/plain": [
       "FloatProgress(value=0.0, bar_style='info', description='Progress:', layout=Layout(height='25px', width='50%'),…"
      ]
     },
     "metadata": {},
     "output_type": "display_data"
    },
    {
     "name": "stdout",
     "output_type": "stream",
     "text": [
      "KMeans parameters:\n",
      "featuresCol: features column name. (default: features)\n",
      "initMode: The initialization algorithm. This can be either \"random\" to choose random points as initial cluster centers, or \"k-means||\" to use a parallel variant of k-means++ (default: k-means||)\n",
      "initSteps: The number of steps for k-means|| initialization mode. Must be > 0. (default: 2)\n",
      "k: The number of clusters to create. Must be > 1. (default: 2, current: 15)\n",
      "maxIter: max number of iterations (>= 0). (default: 20)\n",
      "predictionCol: prediction column name. (default: prediction)\n",
      "seed: random seed. (default: 7969353092125344463, current: 1)\n",
      "tol: the convergence tolerance for iterative algorithms (>= 0). (default: 0.0001)\n",
      "\n",
      "Logistic Regression parameters:\n",
      "aggregationDepth: suggested depth for treeAggregate (>= 2). (default: 2)\n",
      "elasticNetParam: the ElasticNet mixing parameter, in range [0, 1]. For alpha = 0, the penalty is an L2 penalty. For alpha = 1, it is an L1 penalty. (default: 0.0)\n",
      "family: The name of family which is a description of the label distribution to be used in the model. Supported options: auto, binomial, multinomial (default: auto)\n",
      "featuresCol: features column name. (default: features)\n",
      "fitIntercept: whether to fit an intercept term. (default: True)\n",
      "labelCol: label column name. (default: label)\n",
      "lowerBoundsOnCoefficients: The lower bounds on coefficients if fitting under bound constrained optimization. The bound matrix must be compatible with the shape (1, number of features) for binomial regression, or (number of classes, number of features) for multinomial regression. (undefined)\n",
      "lowerBoundsOnIntercepts: The lower bounds on intercepts if fitting under bound constrained optimization. The bounds vector size must beequal with 1 for binomial regression, or the number oflasses for multinomial regression. (undefined)\n",
      "maxIter: max number of iterations (>= 0). (default: 100, current: 100)\n",
      "predictionCol: prediction column name. (default: prediction)\n",
      "probabilityCol: Column name for predicted class conditional probabilities. Note: Not all models output well-calibrated probability estimates! These probabilities should be treated as confidences, not precise probabilities. (default: probability)\n",
      "rawPredictionCol: raw prediction (a.k.a. confidence) column name. (default: rawPrediction)\n",
      "regParam: regularization parameter (>= 0). (default: 0.0)\n",
      "standardization: whether to standardize the training features before fitting the model. (default: True)\n",
      "threshold: Threshold in binary classification prediction, in range [0, 1]. If threshold and thresholds are both set, they must match.e.g. if threshold is p, then thresholds must be equal to [1-p, p]. (default: 0.5)\n",
      "thresholds: Thresholds in multi-class classification to adjust the probability of predicting each class. Array must have length equal to the number of classes, with values > 0, excepting that at most one value may be 0. The class with largest value p/t is predicted, where p is the original probability of that class and t is the class's threshold. (undefined)\n",
      "tol: the convergence tolerance for iterative algorithms (>= 0). (default: 1e-06)\n",
      "upperBoundsOnCoefficients: The upper bounds on coefficients if fitting under bound constrained optimization. The bound matrix must be compatible with the shape (1, number of features) for binomial regression, or (number of classes, number of features) for multinomial regression. (undefined)\n",
      "upperBoundsOnIntercepts: The upper bounds on intercepts if fitting under bound constrained optimization. The bound vector size must be equal with 1 for binomial regression, or the number of classes for multinomial regression. (undefined)\n",
      "weightCol: weight column name. If this is not set or empty, we treat all instance weights as 1.0. (undefined)\n",
      "\n",
      "Random Forest parameters:\n",
      "cacheNodeIds: If false, the algorithm will pass trees to executors to match instances with nodes. If true, the algorithm will cache node IDs for each instance. Caching can speed up training of deeper trees. Users can set how often should the cache be checkpointed or disable it by setting checkpointInterval. (default: False)\n",
      "checkpointInterval: set checkpoint interval (>= 1) or disable checkpoint (-1). E.g. 10 means that the cache will get checkpointed every 10 iterations. Note: this setting will be ignored if the checkpoint directory is not set in the SparkContext. (default: 10)\n",
      "featureSubsetStrategy: The number of features to consider for splits at each tree node. Supported options: auto, all, onethird, sqrt, log2, (0.0-1.0], [1-n]. (default: auto)\n",
      "featuresCol: features column name. (default: features)\n",
      "impurity: Criterion used for information gain calculation (case-insensitive). Supported options: entropy, gini (default: gini)\n",
      "labelCol: label column name. (default: label)\n",
      "maxBins: Max number of bins for discretizing continuous features.  Must be >=2 and >= number of categories for any categorical feature. (default: 32)\n",
      "maxDepth: Maximum depth of the tree. (>= 0) E.g., depth 0 means 1 leaf node; depth 1 means 1 internal node + 2 leaf nodes. (default: 5)\n",
      "maxMemoryInMB: Maximum memory in MB allocated to histogram aggregation. If too small, then 1 node will be split per iteration, and its aggregates may exceed this size. (default: 256)\n",
      "minInfoGain: Minimum information gain for a split to be considered at a tree node. (default: 0.0)\n",
      "minInstancesPerNode: Minimum number of instances each child must have after split. If a split causes the left or right child to have fewer than minInstancesPerNode, the split will be discarded as invalid. Should be >= 1. (default: 1)\n",
      "numTrees: Number of trees to train (>= 1). (default: 20)\n",
      "predictionCol: prediction column name. (default: prediction)\n",
      "probabilityCol: Column name for predicted class conditional probabilities. Note: Not all models output well-calibrated probability estimates! These probabilities should be treated as confidences, not precise probabilities. (default: probability)\n",
      "rawPredictionCol: raw prediction (a.k.a. confidence) column name. (default: rawPrediction)\n",
      "seed: random seed. (default: -5387697053847413545, current: 1)\n",
      "subsamplingRate: Fraction of the training data used for learning each decision tree, in range (0, 1]. (default: 1.0)\n",
      "\n",
      "Gradient Boosted Trees parameters:\n",
      "cacheNodeIds: If false, the algorithm will pass trees to executors to match instances with nodes. If true, the algorithm will cache node IDs for each instance. Caching can speed up training of deeper trees. Users can set how often should the cache be checkpointed or disable it by setting checkpointInterval. (default: False)\n",
      "checkpointInterval: set checkpoint interval (>= 1) or disable checkpoint (-1). E.g. 10 means that the cache will get checkpointed every 10 iterations. Note: this setting will be ignored if the checkpoint directory is not set in the SparkContext. (default: 10)\n",
      "featuresCol: features column name. (default: features)\n",
      "labelCol: label column name. (default: label)\n",
      "lossType: Loss function which GBT tries to minimize (case-insensitive). Supported options: logistic (default: logistic)\n",
      "maxBins: Max number of bins for discretizing continuous features.  Must be >=2 and >= number of categories for any categorical feature. (default: 32)\n",
      "maxDepth: Maximum depth of the tree. (>= 0) E.g., depth 0 means 1 leaf node; depth 1 means 1 internal node + 2 leaf nodes. (default: 5)\n",
      "maxIter: max number of iterations (>= 0). (default: 20)\n",
      "maxMemoryInMB: Maximum memory in MB allocated to histogram aggregation. If too small, then 1 node will be split per iteration, and its aggregates may exceed this size. (default: 256)\n",
      "minInfoGain: Minimum information gain for a split to be considered at a tree node. (default: 0.0)\n",
      "minInstancesPerNode: Minimum number of instances each child must have after split. If a split causes the left or right child to have fewer than minInstancesPerNode, the split will be discarded as invalid. Should be >= 1. (default: 1)\n",
      "predictionCol: prediction column name. (default: prediction)\n",
      "seed: random seed. (default: 3504127614838123891, current: 1)\n",
      "stepSize: Step size (a.k.a. learning rate) in interval (0, 1] for shrinking the contribution of each estimator. (default: 0.1)\n",
      "subsamplingRate: Fraction of the training data used for learning each decision tree, in range (0, 1]. (default: 1.0)"
     ]
    }
   ],
   "source": [
    "print(\"KMeans parameters:\\n\" + kmeans.explainParams() + \"\\n\")\n",
    "print(\"Logistic Regression parameters:\\n\" + logReg.explainParams() + \"\\n\")\n",
    "print(\"Random Forest parameters:\\n\" + rf.explainParams() + \"\\n\")\n",
    "print(\"Gradient Boosted Trees parameters:\\n\" + gbt.explainParams() + \"\\n\")"
   ]
  },
  {
   "cell_type": "markdown",
   "metadata": {},
   "source": [
    "__Method 1 : Extract parameter map__\n",
    "\n",
    "First, save the parameter map of each model. Then, create a new model and use algo.fit(training_set, saved_param). Here is an example with KMeans."
   ]
  },
  {
   "cell_type": "code",
   "execution_count": 49,
   "metadata": {},
   "outputs": [
    {
     "data": {
      "application/vnd.jupyter.widget-view+json": {
       "model_id": "",
       "version_major": 2,
       "version_minor": 0
      },
      "text/plain": [
       "FloatProgress(value=0.0, bar_style='info', description='Progress:', layout=Layout(height='25px', width='50%'),…"
      ]
     },
     "metadata": {},
     "output_type": "display_data"
    },
    {
     "name": "stdout",
     "output_type": "stream",
     "text": [
      "KMeans Model was fit using parameters: \n",
      "{Param(parent='KMeans_40e082b0c87f2bc0e27f', name='featuresCol', doc='features column name'): 'features', Param(parent='KMeans_40e082b0c87f2bc0e27f', name='initMode', doc=\"The initialization algorithm. Supported options: 'random' and 'k-means||'.\"): 'k-means||', Param(parent='KMeans_40e082b0c87f2bc0e27f', name='initSteps', doc='The number of steps for k-means|| initialization mode. Must be > 0.'): 2, Param(parent='KMeans_40e082b0c87f2bc0e27f', name='k', doc='The number of clusters to create. Must be > 1.'): 15, Param(parent='KMeans_40e082b0c87f2bc0e27f', name='maxIter', doc='maximum number of iterations (>= 0)'): 20, Param(parent='KMeans_40e082b0c87f2bc0e27f', name='predictionCol', doc='prediction column name'): 'prediction', Param(parent='KMeans_40e082b0c87f2bc0e27f', name='seed', doc='random seed'): 1, Param(parent='KMeans_40e082b0c87f2bc0e27f', name='tol', doc='the convergence tolerance for iterative algorithms (>= 0)'): 0.0001}"
     ]
    }
   ],
   "source": [
    "# Example with kmeans \n",
    "\n",
    "# Extract parameter map\n",
    "kmeansParamMap = clusterModel.extractParamMap()\n",
    "print(\"KMeans Model was fit using parameters: \")\n",
    "print(kmeansParamMap)\n",
    "# Define a new model with the same parameter map\n",
    "kmeans2 = kmeans.fit(train_16, kmeansParamMap)"
   ]
  },
  {
   "cell_type": "markdown",
   "metadata": {},
   "source": [
    "However this is not the most practical way of saving your models. Let's save them directly as separate files."
   ]
  },
  {
   "cell_type": "markdown",
   "metadata": {},
   "source": [
    "__Method 2 : Save models as files__\n",
    "\n",
    "We have already saved our scaler model in the first notebook. Here we save the best model and the KMeans model. We will use them all in the last notebook which is focused on deployment."
   ]
  },
  {
   "cell_type": "code",
   "execution_count": 50,
   "metadata": {},
   "outputs": [
    {
     "data": {
      "application/vnd.jupyter.widget-view+json": {
       "model_id": "",
       "version_major": 2,
       "version_minor": 0
      },
      "text/plain": [
       "FloatProgress(value=0.0, bar_style='info', description='Progress:', layout=Layout(height='25px', width='50%'),…"
      ]
     },
     "metadata": {},
     "output_type": "display_data"
    }
   ],
   "source": [
    "# just use model.save(\"path\") if there is no name conflict\n",
    "# feel free to adapt the path \n",
    "\n",
    "clusterModel.write().overwrite().save(\"/tmp/myClusterModel\")\n",
    "rfModel.write().overwrite().save(\"/tmp/myRFModel\")\n",
    "\n",
    "# If you also want to test deployment with other models:\n",
    "# lrModel.write().overwrite().save(\"/tmp/myLogRegModel\")\n",
    "# gbtModel.write().overwrite().save(\"/tmp/myGBTModel\")"
   ]
  },
  {
   "cell_type": "markdown",
   "metadata": {},
   "source": [
    "## What you've learned\n",
    "\n",
    "Congratulations!\n",
    "\n",
    "Through this notebook, you've seen how to:\n",
    "\n",
    "* use PySpark for a classic workflow, from data preparation to model assessment\n",
    "* build models using both supervised and unsupervised learning\n",
    "* compute and visualize useful indicators in order to evaluate a model\n",
    "* save a model for future use.\n",
    "\n",
    "You are ready to deploy your model and use it to make predictions on some fresh, unseen data! Please go to the last notebook of this series: Churn_Prediction_PySpark_3_deploy. See you there!"
   ]
  },
  {
   "cell_type": "markdown",
   "metadata": {},
   "source": [
    "____\n",
    "## Authors\n",
    "\n",
    "Eva Feillet - ML intern, IBM Cloud and Cognitive Software, IBM Lab in Böblingen, Germany"
   ]
  }
 ],
 "metadata": {
  "kernelspec": {
   "display_name": "PySpark",
   "language": "",
   "name": "pysparkkernel"
  },
  "language_info": {
   "codemirror_mode": {
    "name": "python",
    "version": 2
   },
   "mimetype": "text/x-python",
   "name": "pyspark",
   "pygments_lexer": "python2"
  }
 },
 "nbformat": 4,
 "nbformat_minor": 2
}
