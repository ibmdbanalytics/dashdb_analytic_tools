{
 "cells": [
  {
   "cell_type": "markdown",
   "metadata": {},
   "source": [
    "# Customer Churn Prediction with IBM Db2 Warehouse using PySpark\n",
    "\n",
    "# Part 2 : Mixed learning"
   ]
  },
  {
   "cell_type": "markdown",
   "metadata": {},
   "source": [
    "__Introduction__\n",
    "\n",
    "This notebook presents a churn prediction use case using anonymized customer data from a phone operator. It uses IBM Db2 Warehouse and runs on a PySpark kernel. It is the second part of a series on this use case. It is focused on building and evaluating machine learning models. We aim at maximizing recall on our test set. Data is loaded from IBM Db2 Warehouse, visualizations are plotted locally using matplotlib and models are built using PySpark to benefit from parallelization.\n",
    "\n",
    "__Use case__\n",
    "\n",
    "Our goal is to accurately predict whether a customer is going to end his/her contract (labeled as positive,1). We prefer to send a commercial email to someone who intends to keep her contract but is labeled as willing to end it (false positive) rather than to overlook the opportunity of preventing a customer from ending her contract (false negative). We also care to accurately target customers with engagement campaigns : not overwhelming customers with commercials and not losing money by proposing special offers to too many people (precision and accuracy). Our optimization objective will thus consist in maximizing recall i.e. minimizing the false negative rate. We will also look at a couple of other indicators such as accuracy and area under curve.\n",
    "\n",
    "\n",
    "__Previously__\n",
    "\n",
    "In the previous notebook, we used PySpark for data exploration and visualization. We created, scaled and selected features. \n",
    "\n",
    "\n",
    "__Contents__\n",
    "1. Get ready\n",
    "2. Build customer clusters with KMeans\n",
    "3. Compare model performances on the train set\n",
    "4. Tune hyperparameters on the validation set\n",
    "5. Assess your model performance on the test set\n",
    "6. Save the results for deployment"
   ]
  },
  {
   "cell_type": "markdown",
   "metadata": {},
   "source": [
    "## 1. Get ready"
   ]
  },
  {
   "cell_type": "markdown",
   "metadata": {},
   "source": [
    "__Imports__\n",
    "\n",
    "Import the necessary Spark classes, as well as Python packages for local visualisations.\n",
    "We will plot the graphs directly in this notebook. If you like to plot them in a separate window, just comment out `%matplotlib inline`."
   ]
  },
  {
   "cell_type": "code",
   "execution_count": 1,
   "metadata": {},
   "outputs": [
    {
     "name": "stdout",
     "output_type": "stream",
     "text": [
      "Starting Spark application\n"
     ]
    },
    {
     "data": {
      "text/html": [
       "<table>\n",
       "<tr><th>ID</th><th>YARN Application ID</th><th>Kind</th><th>State</th><th>Spark UI</th><th>Driver log</th><th>Current session?</th></tr><tr><td>200</td><td>None</td><td>pyspark</td><td>idle</td><td></td><td></td><td>✔</td></tr></table>"
      ],
      "text/plain": [
       "<IPython.core.display.HTML object>"
      ]
     },
     "metadata": {},
     "output_type": "display_data"
    },
    {
     "data": {
      "application/vnd.jupyter.widget-view+json": {
       "model_id": "",
       "version_major": 2,
       "version_minor": 0
      },
      "text/plain": [
       "FloatProgress(value=0.0, bar_style='info', description='Progress:', layout=Layout(height='25px', width='50%'),…"
      ]
     },
     "metadata": {},
     "output_type": "display_data"
    },
    {
     "name": "stdout",
     "output_type": "stream",
     "text": [
      "SparkSession available as 'spark'.\n"
     ]
    },
    {
     "data": {
      "application/vnd.jupyter.widget-view+json": {
       "model_id": "",
       "version_major": 2,
       "version_minor": 0
      },
      "text/plain": [
       "FloatProgress(value=0.0, bar_style='info', description='Progress:', layout=Layout(height='25px', width='50%'),…"
      ]
     },
     "metadata": {},
     "output_type": "display_data"
    }
   ],
   "source": [
    "# Useful imports - PySpark\n",
    "from pyspark.sql import SparkSession\n",
    "from pyspark.ml.linalg import Vectors\n",
    "from pyspark.ml.feature import VectorAssembler\n",
    "from pyspark.ml.clustering import KMeans\n",
    "from pyspark.ml.evaluation import ClusteringEvaluator\n",
    "\n",
    "from pyspark.sql import Row\n",
    "\n",
    "from pyspark.ml.classification import LogisticRegression\n",
    "from pyspark.ml.classification import GBTClassifier\n",
    "from pyspark.ml.classification import RandomForestClassifier\n",
    "from pyspark.ml.evaluation import MulticlassClassificationEvaluator\n",
    "from pyspark.ml.evaluation import BinaryClassificationEvaluator\n",
    "from pyspark.mllib.evaluation import BinaryClassificationMetrics\n",
    "\n",
    "import numpy as np\n",
    "from itertools import product\n",
    "from multiprocessing.dummy import Pool as ThreadPool"
   ]
  },
  {
   "cell_type": "code",
   "execution_count": 2,
   "metadata": {},
   "outputs": [],
   "source": [
    "%local\n",
    "%matplotlib inline\n",
    "\n",
    "# Useful imports for local visualisations\n",
    "\n",
    "import matplotlib.pyplot as plt\n",
    "import pandas as pd\n",
    "import numpy as np"
   ]
  },
  {
   "cell_type": "markdown",
   "metadata": {},
   "source": [
    "__Load the data__\n",
    "\n",
    "Let's use the table which we had saved at the end of data preparation, in the previous notebook."
   ]
  },
  {
   "cell_type": "code",
   "execution_count": 3,
   "metadata": {},
   "outputs": [
    {
     "data": {
      "application/vnd.jupyter.widget-view+json": {
       "model_id": "",
       "version_major": 2,
       "version_minor": 0
      },
      "text/plain": [
       "FloatProgress(value=0.0, bar_style='info', description='Progress:', layout=Layout(height='25px', width='50%'),…"
      ]
     },
     "metadata": {},
     "output_type": "display_data"
    },
    {
     "name": "stdout",
     "output_type": "stream",
     "text": [
      "+-----+-----+------------------+------------------+-------------------+-------------------+-------------------+----------+------------------+------------------+-------------------+------------------+-------------------+------------------+------------------+-------------------+\n",
      "|CHURN|VMAIL|          TOT_MINS|  DAY_MINS_perCALL|   EVE_MINS_perCALL| NIGHT_MINS_perCALL|         VMAIL_MSGS|INTL_CALLS|         DAY_CALLS|         EVE_CALLS|        NIGHT_CALLS|         SVC_CALLS|        INTL_CHARGE|        DAY_CHARGE|        EVE_CHARGE|       NIGHT_CHARGE|\n",
      "+-----+-----+------------------+------------------+-------------------+-------------------+-------------------+----------+------------------+------------------+-------------------+------------------+-------------------+------------------+------------------+-------------------+\n",
      "|    0|    1|0.6172798401864491|0.3374054682954771|0.15570766120568405|0.26665601533785316|                0.0|      0.15|0.6625766871165644|0.5235294117647059|0.45323741007194246|0.2222222222222222| 0.6351851851851852| 0.710820895522388| 0.610760544669545| 0.4208009563658099|\n",
      "|    1|    1| 0.731646412518728|0.3934620968806353| 0.1289695675387107| 0.3717983603611285|                0.0|       0.2|0.6871165644171779|0.5882352941176471|0.37410071942446044|0.2222222222222222|0.48518518518518516|0.8595658073270014|0.5682497509133179| 0.5152420800956367|\n",
      "|    0|    1|0.3129682037622773|0.2150728251969308|0.10683828516186025|0.31833052296591774|                0.0|       0.2|0.5030674846625767|0.6529411764705882| 0.2733812949640288|0.2222222222222222| 0.5444444444444444|0.3439620081411126|0.5224178013948855|0.36043036461446504|\n",
      "|    0|    1|0.5904777759280838|0.4371765306812904|0.15383006478387942|0.26271610741005685|                0.0|      0.35|0.5030674846625767|0.5705882352941176| 0.3597122302158273|               0.0| 0.4796296296296296|0.6992876526458616| 0.657588840916639|0.35206216377764493|\n",
      "|    1|    0|0.5506908606625603|0.3689075135908528|0.09439793884119796| 0.3222759226714118|0.35294117647058826|       0.1|0.5460122699386503|0.6411764705882353| 0.4748201438848921|               0.0| 0.6796296296296296|0.6404341926729986|0.4533377615410163| 0.5265989240884638|\n",
      "+-----+-----+------------------+------------------+-------------------+-------------------+-------------------+----------+------------------+------------------+-------------------+------------------+-------------------+------------------+------------------+-------------------+\n",
      "only showing top 5 rows"
     ]
    }
   ],
   "source": [
    "sparkSession = SparkSession \\\n",
    "        .builder \\\n",
    "        .getOrCreate()\n",
    "\n",
    "df = sparkSession.read \\\n",
    "        .format(\"com.ibm.idax.spark.idaxsource\") \\\n",
    "        .options(dbtable=\"SCALED_CHURN\") \\\n",
    "        .load()\n",
    "df.show(5)"
   ]
  },
  {
   "cell_type": "markdown",
   "metadata": {},
   "source": [
    "__Split the data__\n",
    "\n",
    "We split the data into three distinct sets: for training, validation and testing. We use the proportions 70%, 15% and 15% so that we keep a relatively high number of examples for training. Of course these proportions are subjective, you can change them if you want. We have defined a seed so that results can be reproduced."
   ]
  },
  {
   "cell_type": "code",
   "execution_count": 4,
   "metadata": {},
   "outputs": [
    {
     "data": {
      "application/vnd.jupyter.widget-view+json": {
       "model_id": "",
       "version_major": 2,
       "version_minor": 0
      },
      "text/plain": [
       "FloatProgress(value=0.0, bar_style='info', description='Progress:', layout=Layout(height='25px', width='50%'),…"
      ]
     },
     "metadata": {},
     "output_type": "display_data"
    }
   ],
   "source": [
    "train, val, test = df.randomSplit([0.70,0.15,0.15],1)"
   ]
  },
  {
   "cell_type": "markdown",
   "metadata": {},
   "source": [
    "## 2. Build customer clusters with KMeans\n",
    "\n",
    "First, let's see if we can identify some customer clusters with KMeans unsupervised algorithm. We will enrich our current dataset with information from clustering."
   ]
  },
  {
   "cell_type": "markdown",
   "metadata": {},
   "source": [
    "### a. Apply unsupervised learning for customer segmentation with kMeans"
   ]
  },
  {
   "cell_type": "markdown",
   "metadata": {},
   "source": [
    "__Create a model__ \n",
    "\n",
    "Previously we have scaled the numerical features: this is useful for our clustering task because we do not want a feature with higher values to be given a higher weight in the distance computation."
   ]
  },
  {
   "cell_type": "code",
   "execution_count": 5,
   "metadata": {},
   "outputs": [
    {
     "data": {
      "application/vnd.jupyter.widget-view+json": {
       "model_id": "",
       "version_major": 2,
       "version_minor": 0
      },
      "text/plain": [
       "FloatProgress(value=0.0, bar_style='info', description='Progress:', layout=Layout(height='25px', width='50%'),…"
      ]
     },
     "metadata": {},
     "output_type": "display_data"
    }
   ],
   "source": [
    "# Previously : Here we build clusters using the 16 above features\n",
    "# now : without churn\n",
    "assembler_16 = VectorAssembler(\n",
    "    inputCols=['VMAIL', 'TOT_MINS', 'DAY_MINS_perCALL', 'EVE_MINS_perCALL', \n",
    "               'NIGHT_MINS_perCALL', 'VMAIL_MSGS', 'INTL_CALLS', 'DAY_CALLS', \n",
    "               'EVE_CALLS', 'NIGHT_CALLS', 'SVC_CALLS', 'INTL_CHARGE', \n",
    "               'DAY_CHARGE', 'EVE_CHARGE', 'NIGHT_CHARGE'],\n",
    "    outputCol=\"features\")\n",
    "\n",
    "# Clusters will be built on training data only\n",
    "train_16 = assembler_16.transform(train)\n",
    "\n",
    "# Set characteristics of your model : here we will have 5 clusters\n",
    "kmeans = KMeans().setK(15).setSeed(1)"
   ]
  },
  {
   "cell_type": "markdown",
   "metadata": {},
   "source": [
    "Fit the model to the required training set and run the algorithm to find the clusters."
   ]
  },
  {
   "cell_type": "code",
   "execution_count": 6,
   "metadata": {},
   "outputs": [
    {
     "data": {
      "application/vnd.jupyter.widget-view+json": {
       "model_id": "",
       "version_major": 2,
       "version_minor": 0
      },
      "text/plain": [
       "FloatProgress(value=0.0, bar_style='info', description='Progress:', layout=Layout(height='25px', width='50%'),…"
      ]
     },
     "metadata": {},
     "output_type": "display_data"
    }
   ],
   "source": [
    "clusterModel = kmeans.fit(train_16)"
   ]
  },
  {
   "cell_type": "code",
   "execution_count": 7,
   "metadata": {},
   "outputs": [
    {
     "data": {
      "application/vnd.jupyter.widget-view+json": {
       "model_id": "",
       "version_major": 2,
       "version_minor": 0
      },
      "text/plain": [
       "FloatProgress(value=0.0, bar_style='info', description='Progress:', layout=Layout(height='25px', width='50%'),…"
      ]
     },
     "metadata": {},
     "output_type": "display_data"
    }
   ],
   "source": [
    "cluster_predictions = clusterModel.transform(train_16)"
   ]
  },
  {
   "cell_type": "markdown",
   "metadata": {},
   "source": [
    "__Inference__\n",
    "\n",
    "KMeans is an unsupervized learning algorithm: we have to see if the clusters we have just built can be really be used to infer churn!"
   ]
  },
  {
   "cell_type": "code",
   "execution_count": 8,
   "metadata": {},
   "outputs": [
    {
     "data": {
      "application/vnd.jupyter.widget-view+json": {
       "model_id": "",
       "version_major": 2,
       "version_minor": 0
      },
      "text/plain": [
       "FloatProgress(value=0.0, bar_style='info', description='Progress:', layout=Layout(height='25px', width='50%'),…"
      ]
     },
     "metadata": {},
     "output_type": "display_data"
    },
    {
     "name": "stdout",
     "output_type": "stream",
     "text": [
      "+---------+-----+\n",
      "|ClusterID|count|\n",
      "+---------+-----+\n",
      "|       14|   75|\n",
      "|        1|   78|\n",
      "|       10|  131|\n",
      "|       12|  140|\n",
      "|       11|  144|\n",
      "|        9|  146|\n",
      "|        3|  151|\n",
      "|       13|  157|\n",
      "|        0|  165|\n",
      "|        8|  172|\n",
      "|        6|  180|\n",
      "|        7|  181|\n",
      "|        2|  197|\n",
      "|        5|  199|\n",
      "|        4|  205|\n",
      "+---------+-----+"
     ]
    }
   ],
   "source": [
    "# Number of customers in each cluster\n",
    "cluster_predictions.groupBy(\"prediction\").count().sort(\"count\").withColumnRenamed(\"prediction\", \"ClusterID\").show()"
   ]
  },
  {
   "cell_type": "markdown",
   "metadata": {},
   "source": [
    "Cluster sizes differ quite heavily: we must determine if it's only under the effect of outliers or if this is meaningful. "
   ]
  },
  {
   "cell_type": "markdown",
   "metadata": {},
   "source": [
    "__Silhouette score__\n",
    "\n",
    "The silhouette score measures how similar an object is to its own cluster (cohesion) compared to other clusters (separation). It ranges from −1 to +1. The closer to 1, the better: the object is then well matched to its own cluster and differs from the points belonging to neighboring clusters. If most objects have a high value, then the clustering configuration is considered to be appropriate. Otherwise there may be too many or too few clusters. Here we compute a mean value over all points, using the Euclidean distance. "
   ]
  },
  {
   "cell_type": "code",
   "execution_count": 9,
   "metadata": {},
   "outputs": [
    {
     "data": {
      "application/vnd.jupyter.widget-view+json": {
       "model_id": "",
       "version_major": 2,
       "version_minor": 0
      },
      "text/plain": [
       "FloatProgress(value=0.0, bar_style='info', description='Progress:', layout=Layout(height='25px', width='50%'),…"
      ]
     },
     "metadata": {},
     "output_type": "display_data"
    },
    {
     "name": "stdout",
     "output_type": "stream",
     "text": [
      "Silhouette with squared euclidean distance = 0.149"
     ]
    }
   ],
   "source": [
    "# Evaluate clustering by computing Silhouette score\n",
    "evaluator = ClusteringEvaluator()\n",
    "\n",
    "silhouette = evaluator.evaluate(cluster_predictions)\n",
    "print(\"Silhouette with squared euclidean distance = %.3f \" % silhouette)"
   ]
  },
  {
   "cell_type": "markdown",
   "metadata": {},
   "source": [
    "Silhouette score is relatively high, this is encouraging regarding our capacity to build meaningful clusters."
   ]
  },
  {
   "cell_type": "code",
   "execution_count": 10,
   "metadata": {},
   "outputs": [
    {
     "data": {
      "application/vnd.jupyter.widget-view+json": {
       "model_id": "",
       "version_major": 2,
       "version_minor": 0
      },
      "text/plain": [
       "FloatProgress(value=0.0, bar_style='info', description='Progress:', layout=Layout(height='25px', width='50%'),…"
      ]
     },
     "metadata": {},
     "output_type": "display_data"
    },
    {
     "name": "stdout",
     "output_type": "stream",
     "text": [
      "+---------+--------------------+\n",
      "|ClusterID|           AVG_CHURN|\n",
      "+---------+--------------------+\n",
      "|       13|0.025477707006369428|\n",
      "|        1| 0.02564102564102564|\n",
      "|        0|0.048484848484848485|\n",
      "|       14| 0.05333333333333334|\n",
      "|        5| 0.06030150753768844|\n",
      "|       10|0.061068702290076333|\n",
      "|       12| 0.07142857142857142|\n",
      "|        3|  0.0728476821192053|\n",
      "|        2| 0.08121827411167512|\n",
      "|        4| 0.08292682926829269|\n",
      "|        6| 0.09444444444444444|\n",
      "|       11| 0.11805555555555555|\n",
      "|        7| 0.24861878453038674|\n",
      "|        9|  0.4178082191780822|\n",
      "|        8|   0.563953488372093|\n",
      "+---------+--------------------+"
     ]
    }
   ],
   "source": [
    "# Churn proportion in each cluster\n",
    "churn_proportion = cluster_predictions.groupBy(\"prediction\").avg(\"CHURN\").sort(\"avg(CHURN)\").withColumnRenamed(\"prediction\", \"ClusterID\").withColumnRenamed(\"avg(CHURN)\", \"AVG_CHURN\")\n",
    "churn_proportion.show()"
   ]
  },
  {
   "cell_type": "markdown",
   "metadata": {},
   "source": [
    "The choice of k=15 allows to target well our customers. The proportion of churners in the clusters range from 2.5% to 56%. With less clusters, we obtain a higher Silhouette score but average churn percentages are less differentiated. We cannot increase the number of clusters too much if we do not have more data, because the model becomes more sensible to outliers. "
   ]
  },
  {
   "cell_type": "code",
   "execution_count": 11,
   "metadata": {},
   "outputs": [
    {
     "data": {
      "application/vnd.jupyter.widget-view+json": {
       "model_id": "",
       "version_major": 2,
       "version_minor": 0
      },
      "text/plain": [
       "FloatProgress(value=0.0, bar_style='info', description='Progress:', layout=Layout(height='25px', width='50%'),…"
      ]
     },
     "metadata": {},
     "output_type": "display_data"
    }
   ],
   "source": [
    "# Save table for future use\n",
    "churn_proportion.write \\\n",
    "      .format(\"com.ibm.idax.spark.idaxsource\") \\\n",
    "      .option(\"dbtable\",\"AVG_CHURN\") \\\n",
    "      .mode(\"overwrite\") \\\n",
    "      .save()"
   ]
  },
  {
   "cell_type": "markdown",
   "metadata": {},
   "source": [
    "Next, we will use the avg(CHURN) column as a new feature: it is a proxy for the label."
   ]
  },
  {
   "cell_type": "markdown",
   "metadata": {},
   "source": [
    "### b. Use AVG_CHURN as an additional feature"
   ]
  },
  {
   "cell_type": "code",
   "execution_count": 12,
   "metadata": {},
   "outputs": [
    {
     "data": {
      "application/vnd.jupyter.widget-view+json": {
       "model_id": "",
       "version_major": 2,
       "version_minor": 0
      },
      "text/plain": [
       "FloatProgress(value=0.0, bar_style='info', description='Progress:', layout=Layout(height='25px', width='50%'),…"
      ]
     },
     "metadata": {},
     "output_type": "display_data"
    }
   ],
   "source": [
    "def preparation(DF):\n",
    "    \n",
    "    # assemble \n",
    "    DF_16 = assembler_16.transform(DF)\n",
    "    \n",
    "    # Assign each point of the training set to its cluster\n",
    "    DF_prediction = clusterModel.transform(DF_16)\n",
    "    \n",
    "    # Join DF with table churn_proportion on ClusterID\n",
    "    DF_joined = DF_prediction.join(churn_proportion, DF_prediction.prediction == churn_proportion.ClusterID, \"inner\")\n",
    "    \n",
    "    # Rename columns\n",
    "    DF_prepared = DF_joined.withColumnRenamed(\"features\", \"featuresClustering\").withColumnRenamed(\"prediction\", \"predictionClustering\").withColumnRenamed(\"AVG_CHURN\", \"ClusterChurn\")\n",
    "    \n",
    "    return DF_prepared"
   ]
  },
  {
   "cell_type": "code",
   "execution_count": 13,
   "metadata": {},
   "outputs": [
    {
     "data": {
      "application/vnd.jupyter.widget-view+json": {
       "model_id": "",
       "version_major": 2,
       "version_minor": 0
      },
      "text/plain": [
       "FloatProgress(value=0.0, bar_style='info', description='Progress:', layout=Layout(height='25px', width='50%'),…"
      ]
     },
     "metadata": {},
     "output_type": "display_data"
    }
   ],
   "source": [
    "# Transform the three sets\n",
    "prepared_train = preparation(train)\n",
    "prepared_val = preparation(val)\n",
    "prepared_test = preparation(test)"
   ]
  },
  {
   "cell_type": "markdown",
   "metadata": {},
   "source": [
    "## 3. Compare model performances on the train set\n",
    "\n",
    "In this section, we will train logistic regression, random forest and gradient boosted trees. We will compare the performance of the resulting models on the train set. "
   ]
  },
  {
   "cell_type": "markdown",
   "metadata": {},
   "source": [
    "__Prepare the data__\n",
    "\n",
    "We have to add our new column ClusterChurn to the feature list of the assembler."
   ]
  },
  {
   "cell_type": "code",
   "execution_count": 14,
   "metadata": {},
   "outputs": [
    {
     "data": {
      "application/vnd.jupyter.widget-view+json": {
       "model_id": "",
       "version_major": 2,
       "version_minor": 0
      },
      "text/plain": [
       "FloatProgress(value=0.0, bar_style='info', description='Progress:', layout=Layout(height='25px', width='50%'),…"
      ]
     },
     "metadata": {},
     "output_type": "display_data"
    },
    {
     "name": "stdout",
     "output_type": "stream",
     "text": [
      "['CHURN', 'VMAIL', 'TOT_MINS', 'DAY_MINS_perCALL', 'EVE_MINS_perCALL', 'NIGHT_MINS_perCALL', 'VMAIL_MSGS', 'INTL_CALLS', 'DAY_CALLS', 'EVE_CALLS', 'NIGHT_CALLS', 'SVC_CALLS', 'INTL_CHARGE', 'DAY_CHARGE', 'EVE_CHARGE', 'NIGHT_CHARGE']"
     ]
    }
   ],
   "source": [
    "# we take all the features but CHURN\n",
    "# we will then add the ClusterChurn feature on top of the others\n",
    "df.columns"
   ]
  },
  {
   "cell_type": "code",
   "execution_count": 15,
   "metadata": {},
   "outputs": [
    {
     "data": {
      "application/vnd.jupyter.widget-view+json": {
       "model_id": "",
       "version_major": 2,
       "version_minor": 0
      },
      "text/plain": [
       "FloatProgress(value=0.0, bar_style='info', description='Progress:', layout=Layout(height='25px', width='50%'),…"
      ]
     },
     "metadata": {},
     "output_type": "display_data"
    }
   ],
   "source": [
    "# Define the assembler\n",
    "assembler_12 = VectorAssembler(\n",
    "    inputCols=['VMAIL', 'TOT_MINS', 'DAY_MINS_perCALL', 'EVE_MINS_perCALL', \n",
    "               'NIGHT_MINS_perCALL', 'VMAIL_MSGS', 'INTL_CALLS', 'DAY_CALLS', \n",
    "               'EVE_CALLS', 'NIGHT_CALLS', 'SVC_CALLS', 'INTL_CHARGE', \n",
    "               'DAY_CHARGE', 'EVE_CHARGE', 'NIGHT_CHARGE', 'ClusterChurn'],\n",
    "    outputCol=\"features\")"
   ]
  },
  {
   "cell_type": "code",
   "execution_count": 16,
   "metadata": {},
   "outputs": [
    {
     "data": {
      "application/vnd.jupyter.widget-view+json": {
       "model_id": "",
       "version_major": 2,
       "version_minor": 0
      },
      "text/plain": [
       "FloatProgress(value=0.0, bar_style='info', description='Progress:', layout=Layout(height='25px', width='50%'),…"
      ]
     },
     "metadata": {},
     "output_type": "display_data"
    }
   ],
   "source": [
    "# Transform your training set\n",
    "assembled_train = assembler_12.transform(prepared_train)"
   ]
  },
  {
   "cell_type": "code",
   "execution_count": 17,
   "metadata": {},
   "outputs": [
    {
     "data": {
      "application/vnd.jupyter.widget-view+json": {
       "model_id": "",
       "version_major": 2,
       "version_minor": 0
      },
      "text/plain": [
       "FloatProgress(value=0.0, bar_style='info', description='Progress:', layout=Layout(height='25px', width='50%'),…"
      ]
     },
     "metadata": {},
     "output_type": "display_data"
    }
   ],
   "source": [
    "# Select only the label and features columns\n",
    "labeled_train = assembled_train.select(assembled_train[\"features\"], assembled_train[\"CHURN\"].alias(\"label\"))"
   ]
  },
  {
   "cell_type": "markdown",
   "metadata": {},
   "source": [
    "__Build models__"
   ]
  },
  {
   "cell_type": "code",
   "execution_count": 18,
   "metadata": {},
   "outputs": [
    {
     "data": {
      "application/vnd.jupyter.widget-view+json": {
       "model_id": "",
       "version_major": 2,
       "version_minor": 0
      },
      "text/plain": [
       "FloatProgress(value=0.0, bar_style='info', description='Progress:', layout=Layout(height='25px', width='50%'),…"
      ]
     },
     "metadata": {},
     "output_type": "display_data"
    }
   ],
   "source": [
    "### Logistic regression ###\n",
    "\n",
    "# Define your model\n",
    "lr = LogisticRegression(maxIter = 100)\n",
    "# Fit the model\n",
    "lrModel = lr.fit(labeled_train)\n",
    "# Make predictions\n",
    "pred_train_lr = lrModel.transform(labeled_train)"
   ]
  },
  {
   "cell_type": "code",
   "execution_count": 19,
   "metadata": {},
   "outputs": [
    {
     "data": {
      "application/vnd.jupyter.widget-view+json": {
       "model_id": "",
       "version_major": 2,
       "version_minor": 0
      },
      "text/plain": [
       "FloatProgress(value=0.0, bar_style='info', description='Progress:', layout=Layout(height='25px', width='50%'),…"
      ]
     },
     "metadata": {},
     "output_type": "display_data"
    }
   ],
   "source": [
    "### Random Forest ###\n",
    "\n",
    "# Define your model\n",
    "rf = RandomForestClassifier()\n",
    "# Fit the model\n",
    "rfModel = rf.fit(labeled_train)\n",
    "# Make predictions\n",
    "pred_train_rf = rfModel.transform(labeled_train)"
   ]
  },
  {
   "cell_type": "code",
   "execution_count": 20,
   "metadata": {},
   "outputs": [
    {
     "data": {
      "application/vnd.jupyter.widget-view+json": {
       "model_id": "",
       "version_major": 2,
       "version_minor": 0
      },
      "text/plain": [
       "FloatProgress(value=0.0, bar_style='info', description='Progress:', layout=Layout(height='25px', width='50%'),…"
      ]
     },
     "metadata": {},
     "output_type": "display_data"
    }
   ],
   "source": [
    "### Gradient Boosted Trees ###\n",
    "\n",
    "# Define your model\n",
    "gbt = GBTClassifier()\n",
    "# Fit the model\n",
    "gbtModel = gbt.fit(labeled_train)\n",
    "# Make predictions\n",
    "pred_train_gbt = gbtModel.transform(labeled_train)"
   ]
  },
  {
   "cell_type": "markdown",
   "metadata": {},
   "source": [
    "As you may just have witnessed, GBT takes more time than the other two algorithms."
   ]
  },
  {
   "cell_type": "markdown",
   "metadata": {},
   "source": [
    "__Area under Curve__"
   ]
  },
  {
   "cell_type": "code",
   "execution_count": 21,
   "metadata": {},
   "outputs": [
    {
     "data": {
      "application/vnd.jupyter.widget-view+json": {
       "model_id": "",
       "version_major": 2,
       "version_minor": 0
      },
      "text/plain": [
       "FloatProgress(value=0.0, bar_style='info', description='Progress:', layout=Layout(height='25px', width='50%'),…"
      ]
     },
     "metadata": {},
     "output_type": "display_data"
    },
    {
     "name": "stdout",
     "output_type": "stream",
     "text": [
      "Logistic Regression\n",
      "Area under ROC: 0.812\n",
      "Area under PR curve: 0.524\n",
      "\n",
      "Random Forest\n",
      "Area under ROC: 0.915\n",
      "Area under PR curve: 0.819\n",
      "\n",
      "Gradient Boosted Trees\n",
      "Area under ROC: 0.963\n",
      "Area under PR curve: 0.915"
     ]
    }
   ],
   "source": [
    "# Define the evaluators\n",
    "binEval_AUROC = BinaryClassificationEvaluator().setMetricName(\"areaUnderROC\").setRawPredictionCol(\"rawPrediction\").setLabelCol(\"label\")\n",
    "binEval_AUPRC = BinaryClassificationEvaluator().setMetricName(\"areaUnderPR\").setRawPredictionCol(\"rawPrediction\").setLabelCol(\"label\")\n",
    "\n",
    "pred = [pred_train_lr, pred_train_rf, pred_train_gbt]\n",
    "algo = [\"Logistic Regression\", \"Random Forest\", \"Gradient Boosted Trees\"]\n",
    "\n",
    "# Print results\n",
    "for i in range(len(pred)):\n",
    "    print(algo[i])\n",
    "    print(\"Area under ROC: %.3f\" % binEval_AUROC.evaluate(pred[i]))\n",
    "    print(\"Area under PR curve: %.3f\" % binEval_AUPRC.evaluate(pred[i]))\n",
    "    print(\"\")"
   ]
  },
  {
   "cell_type": "markdown",
   "metadata": {},
   "source": [
    "On the training set, the models get it all right because the ClusterChurn feature is exactly the same as the label!\n",
    "We have to see how the model perform on the validation set and on the test set. A drawback of such an efficient clustering is that models might focus too much on ClusterChurn and in the end overfit the training set. "
   ]
  },
  {
   "cell_type": "markdown",
   "metadata": {},
   "source": [
    "__Metrics and confusion matrix__"
   ]
  },
  {
   "cell_type": "markdown",
   "metadata": {},
   "source": [
    "* Confusion matrix \n",
    "\n",
    "<img src=\"confusionMatrix.png\" width=800/>\n",
    "\n",
    "Sensitivity = TP / (TP + FN), also called Recall\n",
    "\n",
    "Specificity = TN / (TN + FP)\n",
    "\n",
    "Precision = TP / (TP + FP)\n",
    "\n",
    "Negative Predictive Value = TN / (TN + FN)\n",
    "\n",
    "F1-score: 2 x Precision x Recall / (Precision + Recall)\n",
    "\n",
    "Recall = 1 - FNR. "
   ]
  },
  {
   "cell_type": "markdown",
   "metadata": {},
   "source": [
    "NB : We use MulticlassClassificationEvaluator instead of BinaryClassificationEvaluator because of the (un)available options in the metricName field. "
   ]
  },
  {
   "cell_type": "code",
   "execution_count": 22,
   "metadata": {},
   "outputs": [
    {
     "data": {
      "application/vnd.jupyter.widget-view+json": {
       "model_id": "",
       "version_major": 2,
       "version_minor": 0
      },
      "text/plain": [
       "FloatProgress(value=0.0, bar_style='info', description='Progress:', layout=Layout(height='25px', width='50%'),…"
      ]
     },
     "metadata": {},
     "output_type": "display_data"
    }
   ],
   "source": [
    "def confusion_matrix(pred_DF):\n",
    "    #cmDf = pred_DF.groupBy('label', 'prediction').count().sort('label', 'prediction').toPandas()\n",
    "    #tp = cmDf.loc[(cmDf[\"label\"]==1) & (cmDf[\"prediction\"] ==1), \"count\"].to_list()[0]\n",
    "    #fn = cmDf.loc[(cmDf[\"label\"]==1) & (cmDf[\"prediction\"] ==0), \"count\"].to_list()[0]\n",
    "    #fp = cmDf.loc[(cmDf[\"label\"]==0) & (cmDf[\"prediction\"] ==1), \"count\"].to_list()[0]\n",
    "    #tn = cmDf.loc[(cmDf[\"label\"]==0) & (cmDf[\"prediction\"] ==0), \"count\"].to_list()[0]\n",
    "    pred_DF.createOrReplaceTempView(\"pred_DF\")\n",
    "    tp = spark.sql(\"select count(*) from pred_DF where pred_DF.label=1 and pred_DF.prediction=1\").collect()[0][0]\n",
    "    fn = spark.sql(\"select count(*) from pred_DF where pred_DF.label=1 and pred_DF.prediction=0\").collect()[0][0]\n",
    "    fp = spark.sql(\"select count(*) from pred_DF where pred_DF.label=0 and pred_DF.prediction=1\").collect()[0][0]\n",
    "    tn = spark.sql(\"select count(*) from pred_DF where pred_DF.label=0 and pred_DF.prediction=0\").collect()[0][0]               \n",
    "    return (tn, fp, fn, tp)\n",
    "\n",
    "def FNR(fn, tp):\n",
    "    return fn/(fn+tp)\n",
    "\n",
    "def recall(tp, fn):\n",
    "    # also called TPR or sensitivity\n",
    "    return tp/(tp+fn)\n",
    "\n",
    "def precision(tp, fp):\n",
    "    return tp/(tp+fp)"
   ]
  },
  {
   "cell_type": "code",
   "execution_count": 23,
   "metadata": {},
   "outputs": [
    {
     "data": {
      "application/vnd.jupyter.widget-view+json": {
       "model_id": "",
       "version_major": 2,
       "version_minor": 0
      },
      "text/plain": [
       "FloatProgress(value=0.0, bar_style='info', description='Progress:', layout=Layout(height='25px', width='50%'),…"
      ]
     },
     "metadata": {},
     "output_type": "display_data"
    },
    {
     "name": "stdout",
     "output_type": "stream",
     "text": [
      "__Logistic Regression__\n",
      "\n",
      "Confusion matrix: \n",
      "[['tp: 113' 'fn: 216']\n",
      " ['fp: 66' 'tn: 1926']]\n",
      "Accuracy = 0.879\n",
      "Precision: 0.631\n",
      "FNR: 0.657\n",
      "Recall: 0.343\n",
      "\n",
      "__Random Forest__\n",
      "\n",
      "Confusion matrix: \n",
      "[['tp: 190' 'fn: 139']\n",
      " ['fp: 2' 'tn: 1990']]\n",
      "Accuracy = 0.939\n",
      "Precision: 0.990\n",
      "FNR: 0.422\n",
      "Recall: 0.578\n",
      "\n",
      "__Gradient Boosted Trees__\n",
      "\n",
      "Confusion matrix: \n",
      "[['tp: 238' 'fn: 91']\n",
      " ['fp: 3' 'tn: 1989']]\n",
      "Accuracy = 0.960\n",
      "Precision: 0.988\n",
      "FNR: 0.277\n",
      "Recall: 0.723"
     ]
    }
   ],
   "source": [
    "# Print results\n",
    "\n",
    "pred = [pred_train_lr, pred_train_rf, pred_train_gbt]\n",
    "algo = [\"__Logistic Regression__\", \"__Random Forest__\", \"__Gradient Boosted Trees__\"]\n",
    "\n",
    "# Define evaluator\n",
    "evaluator_acc = MulticlassClassificationEvaluator(labelCol=\"label\", predictionCol=\"prediction\", metricName=\"accuracy\")\n",
    "    \n",
    "for i in range(len(pred)):\n",
    "    print(algo[i])\n",
    "    print(\"\")\n",
    "    # Confusion matrix\n",
    "    (tn, fp, fn, tp)=confusion_matrix(pred[i])\n",
    "    # Confusion matrix in format [[tp, fn], [fp, tn]]\n",
    "    print(\"Confusion matrix: \")\n",
    "    print(np.array([[(\"tp: \"+str(tp)), (\"fn: \"+str(fn))], [(\"fp: \"+str(fp)), (\"tn: \"+str(tn))]]))\n",
    "    # Metrics\n",
    "    accuracy = evaluator_acc.evaluate(pred[i])\n",
    "    print(\"Accuracy = %.3f\" % accuracy)\n",
    "    print(\"Precision: %.3f\" % precision(tp, fp))\n",
    "    print(\"FNR: %.3f\" % FNR(fn, tp))\n",
    "    print(\"Recall: %.3f\" % recall(tp, fn))\n",
    "    print(\"\")"
   ]
  },
  {
   "cell_type": "markdown",
   "metadata": {},
   "source": [
    "to qdqpt? (Again, GBT seems to perform better when we just use the default hyperparameters. Let's see if this is still is the case after tweaking the hyperparameters on the validation set.)"
   ]
  },
  {
   "cell_type": "markdown",
   "metadata": {},
   "source": [
    "## 4. Fine tune your hyperparameters on the validation set"
   ]
  },
  {
   "cell_type": "code",
   "execution_count": 24,
   "metadata": {},
   "outputs": [
    {
     "data": {
      "application/vnd.jupyter.widget-view+json": {
       "model_id": "",
       "version_major": 2,
       "version_minor": 0
      },
      "text/plain": [
       "FloatProgress(value=0.0, bar_style='info', description='Progress:', layout=Layout(height='25px', width='50%'),…"
      ]
     },
     "metadata": {},
     "output_type": "display_data"
    }
   ],
   "source": [
    "# Transform your validation set\n",
    "assembled_val = assembler_12.transform(prepared_val)\n",
    "\n",
    "# Select only the label and features columns\n",
    "labeled_val = assembled_val.select(assembled_val[\"features\"], assembled_val[\"CHURN\"].alias(\"label\"))"
   ]
  },
  {
   "cell_type": "markdown",
   "metadata": {},
   "source": [
    "__Grid search__ \n",
    "\n",
    "In the next cell we define a function to test a range of hyperparameters and select the best set of hyperparameters regarding our goal, which is to maximize recall. To speed up the process, we parallelize tasks by using Threadpool. Note that we did not use the native PySpark GridSearch function here, because neither MulticlassClassificationEvaluator nor BinaryClassificationEvaluator do offer the possibility to set recall or FNR as metric.\n",
    "\n",
    "Which hyperparameters do we tune ? Let's have a look at what is available. We highlighted the hyperparameters chosen here.\n",
    "\n",
    "* Logistic Regression\n",
    "\n",
    "> class pyspark.ml.classification.LogisticRegression(self, featuresCol=\"features\", labelCol=\"label\", predictionCol=\"prediction\", maxIter=100, `regParam=0.1`, `elasticNetParam=0.0`, tol=1e-6, fitIntercept=True, threshold=0.5, thresholds=None, probabilityCol=\"probability\", rawPredictionCol=\"rawPrediction\", standardization=True, weightCol=None)\n",
    "\n",
    "* Random Forest\n",
    "\n",
    "> class pyspark.ml.classification.RandomForestClassifier(self, featuresCol=\"features\", labelCol=\"label\", predictionCol=\"prediction\", probabilityCol=\"probability\", rawPredictionCol=\"rawPrediction\", `maxDepth=5`, `maxBins=32`, minInstancesPerNode=1, minInfoGain=0.0, maxMemoryInMB=256, cacheNodeIds=False, checkpointInterval=10, impurity=\"gini\", `numTrees=20`, featureSubsetStrategy=\"auto\", seed=None, subsamplingRate=1.0)\n",
    "\n",
    "* GBT\n",
    "\n",
    "> GBTClassifier(self, featuresCol=\"features\", labelCol=\"label\", predictionCol=\"prediction\", `maxDepth=5`, `maxBins=32`, minInstancesPerNode=1, minInfoGain=0.0, maxMemoryInMB=256, cacheNodeIds=False, checkpointInterval=10, lossType=\"logistic\", maxIter=20, `stepSize=0.1`, seed=None, subsamplingRate=1.0)\n",
    "                 \n",
    " Note : for more details on each hyperparameter, use .explainParams(). For example :\n",
    " >  gbt.explainParams()\n",
    " \n",
    "Regarding Random Forest and GBT, we should set a seed so that results can be reproduced."
   ]
  },
  {
   "cell_type": "markdown",
   "metadata": {},
   "source": [
    "Running the next three cells might take a couple of minutes, even if we have parallelized the tasks."
   ]
  },
  {
   "cell_type": "code",
   "execution_count": null,
   "metadata": {},
   "outputs": [
    {
     "data": {
      "application/vnd.jupyter.widget-view+json": {
       "model_id": "f8df8df8f4a141b2be19711c4a5147b2",
       "version_major": 2,
       "version_minor": 0
      },
      "text/plain": [
       "FloatProgress(value=0.0, bar_style='info', description='Progress:', layout=Layout(height='25px', width='50%'),…"
      ]
     },
     "metadata": {},
     "output_type": "display_data"
    }
   ],
   "source": [
    "### Logistic regression ###\n",
    "\n",
    "regParam_range=[0, 0.001, 0.002, 0.005, 0.01]\n",
    "elasticNetParam_range=[0, 0.001, 0.002, 0.005, 0.01]\n",
    "\n",
    "hp_lr = [x for x in product(regParam_range, elasticNetParam_range)]\n",
    "\n",
    "\n",
    "def score_lr(couple):\n",
    "    \n",
    "    (r,e)=couple\n",
    "    # Define your model\n",
    "    logReg = LogisticRegression(maxIter=100, regParam=r, elasticNetParam=e)\n",
    "\n",
    "    # Fit the model on training set\n",
    "    logRegModel = logReg.fit(labeled_train)\n",
    "\n",
    "    # Make predictions\n",
    "    pred_val = logRegModel.transform(labeled_val)\n",
    "\n",
    "    # Compute the confusion matrix and FNR for both sets\n",
    "    (tn, fp, fn, tp) = confusion_matrix(pred_val)\n",
    "    val_recall = recall(tp, fn)\n",
    "                \n",
    "    return val_recall\n",
    "\n",
    "# Parallelize tasks\n",
    "def calculateParallel_lr(paramRange, threads=2):\n",
    "    pool = ThreadPool(threads)\n",
    "    results = pool.map(score_lr, paramRange)\n",
    "    pool.close()\n",
    "    pool.join()\n",
    "    return results\n",
    "\n",
    "# Compute values\n",
    "recallValues_lr = calculateParallel_lr(hp_lr, 4)\n",
    "\n",
    "# Get best hyperparameter combination    \n",
    "def get_best_lr(recallValues, hp):\n",
    "    recallValues.reverse()\n",
    "    hp.reverse()\n",
    "    index = recallValues.index(max(recallValues))\n",
    "    best = {\"regParam\":hp[index][0], \"elasticNetParam\":hp[index][1], \"bestRecall\":max(recallValues)}\n",
    "    return best\n",
    "\n",
    "best_lr = get_best_lr(recallValues_lr, hp_lr)"
   ]
  },
  {
   "cell_type": "code",
   "execution_count": null,
   "metadata": {},
   "outputs": [],
   "source": [
    "### Random Forest ###\n",
    "\n",
    "maxDepth=[5, 10]\n",
    "maxBins=[32, 64]\n",
    "numTrees=[15, 20, 25]\n",
    "\n",
    "hp_rf = [x for x in product(maxDepth, maxBins, numTrees)]\n",
    "#print(hp_rf)\n",
    "\n",
    "def score_rf(triple):\n",
    "    \n",
    "    (D,B,T)=triple\n",
    "    \n",
    "    # Define your model\n",
    "    rf = RandomForestClassifier(maxDepth=D, maxBins=B, numTrees=T, seed = 1)\n",
    "\n",
    "    # Fit the model on training set\n",
    "    rfModel = rf.fit(labeled_train)\n",
    "\n",
    "    # Make predictions\n",
    "    pred_val = rfModel.transform(labeled_val)\n",
    "\n",
    "    # Compute the confusion matrix and FNR for both sets\n",
    "    (tn, fp, fn, tp) = confusion_matrix(pred_val)\n",
    "    val_recall = recall(tp, fn)\n",
    "                \n",
    "    return val_recall\n",
    "\n",
    "# Parallelize tasks\n",
    "def calculateParallel_rf(paramRange, threads=2):\n",
    "    pool = ThreadPool(threads)\n",
    "    results = pool.map(score_rf, paramRange)\n",
    "    pool.close()\n",
    "    pool.join()\n",
    "    return results\n",
    "\n",
    "# Compute values\n",
    "recallValues_rf = calculateParallel_rf(hp_rf, 4)\n",
    "#print(recallValues_rf)\n",
    "\n",
    "# Get best hyperparameter combination    \n",
    "def get_best_rf(recallValues, hp):\n",
    "    # to pick the model with higher regularization strength when ex aequo case\n",
    "    recallValues.reverse()\n",
    "    hp.reverse()\n",
    "    index = recallValues.index(max(recallValues))\n",
    "    #print(index)\n",
    "    #print(hp[index])\n",
    "    best = {\"maxDepth\": hp[index][0], \"maxBins\": hp[index][1], \"numTrees\": hp[index][2], \"bestRecall\":max(recallValues)}\n",
    "    \n",
    "    return best\n",
    "\n",
    "best_rf = get_best_rf(recallValues_rf, hp_rf)"
   ]
  },
  {
   "cell_type": "code",
   "execution_count": null,
   "metadata": {},
   "outputs": [],
   "source": [
    "### Gradient Boosted Trees ###\n",
    "\n",
    "maxDepth=[5, 10, 20]\n",
    "maxBins=[16, 32, 64]\n",
    "stepSize=[0.05, 0.1]\n",
    "\n",
    "hp_gbt = [x for x in product(maxDepth, maxBins, stepSize)]\n",
    "\n",
    "\n",
    "def score_gbt(triple):\n",
    "    \n",
    "    (D,B,s)=triple\n",
    "    \n",
    "    gbt = GBTClassifier(maxDepth=D, maxBins=B, stepSize=s, seed=1)\n",
    "\n",
    "    # Fit the model on training set\n",
    "    gbtModel = gbt.fit(labeled_train)\n",
    "\n",
    "    # Make predictions\n",
    "    pred_val = gbtModel.transform(labeled_val)\n",
    "\n",
    "    # Compute the confusion matrix and FNR for both sets\n",
    "    (tn, fp, fn, tp) = confusion_matrix(pred_val)\n",
    "    val_recall = recall(tp, fn)\n",
    "                \n",
    "    return val_recall\n",
    "\n",
    "# Parallelize tasks\n",
    "def calculateParallel_gbt(paramRange, threads=2):\n",
    "    pool = ThreadPool(threads)\n",
    "    results = pool.map(score_gbt, paramRange)\n",
    "    pool.close()\n",
    "    pool.join()\n",
    "    return results\n",
    "\n",
    "# Compute values\n",
    "recallValues_gbt = calculateParallel_gbt(hp_gbt, 4)\n",
    "\n",
    "# Get best hyperparameter combination    \n",
    "def get_best_gbt(recallValues, hp):\n",
    "    recallValues.reverse()\n",
    "    hp.reverse()\n",
    "    index = recallValues.index(max(recallValues))\n",
    "    best = {\"maxDepth\": hp[index][0], \"maxBins\": hp[index][1], \"stepSize\": hp[index][2], \"bestRecall\":max(recallValues)}\n",
    "    return best\n",
    "\n",
    "best_gbt = get_best_gbt(recallValues_gbt, hp_gbt)"
   ]
  },
  {
   "cell_type": "code",
   "execution_count": null,
   "metadata": {},
   "outputs": [],
   "source": [
    "print(best_lr)\n",
    "print(best_rf)\n",
    "print(best_gbt)"
   ]
  },
  {
   "cell_type": "code",
   "execution_count": 28,
   "metadata": {},
   "outputs": [
    {
     "data": {
      "application/vnd.jupyter.widget-view+json": {
       "model_id": "",
       "version_major": 2,
       "version_minor": 0
      },
      "text/plain": [
       "FloatProgress(value=0.0, bar_style='info', description='Progress:', layout=Layout(height='25px', width='50%'),…"
      ]
     },
     "metadata": {},
     "output_type": "display_data"
    }
   ],
   "source": [
    "# Expected output with seed = 1 \n",
    "#{'regParam': 0, 'elasticNetParam': 0.01, 'bestRecall': 0.2804878048780488}\n",
    "#{'maxDepth': 10, 'maxBins': 64, 'numTrees': 25, 'bestRecall': 0.5975609756097561}\n",
    "#{'maxDepth': 20, 'maxBins': 16, 'stepSize': 0.1, 'bestRecall': 0.6463414634146342}"
   ]
  },
  {
   "cell_type": "markdown",
   "metadata": {},
   "source": [
    "__Visualize feature importance__"
   ]
  },
  {
   "cell_type": "code",
   "execution_count": 66,
   "metadata": {},
   "outputs": [
    {
     "data": {
      "application/vnd.jupyter.widget-view+json": {
       "model_id": "",
       "version_major": 2,
       "version_minor": 0
      },
      "text/plain": [
       "FloatProgress(value=0.0, bar_style='info', description='Progress:', layout=Layout(height='25px', width='50%'),…"
      ]
     },
     "metadata": {},
     "output_type": "display_data"
    },
    {
     "name": "stdout",
     "output_type": "stream",
     "text": [
      "(16,[0,1,2,3,4,5,6,7,8,9,10,11,12,13,14,15],[0.017024318637657458,0.02836422812637774,0.00909204224066562,0.004343687469171762,0.004560391525713556,0.005112933717672303,0.002502607432373759,0.0029461349744979706,0.002981861364982493,0.002290729525888992,0.04180203381652036,0.005343508651890113,0.06428737875960049,0.00840258003354406,0.004218918672838146,0.7967266450506053])\n",
      "(16,[0,1,2,3,4,5,6,7,8,9,10,11,12,13,15],[1.13447305082043e-14,3.1217663263246204e-18,3.3849733696759163e-16,3.199137668075365e-16,3.188186008800997e-16,4.629765989011323e-17,8.223958857531108e-16,2.522630779869371e-17,7.723899661763015e-18,7.887293939387483e-17,1.4431371240932415e-14,2.7121286699144617e-18,4.3970219114955275e-15,5.624426125757645e-18,0.9999999999999678])"
     ]
    }
   ],
   "source": [
    "## Random Forest ##\n",
    "\n",
    "# Define your model\n",
    "rf = RandomForestClassifier(maxDepth = best_rf[\"maxDepth\"], maxBins = best_rf[\"maxBins\"], numTrees = best_rf[\"numTrees\"])\n",
    "\n",
    "# Fit the model on training set\n",
    "rfModel = rf.fit(labeled_train)\n",
    "print(rfModel.featureImportances)\n",
    "\n",
    "## GBT ##\n",
    "\n",
    "# Define your model\n",
    "gbt = GBTClassifier(maxDepth=best_gbt[\"maxDepth\"], maxBins=best_gbt[\"maxBins\"], stepSize=best_gbt[\"stepSize\"])\n",
    "                    \n",
    "# Fit the model on training set\n",
    "gbtModel = gbt.fit(labeled_train)\n",
    "print(gbtModel.featureImportances)"
   ]
  },
  {
   "cell_type": "code",
   "execution_count": 69,
   "metadata": {},
   "outputs": [
    {
     "data": {
      "image/png": "[encoded data removed]",
      "text/plain": [
       "<Figure size 720x504 with 1 Axes>"
      ]
     },
     "metadata": {
      "needs_background": "light"
     },
     "output_type": "display_data"
    }
   ],
   "source": [
    "%local\n",
    "\n",
    "features = ['VMAIL', 'TOT_MINS', 'DAY_MINS_perCALL', 'EVE_MINS_perCALL', \n",
    "            'NIGHT_MINS_perCALL', 'VMAIL_MSGS', 'INTL_CALLS', 'DAY_CALLS', \n",
    "            'EVE_CALLS', 'NIGHT_CALLS', 'SVC_CALLS', 'INTL_CHARGE', \n",
    "            'DAY_CHARGE', 'EVE_CHARGE', 'NIGHT_CHARGE', 'ClusterChurn']\n",
    "\n",
    "# data to plot\n",
    "n_groups = len(features)\n",
    "coeffs_rf = [0.017024318637657458,0.02836422812637774,0.00909204224066562,0.004343687469171762,0.004560391525713556,0.005112933717672303,0.002502607432373759,0.0029461349744979706,0.002981861364982493,0.002290729525888992,0.04180203381652036,0.005343508651890113,0.06428737875960049,0.00840258003354406,0.004218918672838146,0.7967266450506053]\n",
    "coeffs_gbt = [1.13447305082043e-14,3.1217663263246204e-18,3.3849733696759163e-16,3.199137668075365e-16,3.188186008800997e-16,4.629765989011323e-17,8.223958857531108e-16,2.522630779869371e-17,7.723899661763015e-18,7.887293939387483e-17,1.4431371240932415e-14,2.7121286699144617e-18,4.3970219114955275e-15,5.624426125757645e-18, 0, 0.9999999999999678]\n",
    "\n",
    "# define plot\n",
    "ax, fig=plt.subplots(figsize=(10,7))\n",
    "index = np.arange(len(features))\n",
    "bar_width = 0.35\n",
    "opacity = 0.8\n",
    "\n",
    "# Bar plot\n",
    "plt.bar(index, coeffs_rf, bar_width,alpha=opacity,color='b',label='Random Forest')\n",
    "plt.bar(index + bar_width, coeffs_gbt, bar_width, alpha=opacity,color='g',label='GBT')\n",
    "\n",
    "\n",
    "plt.xticks(index + bar_width, features, rotation = 40)\n",
    "\n",
    "# Labels\n",
    "plt.xlabel('Features', fontsize=15)\n",
    "plt.ylabel('Magnitude of coefficients', fontsize=15)\n",
    "#plt.xticks(index, features, fontsize=15, rotation=40)\n",
    "plt.title('Feature importance', fontsize=20)\n",
    "plt.legend()\n",
    "plt.tight_layout()\n",
    "plt.show()"
   ]
  },
  {
   "cell_type": "markdown",
   "metadata": {},
   "source": [
    "GBT and Random Forest overwhelmingly use the ClusterChurn feature."
   ]
  },
  {
   "cell_type": "markdown",
   "metadata": {},
   "source": [
    "## 5. Assess your model performance on the test set\n",
    "\n",
    "See what is the final perfomance of your tuned model on unseen data."
   ]
  },
  {
   "cell_type": "code",
   "execution_count": 70,
   "metadata": {},
   "outputs": [
    {
     "data": {
      "application/vnd.jupyter.widget-view+json": {
       "model_id": "",
       "version_major": 2,
       "version_minor": 0
      },
      "text/plain": [
       "FloatProgress(value=0.0, bar_style='info', description='Progress:', layout=Layout(height='25px', width='50%'),…"
      ]
     },
     "metadata": {},
     "output_type": "display_data"
    }
   ],
   "source": [
    "# Prepare the test set\n",
    "assembled_test = assembler_12.transform(prepared_test)\n",
    "\n",
    "# Select only the label and features columns\n",
    "labeled_test = assembled_test.select(assembled_test[\"features\"], assembled_test[\"CHURN\"].alias(\"label\"))"
   ]
  },
  {
   "cell_type": "markdown",
   "metadata": {},
   "source": [
    "__Logistic regression__"
   ]
  },
  {
   "cell_type": "code",
   "execution_count": 71,
   "metadata": {},
   "outputs": [
    {
     "data": {
      "application/vnd.jupyter.widget-view+json": {
       "model_id": "",
       "version_major": 2,
       "version_minor": 0
      },
      "text/plain": [
       "FloatProgress(value=0.0, bar_style='info', description='Progress:', layout=Layout(height='25px', width='50%'),…"
      ]
     },
     "metadata": {},
     "output_type": "display_data"
    },
    {
     "name": "stdout",
     "output_type": "stream",
     "text": [
      "Test Accuracy: 1.000\n",
      "Confusion matrix: \n",
      "[['tp: 72' 'fn: 0']\n",
      " ['fp: 0' 'tn: 445']]\n",
      "Recall: 1.000"
     ]
    }
   ],
   "source": [
    "# Make predictions on test set\n",
    "pred_test_lr = lrModel.transform(labeled_test)\n",
    "\n",
    "# Compute the accuracy on the test set\n",
    "print(\"Test Accuracy: %.3f\" %  evaluator_acc.evaluate(pred_test_lr))\n",
    "\n",
    "# Confusion matrix\n",
    "(tn, fp, fn, tp)=confusion_matrix(pred_test_lr)\n",
    "# Confusion matrix in format [[tp, fn], [fp, tn]]\n",
    "print(\"Confusion matrix: \")\n",
    "print(np.array([[(\"tp: \"+str(tp)), (\"fn: \"+str(fn))], [(\"fp: \"+str(fp)), (\"tn: \"+str(tn))]]))\n",
    "\n",
    "# FNR\n",
    "print(\"Recall: %.3f\" %recall(tp, fn))"
   ]
  },
  {
   "cell_type": "markdown",
   "metadata": {},
   "source": [
    "__Random Forest__"
   ]
  },
  {
   "cell_type": "code",
   "execution_count": 72,
   "metadata": {},
   "outputs": [
    {
     "data": {
      "application/vnd.jupyter.widget-view+json": {
       "model_id": "",
       "version_major": 2,
       "version_minor": 0
      },
      "text/plain": [
       "FloatProgress(value=0.0, bar_style='info', description='Progress:', layout=Layout(height='25px', width='50%'),…"
      ]
     },
     "metadata": {},
     "output_type": "display_data"
    },
    {
     "name": "stdout",
     "output_type": "stream",
     "text": [
      "Test Accuracy = 1.000\n",
      "Confusion matrix: \n",
      "[['tp: 72' 'fn: 0']\n",
      " ['fp: 0' 'tn: 445']]\n",
      "recall: 1.000"
     ]
    }
   ],
   "source": [
    "# Make predictions on test set\n",
    "pred_test_rf = rfModel.transform(labeled_test)\n",
    "\n",
    "# Compute the accuracy on the test set\n",
    "print(\"Test Accuracy = %.3f\" %evaluator_acc.evaluate(pred_test_rf))\n",
    "\n",
    "# Confusion matrix\n",
    "(tn, fp, fn, tp)=confusion_matrix(pred_test_rf)\n",
    "# Confusion matrix in format [[tp, fn], [fp, tn]]\n",
    "print(\"Confusion matrix: \")\n",
    "print(np.array([[(\"tp: \"+str(tp)), (\"fn: \"+str(fn))], [(\"fp: \"+str(fp)), (\"tn: \"+str(tn))]]))\n",
    "\n",
    "# Recall\n",
    "print(\"recall: %.3f\" %recall(tp, fn))"
   ]
  },
  {
   "cell_type": "markdown",
   "metadata": {},
   "source": [
    "__GBT__"
   ]
  },
  {
   "cell_type": "code",
   "execution_count": 73,
   "metadata": {},
   "outputs": [
    {
     "data": {
      "application/vnd.jupyter.widget-view+json": {
       "model_id": "",
       "version_major": 2,
       "version_minor": 0
      },
      "text/plain": [
       "FloatProgress(value=0.0, bar_style='info', description='Progress:', layout=Layout(height='25px', width='50%'),…"
      ]
     },
     "metadata": {},
     "output_type": "display_data"
    },
    {
     "name": "stdout",
     "output_type": "stream",
     "text": [
      "Test Accuracy = 1.000\n",
      "Confusion matrix: \n",
      "[['tp: 72' 'fn: 0']\n",
      " ['fp: 0' 'tn: 445']]\n",
      "recall: 1.000"
     ]
    }
   ],
   "source": [
    "# Make predictions on test set\n",
    "pred_test_gbt = gbtModel.transform(labeled_test)\n",
    "\n",
    "# Compute the accuracy on the test set\n",
    "print(\"Test Accuracy = %.3f\" %evaluator_acc.evaluate(pred_test_gbt))\n",
    "\n",
    "# Confusion matrix\n",
    "(tn, fp, fn, tp)=confusion_matrix(pred_test_gbt)\n",
    "# Confusion matrix in format [[tp, fn], [fp, tn]]\n",
    "print(\"Confusion matrix: \")\n",
    "print(np.array([[(\"tp: \"+str(tp)), (\"fn: \"+str(fn))], [(\"fp: \"+str(fp)), (\"tn: \"+str(tn))]]))\n",
    "\n",
    "# Recall\n",
    "print(\"recall: %.3f\" %recall(tp, fn))"
   ]
  },
  {
   "cell_type": "markdown",
   "metadata": {},
   "source": [
    "__Model choice__ \n",
    "\n",
    "* Logistic regression \n",
    "\n",
    "It does clearly not perform as well as the ensemble models. \n",
    "\n",
    "Comparison between Random Forest and GBT :\n",
    "\n",
    "* Random Forest \n",
    "\n",
    "Execution takes only a couple of seconds. Performs well: high accuracy and precision, recall is satisfying i.e above 50%.\n",
    "\n",
    "* GBT\n",
    "\n",
    "Hyperparameter tuning can take up to a few minutes. Highest recall but at the cost of precision and accuracy (highest number of false positives). However our main concern is recall and accuracy is still acceptable.\n",
    "__=> We keep this model.__"
   ]
  },
  {
   "cell_type": "markdown",
   "metadata": {},
   "source": [
    "__Gains graph__"
   ]
  },
  {
   "cell_type": "code",
   "execution_count": 35,
   "metadata": {},
   "outputs": [
    {
     "data": {
      "application/vnd.jupyter.widget-view+json": {
       "model_id": "",
       "version_major": 2,
       "version_minor": 0
      },
      "text/plain": [
       "FloatProgress(value=0.0, bar_style='info', description='Progress:', layout=Layout(height='25px', width='50%'),…"
      ]
     },
     "metadata": {},
     "output_type": "display_data"
    }
   ],
   "source": [
    "pred_test_rf.createOrReplaceTempView(\"pred_test_rf\")"
   ]
  },
  {
   "cell_type": "code",
   "execution_count": null,
   "metadata": {},
   "outputs": [],
   "source": [
    "%%sql -o pred_test_rf --maxrows -1\n",
    "SELECT * FROM pred_test_rf"
   ]
  },
  {
   "cell_type": "code",
   "execution_count": 37,
   "metadata": {},
   "outputs": [
    {
     "data": {
      "application/vnd.jupyter.widget-view+json": {
       "model_id": "",
       "version_major": 2,
       "version_minor": 0
      },
      "text/plain": [
       "FloatProgress(value=0.0, bar_style='info', description='Progress:', layout=Layout(height='25px', width='50%'),…"
      ]
     },
     "metadata": {},
     "output_type": "display_data"
    }
   ],
   "source": [
    "pred_test_lr.createOrReplaceTempView(\"pred_test_lr\")"
   ]
  },
  {
   "cell_type": "code",
   "execution_count": 38,
   "metadata": {},
   "outputs": [
    {
     "data": {
      "application/vnd.jupyter.widget-view+json": {
       "model_id": "",
       "version_major": 2,
       "version_minor": 0
      },
      "text/plain": [
       "FloatProgress(value=0.0, bar_style='info', description='Progress:', layout=Layout(height='25px', width='50%'),…"
      ]
     },
     "metadata": {},
     "output_type": "display_data"
    },
    {
     "data": {
      "application/vnd.jupyter.widget-view+json": {
       "model_id": "794c9a04dd5848119cc9c383dff5469d",
       "version_major": 2,
       "version_minor": 0
      },
      "text/plain": [
       "VBox(children=(HBox(children=(HTML(value='Type:'), Button(description='Table', layout=Layout(width='70px'), st…"
      ]
     },
     "metadata": {},
     "output_type": "display_data"
    },
    {
     "data": {
      "application/vnd.jupyter.widget-view+json": {
       "model_id": "ea53b5aea649477d9cd9bb9b11a80c49",
       "version_major": 2,
       "version_minor": 0
      },
      "text/plain": [
       "Output()"
      ]
     },
     "metadata": {},
     "output_type": "display_data"
    }
   ],
   "source": [
    "%%sql -o pred_test_lr --maxrows -1\n",
    "SELECT * FROM pred_test_lr"
   ]
  },
  {
   "cell_type": "code",
   "execution_count": 39,
   "metadata": {},
   "outputs": [
    {
     "data": {
      "application/vnd.jupyter.widget-view+json": {
       "model_id": "",
       "version_major": 2,
       "version_minor": 0
      },
      "text/plain": [
       "FloatProgress(value=0.0, bar_style='info', description='Progress:', layout=Layout(height='25px', width='50%'),…"
      ]
     },
     "metadata": {},
     "output_type": "display_data"
    }
   ],
   "source": [
    "pred_test_gbt.createOrReplaceTempView(\"pred_test_gbt\")"
   ]
  },
  {
   "cell_type": "code",
   "execution_count": 40,
   "metadata": {},
   "outputs": [
    {
     "data": {
      "application/vnd.jupyter.widget-view+json": {
       "model_id": "",
       "version_major": 2,
       "version_minor": 0
      },
      "text/plain": [
       "FloatProgress(value=0.0, bar_style='info', description='Progress:', layout=Layout(height='25px', width='50%'),…"
      ]
     },
     "metadata": {},
     "output_type": "display_data"
    },
    {
     "data": {
      "application/vnd.jupyter.widget-view+json": {
       "model_id": "830826e1fe434e4e8ab90e0dcce89061",
       "version_major": 2,
       "version_minor": 0
      },
      "text/plain": [
       "VBox(children=(HBox(children=(HTML(value='Type:'), Button(description='Table', layout=Layout(width='70px'), st…"
      ]
     },
     "metadata": {},
     "output_type": "display_data"
    },
    {
     "data": {
      "application/vnd.jupyter.widget-view+json": {
       "model_id": "3f621ad40ddc46979ff9550b8cfe6ce5",
       "version_major": 2,
       "version_minor": 0
      },
      "text/plain": [
       "Output()"
      ]
     },
     "metadata": {},
     "output_type": "display_data"
    }
   ],
   "source": [
    "%%sql -o pred_test_gbt --maxrows -1\n",
    "SELECT * FROM pred_test_gbt"
   ]
  },
  {
   "cell_type": "code",
   "execution_count": 41,
   "metadata": {},
   "outputs": [],
   "source": [
    "%local \n",
    "\n",
    "def gainChart(pred_test):\n",
    "    \n",
    "    # Extract the relevant data\n",
    "\n",
    "    # Predicted proba that label is 1\n",
    "    proba0 = [x[\"values\"][0] for x in pred_test[\"probability\"]]\n",
    "    pred_test[\"proba0\"] = pd.Series(proba0)\n",
    "    sorted_pred_test = pred_test.sort_values(by=\"proba0\").drop([\"features\", \"rawPrediction\", \"probability\"], axis=1)\n",
    "\n",
    "    sorted_pred_test.head(5)\n",
    "\n",
    "    # Reset index\n",
    "    sorted_pred_test_bis = sorted_pred_test.reset_index(drop=True)\n",
    "    n = len(sorted_pred_test_bis)\n",
    "\n",
    "    # Add cumulated count for #customers and cumulated frequency for %churners\n",
    "\n",
    "    #Initialize columns\n",
    "    sorted_pred_test_bis[\"#Customers\"] = pd.Series([0 for x in range(n)])\n",
    "    #sorted_pred_test_bis[\"#predChurners\"] = pd.Series([0 for x in range(n)])\n",
    "    sorted_pred_test_bis[\"#trueChurners\"] = pd.Series([0 for x in range(n)])\n",
    "\n",
    "    # case i = 0\n",
    "    sorted_pred_test_bis[\"#Customers\"][0] = 1\n",
    "    #sorted_pred_test_bis[\"#predChurners\"][0] = sorted_pred_test_bis[\"prediction\"][0]\n",
    "    sorted_pred_test_bis[\"#trueChurners\"][0] = sorted_pred_test_bis[\"label\"][0]\n",
    "\n",
    "    # case i>0\n",
    "    for i in range(1,n):\n",
    "        sorted_pred_test_bis[\"#Customers\"][i] = i+1\n",
    "        #sorted_pred_test_bis[\"#predChurners\"][i] = sorted_pred_test_bis[\"#predChurners\"][i-1] + sorted_pred_test_bis[\"prediction\"][i]\n",
    "        sorted_pred_test_bis[\"#trueChurners\"][i] = sorted_pred_test_bis[\"#trueChurners\"][i-1] + sorted_pred_test_bis[\"label\"][i]\n",
    "\n",
    "    # Counters as percentages\n",
    "    m = sum(sorted_pred_test_bis[\"label\"])\n",
    "    #sorted_pred_test_bis[\"#predChurners\"]/= m  \n",
    "    sorted_pred_test_bis[\"#trueChurners\"]/= m\n",
    "    sorted_pred_test_bis[\"#Customers\"] /= n\n",
    "\n",
    "    \n",
    "    ## Extract x and y for plot \n",
    "\n",
    "    x = sorted_pred_test_bis[\"#Customers\"].values.tolist()\n",
    "    #y = [sorted_pred_test_bis[\"#trueChurners\"].values.tolist(), sorted_pred_test_bis[\"#predChurners\"].values.tolist()]\n",
    "    y = sorted_pred_test_bis[\"#trueChurners\"].values.tolist()\n",
    "    \n",
    "    return(x,y)"
   ]
  },
  {
   "cell_type": "code",
   "execution_count": 42,
   "metadata": {},
   "outputs": [],
   "source": [
    "%local\n",
    "import warnings\n",
    "warnings.filterwarnings(\"ignore\")\n",
    "\n",
    "from multiprocessing.dummy import Pool as ThreadPool\n",
    "# Parallelize tasks\n",
    "def calculateParallel_xy(dfList, threads=2):\n",
    "    pool = ThreadPool(threads)\n",
    "    results = pool.map(gainChart, dfList)\n",
    "    pool.close()\n",
    "    pool.join()\n",
    "    return results\n",
    "\n",
    "# Compute values\n",
    "dfList = [pred_test_lr, pred_test_rf, pred_test_gbt]\n",
    "xy_list = calculateParallel_xy(dfList, 4)\n",
    "[(x_lr, y_lr), (x_rf, y_rf), (x_gbt, y_gbt)] = xy_list"
   ]
  },
  {
   "cell_type": "code",
   "execution_count": 43,
   "metadata": {},
   "outputs": [
    {
     "data": {
      "image/png": "[encoded data removed]",
      "text/plain": [
       "<Figure size 720x504 with 1 Axes>"
      ]
     },
     "metadata": {
      "needs_background": "light"
     },
     "output_type": "display_data"
    }
   ],
   "source": [
    "%local\n",
    "\n",
    "## Plot all the curves on the same graph\n",
    "\n",
    "m = sum(pred_test_lr[\"label\"])\n",
    "n = len(pred_test_lr)\n",
    "\n",
    "ax, fig=plt.subplots(figsize=(10,7))\n",
    "    \n",
    "x_random = [0,1]\n",
    "y_random = [0,1]\n",
    "\n",
    "x_perfect = [0,m/n,1]\n",
    "y_perfect = [0,1,1]\n",
    "\n",
    "plt.ylim((0, 1.1)) \n",
    "\n",
    "plt.plot(x_perfect, y_perfect, color = 'grey', label = \"perfect\")\n",
    "plt.plot(x_random, y_random, color = 'b', label = \"random\")\n",
    "\n",
    "plt.plot(x_lr, y_lr, label=\"true churners Logistic Regression\")\n",
    "plt.plot(x_rf, y_rf, label=\"true churners Random Forest\")\n",
    "plt.plot(x_gbt, y_gbt, label=\"true churners GBT\")\n",
    "    \n",
    "    \n",
    "plt.xlabel('Customer Percentage', fontsize=15)\n",
    "plt.ylabel('True churners in % of the total number of churners', fontsize=15)\n",
    "ax.legend(loc='center')\n",
    "plt.title('Cumulative Gain Curves', fontsize=20)\n",
    "\n",
    "plt.show()    "
   ]
  },
  {
   "cell_type": "markdown",
   "metadata": {},
   "source": [
    "If we target 30 % of the customers which are the most likely to be churners, we are able to reach over 80% of all real churners. Beyond this point improvements come slower."
   ]
  },
  {
   "cell_type": "markdown",
   "metadata": {},
   "source": [
    "## 6. Save the results for deployment"
   ]
  },
  {
   "cell_type": "markdown",
   "metadata": {},
   "source": [
    "Optional : if you want to take a final look at your models' parameters before saving them."
   ]
  },
  {
   "cell_type": "code",
   "execution_count": 44,
   "metadata": {},
   "outputs": [
    {
     "data": {
      "application/vnd.jupyter.widget-view+json": {
       "model_id": "",
       "version_major": 2,
       "version_minor": 0
      },
      "text/plain": [
       "FloatProgress(value=0.0, bar_style='info', description='Progress:', layout=Layout(height='25px', width='50%'),…"
      ]
     },
     "metadata": {},
     "output_type": "display_data"
    }
   ],
   "source": [
    "#print(\"KMeans parameters:\\n\" + kmeans.explainParams() + \"\\n\")\n",
    "#print(\"Logistic Regression parameters:\\n\" + logReg.explainParams() + \"\\n\")\n",
    "#print(\"Random Forest parameters:\\n\" + rf.explainParams() + \"\\n\")\n",
    "#print(\"Gadient Boosted Trees parameters:\\n\" + gbt.explainParams() + \"\\n\")"
   ]
  },
  {
   "cell_type": "markdown",
   "metadata": {},
   "source": [
    "__Method 1 : Extract parameter map__\n",
    "\n",
    "First, save the parameter map of each model. Then, create a new model and use algo.fit(training_set, saved_param). Here is an example with KMeans."
   ]
  },
  {
   "cell_type": "code",
   "execution_count": 47,
   "metadata": {},
   "outputs": [
    {
     "data": {
      "application/vnd.jupyter.widget-view+json": {
       "model_id": "",
       "version_major": 2,
       "version_minor": 0
      },
      "text/plain": [
       "FloatProgress(value=0.0, bar_style='info', description='Progress:', layout=Layout(height='25px', width='50%'),…"
      ]
     },
     "metadata": {},
     "output_type": "display_data"
    },
    {
     "name": "stdout",
     "output_type": "stream",
     "text": [
      "KMeans Model was fit using parameters: \n",
      "{Param(parent='KMeans_4bd9b751b6ee845ea92c', name='featuresCol', doc='features column name'): 'features', Param(parent='KMeans_4bd9b751b6ee845ea92c', name='initMode', doc=\"The initialization algorithm. Supported options: 'random' and 'k-means||'.\"): 'k-means||', Param(parent='KMeans_4bd9b751b6ee845ea92c', name='initSteps', doc='The number of steps for k-means|| initialization mode. Must be > 0.'): 2, Param(parent='KMeans_4bd9b751b6ee845ea92c', name='k', doc='The number of clusters to create. Must be > 1.'): 15, Param(parent='KMeans_4bd9b751b6ee845ea92c', name='maxIter', doc='maximum number of iterations (>= 0)'): 20, Param(parent='KMeans_4bd9b751b6ee845ea92c', name='predictionCol', doc='prediction column name'): 'prediction', Param(parent='KMeans_4bd9b751b6ee845ea92c', name='seed', doc='random seed'): 1, Param(parent='KMeans_4bd9b751b6ee845ea92c', name='tol', doc='the convergence tolerance for iterative algorithms (>= 0)'): 0.0001}"
     ]
    }
   ],
   "source": [
    "# Example with kmeans \n",
    "\n",
    "# Extract parameter map\n",
    "kmeansParamMap = clusterModel.extractParamMap()\n",
    "print(\"KMeans Model was fit using parameters: \")\n",
    "print(kmeansParamMap)\n",
    "# Define a new model with the same parameter map\n",
    "kmeans2 = kmeans.fit(train_11, kmeansParamMap)"
   ]
  },
  {
   "cell_type": "markdown",
   "metadata": {},
   "source": [
    "However this is not the most practical way of saving your models. Let's save them directly as separate files."
   ]
  },
  {
   "cell_type": "markdown",
   "metadata": {},
   "source": [
    "__Method 2 : Save models as files__"
   ]
  },
  {
   "cell_type": "code",
   "execution_count": 46,
   "metadata": {},
   "outputs": [
    {
     "data": {
      "application/vnd.jupyter.widget-view+json": {
       "model_id": "",
       "version_major": 2,
       "version_minor": 0
      },
      "text/plain": [
       "FloatProgress(value=0.0, bar_style='info', description='Progress:', layout=Layout(height='25px', width='50%'),…"
      ]
     },
     "metadata": {},
     "output_type": "display_data"
    }
   ],
   "source": [
    "# just use model.save(\"path\") if there is no name conflict\n",
    "# feel free to adapt the path \n",
    "clusterModel.write().overwrite().save(\"/tmp/myClusterModel\")\n",
    "lrModel.write().overwrite().save(\"/tmp/myLogRegModel\")\n",
    "rfModel.write().overwrite().save(\"/tmp/myRFModel\")\n",
    "gbtModel.write().overwrite().save(\"/tmp/myGBTModel\")"
   ]
  },
  {
   "cell_type": "markdown",
   "metadata": {},
   "source": [
    "## What you've learned\n",
    "\n",
    "Congratulations!\n",
    "\n",
    "Through this notebook, you've learned how to:\n",
    "\n",
    "* use PySpark for a classic workflow, from data preparation to model assessment\n",
    "* build models using both supervised and unsupervised learning\n",
    "* compute and visualize useful indicators in order to evaluate a model\n",
    "* save a model for future use."
   ]
  },
  {
   "cell_type": "markdown",
   "metadata": {},
   "source": [
    "____\n",
    "## Authors\n",
    "\n",
    "Eva Feillet - ML intern, IBM Cloud and Cognitive Software, IBM Lab in Böbligen, Germany"
   ]
  }
 ],
 "metadata": {
  "kernelspec": {
   "display_name": "PySpark",
   "language": "",
   "name": "pysparkkernel"
  },
  "language_info": {
   "codemirror_mode": {
    "name": "python",
    "version": 2
   },
   "mimetype": "text/x-python",
   "name": "pyspark",
   "pygments_lexer": "python2"
  }
 },
 "nbformat": 4,
 "nbformat_minor": 2
}
