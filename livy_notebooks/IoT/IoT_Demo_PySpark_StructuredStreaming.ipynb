{
 "cells": [
  {
   "cell_type": "markdown",
   "metadata": {},
   "source": [
    "# Db2 Warehouse IoT demo \n",
    "# Structured Streaming with Apache Kafka and PySpark \n",
    "\n",
    "\n",
    "This is a demo notebook for Db2 Warehouse's integrated Apache Spark environment and how it can be used to process and land streaming data in Db2 tables. It runs through livy with a PySpark kernel.\n",
    "\n",
    "If you are new to Db2 Warehouse and its integrated Apache Spark capabilities you may first want to check out this [overview article](http://www.ibmbigdatahub.com/blog/evolving-enterprise-data-warehouse-beyond-sql-apache-spark). For more details about structured streaming and Kafka integration, please follow this [link](https://spark.apache.org/docs/2.3.0/structured-streaming-kafka-integration.html#deploying)."
   ]
  },
  {
   "cell_type": "markdown",
   "metadata": {},
   "source": [
    "![](https://ibm.box.com/shared/static/6dr6gou6xr1alfwnj6zkj0tbsyc64vda.png)"
   ]
  },
  {
   "cell_type": "markdown",
   "metadata": {},
   "source": [
    "## Set up IoT demo data producer\n",
    "This demo relies on a little data producer container that you have to set up on the same host as your Db2 Warehouse container. You can find it [here](https://github.com/ibmdbanalytics/dashdb_analytic_tools/tree/notebook-dev/dashdblocal_notebooks/iot_producer) in a sub folder of the dashDB Jupyter notebook container project. Please follow the instructions found there and perform the few simple steps to set it up. \n",
    "\n",
    "This producer will set up a Kafka server on port `9092` with a Kafka topic named `iot4dashdb` and permanently flow in there messages about wind turbine device measurements."
   ]
  },
  {
   "cell_type": "markdown",
   "metadata": {},
   "source": [
    "## Streaming environment setup for Spark"
   ]
  },
  {
   "cell_type": "markdown",
   "metadata": {},
   "source": [
    "__Imports__"
   ]
  },
  {
   "cell_type": "code",
   "execution_count": 1,
   "metadata": {},
   "outputs": [
    {
     "name": "stdout",
     "output_type": "stream",
     "text": [
      "Starting Spark application\n"
     ]
    },
    {
     "data": {
      "text/html": [
       "<table>\n",
       "<tr><th>ID</th><th>YARN Application ID</th><th>Kind</th><th>State</th><th>Spark UI</th><th>Driver log</th><th>Current session?</th></tr><tr><td>21</td><td>None</td><td>pyspark</td><td>idle</td><td></td><td></td><td>✔</td></tr></table>"
      ],
      "text/plain": [
       "<IPython.core.display.HTML object>"
      ]
     },
     "metadata": {},
     "output_type": "display_data"
    },
    {
     "data": {
      "application/vnd.jupyter.widget-view+json": {
       "model_id": "",
       "version_major": 2,
       "version_minor": 0
      },
      "text/plain": [
       "FloatProgress(value=0.0, bar_style='info', description='Progress:', layout=Layout(height='25px', width='50%'),…"
      ]
     },
     "metadata": {},
     "output_type": "display_data"
    },
    {
     "name": "stdout",
     "output_type": "stream",
     "text": [
      "SparkSession available as 'spark'.\n"
     ]
    },
    {
     "data": {
      "application/vnd.jupyter.widget-view+json": {
       "model_id": "",
       "version_major": 2,
       "version_minor": 0
      },
      "text/plain": [
       "FloatProgress(value=0.0, bar_style='info', description='Progress:', layout=Layout(height='25px', width='50%'),…"
      ]
     },
     "metadata": {},
     "output_type": "display_data"
    }
   ],
   "source": [
    "from pyspark import SparkContext\n",
    "from pyspark.sql import SparkSession \n",
    "from pyspark.sql.functions import from_json\n",
    "from pyspark.sql.functions import col\n",
    "from pyspark.sql.types import StructType, StructField, StringType, LongType, TimestampType\n",
    "\n",
    "from pyspark.streaming import StreamingContext\n",
    "from pyspark.streaming.kafka import KafkaUtils\n",
    "from ast import literal_eval\n",
    "import json\n",
    "import time"
   ]
  },
  {
   "cell_type": "markdown",
   "metadata": {},
   "source": [
    "__Define a Spark session__"
   ]
  },
  {
   "cell_type": "code",
   "execution_count": 2,
   "metadata": {},
   "outputs": [
    {
     "data": {
      "application/vnd.jupyter.widget-view+json": {
       "model_id": "",
       "version_major": 2,
       "version_minor": 0
      },
      "text/plain": [
       "FloatProgress(value=0.0, bar_style='info', description='Progress:', layout=Layout(height='25px', width='50%'),…"
      ]
     },
     "metadata": {},
     "output_type": "display_data"
    }
   ],
   "source": [
    "sparkSession = SparkSession \\\n",
    "        .builder \\\n",
    "        .appName(\"IoT_Demo\") \\\n",
    "        .getOrCreate()"
   ]
  },
  {
   "cell_type": "markdown",
   "metadata": {},
   "source": [
    "__Kafka for structured streaming__\n",
    "\n",
    "Let's check if you have the Kafka stream library available. If this is not the case you should download it, put it into the ~/spark/defaultlibs directory and restart the notebook. Same for the Spark SQL Kafka library."
   ]
  },
  {
   "cell_type": "code",
   "execution_count": 3,
   "metadata": {},
   "outputs": [
    {
     "data": {
      "application/vnd.jupyter.widget-view+json": {
       "model_id": "",
       "version_major": 2,
       "version_minor": 0
      },
      "text/plain": [
       "FloatProgress(value=0.0, bar_style='info', description='Progress:', layout=Layout(height='25px', width='50%'),…"
      ]
     },
     "metadata": {},
     "output_type": "display_data"
    },
    {
     "name": "stdout",
     "output_type": "stream",
     "text": [
      "Kafka assembly found\n",
      "Kafka sql found"
     ]
    }
   ],
   "source": [
    "import os\n",
    "path = os.getenv(\"HOME\") + \"/spark/defaultlibs\"\n",
    "\n",
    "kafka_assembly = \"spark-streaming-kafka-0-10-assembly_2.11-2.3.0.jar\"\n",
    "url = \"http://repo1.maven.org/maven2/org/apache/spark/spark-streaming-kafka-0-10-assembly_2.11/2.3.0/\" + kafka_assembly\n",
    "\n",
    "if (os.path.exists(path + \"/\" + kafka_assembly)):\n",
    "    print(\"Kafka assembly found\")\n",
    "else:\n",
    "    os.system(\"wget -nc \"+url)\n",
    "    print(\"Please restart the notebook\")\n",
    "    \n",
    "    \n",
    "kafka_sql = \"spark-sql-kafka-0-10_2.11-2.3.0.jar\"\n",
    "url = \"http://repo1.maven.org/maven2/org/apache/spark/spark-sql-kafka-0-10_2.11/2.3.0/\" + kafka_sql\n",
    "\n",
    "if (os.path.exists(path + \"/\" + kafka_sql)):\n",
    "    print(\"Kafka sql found\")\n",
    "else:\n",
    "    os.system(\"wget -nc \"+url)\n",
    "    print(\"Please restart the notebook\")"
   ]
  },
  {
   "cell_type": "markdown",
   "metadata": {},
   "source": [
    "__Streaming queries to access data from our iotproducer__\n",
    "\n",
    "Here we subscribe to the topic `iot4dashdb` with structure streaming. The dsraw dataframe will collect data flowing from the iotproducer until this notebook is shut down or the iotproducer stops. We define a timeout so that, after some time, the query object stops collecting new data. Otherwise it would run undefinitely."
   ]
  },
  {
   "cell_type": "code",
   "execution_count": 4,
   "metadata": {},
   "outputs": [
    {
     "data": {
      "application/vnd.jupyter.widget-view+json": {
       "model_id": "",
       "version_major": 2,
       "version_minor": 0
      },
      "text/plain": [
       "FloatProgress(value=0.0, bar_style='info', description='Progress:', layout=Layout(height='25px', width='50%'),…"
      ]
     },
     "metadata": {},
     "output_type": "display_data"
    }
   ],
   "source": [
    "topics=[\"iot4dashdb\"]"
   ]
  },
  {
   "cell_type": "code",
   "execution_count": 5,
   "metadata": {},
   "outputs": [
    {
     "data": {
      "application/vnd.jupyter.widget-view+json": {
       "model_id": "",
       "version_major": 2,
       "version_minor": 0
      },
      "text/plain": [
       "FloatProgress(value=0.0, bar_style='info', description='Progress:', layout=Layout(height='25px', width='50%'),…"
      ]
     },
     "metadata": {},
     "output_type": "display_data"
    }
   ],
   "source": [
    "# Subscribe to 1 topic with structure streaming\n",
    "# default for startingOffsets is \"latest\", but \"earliest\" allows rewind for missed signals\n",
    "dsraw = spark \\\n",
    "  .readStream \\\n",
    "  .format(\"kafka\") \\\n",
    "  .option(\"kafka.bootstrap.servers\", \"localhost:9092\") \\\n",
    "  .option(\"subscribe\", topics[0]) \\\n",
    "  .option(\"startingOffsets\", \"earliest\").load()"
   ]
  },
  {
   "cell_type": "code",
   "execution_count": 6,
   "metadata": {},
   "outputs": [
    {
     "data": {
      "application/vnd.jupyter.widget-view+json": {
       "model_id": "",
       "version_major": 2,
       "version_minor": 0
      },
      "text/plain": [
       "FloatProgress(value=0.0, bar_style='info', description='Progress:', layout=Layout(height='25px', width='50%'),…"
      ]
     },
     "metadata": {},
     "output_type": "display_data"
    }
   ],
   "source": [
    "ds = dsraw.selectExpr(\"CAST(value AS STRING)\") # select only the \"value\" field"
   ]
  },
  {
   "cell_type": "markdown",
   "metadata": {},
   "source": [
    "`dsraw` is the raw data stream, in \"kafka\" format, whereas `ds` pulls out the \"value\" from \"kafka\" format, the actual turbine data. Note: ds stands for \"data stream\". Both are dataframes. Let's look at their respective schemas."
   ]
  },
  {
   "cell_type": "code",
   "execution_count": 7,
   "metadata": {},
   "outputs": [
    {
     "data": {
      "application/vnd.jupyter.widget-view+json": {
       "model_id": "",
       "version_major": 2,
       "version_minor": 0
      },
      "text/plain": [
       "FloatProgress(value=0.0, bar_style='info', description='Progress:', layout=Layout(height='25px', width='50%'),…"
      ]
     },
     "metadata": {},
     "output_type": "display_data"
    },
    {
     "name": "stdout",
     "output_type": "stream",
     "text": [
      "<class 'pyspark.sql.dataframe.DataFrame'>\n",
      "<class 'pyspark.sql.dataframe.DataFrame'>"
     ]
    }
   ],
   "source": [
    "print(type(dsraw)) # dsraw is the raw data stream, in \"kafka\" format\n",
    "print(type(ds)) # ds pulls out the \"value\" from \"kafka\" format, the actual turbine data\n",
    "# ds stands for \"data stream\""
   ]
  },
  {
   "cell_type": "code",
   "execution_count": 8,
   "metadata": {},
   "outputs": [
    {
     "data": {
      "application/vnd.jupyter.widget-view+json": {
       "model_id": "",
       "version_major": 2,
       "version_minor": 0
      },
      "text/plain": [
       "FloatProgress(value=0.0, bar_style='info', description='Progress:', layout=Layout(height='25px', width='50%'),…"
      ]
     },
     "metadata": {},
     "output_type": "display_data"
    },
    {
     "name": "stdout",
     "output_type": "stream",
     "text": [
      "root\n",
      " |-- key: binary (nullable = true)\n",
      " |-- value: binary (nullable = true)\n",
      " |-- topic: string (nullable = true)\n",
      " |-- partition: integer (nullable = true)\n",
      " |-- offset: long (nullable = true)\n",
      " |-- timestamp: timestamp (nullable = true)\n",
      " |-- timestampType: integer (nullable = true)"
     ]
    }
   ],
   "source": [
    "dsraw.printSchema() \n",
    "\n",
    "# typical schema for a streaming dataset.\n",
    "# particular features are contained in the field \"value\""
   ]
  },
  {
   "cell_type": "code",
   "execution_count": 9,
   "metadata": {},
   "outputs": [
    {
     "data": {
      "application/vnd.jupyter.widget-view+json": {
       "model_id": "",
       "version_major": 2,
       "version_minor": 0
      },
      "text/plain": [
       "FloatProgress(value=0.0, bar_style='info', description='Progress:', layout=Layout(height='25px', width='50%'),…"
      ]
     },
     "metadata": {},
     "output_type": "display_data"
    },
    {
     "name": "stdout",
     "output_type": "stream",
     "text": [
      "root\n",
      " |-- value: string (nullable = true)"
     ]
    }
   ],
   "source": [
    "ds.printSchema() \n",
    "\n",
    "# the features inside value are not distinguished so far, we will have to extract them"
   ]
  },
  {
   "cell_type": "markdown",
   "metadata": {},
   "source": [
    "Before running the queries, send some messages (see iotproducer set-up document).\n",
    "\n",
    "> docker exec -it iotproducer kafka/bin/kafka-console-consumer.sh --bootstrap-server localhost:9092 --topic iot4dashdb --from-beginning"
   ]
  },
  {
   "cell_type": "markdown",
   "metadata": {},
   "source": [
    "**Queries**\n",
    "\n",
    "Queries are new SQL dataframe streams and can be written to disk or saved to memory for followup SQL operations. Below we save two queries to memory with queryNames that can then be treated as tables by `spark.sql`."
   ]
  },
  {
   "cell_type": "code",
   "execution_count": 10,
   "metadata": {},
   "outputs": [
    {
     "data": {
      "application/vnd.jupyter.widget-view+json": {
       "model_id": "",
       "version_major": 2,
       "version_minor": 0
      },
      "text/plain": [
       "FloatProgress(value=0.0, bar_style='info', description='Progress:', layout=Layout(height='25px', width='50%'),…"
      ]
     },
     "metadata": {},
     "output_type": "display_data"
    }
   ],
   "source": [
    "### QUERIES ### \n",
    "\n",
    "# Define the timeout, in seconds\n",
    "timeout = 20\n",
    "\n",
    "# on raw data\n",
    "rawQuery = dsraw \\\n",
    "        .writeStream \\\n",
    "        .queryName(\"qraw\")\\\n",
    "        .format(\"memory\")\\\n",
    "        .start()\n",
    "\n",
    "# on actual values\n",
    "turbineQuery = ds \\\n",
    "        .writeStream \\\n",
    "        .queryName(\"qturbine\")\\\n",
    "        .format(\"memory\")\\\n",
    "        .start()\n",
    "\n",
    "# Wait for the queries to collect data - duration: timeout\n",
    "time.sleep(timeout)   \n",
    "rawQuery.stop()\n",
    "turbineQuery.stop()"
   ]
  },
  {
   "cell_type": "code",
   "execution_count": 11,
   "metadata": {},
   "outputs": [
    {
     "data": {
      "application/vnd.jupyter.widget-view+json": {
       "model_id": "",
       "version_major": 2,
       "version_minor": 0
      },
      "text/plain": [
       "FloatProgress(value=0.0, bar_style='info', description='Progress:', layout=Layout(height='25px', width='50%'),…"
      ]
     },
     "metadata": {},
     "output_type": "display_data"
    },
    {
     "name": "stdout",
     "output_type": "stream",
     "text": [
      "<class 'pyspark.sql.streaming.StreamingQuery'>"
     ]
    }
   ],
   "source": [
    "type(rawQuery)"
   ]
  },
  {
   "cell_type": "markdown",
   "metadata": {},
   "source": [
    "## Data exploration \n",
    "\n",
    "We will collect streaming data by using the queries we have just defined. We explore this data: which features did we actually collect in the value field?\n",
    "Then we go through a few data processing steps in order to obtain a clean Spark DataFrame which we then write into a Db2 table.\n",
    "\n",
    "NB: you need to wait a few seconds for the queries to collect streaming data before you can actually print values."
   ]
  },
  {
   "cell_type": "code",
   "execution_count": 12,
   "metadata": {},
   "outputs": [
    {
     "data": {
      "application/vnd.jupyter.widget-view+json": {
       "model_id": "",
       "version_major": 2,
       "version_minor": 0
      },
      "text/plain": [
       "FloatProgress(value=0.0, bar_style='info', description='Progress:', layout=Layout(height='25px', width='50%'),…"
      ]
     },
     "metadata": {},
     "output_type": "display_data"
    },
    {
     "name": "stdout",
     "output_type": "stream",
     "text": [
      "+----+--------------------+----------+---------+------+--------------------+-------------+\n",
      "| key|               value|     topic|partition|offset|           timestamp|timestampType|\n",
      "+----+--------------------+----------+---------+------+--------------------+-------------+\n",
      "|null|[7B 22 70 61 79 6...|iot4dashdb|        0|     0|2019-12-16 15:40:...|            0|\n",
      "|null|[7B 22 70 61 79 6...|iot4dashdb|        0|     1|2019-12-16 15:40:...|            0|\n",
      "|null|[7B 22 70 61 79 6...|iot4dashdb|        0|     2|2019-12-16 15:40:...|            0|\n",
      "|null|[7B 22 70 61 79 6...|iot4dashdb|        0|     3|2019-12-16 15:40:...|            0|\n",
      "|null|[7B 22 70 61 79 6...|iot4dashdb|        0|     4|2019-12-16 15:40:...|            0|\n",
      "|null|[7B 22 70 61 79 6...|iot4dashdb|        0|     5|2019-12-16 15:40:...|            0|\n",
      "|null|[7B 22 70 61 79 6...|iot4dashdb|        0|     6|2019-12-16 15:40:...|            0|\n",
      "|null|[7B 22 70 61 79 6...|iot4dashdb|        0|     7| 2019-12-16 15:40:23|            0|\n",
      "|null|[7B 22 70 61 79 6...|iot4dashdb|        0|     8|2019-12-16 15:40:...|            0|\n",
      "|null|[7B 22 70 61 79 6...|iot4dashdb|        0|     9|2019-12-16 15:40:...|            0|\n",
      "|null|[7B 22 70 61 79 6...|iot4dashdb|        0|    10|2019-12-16 15:40:...|            0|\n",
      "|null|[7B 22 70 61 79 6...|iot4dashdb|        0|    11|2019-12-16 15:40:...|            0|\n",
      "|null|[7B 22 70 61 79 6...|iot4dashdb|        0|    12|2019-12-16 15:40:...|            0|\n",
      "|null|[7B 22 70 61 79 6...|iot4dashdb|        0|    13|2019-12-16 15:40:...|            0|\n",
      "|null|[7B 22 70 61 79 6...|iot4dashdb|        0|    14|2019-12-16 15:40:...|            0|\n",
      "|null|[7B 22 70 61 79 6...|iot4dashdb|        0|    15|2019-12-16 15:40:...|            0|\n",
      "|null|[7B 22 70 61 79 6...|iot4dashdb|        0|    16|2019-12-16 15:40:...|            0|\n",
      "|null|[7B 22 70 61 79 6...|iot4dashdb|        0|    17|2019-12-16 15:40:...|            0|\n",
      "|null|[7B 22 70 61 79 6...|iot4dashdb|        0|    18|2019-12-16 15:40:...|            0|\n",
      "|null|[7B 22 70 61 79 6...|iot4dashdb|        0|    19|2019-12-16 15:40:...|            0|\n",
      "+----+--------------------+----------+---------+------+--------------------+-------------+\n",
      "only showing top 20 rows"
     ]
    }
   ],
   "source": [
    "# Raw data\n",
    "\n",
    "raw = spark.sql(\"select * from qraw\")\n",
    "raw.show()"
   ]
  },
  {
   "cell_type": "code",
   "execution_count": 13,
   "metadata": {},
   "outputs": [
    {
     "data": {
      "application/vnd.jupyter.widget-view+json": {
       "model_id": "",
       "version_major": 2,
       "version_minor": 0
      },
      "text/plain": [
       "FloatProgress(value=0.0, bar_style='info', description='Progress:', layout=Layout(height='25px', width='50%'),…"
      ]
     },
     "metadata": {},
     "output_type": "display_data"
    },
    {
     "name": "stdout",
     "output_type": "stream",
     "text": [
      "+--------------------+\n",
      "|               value|\n",
      "+--------------------+\n",
      "|{\"payload\": {\"tem...|\n",
      "|{\"payload\": {\"tem...|\n",
      "|{\"payload\": {\"tem...|\n",
      "|{\"payload\": {\"tem...|\n",
      "|{\"payload\": {\"tem...|\n",
      "|{\"payload\": {\"tem...|\n",
      "|{\"payload\": {\"tem...|\n",
      "|{\"payload\": {\"tem...|\n",
      "|{\"payload\": {\"tem...|\n",
      "|{\"payload\": {\"tem...|\n",
      "|{\"payload\": {\"tem...|\n",
      "|{\"payload\": {\"tem...|\n",
      "|{\"payload\": {\"tem...|\n",
      "|{\"payload\": {\"tem...|\n",
      "|{\"payload\": {\"tem...|\n",
      "|{\"payload\": {\"tem...|\n",
      "|{\"payload\": {\"tem...|\n",
      "|{\"payload\": {\"tem...|\n",
      "|{\"payload\": {\"tem...|\n",
      "|{\"payload\": {\"tem...|\n",
      "+--------------------+\n",
      "only showing top 20 rows"
     ]
    }
   ],
   "source": [
    "# Values only\n",
    "\n",
    "turbine = spark.sql(\"select * from qturbine\")\n",
    "turbine.show()"
   ]
  },
  {
   "cell_type": "markdown",
   "metadata": {},
   "source": [
    "As you have noticed, the features are in a nested format. We need to modify the schema before saving the data into a Db2 table."
   ]
  },
  {
   "cell_type": "code",
   "execution_count": 14,
   "metadata": {},
   "outputs": [
    {
     "data": {
      "application/vnd.jupyter.widget-view+json": {
       "model_id": "",
       "version_major": 2,
       "version_minor": 0
      },
      "text/plain": [
       "FloatProgress(value=0.0, bar_style='info', description='Progress:', layout=Layout(height='25px', width='50%'),…"
      ]
     },
     "metadata": {},
     "output_type": "display_data"
    },
    {
     "name": "stdout",
     "output_type": "stream",
     "text": [
      "<class 'pyspark.sql.dataframe.DataFrame'>"
     ]
    }
   ],
   "source": [
    "type(turbine)"
   ]
  },
  {
   "cell_type": "code",
   "execution_count": 15,
   "metadata": {},
   "outputs": [
    {
     "data": {
      "application/vnd.jupyter.widget-view+json": {
       "model_id": "",
       "version_major": 2,
       "version_minor": 0
      },
      "text/plain": [
       "FloatProgress(value=0.0, bar_style='info', description='Progress:', layout=Layout(height='25px', width='50%'),…"
      ]
     },
     "metadata": {},
     "output_type": "display_data"
    },
    {
     "name": "stdout",
     "output_type": "stream",
     "text": [
      "[Row(value='{\"payload\": {\"temperature\": 31,\"tempOutside\": 18,\"powerProd\": 1829,\"noiseLevel1\": 82,\"time\":\"2019-12-16 15:40:08\"},\"deviceId\": \"2702\",\"deviceType\": \"windGen\",\"eventType\": \"status\"}')]"
     ]
    }
   ],
   "source": [
    "# Get an idea of the json format of our data!\n",
    "turbine.rdd.take(1)"
   ]
  },
  {
   "cell_type": "markdown",
   "metadata": {},
   "source": [
    "#### Convert the values in the sql dataframe to an RDD of dictionaries\n",
    "\n",
    "We use RDDs as an intermediate step to extract data."
   ]
  },
  {
   "cell_type": "code",
   "execution_count": 16,
   "metadata": {},
   "outputs": [
    {
     "data": {
      "application/vnd.jupyter.widget-view+json": {
       "model_id": "",
       "version_major": 2,
       "version_minor": 0
      },
      "text/plain": [
       "FloatProgress(value=0.0, bar_style='info', description='Progress:', layout=Layout(height='25px', width='50%'),…"
      ]
     },
     "metadata": {},
     "output_type": "display_data"
    },
    {
     "name": "stdout",
     "output_type": "stream",
     "text": [
      "PythonRDD[123] at RDD at PythonRDD.scala:48"
     ]
    }
   ],
   "source": [
    "from ast import literal_eval\n",
    "rddTurbineRdd = turbine.rdd.map(lambda t: literal_eval(t['value']))\n",
    "rddTurbineRdd"
   ]
  },
  {
   "cell_type": "code",
   "execution_count": 17,
   "metadata": {},
   "outputs": [
    {
     "data": {
      "application/vnd.jupyter.widget-view+json": {
       "model_id": "",
       "version_major": 2,
       "version_minor": 0
      },
      "text/plain": [
       "FloatProgress(value=0.0, bar_style='info', description='Progress:', layout=Layout(height='25px', width='50%'),…"
      ]
     },
     "metadata": {},
     "output_type": "display_data"
    },
    {
     "name": "stdout",
     "output_type": "stream",
     "text": [
      "<class 'list'>"
     ]
    }
   ],
   "source": [
    "rddTurbine = rddTurbineRdd.collect()\n",
    "type(rddTurbine)"
   ]
  },
  {
   "cell_type": "code",
   "execution_count": 18,
   "metadata": {},
   "outputs": [
    {
     "data": {
      "application/vnd.jupyter.widget-view+json": {
       "model_id": "",
       "version_major": 2,
       "version_minor": 0
      },
      "text/plain": [
       "FloatProgress(value=0.0, bar_style='info', description='Progress:', layout=Layout(height='25px', width='50%'),…"
      ]
     },
     "metadata": {},
     "output_type": "display_data"
    },
    {
     "name": "stdout",
     "output_type": "stream",
     "text": [
      "{'payload': {'temperature': 31, 'tempOutside': 18, 'powerProd': 1829, 'noiseLevel1': 82, 'time': '2019-12-16 15:40:08'}, 'deviceId': '2702', 'deviceType': 'windGen', 'eventType': 'status'}"
     ]
    }
   ],
   "source": [
    "# Again, take a look at the actual data!\n",
    "rddTurbine[0]"
   ]
  },
  {
   "cell_type": "markdown",
   "metadata": {},
   "source": [
    "We have to extract the values from their nested format."
   ]
  },
  {
   "cell_type": "markdown",
   "metadata": {},
   "source": [
    "__Create a Dataframe with the desired schema__"
   ]
  },
  {
   "cell_type": "code",
   "execution_count": 19,
   "metadata": {},
   "outputs": [
    {
     "data": {
      "application/vnd.jupyter.widget-view+json": {
       "model_id": "",
       "version_major": 2,
       "version_minor": 0
      },
      "text/plain": [
       "FloatProgress(value=0.0, bar_style='info', description='Progress:', layout=Layout(height='25px', width='50%'),…"
      ]
     },
     "metadata": {},
     "output_type": "display_data"
    }
   ],
   "source": [
    "schema = StructType([StructField(\"payload\", \n",
    "                                StructType([StructField(\"temperature\", LongType()),\n",
    "                                            StructField(\"tempOutside\", LongType()),\n",
    "                                            StructField(\"powerProd\", LongType()),\n",
    "                                            StructField(\"noiseLevel1\", LongType()),\n",
    "                                            StructField(\"time\", StringType())])), # should be TimestampType\n",
    "                    StructField(\"deviceId\", StringType()),\n",
    "                    StructField(\"deviceType\", StringType()),\n",
    "                    StructField(\"eventType\", StringType())])\n",
    "\n",
    "turbine_df = sqlContext.createDataFrame(rddTurbineRdd, schema)"
   ]
  },
  {
   "cell_type": "code",
   "execution_count": 20,
   "metadata": {},
   "outputs": [
    {
     "data": {
      "application/vnd.jupyter.widget-view+json": {
       "model_id": "",
       "version_major": 2,
       "version_minor": 0
      },
      "text/plain": [
       "FloatProgress(value=0.0, bar_style='info', description='Progress:', layout=Layout(height='25px', width='50%'),…"
      ]
     },
     "metadata": {},
     "output_type": "display_data"
    },
    {
     "name": "stdout",
     "output_type": "stream",
     "text": [
      "+--------------------+--------+----------+---------+\n",
      "|             payload|deviceId|deviceType|eventType|\n",
      "+--------------------+--------+----------+---------+\n",
      "|[31, 18, 1829, 82...|    2702|   windGen|   status|\n",
      "|[36, 18, 1833, 82...|    2703|   windGen|   status|\n",
      "|[37, 18, 1835, 82...|    2703|   windGen|   status|\n",
      "|[38, 18, 1835, 82...|    2700|   windGen|   status|\n",
      "|[35, 18, 1831, 82...|    2707|   windGen|   status|\n",
      "|[38, 18, 1833, 82...|    2703|   windGen|   status|\n",
      "|[35, 18, 1827, 82...|    2709|   windGen|   status|\n",
      "|[31, 18, 1828, 82...|    2704|   windGen|   status|\n",
      "|[32, 18, 1830, 82...|    2704|   windGen|   status|\n",
      "|[31, 18, 1836, 82...|    2706|   windGen|   status|\n",
      "|[37, 18, 1829, 82...|    2705|   windGen|   status|\n",
      "|[31, 18, 1828, 82...|    2704|   windGen|   status|\n",
      "|[34, 18, 1829, 82...|    2700|   windGen|   status|\n",
      "|[37, 18, 1832, 82...|    2706|   windGen|   status|\n",
      "|[30, 18, 1833, 82...|    2703|   windGen|   status|\n",
      "|[31, 18, 1834, 82...|    2703|   windGen|   status|\n",
      "|[31, 18, 1835, 82...|    2705|   windGen|   status|\n",
      "|[37, 18, 1832, 82...|    2702|   windGen|   status|\n",
      "|[37, 18, 1834, 82...|    2701|   windGen|   status|\n",
      "|[37, 18, 1827, 82...|    2705|   windGen|   status|\n",
      "+--------------------+--------+----------+---------+\n",
      "only showing top 20 rows"
     ]
    }
   ],
   "source": [
    "turbine_df.show()\n",
    "\n",
    "# TypeError: field time in field payload: TimestampType can not accept object \n",
    "# '2019-12-16 08:49:10' in type <class 'str'> => replaced by StringType"
   ]
  },
  {
   "cell_type": "code",
   "execution_count": 21,
   "metadata": {},
   "outputs": [
    {
     "data": {
      "application/vnd.jupyter.widget-view+json": {
       "model_id": "",
       "version_major": 2,
       "version_minor": 0
      },
      "text/plain": [
       "FloatProgress(value=0.0, bar_style='info', description='Progress:', layout=Layout(height='25px', width='50%'),…"
      ]
     },
     "metadata": {},
     "output_type": "display_data"
    },
    {
     "name": "stdout",
     "output_type": "stream",
     "text": [
      "+-----------+-----------+---------+-----------+-------------------+--------+----------+---------+\n",
      "|temperature|tempOutside|powerProd|noiseLevel1|               time|deviceId|deviceType|eventType|\n",
      "+-----------+-----------+---------+-----------+-------------------+--------+----------+---------+\n",
      "|         31|         18|     1829|         82|2019-12-16 15:40:08|    2702|   windGen|   status|\n",
      "|         36|         18|     1833|         82|2019-12-16 15:40:10|    2703|   windGen|   status|\n",
      "|         37|         18|     1835|         82|2019-12-16 15:40:12|    2703|   windGen|   status|\n",
      "|         38|         18|     1835|         82|2019-12-16 15:40:14|    2700|   windGen|   status|\n",
      "|         35|         18|     1831|         82|2019-12-16 15:40:16|    2707|   windGen|   status|\n",
      "|         38|         18|     1833|         82|2019-12-16 15:40:17|    2703|   windGen|   status|\n",
      "|         35|         18|     1827|         82|2019-12-16 15:40:19|    2709|   windGen|   status|\n",
      "|         31|         18|     1828|         82|2019-12-16 15:40:21|    2704|   windGen|   status|\n",
      "|         32|         18|     1830|         82|2019-12-16 15:40:23|    2704|   windGen|   status|\n",
      "|         31|         18|     1836|         82|2019-12-16 15:40:25|    2706|   windGen|   status|\n",
      "|         37|         18|     1829|         82|2019-12-16 15:40:27|    2705|   windGen|   status|\n",
      "|         31|         18|     1828|         82|2019-12-16 15:40:28|    2704|   windGen|   status|\n",
      "|         34|         18|     1829|         82|2019-12-16 15:40:30|    2700|   windGen|   status|\n",
      "|         37|         18|     1832|         82|2019-12-16 15:40:32|    2706|   windGen|   status|\n",
      "|         30|         18|     1833|         82|2019-12-16 15:40:34|    2703|   windGen|   status|\n",
      "|         31|         18|     1834|         82|2019-12-16 15:40:36|    2703|   windGen|   status|\n",
      "|         31|         18|     1835|         82|2019-12-16 15:40:37|    2705|   windGen|   status|\n",
      "|         37|         18|     1832|         82|2019-12-16 15:40:39|    2702|   windGen|   status|\n",
      "|         37|         18|     1834|         82|2019-12-16 15:40:41|    2701|   windGen|   status|\n",
      "|         37|         18|     1827|         82|2019-12-16 15:40:43|    2705|   windGen|   status|\n",
      "+-----------+-----------+---------+-----------+-------------------+--------+----------+---------+\n",
      "only showing top 20 rows"
     ]
    }
   ],
   "source": [
    "full_turbine_df = turbine_df.select([\"payload.temperature\", \"payload.tempOutside\", \"payload.powerProd\", \"payload.noiseLevel1\", \"payload.time\", \"deviceId\", \"deviceType\", \"eventType\"])\n",
    "full_turbine_df.show()"
   ]
  },
  {
   "cell_type": "markdown",
   "metadata": {},
   "source": [
    "Note : Alternative method"
   ]
  },
  {
   "cell_type": "code",
   "execution_count": 22,
   "metadata": {},
   "outputs": [
    {
     "data": {
      "application/vnd.jupyter.widget-view+json": {
       "model_id": "",
       "version_major": 2,
       "version_minor": 0
      },
      "text/plain": [
       "FloatProgress(value=0.0, bar_style='info', description='Progress:', layout=Layout(height='25px', width='50%'),…"
      ]
     },
     "metadata": {},
     "output_type": "display_data"
    }
   ],
   "source": [
    "# end to end version\n",
    "parsed = spark \\\n",
    "  .readStream \\\n",
    "  .format(\"kafka\") \\\n",
    "  .option(\"kafka.bootstrap.servers\", \"localhost:9092\") \\\n",
    "  .option(\"subscribe\", topics[0]) \\\n",
    "  .load() \\\n",
    "  .select(from_json(col(\"value\").cast(\"string\"), schema).alias(\"parsed_value\"))\n",
    "\n",
    "# on parsed data\n",
    "pQuery = parsed \\\n",
    "        .writeStream \\\n",
    "        .queryName(\"qparsed\")\\\n",
    "        .format(\"memory\")\\\n",
    "        .start()\n",
    "\n",
    "# the iotproducer must be running\n",
    "# wait a few seconds for the query to collect streaming data"
   ]
  },
  {
   "cell_type": "code",
   "execution_count": 23,
   "metadata": {},
   "outputs": [
    {
     "data": {
      "application/vnd.jupyter.widget-view+json": {
       "model_id": "",
       "version_major": 2,
       "version_minor": 0
      },
      "text/plain": [
       "FloatProgress(value=0.0, bar_style='info', description='Progress:', layout=Layout(height='25px', width='50%'),…"
      ]
     },
     "metadata": {},
     "output_type": "display_data"
    },
    {
     "name": "stdout",
     "output_type": "stream",
     "text": [
      "+--------------------+\n",
      "|        parsed_value|\n",
      "+--------------------+\n",
      "|[[31, 18, 1836, 8...|\n",
      "|[[30, 18, 1836, 8...|\n",
      "|[[34, 18, 1829, 8...|\n",
      "|[[31, 18, 1833, 8...|\n",
      "|[[36, 18, 1836, 8...|\n",
      "|[[30, 18, 1834, 8...|\n",
      "|[[30, 18, 1828, 8...|\n",
      "|[[32, 18, 1834, 8...|\n",
      "|[[35, 18, 1835, 8...|\n",
      "|[[33, 18, 1835, 8...|\n",
      "|[[37, 18, 1834, 8...|\n",
      "|[[37, 18, 1831, 8...|\n",
      "+--------------------+"
     ]
    }
   ],
   "source": [
    "# here values are contained in a list format, not in a dictionary\n",
    "time.sleep(timeout)\n",
    "pQuery.stop()\n",
    "turbineP = spark.sql(\"select * from qparsed\")\n",
    "turbineP.show()\n",
    "rddP = turbineP.rdd.map(lambda t: literal_eval(t['value']))"
   ]
  },
  {
   "cell_type": "markdown",
   "metadata": {},
   "source": [
    "## Write IoT records to a persistent Db2 table"
   ]
  },
  {
   "cell_type": "code",
   "execution_count": 24,
   "metadata": {},
   "outputs": [
    {
     "data": {
      "application/vnd.jupyter.widget-view+json": {
       "model_id": "",
       "version_major": 2,
       "version_minor": 0
      },
      "text/plain": [
       "FloatProgress(value=0.0, bar_style='info', description='Progress:', layout=Layout(height='25px', width='50%'),…"
      ]
     },
     "metadata": {},
     "output_type": "display_data"
    },
    {
     "name": "stdout",
     "output_type": "stream",
     "text": [
      "Table successfully written to Db2 under the name USERDATA.IOT_EVENTS."
     ]
    }
   ],
   "source": [
    "tableName= \"USERDATA.IOT_EVENTS\"\n",
    "savemode = 'overwrite'\n",
    "\n",
    "#.option(\"allowAppend\", \"TRUE\")\n",
    "full_turbine_df.write.format(\"com.ibm.idax.spark.idaxsource\").option(\"dbtable\", tableName ).mode(savemode).save()\n",
    "\n",
    "print(\"Table successfully written to Db2 under the name %s.\" %tableName)"
   ]
  },
  {
   "cell_type": "code",
   "execution_count": 25,
   "metadata": {},
   "outputs": [
    {
     "data": {
      "application/vnd.jupyter.widget-view+json": {
       "model_id": "",
       "version_major": 2,
       "version_minor": 0
      },
      "text/plain": [
       "FloatProgress(value=0.0, bar_style='info', description='Progress:', layout=Layout(height='25px', width='50%'),…"
      ]
     },
     "metadata": {},
     "output_type": "display_data"
    }
   ],
   "source": [
    "# Check that the data is well landed\n",
    "\n",
    "df_check = sparkSession.read \\\n",
    "        .format(\"com.ibm.idax.spark.idaxsource\") \\\n",
    "        .options(dbtable=tableName) \\\n",
    "        .load()"
   ]
  },
  {
   "cell_type": "code",
   "execution_count": 26,
   "metadata": {},
   "outputs": [
    {
     "data": {
      "application/vnd.jupyter.widget-view+json": {
       "model_id": "",
       "version_major": 2,
       "version_minor": 0
      },
      "text/plain": [
       "FloatProgress(value=0.0, bar_style='info', description='Progress:', layout=Layout(height='25px', width='50%'),…"
      ]
     },
     "metadata": {},
     "output_type": "display_data"
    },
    {
     "name": "stdout",
     "output_type": "stream",
     "text": [
      "Total IoT Records: 677\n",
      "Showing Newest 10 Records:\n",
      "+--------+-------------------+-----------+-----------+---------+-----------+\n",
      "|deviceId|               time|temperature|tempOutside|powerProd|noiseLevel1|\n",
      "+--------+-------------------+-----------+-----------+---------+-----------+\n",
      "|    2701|2019-12-16 16:00:34|         35|         18|     1835|         82|\n",
      "|    2704|2019-12-16 16:00:32|         30|         18|     1827|         82|\n",
      "|    2704|2019-12-16 16:00:31|         33|         18|     1833|         82|\n",
      "|    2705|2019-12-16 16:00:29|         32|         18|     1830|         82|\n",
      "|    2701|2019-12-16 16:00:27|         30|         18|     1830|         82|\n",
      "|    2707|2019-12-16 16:00:25|         36|         18|     1828|         82|\n",
      "|    2703|2019-12-16 16:00:24|         30|         18|     1829|         82|\n",
      "|    2700|2019-12-16 16:00:22|         30|         18|     1829|         82|\n",
      "|    2705|2019-12-16 16:00:20|         33|         18|     1828|         82|\n",
      "|    2709|2019-12-16 16:00:18|         33|         18|     1834|         82|\n",
      "+--------+-------------------+-----------+-----------+---------+-----------+\n",
      "only showing top 10 rows"
     ]
    }
   ],
   "source": [
    "print(\"Total IoT Records: \"+ str(df_check.count()))\n",
    "print(\"Showing Newest 10 Records:\")\n",
    "df_check.select(\"deviceId\", \"time\", \"temperature\", \"tempOutside\", \"powerProd\", \"noiseLevel1\").\\\n",
    "                orderBy(\"time\", ascending=False).show(10)"
   ]
  },
  {
   "cell_type": "markdown",
   "metadata": {},
   "source": [
    "## Visualisation of time series\n",
    "\n",
    "You could want to visualize the data you are collecting. Let's plot some of the features over time."
   ]
  },
  {
   "cell_type": "code",
   "execution_count": 27,
   "metadata": {},
   "outputs": [],
   "source": [
    "%local\n",
    "\n",
    "%matplotlib inline\n",
    "\n",
    "#Useful imports for local visualisations\n",
    "import pandas as pd\n",
    "import matplotlib.pyplot as plt"
   ]
  },
  {
   "cell_type": "markdown",
   "metadata": {},
   "source": [
    "__Note : Make a bridge between remote and local__\n",
    "\n",
    "So far we've been using Spark servers and the data is accessed remotely. If we plot visualisations now, they won't appear right on your screen : you will have to fetch them, using their adress, to open them locally. So for convenience, visualisations will be made locally thanks to the __%local__ magic. Therefore, we need to create a temporary view of the data, and query it with the %%sql magic in order to access it locally and plot it directly. Note that the data on the Spark cluster is a Spark dataframe, whereas the data we handle locally is a Pandas dataframe.\n",
    "\n",
    "In the following cells, we will:\n",
    "1. Create a SQL temporary view of the tornado (Spark) dataframe\n",
    "2. Run a %%sql cell magic to query the data, and output it to the local space. The table is now seen as a Pandas dataframe.\n",
    "3. We use this Pandas dataframe to make our graphs, which we output locally."
   ]
  },
  {
   "cell_type": "code",
   "execution_count": 28,
   "metadata": {},
   "outputs": [
    {
     "data": {
      "application/vnd.jupyter.widget-view+json": {
       "model_id": "",
       "version_major": 2,
       "version_minor": 0
      },
      "text/plain": [
       "FloatProgress(value=0.0, bar_style='info', description='Progress:', layout=Layout(height='25px', width='50%'),…"
      ]
     },
     "metadata": {},
     "output_type": "display_data"
    }
   ],
   "source": [
    "df_check.createOrReplaceTempView('turbine')"
   ]
  },
  {
   "cell_type": "code",
   "execution_count": null,
   "metadata": {},
   "outputs": [],
   "source": [
    "%%sql -o turbine --maxrows -1\n",
    "SELECT * FROM turbine"
   ]
  },
  {
   "cell_type": "code",
   "execution_count": 30,
   "metadata": {},
   "outputs": [
    {
     "name": "stdout",
     "output_type": "stream",
     "text": [
      "[2702 2703 2700 2707 2709 2704 2706 2705 2701 2708]\n"
     ]
    }
   ],
   "source": [
    "%local\n",
    "\n",
    "# convert \"time\" column back into timestamps\n",
    "turbine['time']=pd.to_datetime(turbine['time'])\n",
    "\n",
    "# select the device you want to focus on\n",
    "print(turbine['deviceId'].unique())\n",
    "\n",
    "deviceID = 2703 #your choice\n",
    "\n",
    "device=turbine[turbine['deviceId']== deviceID] "
   ]
  },
  {
   "cell_type": "code",
   "execution_count": 31,
   "metadata": {},
   "outputs": [
    {
     "data": {
      "image/png": "[encoded data removed]",
      "text/plain": [
       "<Figure size 1600x500 with 1 Axes>"
      ]
     },
     "metadata": {
      "needs_background": "light"
     },
     "output_type": "display_data"
    }
   ],
   "source": [
    "%local\n",
    "\n",
    "from pandas.plotting import register_matplotlib_converters\n",
    "register_matplotlib_converters()\n",
    "\n",
    "# Basic plot\n",
    "\n",
    "fig, ax = plt.subplots(figsize=(16,5), dpi=100)\n",
    "\n",
    "x = device.set_index('time').index\n",
    "first = min(x)\n",
    "last = max(x)\n",
    "\n",
    "y=device.temperature \n",
    "xlabel='Date'\n",
    "ylabel='Value'\n",
    "title='Temperature over time - sensor '+str(deviceID)\n",
    "\n",
    "plt.scatter(x, y, color='tab:red')\n",
    "plt.gca().set(title=title, xlabel=xlabel, ylabel=ylabel)\n",
    "ax.set_xlim(first, last)\n",
    "\n",
    "plt.show()   "
   ]
  },
  {
   "cell_type": "markdown",
   "metadata": {},
   "source": [
    "It could be useful to compare the temperature measured by the sensor with the power production over time. Is the temperature raising over time? Does an increase in power production implies an increase in temperature? With some lag?\n",
    "\n",
    "Note that the data generator we used here doesn't provide very meaningful data regarding Physics... Furthermore, we would need a far longer observation time to make any conclusion. However, the following visualisations are provided for the sake of our use case."
   ]
  },
  {
   "cell_type": "code",
   "execution_count": 33,
   "metadata": {},
   "outputs": [
    {
     "data": {
      "image/png": "[encoded data removed]",
      "text/plain": [
       "<Figure size 864x360 with 2 Axes>"
      ]
     },
     "metadata": {
      "needs_background": "light"
     },
     "output_type": "display_data"
    }
   ],
   "source": [
    "%local\n",
    "\n",
    "# Temperature and power production over time \n",
    "# in a particular sensor\n",
    "\n",
    "plt.figure(figsize=(12,5))\n",
    "plt.xlabel('Time')\n",
    "\n",
    "ax1 = device.temperature.plot(color='blue', grid=True, label='Temperature')\n",
    "ax2 = device.powerProd.plot(color='red', grid=True, secondary_y=True, label='PowerProd')\n",
    "\n",
    "h1, l1 = ax1.get_legend_handles_labels()\n",
    "h2, l2 = ax2.get_legend_handles_labels()\n",
    "\n",
    "\n",
    "plt.legend(h1+h2, l1+l2, loc=2)\n",
    "plt.show()"
   ]
  }
 ],
 "metadata": {
  "kernelspec": {
   "display_name": "PySpark",
   "language": "",
   "name": "pysparkkernel"
  },
  "language_info": {
   "codemirror_mode": {
    "name": "python",
    "version": 2
   },
   "mimetype": "text/x-python",
   "name": "pyspark",
   "pygments_lexer": "python2"
  }
 },
 "nbformat": 4,
 "nbformat_minor": 2
}
